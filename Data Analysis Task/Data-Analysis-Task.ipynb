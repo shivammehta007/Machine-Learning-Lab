{
  "nbformat": 4,
  "nbformat_minor": 0,
  "metadata": {
    "colab": {
      "name": "Data-Analysis-Task.ipynb",
      "version": "0.3.2",
      "provenance": []
    },
    "language_info": {
      "codemirror_mode": {
        "name": "ipython",
        "version": 3
      },
      "file_extension": ".py",
      "mimetype": "text/x-python",
      "name": "python",
      "nbconvert_exporter": "python",
      "pygments_lexer": "ipython3",
      "version": "3.6.7"
    },
    "kernelspec": {
      "name": "python3",
      "display_name": "Python 3"
    },
    "accelerator": "GPU"
  },
  "cells": [
    {
      "cell_type": "markdown",
      "metadata": {
        "id": "Y4_IKVIaeQga",
        "colab_type": "text"
      },
      "source": [
        "# Problem :\n",
        "## Jaipur Rainfall Data\n",
        "#### The problem is that Jaipur is one of the regions in India that has very limited amount of rainfall throught the year, So we will try to implement data analysis to predict what amount of rainfall will be recieved"
      ]
    },
    {
      "cell_type": "code",
      "metadata": {
        "id": "NweI1bLxeQgd",
        "colab_type": "code",
        "outputId": "660c129b-1033-4409-acb8-9a52f289f6e3",
        "colab": {
          "base_uri": "https://localhost:8080/",
          "height": 34
        }
      },
      "source": [
        "import numpy as np\n",
        "import pandas as pd\n",
        "import matplotlib.pyplot as plt\n",
        "import seaborn as sns\n",
        "\n",
        "from scipy.stats import pearsonr\n",
        "\n",
        "from sklearn.metrics import accuracy_score\n",
        "from sklearn.metrics import mean_squared_error, r2_score\n",
        "from sklearn.model_selection import train_test_split\n",
        "from sklearn.feature_selection import RFE\n",
        "from sklearn.linear_model import LinearRegression, RidgeCV\n",
        "from sklearn.preprocessing import MinMaxScaler\n",
        "\n",
        "\n",
        "import keras\n",
        "from keras.layers.core import Dense, Dropout\n",
        "from keras.layers import Input\n",
        "from keras.models import Model\n",
        "from keras.models import Sequential\n",
        "from keras.optimizers import RMSprop\n",
        "from keras.regularizers import l2\n",
        "\n",
        "from os.path import join\n"
      ],
      "execution_count": 1,
      "outputs": [
        {
          "output_type": "stream",
          "text": [
            "Using TensorFlow backend.\n"
          ],
          "name": "stderr"
        }
      ]
    },
    {
      "cell_type": "code",
      "metadata": {
        "id": "lHm5z-wBefGN",
        "colab_type": "code",
        "outputId": "d3935170-238f-4c55-d703-4460ebaa0389",
        "colab": {
          "base_uri": "https://localhost:8080/",
          "height": 34
        }
      },
      "source": [
        "from google.colab import drive\n",
        "drive.mount('/content/gdrive')"
      ],
      "execution_count": 2,
      "outputs": [
        {
          "output_type": "stream",
          "text": [
            "Drive already mounted at /content/gdrive; to attempt to forcibly remount, call drive.mount(\"/content/gdrive\", force_remount=True).\n"
          ],
          "name": "stdout"
        }
      ]
    },
    {
      "cell_type": "code",
      "metadata": {
        "id": "8j5tUZR0eQgk",
        "colab_type": "code",
        "colab": {}
      },
      "source": [
        "dataset = '/content/gdrive/My Drive/Colab Notebooks/DataSet-Jaipur'\n",
        "\n",
        "# Location of Dataset\n",
        "# dataset = 'DataSet-Jaipur'\n",
        "filename = 'JaipurRawData.csv'\n",
        "filename = join(dataset, filename)"
      ],
      "execution_count": 0,
      "outputs": []
    },
    {
      "cell_type": "code",
      "metadata": {
        "id": "ZhSQ825BeQgn",
        "colab_type": "code",
        "outputId": "b4e643ac-8b72-4784-babc-6a2c9b8cd9f4",
        "colab": {
          "base_uri": "https://localhost:8080/",
          "height": 235
        }
      },
      "source": [
        "df = pd.read_csv(filename, index_col='date')\n",
        "df.head()"
      ],
      "execution_count": 4,
      "outputs": [
        {
          "output_type": "execute_result",
          "data": {
            "text/html": [
              "<div>\n",
              "<style scoped>\n",
              "    .dataframe tbody tr th:only-of-type {\n",
              "        vertical-align: middle;\n",
              "    }\n",
              "\n",
              "    .dataframe tbody tr th {\n",
              "        vertical-align: top;\n",
              "    }\n",
              "\n",
              "    .dataframe thead th {\n",
              "        text-align: right;\n",
              "    }\n",
              "</style>\n",
              "<table border=\"1\" class=\"dataframe\">\n",
              "  <thead>\n",
              "    <tr style=\"text-align: right;\">\n",
              "      <th></th>\n",
              "      <th>meantempm</th>\n",
              "      <th>meandewptm</th>\n",
              "      <th>meanpressurem</th>\n",
              "      <th>maxhumidity</th>\n",
              "      <th>minhumidity</th>\n",
              "      <th>maxtempm</th>\n",
              "      <th>mintempm</th>\n",
              "      <th>maxdewptm</th>\n",
              "      <th>mindewptm</th>\n",
              "      <th>maxpressurem</th>\n",
              "      <th>minpressurem</th>\n",
              "      <th>precipm</th>\n",
              "    </tr>\n",
              "    <tr>\n",
              "      <th>date</th>\n",
              "      <th></th>\n",
              "      <th></th>\n",
              "      <th></th>\n",
              "      <th></th>\n",
              "      <th></th>\n",
              "      <th></th>\n",
              "      <th></th>\n",
              "      <th></th>\n",
              "      <th></th>\n",
              "      <th></th>\n",
              "      <th></th>\n",
              "      <th></th>\n",
              "    </tr>\n",
              "  </thead>\n",
              "  <tbody>\n",
              "    <tr>\n",
              "      <th>2016-05-01</th>\n",
              "      <td>34</td>\n",
              "      <td>-1</td>\n",
              "      <td>1005.63</td>\n",
              "      <td>24</td>\n",
              "      <td>4</td>\n",
              "      <td>43</td>\n",
              "      <td>26</td>\n",
              "      <td>9</td>\n",
              "      <td>-10</td>\n",
              "      <td>1009</td>\n",
              "      <td>999</td>\n",
              "      <td>0.0</td>\n",
              "    </tr>\n",
              "    <tr>\n",
              "      <th>2016-05-02</th>\n",
              "      <td>36</td>\n",
              "      <td>4</td>\n",
              "      <td>1005.46</td>\n",
              "      <td>21</td>\n",
              "      <td>6</td>\n",
              "      <td>43</td>\n",
              "      <td>29</td>\n",
              "      <td>10</td>\n",
              "      <td>-2</td>\n",
              "      <td>1008</td>\n",
              "      <td>1001</td>\n",
              "      <td>0.0</td>\n",
              "    </tr>\n",
              "    <tr>\n",
              "      <th>2016-05-03</th>\n",
              "      <td>35</td>\n",
              "      <td>6</td>\n",
              "      <td>1006.00</td>\n",
              "      <td>27</td>\n",
              "      <td>5</td>\n",
              "      <td>41</td>\n",
              "      <td>29</td>\n",
              "      <td>12</td>\n",
              "      <td>-2</td>\n",
              "      <td>1009</td>\n",
              "      <td>1000</td>\n",
              "      <td>0.0</td>\n",
              "    </tr>\n",
              "    <tr>\n",
              "      <th>2016-05-04</th>\n",
              "      <td>34</td>\n",
              "      <td>7</td>\n",
              "      <td>1005.65</td>\n",
              "      <td>29</td>\n",
              "      <td>6</td>\n",
              "      <td>41</td>\n",
              "      <td>27</td>\n",
              "      <td>13</td>\n",
              "      <td>0</td>\n",
              "      <td>1008</td>\n",
              "      <td>1001</td>\n",
              "      <td>0.0</td>\n",
              "    </tr>\n",
              "    <tr>\n",
              "      <th>2016-05-05</th>\n",
              "      <td>31</td>\n",
              "      <td>11</td>\n",
              "      <td>1007.94</td>\n",
              "      <td>61</td>\n",
              "      <td>13</td>\n",
              "      <td>38</td>\n",
              "      <td>24</td>\n",
              "      <td>16</td>\n",
              "      <td>6</td>\n",
              "      <td>1011</td>\n",
              "      <td>1003</td>\n",
              "      <td>5.0</td>\n",
              "    </tr>\n",
              "  </tbody>\n",
              "</table>\n",
              "</div>"
            ],
            "text/plain": [
              "            meantempm  meandewptm  ...  minpressurem  precipm\n",
              "date                               ...                       \n",
              "2016-05-01         34          -1  ...           999      0.0\n",
              "2016-05-02         36           4  ...          1001      0.0\n",
              "2016-05-03         35           6  ...          1000      0.0\n",
              "2016-05-04         34           7  ...          1001      0.0\n",
              "2016-05-05         31          11  ...          1003      5.0\n",
              "\n",
              "[5 rows x 12 columns]"
            ]
          },
          "metadata": {
            "tags": []
          },
          "execution_count": 4
        }
      ]
    },
    {
      "cell_type": "code",
      "metadata": {
        "id": "ksnFmSQdeQgu",
        "colab_type": "code",
        "outputId": "795195f5-636e-4e81-be59-25d925526bf7",
        "colab": {
          "base_uri": "https://localhost:8080/",
          "height": 68
        }
      },
      "source": [
        "print('Shape of Dataset: {}'.format(df.shape))\n",
        "print('Shape of Each Row: {}'.format(df.iloc[0].shape))\n",
        "print('')"
      ],
      "execution_count": 5,
      "outputs": [
        {
          "output_type": "stream",
          "text": [
            "Shape of Dataset: (679, 12)\n",
            "Shape of Each Row: (12,)\n",
            "\n"
          ],
          "name": "stdout"
        }
      ]
    },
    {
      "cell_type": "code",
      "metadata": {
        "id": "78oopMgNeQgz",
        "colab_type": "code",
        "outputId": "8300092b-f3b9-4330-e450-6a57688d03ea",
        "colab": {
          "base_uri": "https://localhost:8080/",
          "height": 667
        }
      },
      "source": [
        "plt.figure(figsize=(12,10))\n",
        "cor = df.corr()\n",
        "sns.heatmap(cor, annot=True, cmap=plt.cm.Reds)\n",
        "plt.show()"
      ],
      "execution_count": 6,
      "outputs": [
        {
          "output_type": "display_data",
          "data": {
            "image/png": "[encoded data removed]",
            "text/plain": [
              "<Figure size 864x720 with 2 Axes>"
            ]
          },
          "metadata": {
            "tags": []
          }
        }
      ]
    },
    {
      "cell_type": "markdown",
      "metadata": {
        "id": "gk4C8NDQeQg3",
        "colab_type": "text"
      },
      "source": [
        "##### Pad Historic data for past 2 days with each row"
      ]
    },
    {
      "cell_type": "code",
      "metadata": {
        "id": "bM-ThbsWeQg4",
        "colab_type": "code",
        "colab": {}
      },
      "source": [
        "def pad_nth_day_feature(df, feature, N):\n",
        "    rows = df.shape[0]\n",
        "    nth_prior_meassurements = [None]*N + [df[feature][i-N] for i in range(N, rows)]\n",
        "    col_name = \"{}_{}\".format(feature, N)\n",
        "    df[col_name] = nth_prior_meassurements"
      ],
      "execution_count": 0,
      "outputs": []
    },
    {
      "cell_type": "code",
      "metadata": {
        "id": "1zpvp9ZveQg6",
        "colab_type": "code",
        "outputId": "368d8a58-7340-4cac-fd38-9ebb98ee3f4c",
        "colab": {
          "base_uri": "https://localhost:8080/",
          "height": 85
        }
      },
      "source": [
        "df.columns"
      ],
      "execution_count": 8,
      "outputs": [
        {
          "output_type": "execute_result",
          "data": {
            "text/plain": [
              "Index(['meantempm', 'meandewptm', 'meanpressurem', 'maxhumidity',\n",
              "       'minhumidity', 'maxtempm', 'mintempm', 'maxdewptm', 'mindewptm',\n",
              "       'maxpressurem', 'minpressurem', 'precipm'],\n",
              "      dtype='object')"
            ]
          },
          "metadata": {
            "tags": []
          },
          "execution_count": 8
        }
      ]
    },
    {
      "cell_type": "code",
      "metadata": {
        "id": "HOUvMhy0eQg9",
        "colab_type": "code",
        "colab": {}
      },
      "source": [
        "for column in df.columns:\n",
        "#     if column != 'precipm':\n",
        "    for n in range(1, 3):\n",
        "        pad_nth_day_feature(df, column, n)"
      ],
      "execution_count": 0,
      "outputs": []
    },
    {
      "cell_type": "code",
      "metadata": {
        "id": "MSevkw7EeQhA",
        "colab_type": "code",
        "outputId": "877cd039-a6c8-445a-ca4e-81d6128384b0",
        "colab": {
          "base_uri": "https://localhost:8080/",
          "height": 340
        }
      },
      "source": [
        "df.head()"
      ],
      "execution_count": 10,
      "outputs": [
        {
          "output_type": "execute_result",
          "data": {
            "text/html": [
              "<div>\n",
              "<style scoped>\n",
              "    .dataframe tbody tr th:only-of-type {\n",
              "        vertical-align: middle;\n",
              "    }\n",
              "\n",
              "    .dataframe tbody tr th {\n",
              "        vertical-align: top;\n",
              "    }\n",
              "\n",
              "    .dataframe thead th {\n",
              "        text-align: right;\n",
              "    }\n",
              "</style>\n",
              "<table border=\"1\" class=\"dataframe\">\n",
              "  <thead>\n",
              "    <tr style=\"text-align: right;\">\n",
              "      <th></th>\n",
              "      <th>meantempm</th>\n",
              "      <th>meandewptm</th>\n",
              "      <th>meanpressurem</th>\n",
              "      <th>maxhumidity</th>\n",
              "      <th>minhumidity</th>\n",
              "      <th>maxtempm</th>\n",
              "      <th>mintempm</th>\n",
              "      <th>maxdewptm</th>\n",
              "      <th>mindewptm</th>\n",
              "      <th>maxpressurem</th>\n",
              "      <th>minpressurem</th>\n",
              "      <th>precipm</th>\n",
              "      <th>meantempm_1</th>\n",
              "      <th>meantempm_2</th>\n",
              "      <th>meandewptm_1</th>\n",
              "      <th>meandewptm_2</th>\n",
              "      <th>meanpressurem_1</th>\n",
              "      <th>meanpressurem_2</th>\n",
              "      <th>maxhumidity_1</th>\n",
              "      <th>maxhumidity_2</th>\n",
              "      <th>minhumidity_1</th>\n",
              "      <th>minhumidity_2</th>\n",
              "      <th>maxtempm_1</th>\n",
              "      <th>maxtempm_2</th>\n",
              "      <th>mintempm_1</th>\n",
              "      <th>mintempm_2</th>\n",
              "      <th>maxdewptm_1</th>\n",
              "      <th>maxdewptm_2</th>\n",
              "      <th>mindewptm_1</th>\n",
              "      <th>mindewptm_2</th>\n",
              "      <th>maxpressurem_1</th>\n",
              "      <th>maxpressurem_2</th>\n",
              "      <th>minpressurem_1</th>\n",
              "      <th>minpressurem_2</th>\n",
              "      <th>precipm_1</th>\n",
              "      <th>precipm_2</th>\n",
              "    </tr>\n",
              "    <tr>\n",
              "      <th>date</th>\n",
              "      <th></th>\n",
              "      <th></th>\n",
              "      <th></th>\n",
              "      <th></th>\n",
              "      <th></th>\n",
              "      <th></th>\n",
              "      <th></th>\n",
              "      <th></th>\n",
              "      <th></th>\n",
              "      <th></th>\n",
              "      <th></th>\n",
              "      <th></th>\n",
              "      <th></th>\n",
              "      <th></th>\n",
              "      <th></th>\n",
              "      <th></th>\n",
              "      <th></th>\n",
              "      <th></th>\n",
              "      <th></th>\n",
              "      <th></th>\n",
              "      <th></th>\n",
              "      <th></th>\n",
              "      <th></th>\n",
              "      <th></th>\n",
              "      <th></th>\n",
              "      <th></th>\n",
              "      <th></th>\n",
              "      <th></th>\n",
              "      <th></th>\n",
              "      <th></th>\n",
              "      <th></th>\n",
              "      <th></th>\n",
              "      <th></th>\n",
              "      <th></th>\n",
              "      <th></th>\n",
              "      <th></th>\n",
              "    </tr>\n",
              "  </thead>\n",
              "  <tbody>\n",
              "    <tr>\n",
              "      <th>2016-05-01</th>\n",
              "      <td>34</td>\n",
              "      <td>-1</td>\n",
              "      <td>1005.63</td>\n",
              "      <td>24</td>\n",
              "      <td>4</td>\n",
              "      <td>43</td>\n",
              "      <td>26</td>\n",
              "      <td>9</td>\n",
              "      <td>-10</td>\n",
              "      <td>1009</td>\n",
              "      <td>999</td>\n",
              "      <td>0.0</td>\n",
              "      <td>NaN</td>\n",
              "      <td>NaN</td>\n",
              "      <td>NaN</td>\n",
              "      <td>NaN</td>\n",
              "      <td>NaN</td>\n",
              "      <td>NaN</td>\n",
              "      <td>NaN</td>\n",
              "      <td>NaN</td>\n",
              "      <td>NaN</td>\n",
              "      <td>NaN</td>\n",
              "      <td>NaN</td>\n",
              "      <td>NaN</td>\n",
              "      <td>NaN</td>\n",
              "      <td>NaN</td>\n",
              "      <td>NaN</td>\n",
              "      <td>NaN</td>\n",
              "      <td>NaN</td>\n",
              "      <td>NaN</td>\n",
              "      <td>NaN</td>\n",
              "      <td>NaN</td>\n",
              "      <td>NaN</td>\n",
              "      <td>NaN</td>\n",
              "      <td>NaN</td>\n",
              "      <td>NaN</td>\n",
              "    </tr>\n",
              "    <tr>\n",
              "      <th>2016-05-02</th>\n",
              "      <td>36</td>\n",
              "      <td>4</td>\n",
              "      <td>1005.46</td>\n",
              "      <td>21</td>\n",
              "      <td>6</td>\n",
              "      <td>43</td>\n",
              "      <td>29</td>\n",
              "      <td>10</td>\n",
              "      <td>-2</td>\n",
              "      <td>1008</td>\n",
              "      <td>1001</td>\n",
              "      <td>0.0</td>\n",
              "      <td>34.0</td>\n",
              "      <td>NaN</td>\n",
              "      <td>-1.0</td>\n",
              "      <td>NaN</td>\n",
              "      <td>1005.63</td>\n",
              "      <td>NaN</td>\n",
              "      <td>24.0</td>\n",
              "      <td>NaN</td>\n",
              "      <td>4.0</td>\n",
              "      <td>NaN</td>\n",
              "      <td>43.0</td>\n",
              "      <td>NaN</td>\n",
              "      <td>26.0</td>\n",
              "      <td>NaN</td>\n",
              "      <td>9.0</td>\n",
              "      <td>NaN</td>\n",
              "      <td>-10.0</td>\n",
              "      <td>NaN</td>\n",
              "      <td>1009.0</td>\n",
              "      <td>NaN</td>\n",
              "      <td>999.0</td>\n",
              "      <td>NaN</td>\n",
              "      <td>0.0</td>\n",
              "      <td>NaN</td>\n",
              "    </tr>\n",
              "    <tr>\n",
              "      <th>2016-05-03</th>\n",
              "      <td>35</td>\n",
              "      <td>6</td>\n",
              "      <td>1006.00</td>\n",
              "      <td>27</td>\n",
              "      <td>5</td>\n",
              "      <td>41</td>\n",
              "      <td>29</td>\n",
              "      <td>12</td>\n",
              "      <td>-2</td>\n",
              "      <td>1009</td>\n",
              "      <td>1000</td>\n",
              "      <td>0.0</td>\n",
              "      <td>36.0</td>\n",
              "      <td>34.0</td>\n",
              "      <td>4.0</td>\n",
              "      <td>-1.0</td>\n",
              "      <td>1005.46</td>\n",
              "      <td>1005.63</td>\n",
              "      <td>21.0</td>\n",
              "      <td>24.0</td>\n",
              "      <td>6.0</td>\n",
              "      <td>4.0</td>\n",
              "      <td>43.0</td>\n",
              "      <td>43.0</td>\n",
              "      <td>29.0</td>\n",
              "      <td>26.0</td>\n",
              "      <td>10.0</td>\n",
              "      <td>9.0</td>\n",
              "      <td>-2.0</td>\n",
              "      <td>-10.0</td>\n",
              "      <td>1008.0</td>\n",
              "      <td>1009.0</td>\n",
              "      <td>1001.0</td>\n",
              "      <td>999.0</td>\n",
              "      <td>0.0</td>\n",
              "      <td>0.0</td>\n",
              "    </tr>\n",
              "    <tr>\n",
              "      <th>2016-05-04</th>\n",
              "      <td>34</td>\n",
              "      <td>7</td>\n",
              "      <td>1005.65</td>\n",
              "      <td>29</td>\n",
              "      <td>6</td>\n",
              "      <td>41</td>\n",
              "      <td>27</td>\n",
              "      <td>13</td>\n",
              "      <td>0</td>\n",
              "      <td>1008</td>\n",
              "      <td>1001</td>\n",
              "      <td>0.0</td>\n",
              "      <td>35.0</td>\n",
              "      <td>36.0</td>\n",
              "      <td>6.0</td>\n",
              "      <td>4.0</td>\n",
              "      <td>1006.00</td>\n",
              "      <td>1005.46</td>\n",
              "      <td>27.0</td>\n",
              "      <td>21.0</td>\n",
              "      <td>5.0</td>\n",
              "      <td>6.0</td>\n",
              "      <td>41.0</td>\n",
              "      <td>43.0</td>\n",
              "      <td>29.0</td>\n",
              "      <td>29.0</td>\n",
              "      <td>12.0</td>\n",
              "      <td>10.0</td>\n",
              "      <td>-2.0</td>\n",
              "      <td>-2.0</td>\n",
              "      <td>1009.0</td>\n",
              "      <td>1008.0</td>\n",
              "      <td>1000.0</td>\n",
              "      <td>1001.0</td>\n",
              "      <td>0.0</td>\n",
              "      <td>0.0</td>\n",
              "    </tr>\n",
              "    <tr>\n",
              "      <th>2016-05-05</th>\n",
              "      <td>31</td>\n",
              "      <td>11</td>\n",
              "      <td>1007.94</td>\n",
              "      <td>61</td>\n",
              "      <td>13</td>\n",
              "      <td>38</td>\n",
              "      <td>24</td>\n",
              "      <td>16</td>\n",
              "      <td>6</td>\n",
              "      <td>1011</td>\n",
              "      <td>1003</td>\n",
              "      <td>5.0</td>\n",
              "      <td>34.0</td>\n",
              "      <td>35.0</td>\n",
              "      <td>7.0</td>\n",
              "      <td>6.0</td>\n",
              "      <td>1005.65</td>\n",
              "      <td>1006.00</td>\n",
              "      <td>29.0</td>\n",
              "      <td>27.0</td>\n",
              "      <td>6.0</td>\n",
              "      <td>5.0</td>\n",
              "      <td>41.0</td>\n",
              "      <td>41.0</td>\n",
              "      <td>27.0</td>\n",
              "      <td>29.0</td>\n",
              "      <td>13.0</td>\n",
              "      <td>12.0</td>\n",
              "      <td>0.0</td>\n",
              "      <td>-2.0</td>\n",
              "      <td>1008.0</td>\n",
              "      <td>1009.0</td>\n",
              "      <td>1001.0</td>\n",
              "      <td>1000.0</td>\n",
              "      <td>0.0</td>\n",
              "      <td>0.0</td>\n",
              "    </tr>\n",
              "  </tbody>\n",
              "</table>\n",
              "</div>"
            ],
            "text/plain": [
              "            meantempm  meandewptm  ...  precipm_1  precipm_2\n",
              "date                               ...                      \n",
              "2016-05-01         34          -1  ...        NaN        NaN\n",
              "2016-05-02         36           4  ...        0.0        NaN\n",
              "2016-05-03         35           6  ...        0.0        0.0\n",
              "2016-05-04         34           7  ...        0.0        0.0\n",
              "2016-05-05         31          11  ...        0.0        0.0\n",
              "\n",
              "[5 rows x 36 columns]"
            ]
          },
          "metadata": {
            "tags": []
          },
          "execution_count": 10
        }
      ]
    },
    {
      "cell_type": "code",
      "metadata": {
        "id": "KLULoVageQhD",
        "colab_type": "code",
        "outputId": "fee36610-f912-43ae-85b2-f3435364bf26",
        "colab": {
          "base_uri": "https://localhost:8080/",
          "height": 51
        }
      },
      "source": [
        "# Changes in Shape\n",
        "print('Shape of Dataset: {}'.format(df.shape))\n",
        "print('Shape of Each Row: {}'.format(df.iloc[0].shape))"
      ],
      "execution_count": 11,
      "outputs": [
        {
          "output_type": "stream",
          "text": [
            "Shape of Dataset: (679, 36)\n",
            "Shape of Each Row: (36,)\n"
          ],
          "name": "stdout"
        }
      ]
    },
    {
      "cell_type": "code",
      "metadata": {
        "id": "0PT0ZBHSeQhL",
        "colab_type": "code",
        "outputId": "3b5160e8-62a7-4144-d08a-0711482c1e73",
        "colab": {
          "base_uri": "https://localhost:8080/",
          "height": 714
        }
      },
      "source": [
        "df.info()"
      ],
      "execution_count": 12,
      "outputs": [
        {
          "output_type": "stream",
          "text": [
            "<class 'pandas.core.frame.DataFrame'>\n",
            "Index: 679 entries, 2016-05-01 to 2018-03-11\n",
            "Data columns (total 36 columns):\n",
            "meantempm          679 non-null int64\n",
            "meandewptm         679 non-null int64\n",
            "meanpressurem      679 non-null float64\n",
            "maxhumidity        679 non-null int64\n",
            "minhumidity        679 non-null int64\n",
            "maxtempm           679 non-null int64\n",
            "mintempm           679 non-null int64\n",
            "maxdewptm          679 non-null int64\n",
            "mindewptm          679 non-null int64\n",
            "maxpressurem       679 non-null int64\n",
            "minpressurem       679 non-null int64\n",
            "precipm            679 non-null float64\n",
            "meantempm_1        678 non-null float64\n",
            "meantempm_2        677 non-null float64\n",
            "meandewptm_1       678 non-null float64\n",
            "meandewptm_2       677 non-null float64\n",
            "meanpressurem_1    678 non-null float64\n",
            "meanpressurem_2    677 non-null float64\n",
            "maxhumidity_1      678 non-null float64\n",
            "maxhumidity_2      677 non-null float64\n",
            "minhumidity_1      678 non-null float64\n",
            "minhumidity_2      677 non-null float64\n",
            "maxtempm_1         678 non-null float64\n",
            "maxtempm_2         677 non-null float64\n",
            "mintempm_1         678 non-null float64\n",
            "mintempm_2         677 non-null float64\n",
            "maxdewptm_1        678 non-null float64\n",
            "maxdewptm_2        677 non-null float64\n",
            "mindewptm_1        678 non-null float64\n",
            "mindewptm_2        677 non-null float64\n",
            "maxpressurem_1     678 non-null float64\n",
            "maxpressurem_2     677 non-null float64\n",
            "minpressurem_1     678 non-null float64\n",
            "minpressurem_2     677 non-null float64\n",
            "precipm_1          678 non-null float64\n",
            "precipm_2          677 non-null float64\n",
            "dtypes: float64(26), int64(10)\n",
            "memory usage: 216.3+ KB\n"
          ],
          "name": "stdout"
        }
      ]
    },
    {
      "cell_type": "markdown",
      "metadata": {
        "id": "ApQ3kFm9eQhc",
        "colab_type": "text"
      },
      "source": [
        "##### Doing Some Data Cleaning Operations"
      ]
    },
    {
      "cell_type": "code",
      "metadata": {
        "id": "2ntzM64ReQhe",
        "colab_type": "code",
        "colab": {}
      },
      "source": [
        "# Check if there is only one value in the column remove that feature\n",
        "def check_uniqueness(dataframe):\n",
        "    for column in dataframe.columns:\n",
        "        if len(pd.Series.unique(dataframe[column])) == 1:\n",
        "            dataframe.drop(column, inplace=True, axis=1)\n",
        "\n",
        "            \n",
        "    return dataframe\n",
        "\n",
        "df = check_uniqueness(df)"
      ],
      "execution_count": 0,
      "outputs": []
    },
    {
      "cell_type": "code",
      "metadata": {
        "id": "-63Y5NWbeQhl",
        "colab_type": "code",
        "colab": {}
      },
      "source": [
        "# Drop Na Columns\n",
        "df.dropna(inplace=True)"
      ],
      "execution_count": 0,
      "outputs": []
    },
    {
      "cell_type": "code",
      "metadata": {
        "id": "btCB-su1eQhu",
        "colab_type": "code",
        "outputId": "bcb265f1-ab69-4f33-f54e-53fd5ea1b2ee",
        "colab": {
          "base_uri": "https://localhost:8080/",
          "height": 1165
        }
      },
      "source": [
        "df.describe().T"
      ],
      "execution_count": 15,
      "outputs": [
        {
          "output_type": "execute_result",
          "data": {
            "text/html": [
              "<div>\n",
              "<style scoped>\n",
              "    .dataframe tbody tr th:only-of-type {\n",
              "        vertical-align: middle;\n",
              "    }\n",
              "\n",
              "    .dataframe tbody tr th {\n",
              "        vertical-align: top;\n",
              "    }\n",
              "\n",
              "    .dataframe thead th {\n",
              "        text-align: right;\n",
              "    }\n",
              "</style>\n",
              "<table border=\"1\" class=\"dataframe\">\n",
              "  <thead>\n",
              "    <tr style=\"text-align: right;\">\n",
              "      <th></th>\n",
              "      <th>count</th>\n",
              "      <th>mean</th>\n",
              "      <th>std</th>\n",
              "      <th>min</th>\n",
              "      <th>25%</th>\n",
              "      <th>50%</th>\n",
              "      <th>75%</th>\n",
              "      <th>max</th>\n",
              "    </tr>\n",
              "  </thead>\n",
              "  <tbody>\n",
              "    <tr>\n",
              "      <th>meantempm</th>\n",
              "      <td>677.0</td>\n",
              "      <td>26.066470</td>\n",
              "      <td>6.213891</td>\n",
              "      <td>10.00</td>\n",
              "      <td>20.0</td>\n",
              "      <td>28.00</td>\n",
              "      <td>30.00</td>\n",
              "      <td>38.00</td>\n",
              "    </tr>\n",
              "    <tr>\n",
              "      <th>meandewptm</th>\n",
              "      <td>677.0</td>\n",
              "      <td>11.982275</td>\n",
              "      <td>8.731514</td>\n",
              "      <td>-10.00</td>\n",
              "      <td>5.0</td>\n",
              "      <td>10.00</td>\n",
              "      <td>21.00</td>\n",
              "      <td>26.00</td>\n",
              "    </tr>\n",
              "    <tr>\n",
              "      <th>meanpressurem</th>\n",
              "      <td>677.0</td>\n",
              "      <td>1009.505081</td>\n",
              "      <td>6.478314</td>\n",
              "      <td>997.63</td>\n",
              "      <td>1003.7</td>\n",
              "      <td>1008.85</td>\n",
              "      <td>1015.52</td>\n",
              "      <td>1023.43</td>\n",
              "    </tr>\n",
              "    <tr>\n",
              "      <th>maxhumidity</th>\n",
              "      <td>677.0</td>\n",
              "      <td>67.397341</td>\n",
              "      <td>22.057420</td>\n",
              "      <td>15.00</td>\n",
              "      <td>50.0</td>\n",
              "      <td>66.00</td>\n",
              "      <td>88.00</td>\n",
              "      <td>100.00</td>\n",
              "    </tr>\n",
              "    <tr>\n",
              "      <th>minhumidity</th>\n",
              "      <td>677.0</td>\n",
              "      <td>22.794682</td>\n",
              "      <td>19.367531</td>\n",
              "      <td>4.00</td>\n",
              "      <td>9.0</td>\n",
              "      <td>15.00</td>\n",
              "      <td>33.00</td>\n",
              "      <td>89.00</td>\n",
              "    </tr>\n",
              "    <tr>\n",
              "      <th>maxtempm</th>\n",
              "      <td>677.0</td>\n",
              "      <td>32.536189</td>\n",
              "      <td>5.992397</td>\n",
              "      <td>18.00</td>\n",
              "      <td>28.0</td>\n",
              "      <td>33.00</td>\n",
              "      <td>37.00</td>\n",
              "      <td>46.00</td>\n",
              "    </tr>\n",
              "    <tr>\n",
              "      <th>mintempm</th>\n",
              "      <td>677.0</td>\n",
              "      <td>19.644018</td>\n",
              "      <td>6.830276</td>\n",
              "      <td>3.00</td>\n",
              "      <td>13.0</td>\n",
              "      <td>22.00</td>\n",
              "      <td>25.00</td>\n",
              "      <td>32.00</td>\n",
              "    </tr>\n",
              "    <tr>\n",
              "      <th>maxdewptm</th>\n",
              "      <td>677.0</td>\n",
              "      <td>16.166913</td>\n",
              "      <td>7.237327</td>\n",
              "      <td>0.00</td>\n",
              "      <td>10.0</td>\n",
              "      <td>15.00</td>\n",
              "      <td>23.00</td>\n",
              "      <td>29.00</td>\n",
              "    </tr>\n",
              "    <tr>\n",
              "      <th>mindewptm</th>\n",
              "      <td>677.0</td>\n",
              "      <td>7.478582</td>\n",
              "      <td>11.686926</td>\n",
              "      <td>-94.00</td>\n",
              "      <td>0.0</td>\n",
              "      <td>6.00</td>\n",
              "      <td>18.00</td>\n",
              "      <td>25.00</td>\n",
              "    </tr>\n",
              "    <tr>\n",
              "      <th>maxpressurem</th>\n",
              "      <td>677.0</td>\n",
              "      <td>1012.251108</td>\n",
              "      <td>6.527288</td>\n",
              "      <td>999.00</td>\n",
              "      <td>1006.0</td>\n",
              "      <td>1012.00</td>\n",
              "      <td>1018.00</td>\n",
              "      <td>1026.00</td>\n",
              "    </tr>\n",
              "    <tr>\n",
              "      <th>minpressurem</th>\n",
              "      <td>677.0</td>\n",
              "      <td>1005.283604</td>\n",
              "      <td>7.128942</td>\n",
              "      <td>992.00</td>\n",
              "      <td>999.0</td>\n",
              "      <td>1004.00</td>\n",
              "      <td>1012.00</td>\n",
              "      <td>1020.00</td>\n",
              "    </tr>\n",
              "    <tr>\n",
              "      <th>precipm</th>\n",
              "      <td>677.0</td>\n",
              "      <td>1.248744</td>\n",
              "      <td>5.431849</td>\n",
              "      <td>0.00</td>\n",
              "      <td>0.0</td>\n",
              "      <td>0.00</td>\n",
              "      <td>0.00</td>\n",
              "      <td>57.00</td>\n",
              "    </tr>\n",
              "    <tr>\n",
              "      <th>meantempm_1</th>\n",
              "      <td>677.0</td>\n",
              "      <td>26.081241</td>\n",
              "      <td>6.225607</td>\n",
              "      <td>10.00</td>\n",
              "      <td>20.0</td>\n",
              "      <td>28.00</td>\n",
              "      <td>30.00</td>\n",
              "      <td>38.00</td>\n",
              "    </tr>\n",
              "    <tr>\n",
              "      <th>meantempm_2</th>\n",
              "      <td>677.0</td>\n",
              "      <td>26.093058</td>\n",
              "      <td>6.233041</td>\n",
              "      <td>10.00</td>\n",
              "      <td>20.0</td>\n",
              "      <td>28.00</td>\n",
              "      <td>30.00</td>\n",
              "      <td>38.00</td>\n",
              "    </tr>\n",
              "    <tr>\n",
              "      <th>meandewptm_1</th>\n",
              "      <td>677.0</td>\n",
              "      <td>11.983752</td>\n",
              "      <td>8.730076</td>\n",
              "      <td>-10.00</td>\n",
              "      <td>5.0</td>\n",
              "      <td>10.00</td>\n",
              "      <td>21.00</td>\n",
              "      <td>26.00</td>\n",
              "    </tr>\n",
              "    <tr>\n",
              "      <th>meandewptm_2</th>\n",
              "      <td>677.0</td>\n",
              "      <td>11.976366</td>\n",
              "      <td>8.738951</td>\n",
              "      <td>-10.00</td>\n",
              "      <td>5.0</td>\n",
              "      <td>10.00</td>\n",
              "      <td>21.00</td>\n",
              "      <td>26.00</td>\n",
              "    </tr>\n",
              "    <tr>\n",
              "      <th>meanpressurem_1</th>\n",
              "      <td>677.0</td>\n",
              "      <td>1009.493944</td>\n",
              "      <td>6.478778</td>\n",
              "      <td>997.63</td>\n",
              "      <td>1003.7</td>\n",
              "      <td>1008.81</td>\n",
              "      <td>1015.52</td>\n",
              "      <td>1023.43</td>\n",
              "    </tr>\n",
              "    <tr>\n",
              "      <th>meanpressurem_2</th>\n",
              "      <td>677.0</td>\n",
              "      <td>1009.481935</td>\n",
              "      <td>6.478393</td>\n",
              "      <td>997.63</td>\n",
              "      <td>1003.7</td>\n",
              "      <td>1008.78</td>\n",
              "      <td>1015.52</td>\n",
              "      <td>1023.43</td>\n",
              "    </tr>\n",
              "    <tr>\n",
              "      <th>maxhumidity_1</th>\n",
              "      <td>677.0</td>\n",
              "      <td>67.360414</td>\n",
              "      <td>22.114149</td>\n",
              "      <td>15.00</td>\n",
              "      <td>50.0</td>\n",
              "      <td>66.00</td>\n",
              "      <td>88.00</td>\n",
              "      <td>100.00</td>\n",
              "    </tr>\n",
              "    <tr>\n",
              "      <th>maxhumidity_2</th>\n",
              "      <td>677.0</td>\n",
              "      <td>67.339734</td>\n",
              "      <td>22.148165</td>\n",
              "      <td>15.00</td>\n",
              "      <td>50.0</td>\n",
              "      <td>66.00</td>\n",
              "      <td>88.00</td>\n",
              "      <td>100.00</td>\n",
              "    </tr>\n",
              "    <tr>\n",
              "      <th>minhumidity_1</th>\n",
              "      <td>677.0</td>\n",
              "      <td>22.794682</td>\n",
              "      <td>19.367531</td>\n",
              "      <td>4.00</td>\n",
              "      <td>9.0</td>\n",
              "      <td>15.00</td>\n",
              "      <td>33.00</td>\n",
              "      <td>89.00</td>\n",
              "    </tr>\n",
              "    <tr>\n",
              "      <th>minhumidity_2</th>\n",
              "      <td>677.0</td>\n",
              "      <td>22.791728</td>\n",
              "      <td>19.370249</td>\n",
              "      <td>4.00</td>\n",
              "      <td>9.0</td>\n",
              "      <td>15.00</td>\n",
              "      <td>33.00</td>\n",
              "      <td>89.00</td>\n",
              "    </tr>\n",
              "    <tr>\n",
              "      <th>maxtempm_1</th>\n",
              "      <td>677.0</td>\n",
              "      <td>32.549483</td>\n",
              "      <td>6.005618</td>\n",
              "      <td>18.00</td>\n",
              "      <td>28.0</td>\n",
              "      <td>33.00</td>\n",
              "      <td>37.00</td>\n",
              "      <td>46.00</td>\n",
              "    </tr>\n",
              "    <tr>\n",
              "      <th>maxtempm_2</th>\n",
              "      <td>677.0</td>\n",
              "      <td>32.562777</td>\n",
              "      <td>6.018780</td>\n",
              "      <td>18.00</td>\n",
              "      <td>28.0</td>\n",
              "      <td>33.00</td>\n",
              "      <td>37.00</td>\n",
              "      <td>46.00</td>\n",
              "    </tr>\n",
              "    <tr>\n",
              "      <th>mintempm_1</th>\n",
              "      <td>677.0</td>\n",
              "      <td>19.660266</td>\n",
              "      <td>6.839437</td>\n",
              "      <td>3.00</td>\n",
              "      <td>13.0</td>\n",
              "      <td>22.00</td>\n",
              "      <td>25.00</td>\n",
              "      <td>32.00</td>\n",
              "    </tr>\n",
              "    <tr>\n",
              "      <th>mintempm_2</th>\n",
              "      <td>677.0</td>\n",
              "      <td>19.670606</td>\n",
              "      <td>6.843727</td>\n",
              "      <td>3.00</td>\n",
              "      <td>13.0</td>\n",
              "      <td>22.00</td>\n",
              "      <td>25.00</td>\n",
              "      <td>32.00</td>\n",
              "    </tr>\n",
              "    <tr>\n",
              "      <th>maxdewptm_1</th>\n",
              "      <td>677.0</td>\n",
              "      <td>16.166913</td>\n",
              "      <td>7.237327</td>\n",
              "      <td>0.00</td>\n",
              "      <td>10.0</td>\n",
              "      <td>15.00</td>\n",
              "      <td>23.00</td>\n",
              "      <td>29.00</td>\n",
              "    </tr>\n",
              "    <tr>\n",
              "      <th>maxdewptm_2</th>\n",
              "      <td>677.0</td>\n",
              "      <td>16.168390</td>\n",
              "      <td>7.235760</td>\n",
              "      <td>0.00</td>\n",
              "      <td>10.0</td>\n",
              "      <td>15.00</td>\n",
              "      <td>23.00</td>\n",
              "      <td>29.00</td>\n",
              "    </tr>\n",
              "    <tr>\n",
              "      <th>mindewptm_1</th>\n",
              "      <td>677.0</td>\n",
              "      <td>7.480059</td>\n",
              "      <td>11.685662</td>\n",
              "      <td>-94.00</td>\n",
              "      <td>0.0</td>\n",
              "      <td>6.00</td>\n",
              "      <td>18.00</td>\n",
              "      <td>25.00</td>\n",
              "    </tr>\n",
              "    <tr>\n",
              "      <th>mindewptm_2</th>\n",
              "      <td>677.0</td>\n",
              "      <td>7.465288</td>\n",
              "      <td>11.701441</td>\n",
              "      <td>-94.00</td>\n",
              "      <td>0.0</td>\n",
              "      <td>6.00</td>\n",
              "      <td>18.00</td>\n",
              "      <td>25.00</td>\n",
              "    </tr>\n",
              "    <tr>\n",
              "      <th>maxpressurem_1</th>\n",
              "      <td>677.0</td>\n",
              "      <td>1012.239291</td>\n",
              "      <td>6.527733</td>\n",
              "      <td>999.00</td>\n",
              "      <td>1006.0</td>\n",
              "      <td>1012.00</td>\n",
              "      <td>1018.00</td>\n",
              "      <td>1026.00</td>\n",
              "    </tr>\n",
              "    <tr>\n",
              "      <th>maxpressurem_2</th>\n",
              "      <td>677.0</td>\n",
              "      <td>1012.227474</td>\n",
              "      <td>6.526343</td>\n",
              "      <td>999.00</td>\n",
              "      <td>1006.0</td>\n",
              "      <td>1012.00</td>\n",
              "      <td>1018.00</td>\n",
              "      <td>1026.00</td>\n",
              "    </tr>\n",
              "    <tr>\n",
              "      <th>minpressurem_1</th>\n",
              "      <td>677.0</td>\n",
              "      <td>1005.271787</td>\n",
              "      <td>7.129403</td>\n",
              "      <td>992.00</td>\n",
              "      <td>999.0</td>\n",
              "      <td>1004.00</td>\n",
              "      <td>1012.00</td>\n",
              "      <td>1020.00</td>\n",
              "    </tr>\n",
              "    <tr>\n",
              "      <th>minpressurem_2</th>\n",
              "      <td>677.0</td>\n",
              "      <td>1005.257016</td>\n",
              "      <td>7.132026</td>\n",
              "      <td>992.00</td>\n",
              "      <td>999.0</td>\n",
              "      <td>1004.00</td>\n",
              "      <td>1012.00</td>\n",
              "      <td>1020.00</td>\n",
              "    </tr>\n",
              "    <tr>\n",
              "      <th>precipm_1</th>\n",
              "      <td>677.0</td>\n",
              "      <td>1.248744</td>\n",
              "      <td>5.431849</td>\n",
              "      <td>0.00</td>\n",
              "      <td>0.0</td>\n",
              "      <td>0.00</td>\n",
              "      <td>0.00</td>\n",
              "      <td>57.00</td>\n",
              "    </tr>\n",
              "    <tr>\n",
              "      <th>precipm_2</th>\n",
              "      <td>677.0</td>\n",
              "      <td>1.248744</td>\n",
              "      <td>5.431849</td>\n",
              "      <td>0.00</td>\n",
              "      <td>0.0</td>\n",
              "      <td>0.00</td>\n",
              "      <td>0.00</td>\n",
              "      <td>57.00</td>\n",
              "    </tr>\n",
              "  </tbody>\n",
              "</table>\n",
              "</div>"
            ],
            "text/plain": [
              "                 count         mean        std  ...      50%      75%      max\n",
              "meantempm        677.0    26.066470   6.213891  ...    28.00    30.00    38.00\n",
              "meandewptm       677.0    11.982275   8.731514  ...    10.00    21.00    26.00\n",
              "meanpressurem    677.0  1009.505081   6.478314  ...  1008.85  1015.52  1023.43\n",
              "maxhumidity      677.0    67.397341  22.057420  ...    66.00    88.00   100.00\n",
              "minhumidity      677.0    22.794682  19.367531  ...    15.00    33.00    89.00\n",
              "maxtempm         677.0    32.536189   5.992397  ...    33.00    37.00    46.00\n",
              "mintempm         677.0    19.644018   6.830276  ...    22.00    25.00    32.00\n",
              "maxdewptm        677.0    16.166913   7.237327  ...    15.00    23.00    29.00\n",
              "mindewptm        677.0     7.478582  11.686926  ...     6.00    18.00    25.00\n",
              "maxpressurem     677.0  1012.251108   6.527288  ...  1012.00  1018.00  1026.00\n",
              "minpressurem     677.0  1005.283604   7.128942  ...  1004.00  1012.00  1020.00\n",
              "precipm          677.0     1.248744   5.431849  ...     0.00     0.00    57.00\n",
              "meantempm_1      677.0    26.081241   6.225607  ...    28.00    30.00    38.00\n",
              "meantempm_2      677.0    26.093058   6.233041  ...    28.00    30.00    38.00\n",
              "meandewptm_1     677.0    11.983752   8.730076  ...    10.00    21.00    26.00\n",
              "meandewptm_2     677.0    11.976366   8.738951  ...    10.00    21.00    26.00\n",
              "meanpressurem_1  677.0  1009.493944   6.478778  ...  1008.81  1015.52  1023.43\n",
              "meanpressurem_2  677.0  1009.481935   6.478393  ...  1008.78  1015.52  1023.43\n",
              "maxhumidity_1    677.0    67.360414  22.114149  ...    66.00    88.00   100.00\n",
              "maxhumidity_2    677.0    67.339734  22.148165  ...    66.00    88.00   100.00\n",
              "minhumidity_1    677.0    22.794682  19.367531  ...    15.00    33.00    89.00\n",
              "minhumidity_2    677.0    22.791728  19.370249  ...    15.00    33.00    89.00\n",
              "maxtempm_1       677.0    32.549483   6.005618  ...    33.00    37.00    46.00\n",
              "maxtempm_2       677.0    32.562777   6.018780  ...    33.00    37.00    46.00\n",
              "mintempm_1       677.0    19.660266   6.839437  ...    22.00    25.00    32.00\n",
              "mintempm_2       677.0    19.670606   6.843727  ...    22.00    25.00    32.00\n",
              "maxdewptm_1      677.0    16.166913   7.237327  ...    15.00    23.00    29.00\n",
              "maxdewptm_2      677.0    16.168390   7.235760  ...    15.00    23.00    29.00\n",
              "mindewptm_1      677.0     7.480059  11.685662  ...     6.00    18.00    25.00\n",
              "mindewptm_2      677.0     7.465288  11.701441  ...     6.00    18.00    25.00\n",
              "maxpressurem_1   677.0  1012.239291   6.527733  ...  1012.00  1018.00  1026.00\n",
              "maxpressurem_2   677.0  1012.227474   6.526343  ...  1012.00  1018.00  1026.00\n",
              "minpressurem_1   677.0  1005.271787   7.129403  ...  1004.00  1012.00  1020.00\n",
              "minpressurem_2   677.0  1005.257016   7.132026  ...  1004.00  1012.00  1020.00\n",
              "precipm_1        677.0     1.248744   5.431849  ...     0.00     0.00    57.00\n",
              "precipm_2        677.0     1.248744   5.431849  ...     0.00     0.00    57.00\n",
              "\n",
              "[36 rows x 8 columns]"
            ]
          },
          "metadata": {
            "tags": []
          },
          "execution_count": 15
        }
      ]
    },
    {
      "cell_type": "markdown",
      "metadata": {
        "id": "5GLG7voKeQh3",
        "colab_type": "text"
      },
      "source": [
        "### Preparing Data"
      ]
    },
    {
      "cell_type": "markdown",
      "metadata": {
        "id": "dL35dIISeQh4",
        "colab_type": "text"
      },
      "source": [
        "For Precipitation Prediction"
      ]
    },
    {
      "cell_type": "code",
      "metadata": {
        "id": "-EVEfmLXeQh8",
        "colab_type": "code",
        "colab": {}
      },
      "source": [
        "y_data = df['precipm']\n",
        "x_data = df.drop(['precipm'], axis=1)"
      ],
      "execution_count": 0,
      "outputs": []
    },
    {
      "cell_type": "code",
      "metadata": {
        "id": "ADdL4ZwaeQiD",
        "colab_type": "code",
        "outputId": "f689b1ab-0499-4ede-a049-73ad7e69ecb9",
        "colab": {
          "base_uri": "https://localhost:8080/",
          "height": 51
        }
      },
      "source": [
        "print('Shape of X: {}'.format(x_data.shape))\n",
        "print('Shape of Y: {}'.format(y_data.shape))"
      ],
      "execution_count": 17,
      "outputs": [
        {
          "output_type": "stream",
          "text": [
            "Shape of X: (677, 35)\n",
            "Shape of Y: (677,)\n"
          ],
          "name": "stdout"
        }
      ]
    },
    {
      "cell_type": "markdown",
      "metadata": {
        "id": "phskDi67eQiP",
        "colab_type": "text"
      },
      "source": [
        "#### Split Train and Test Data\n"
      ]
    },
    {
      "cell_type": "code",
      "metadata": {
        "id": "GZLyrvNUeQiR",
        "colab_type": "code",
        "colab": {}
      },
      "source": [
        "# Split into Training and Test Set\n",
        "x_train, x_test, y_train, y_test = train_test_split(x_data, y_data, test_size=0.2)"
      ],
      "execution_count": 0,
      "outputs": []
    },
    {
      "cell_type": "code",
      "metadata": {
        "id": "ZlCniOYbeQiZ",
        "colab_type": "code",
        "colab": {}
      },
      "source": [
        "# Change them all to numpy array for faster computation\n",
        "x_train = np.array(x_train)\n",
        "x_test = np.array(x_test)\n",
        "y_train = np.array(y_train)\n",
        "y_test = np.array(y_test)"
      ],
      "execution_count": 0,
      "outputs": []
    },
    {
      "cell_type": "code",
      "metadata": {
        "id": "01G3IG3AeQif",
        "colab_type": "code",
        "outputId": "4b9e73db-8746-42d0-c3c2-39ef75388a2d",
        "colab": {
          "base_uri": "https://localhost:8080/",
          "height": 51
        }
      },
      "source": [
        "# Print Final Shapes of Sets\n",
        "print('Training Set : X -> {}, Y -> {}'.format(x_train.shape, y_train.shape))\n",
        "print('Testing Set: X -> {}, Y -> {}'.format(x_test.shape, y_test.shape))"
      ],
      "execution_count": 20,
      "outputs": [
        {
          "output_type": "stream",
          "text": [
            "Training Set : X -> (541, 35), Y -> (541,)\n",
            "Testing Set: X -> (136, 35), Y -> (136,)\n"
          ],
          "name": "stdout"
        }
      ]
    },
    {
      "cell_type": "markdown",
      "metadata": {
        "id": "_uwRj8KEeQii",
        "colab_type": "text"
      },
      "source": [
        "#### Now we have Training Set, Validation Set and Testing Set"
      ]
    },
    {
      "cell_type": "markdown",
      "metadata": {
        "id": "Gri2KvwTeQik",
        "colab_type": "text"
      },
      "source": [
        "##### 1. Applying Linear Regression"
      ]
    },
    {
      "cell_type": "code",
      "metadata": {
        "id": "NXFFxevpeQim",
        "colab_type": "code",
        "outputId": "db0f7266-ab99-4a45-96fe-a4acf19d788e",
        "colab": {
          "base_uri": "https://localhost:8080/",
          "height": 34
        }
      },
      "source": [
        "lin_reg = LinearRegression()\n",
        "lin_reg.fit(x_train, y_train)"
      ],
      "execution_count": 21,
      "outputs": [
        {
          "output_type": "execute_result",
          "data": {
            "text/plain": [
              "LinearRegression(copy_X=True, fit_intercept=True, n_jobs=None, normalize=False)"
            ]
          },
          "metadata": {
            "tags": []
          },
          "execution_count": 21
        }
      ]
    },
    {
      "cell_type": "code",
      "metadata": {
        "id": "Q4MELKmJeQiv",
        "colab_type": "code",
        "colab": {}
      },
      "source": [
        "y_test_predicted = lin_reg.predict(x_test)"
      ],
      "execution_count": 0,
      "outputs": []
    },
    {
      "cell_type": "code",
      "metadata": {
        "id": "KS4SvidIeQiz",
        "colab_type": "code",
        "outputId": "0d354111-ba27-43fa-b1eb-81cbcbe4f2e6",
        "colab": {
          "base_uri": "https://localhost:8080/",
          "height": 51
        }
      },
      "source": [
        "# Root Mean Square Error\n",
        "lin_rmse = np.round(np.sqrt(mean_squared_error(y_test,y_test_predicted)), 5)\n",
        "print('Root Mean Square Error: {}'.format(lin_rmse))\n",
        "\n",
        "# R2 Score\n",
        "lin_r2 = np.round(r2_score(y_test,y_test_predicted), 5)\n",
        "print('R2 Score : {}'.format(lin_r2))\n"
      ],
      "execution_count": 23,
      "outputs": [
        {
          "output_type": "stream",
          "text": [
            "Root Mean Square Error: 5.6712\n",
            "R2 Score : 0.20408\n"
          ],
          "name": "stdout"
        }
      ]
    },
    {
      "cell_type": "markdown",
      "metadata": {
        "id": "Ej62vwPieQi6",
        "colab_type": "text"
      },
      "source": [
        "##### 2. Fitting Polynomial Regression"
      ]
    },
    {
      "cell_type": "code",
      "metadata": {
        "id": "CIPxwpkNeQi7",
        "colab_type": "code",
        "colab": {}
      },
      "source": [
        "from sklearn.preprocessing import PolynomialFeatures"
      ],
      "execution_count": 0,
      "outputs": []
    },
    {
      "cell_type": "code",
      "metadata": {
        "id": "DW0UVL66eQi9",
        "colab_type": "code",
        "colab": {}
      },
      "source": [
        "polynomial_history = []"
      ],
      "execution_count": 0,
      "outputs": []
    },
    {
      "cell_type": "code",
      "metadata": {
        "id": "1dUZ1bGLeQjC",
        "colab_type": "code",
        "outputId": "9895b70a-458e-4f93-8584-cc11a0196e35",
        "colab": {
          "base_uri": "https://localhost:8080/",
          "height": 119
        }
      },
      "source": [
        "for degree in range(2,5):\n",
        "\n",
        "    polynomial_features= PolynomialFeatures(degree=degree)\n",
        "    x_train_poly = polynomial_features.fit_transform(x_train)\n",
        "    x_test_poly = polynomial_features.fit_transform(x_test)\n",
        "    lin_reg = LinearRegression()\n",
        "    lin_reg.fit(x_train_poly, y_train)\n",
        "    y_test_poly_predicted = lin_reg.predict(x_test_poly)\n",
        "    rmse = np.round(np.sqrt(mean_squared_error(y_test, y_test_poly_predicted)), 5)\n",
        "    print('Root Mean Square Error: {}'.format(rmse))\n",
        "    \n",
        "    # R2 Score\n",
        "    r2 = np.round(r2_score(y_test,y_test_poly_predicted), 5)\n",
        "    print('R2 Score : {}'.format(r2))\n",
        "    \n",
        "    polynomial_history.append((degree, rmse))\n",
        "    "
      ],
      "execution_count": 26,
      "outputs": [
        {
          "output_type": "stream",
          "text": [
            "Root Mean Square Error: 48.8566\n",
            "R2 Score : -58.06981\n",
            "Root Mean Square Error: 32.04117\n",
            "R2 Score : -24.40598\n",
            "Root Mean Square Error: 29.35691\n",
            "R2 Score : -20.32749\n"
          ],
          "name": "stdout"
        }
      ]
    },
    {
      "cell_type": "markdown",
      "metadata": {
        "id": "oH_ibgWbeQjE",
        "colab_type": "text"
      },
      "source": [
        "#### Plotting Linear Regression with Polynomial Regression RMSE"
      ]
    },
    {
      "cell_type": "code",
      "metadata": {
        "id": "hkP48a6PeQjF",
        "colab_type": "code",
        "colab": {}
      },
      "source": [
        "def plot_RMSE(x_axis, y_axis, figsize=(12,8)):\n",
        "    plt.figure(figsize=figsize)\n",
        "    plt.title('Linear Regression and Polynomial Regression with their RMSE Value')\n",
        "    plt.ylabel('Root Mean Square Error')\n",
        "    bar_heights = plt.bar(x_axis, y_axis)\n",
        "    for rect in bar_heights:\n",
        "        height = rect.get_height()\n",
        "        plt.text(rect.get_x() + rect.get_width()/2.0, height, '{}'.format(height), ha='center', va='bottom')\n",
        "    plt.show()\n",
        "\n",
        "\n",
        "\n",
        "\n"
      ],
      "execution_count": 0,
      "outputs": []
    },
    {
      "cell_type": "code",
      "metadata": {
        "id": "jU1TQv-O9u0_",
        "colab_type": "code",
        "outputId": "634a6d59-1305-4bdf-9457-5e25979a273c",
        "colab": {
          "base_uri": "https://localhost:8080/",
          "height": 499
        }
      },
      "source": [
        "rmse_x = ['Linear Regression'] + ['Polynomial of Degree {}'.format(x[0]) for x in polynomial_history]\n",
        "rmse_y = [lin_rmse] + [x[1] for x in polynomial_history]\n",
        "\n",
        "plot_RMSE(rmse_x, rmse_y)"
      ],
      "execution_count": 28,
      "outputs": [
        {
          "output_type": "display_data",
          "data": {
            "image/png": "[encoded data removed]",
            "text/plain": [
              "<Figure size 864x576 with 1 Axes>"
            ]
          },
          "metadata": {
            "tags": []
          }
        }
      ]
    },
    {
      "cell_type": "markdown",
      "metadata": {
        "id": "pdTkZIJLeQjI",
        "colab_type": "text"
      },
      "source": [
        "#### Therefore, In case of Regression the Minimum Value of Root Mean Square Error is seen in ***Linear Regression***"
      ]
    },
    {
      "cell_type": "markdown",
      "metadata": {
        "id": "rTJGQozMeQjK",
        "colab_type": "text"
      },
      "source": [
        "##### 2. Recursive Feature Selection on Linear Regression\n",
        "We will use Wrapper Method of Recursive Feature Selection"
      ]
    },
    {
      "cell_type": "code",
      "metadata": {
        "id": "01m9N58neQjL",
        "colab_type": "code",
        "colab": {}
      },
      "source": [
        "lin_reg_fs = LinearRegression()\n",
        "rfe = RFE(lin_reg_fs, 10)\n",
        "fit = rfe.fit(x_data, y_data)"
      ],
      "execution_count": 0,
      "outputs": []
    },
    {
      "cell_type": "code",
      "metadata": {
        "id": "7KW5NK9yeQjO",
        "colab_type": "code",
        "outputId": "e03b89f4-5b40-48ac-c274-2e39e743fcf6",
        "colab": {
          "base_uri": "https://localhost:8080/",
          "height": 119
        }
      },
      "source": [
        "print(\"Num Features: {}\".format(fit.n_features_))\n",
        "print(\"Selected Features: {}\".format(fit.support_))\n",
        "print(\"Feature Ranking: {}\".format(fit.ranking_))"
      ],
      "execution_count": 30,
      "outputs": [
        {
          "output_type": "stream",
          "text": [
            "Num Features: 10\n",
            "Selected Features: [False  True  True False  True  True False False False False False False\n",
            "  True False False  True  True False False False False  True False False\n",
            "  True False False False False  True False False False False False]\n",
            "Feature Ranking: [26  1  1  9  1  1 11 24 19 15 17  5  1  4 12  1  1  8 23 25 13  1 21  7\n",
            "  1  6 16 20 22  1 10  3  2 14 18]\n"
          ],
          "name": "stdout"
        }
      ]
    },
    {
      "cell_type": "code",
      "metadata": {
        "id": "HJaS9GKBeQjR",
        "colab_type": "code",
        "outputId": "4bf78347-a59f-4397-d682-e0f88244ee5e",
        "colab": {
          "base_uri": "https://localhost:8080/",
          "height": 34
        }
      },
      "source": [
        "x_feature_selected_data = rfe.transform(x_data)\n",
        "x_feature_selected_data.shape"
      ],
      "execution_count": 31,
      "outputs": [
        {
          "output_type": "execute_result",
          "data": {
            "text/plain": [
              "(677, 10)"
            ]
          },
          "metadata": {
            "tags": []
          },
          "execution_count": 31
        }
      ]
    },
    {
      "cell_type": "markdown",
      "metadata": {
        "id": "0puMXIwBeQjU",
        "colab_type": "text"
      },
      "source": [
        "Now Splitting the data to train and test set"
      ]
    },
    {
      "cell_type": "code",
      "metadata": {
        "id": "0s5dMTFSeQjW",
        "colab_type": "code",
        "outputId": "a1691c6e-366e-4c2e-91eb-2f1aba3161f5",
        "colab": {
          "base_uri": "https://localhost:8080/",
          "height": 34
        }
      },
      "source": [
        "x_train, x_test, y_train, y_test = train_test_split(x_data, y_data, test_size=0.2)\n",
        "print(x_train.shape, y_train.shape, x_test.shape, y_test.shape)"
      ],
      "execution_count": 32,
      "outputs": [
        {
          "output_type": "stream",
          "text": [
            "(541, 35) (541,) (136, 35) (136,)\n"
          ],
          "name": "stdout"
        }
      ]
    },
    {
      "cell_type": "code",
      "metadata": {
        "id": "CZZPXfdJeQja",
        "colab_type": "code",
        "outputId": "746438e0-2843-46f4-f3ae-df36e54bf5ab",
        "colab": {
          "base_uri": "https://localhost:8080/",
          "height": 34
        }
      },
      "source": [
        "lin_reg_fs.fit(x_train, y_train)"
      ],
      "execution_count": 33,
      "outputs": [
        {
          "output_type": "execute_result",
          "data": {
            "text/plain": [
              "LinearRegression(copy_X=True, fit_intercept=True, n_jobs=None, normalize=False)"
            ]
          },
          "metadata": {
            "tags": []
          },
          "execution_count": 33
        }
      ]
    },
    {
      "cell_type": "code",
      "metadata": {
        "id": "3N2k_WhXeQjd",
        "colab_type": "code",
        "colab": {}
      },
      "source": [
        "y_predicted = lin_reg_fs.predict(x_test)"
      ],
      "execution_count": 0,
      "outputs": []
    },
    {
      "cell_type": "code",
      "metadata": {
        "id": "oK4MNxiLeQji",
        "colab_type": "code",
        "outputId": "e8e8a885-a735-458d-9726-127b5414de04",
        "colab": {
          "base_uri": "https://localhost:8080/",
          "height": 51
        }
      },
      "source": [
        "lin_rmse_fs = np.round(np.sqrt(mean_squared_error(y_test,y_predicted)), 5)\n",
        "print('Root Mean Square Error: {}'.format(lin_rmse_fs))\n",
        "\n",
        "lin_r2 = np.round(r2_score(y_test,y_predicted), 5)\n",
        "print('R2 Score : {}'.format(lin_r2))"
      ],
      "execution_count": 35,
      "outputs": [
        {
          "output_type": "stream",
          "text": [
            "Root Mean Square Error: 5.30725\n",
            "R2 Score : 0.07543\n"
          ],
          "name": "stdout"
        }
      ]
    },
    {
      "cell_type": "code",
      "metadata": {
        "id": "Ntz-ZpMUeQjl",
        "colab_type": "code",
        "outputId": "d7bd4551-b3aa-4d02-9ed9-6607671cc77c",
        "colab": {
          "base_uri": "https://localhost:8080/",
          "height": 499
        }
      },
      "source": [
        "rmse_x = rmse_x + ['Linear Regression After Feature Selection']\n",
        "rmse_y = rmse_y + [lin_rmse_fs]\n",
        "\n",
        "plot_RMSE(rmse_x, rmse_y, (18,8))"
      ],
      "execution_count": 36,
      "outputs": [
        {
          "output_type": "display_data",
          "data": {
            "image/png": "[encoded data removed]",
            "text/plain": [
              "<Figure size 1296x576 with 1 Axes>"
            ]
          },
          "metadata": {
            "tags": []
          }
        }
      ]
    },
    {
      "cell_type": "markdown",
      "metadata": {
        "id": "TYaLZjHaeQjv",
        "colab_type": "text"
      },
      "source": [
        "## Feature Selection Reduced the Mean Square Error thus with Feature Selection we got a better fit"
      ]
    },
    {
      "cell_type": "markdown",
      "metadata": {
        "id": "ncjy9s6UF4PQ",
        "colab_type": "text"
      },
      "source": [
        "#### Applying Ridge Regularization in Linear Regression"
      ]
    },
    {
      "cell_type": "code",
      "metadata": {
        "id": "Fm2FOEncF21z",
        "colab_type": "code",
        "colab": {}
      },
      "source": [
        "lin_reg_requ = RidgeCV(alphas=[1e-3, 1e-2, 1e-1, 1])"
      ],
      "execution_count": 0,
      "outputs": []
    },
    {
      "cell_type": "code",
      "metadata": {
        "id": "U-MH59osGPsj",
        "colab_type": "code",
        "colab": {
          "base_uri": "https://localhost:8080/",
          "height": 51
        },
        "outputId": "7230781d-5b67-4323-8536-d21633bec83b"
      },
      "source": [
        "lin_reg_requ.fit(x_train, y_train)"
      ],
      "execution_count": 38,
      "outputs": [
        {
          "output_type": "execute_result",
          "data": {
            "text/plain": [
              "RidgeCV(alphas=array([0.001, 0.01 , 0.1  , 1.   ]), cv=None, fit_intercept=True,\n",
              "        gcv_mode=None, normalize=False, scoring=None, store_cv_values=False)"
            ]
          },
          "metadata": {
            "tags": []
          },
          "execution_count": 38
        }
      ]
    },
    {
      "cell_type": "code",
      "metadata": {
        "id": "e4gwUdfFGQEy",
        "colab_type": "code",
        "colab": {}
      },
      "source": [
        "y_pred_regu = lin_reg_requ.predict(x_test)"
      ],
      "execution_count": 0,
      "outputs": []
    },
    {
      "cell_type": "code",
      "metadata": {
        "id": "6IWa-p-GGQRb",
        "colab_type": "code",
        "colab": {
          "base_uri": "https://localhost:8080/",
          "height": 51
        },
        "outputId": "9db700bb-fe84-49ac-b7ec-94f6577bb007"
      },
      "source": [
        "lin_rmse_regu = np.round(np.sqrt(mean_squared_error(y_test,y_pred_regu)), 5)\n",
        "print('Root Mean Square Error: {}'.format(lin_rmse_regu))\n",
        "\n",
        "lin_r2_regu = np.round(r2_score(y_test,y_predicted), 5)\n",
        "print('R2 Score : {}'.format(lin_r2))"
      ],
      "execution_count": 40,
      "outputs": [
        {
          "output_type": "stream",
          "text": [
            "Root Mean Square Error: 5.306\n",
            "R2 Score : 0.07543\n"
          ],
          "name": "stdout"
        }
      ]
    },
    {
      "cell_type": "code",
      "metadata": {
        "id": "sZzG5-hfGrm7",
        "colab_type": "code",
        "colab": {}
      },
      "source": [
        "rmse_x = rmse_x + ['Ridge Regularization']\n",
        "rmse_y = rmse_y + [lin_rmse_regu]"
      ],
      "execution_count": 0,
      "outputs": []
    },
    {
      "cell_type": "code",
      "metadata": {
        "id": "Onlci5lxHGxh",
        "colab_type": "code",
        "colab": {
          "base_uri": "https://localhost:8080/",
          "height": 499
        },
        "outputId": "185eb005-f085-4aac-cd81-2646747ea0a0"
      },
      "source": [
        "plot_RMSE(rmse_x, rmse_y, (20,8))"
      ],
      "execution_count": 42,
      "outputs": [
        {
          "output_type": "display_data",
          "data": {
            "image/png": "[encoded data removed]",
            "text/plain": [
              "<Figure size 1440x576 with 1 Axes>"
            ]
          },
          "metadata": {
            "tags": []
          }
        }
      ]
    },
    {
      "cell_type": "markdown",
      "metadata": {
        "id": "z-z9JYD1eQjx",
        "colab_type": "text"
      },
      "source": [
        "# Lets Analysis The response of Neural Netoworks in This Scenario"
      ]
    },
    {
      "cell_type": "markdown",
      "metadata": {
        "id": "hoGxAMKgf0HK",
        "colab_type": "text"
      },
      "source": [
        "Normalizing The Data"
      ]
    },
    {
      "cell_type": "code",
      "metadata": {
        "id": "K3hjuWQieQjz",
        "colab_type": "code",
        "colab": {}
      },
      "source": [
        "scaler = MinMaxScaler(feature_range=(0, 1))\n",
        "x_data_scaled = scaler.fit_transform(x_data)"
      ],
      "execution_count": 0,
      "outputs": []
    },
    {
      "cell_type": "code",
      "metadata": {
        "id": "SscLu4hlge_b",
        "colab_type": "code",
        "colab": {}
      },
      "source": [
        "x_data_scaled = pd.DataFrame(x_data_scaled, columns=x_data.columns)"
      ],
      "execution_count": 0,
      "outputs": []
    },
    {
      "cell_type": "code",
      "metadata": {
        "id": "81-G94zphSZK",
        "colab_type": "code",
        "outputId": "e91f9218-0c30-4ddc-8287-07f099cf411b",
        "colab": {
          "base_uri": "https://localhost:8080/",
          "height": 34
        }
      },
      "source": [
        "x_data_scaled.shape"
      ],
      "execution_count": 45,
      "outputs": [
        {
          "output_type": "execute_result",
          "data": {
            "text/plain": [
              "(677, 35)"
            ]
          },
          "metadata": {
            "tags": []
          },
          "execution_count": 45
        }
      ]
    },
    {
      "cell_type": "code",
      "metadata": {
        "id": "H84Ow8RqkZOc",
        "colab_type": "code",
        "colab": {}
      },
      "source": [
        "# y_data_scaled = df_scaled_data['precipm']\n",
        "# x_data_scaled = df_scaled_data.drop(['precipm'], axis=1)"
      ],
      "execution_count": 0,
      "outputs": []
    },
    {
      "cell_type": "code",
      "metadata": {
        "id": "Xi_oG86kjRxw",
        "colab_type": "code",
        "colab": {}
      },
      "source": [
        "x_train_scaled, x_test_scaled, y_train , y_test = train_test_split(x_data_scaled, y_data)"
      ],
      "execution_count": 0,
      "outputs": []
    },
    {
      "cell_type": "code",
      "metadata": {
        "id": "3vUR67IYh8b-",
        "colab_type": "code",
        "outputId": "3363b0b5-84d3-4eff-a7c3-787e2f99d772",
        "colab": {
          "base_uri": "https://localhost:8080/",
          "height": 411
        }
      },
      "source": [
        "model = Sequential()\n",
        "\n",
        "model.add(Dense(35, activation='relu', input_shape=x_train_scaled.iloc[0].shape))\n",
        "# model.add(Dropout(0.3))\n",
        "model.add(Dense(100, activation='relu'))\n",
        "# model.add(Dropout(0.2))\n",
        "model.add(Dense(200, activation='relu'))\n",
        "# model.add(Dropout(0.2))\n",
        "model.add(Dense(100, activation='relu'))\n",
        "# model.add(Dropout(0.2))\n",
        "model.add(Dense(50, activation='relu'))\n",
        "model.add(Dense(1))\n",
        "\n",
        "model.compile(loss='mean_squared_error', optimizer='adam')\n",
        "model.summary()"
      ],
      "execution_count": 48,
      "outputs": [
        {
          "output_type": "stream",
          "text": [
            "WARNING:tensorflow:From /usr/local/lib/python3.6/dist-packages/tensorflow/python/framework/op_def_library.py:263: colocate_with (from tensorflow.python.framework.ops) is deprecated and will be removed in a future version.\n",
            "Instructions for updating:\n",
            "Colocations handled automatically by placer.\n",
            "_________________________________________________________________\n",
            "Layer (type)                 Output Shape              Param #   \n",
            "=================================================================\n",
            "dense_1 (Dense)              (None, 35)                1260      \n",
            "_________________________________________________________________\n",
            "dense_2 (Dense)              (None, 100)               3600      \n",
            "_________________________________________________________________\n",
            "dense_3 (Dense)              (None, 200)               20200     \n",
            "_________________________________________________________________\n",
            "dense_4 (Dense)              (None, 100)               20100     \n",
            "_________________________________________________________________\n",
            "dense_5 (Dense)              (None, 50)                5050      \n",
            "_________________________________________________________________\n",
            "dense_6 (Dense)              (None, 1)                 51        \n",
            "=================================================================\n",
            "Total params: 50,261\n",
            "Trainable params: 50,261\n",
            "Non-trainable params: 0\n",
            "_________________________________________________________________\n"
          ],
          "name": "stdout"
        }
      ]
    },
    {
      "cell_type": "code",
      "metadata": {
        "id": "qp23tcLJiz1K",
        "colab_type": "code",
        "colab": {
          "base_uri": "https://localhost:8080/",
          "height": 88
        },
        "outputId": "880d560e-91f8-4fdb-e3e0-46c46d624a9e"
      },
      "source": [
        "history = model.fit(x_train_scaled, y_train, epochs=200, verbose=0)"
      ],
      "execution_count": 49,
      "outputs": [
        {
          "output_type": "stream",
          "text": [
            "WARNING:tensorflow:From /usr/local/lib/python3.6/dist-packages/tensorflow/python/ops/math_ops.py:3066: to_int32 (from tensorflow.python.ops.math_ops) is deprecated and will be removed in a future version.\n",
            "Instructions for updating:\n",
            "Use tf.cast instead.\n"
          ],
          "name": "stdout"
        }
      ]
    },
    {
      "cell_type": "code",
      "metadata": {
        "id": "_LatEZoujFil",
        "colab_type": "code",
        "colab": {}
      },
      "source": [
        "y_predicted_scaled = model.predict(x_test_scaled)"
      ],
      "execution_count": 0,
      "outputs": []
    },
    {
      "cell_type": "code",
      "metadata": {
        "id": "sdiLymlrlqsl",
        "colab_type": "code",
        "outputId": "95c996fc-bd43-489e-aeac-1fdd6d85a33c",
        "colab": {
          "base_uri": "https://localhost:8080/",
          "height": 34
        }
      },
      "source": [
        "nn_rmse = np.round(np.sqrt(mean_squared_error(y_test,y_predicted_scaled)), 5)\n",
        "print('Root Mean Square Error: {}'.format(nn_rmse))"
      ],
      "execution_count": 51,
      "outputs": [
        {
          "output_type": "stream",
          "text": [
            "Root Mean Square Error: 6.48311\n"
          ],
          "name": "stdout"
        }
      ]
    },
    {
      "cell_type": "code",
      "metadata": {
        "id": "wXVq5R4yl1a9",
        "colab_type": "code",
        "colab": {}
      },
      "source": [
        "rmse_x = rmse_x + ['Deep Neural Network']\n",
        "rmse_y = rmse_y + [nn_rmse]"
      ],
      "execution_count": 0,
      "outputs": []
    },
    {
      "cell_type": "code",
      "metadata": {
        "id": "AxxbY9_eAE56",
        "colab_type": "code",
        "outputId": "e49f6584-1381-4172-b155-6e447375c277",
        "colab": {
          "base_uri": "https://localhost:8080/",
          "height": 499
        }
      },
      "source": [
        "plot_RMSE(rmse_x, rmse_y, (22,8))"
      ],
      "execution_count": 53,
      "outputs": [
        {
          "output_type": "display_data",
          "data": {
            "image/png": "[encoded data removed]",
            "text/plain": [
              "<Figure size 1584x576 with 1 Axes>"
            ]
          },
          "metadata": {
            "tags": []
          }
        }
      ]
    },
    {
      "cell_type": "markdown",
      "metadata": {
        "id": "MzUhSdiSH7l6",
        "colab_type": "text"
      },
      "source": [
        "Applying Ridge Regularization in this neural network and retraining it with output we get"
      ]
    },
    {
      "cell_type": "code",
      "metadata": {
        "id": "wJCnMAmnCQhl",
        "colab_type": "code",
        "colab": {
          "base_uri": "https://localhost:8080/",
          "height": 547
        },
        "outputId": "3ec46007-c69a-4802-ed91-a99b0309c48a"
      },
      "source": [
        "model_reg = Sequential()\n",
        "\n",
        "model_reg.add(Dense(35, activation='relu', input_shape=x_train_scaled.iloc[0].shape, kernel_regularizer=l2(0.001)))\n",
        "model_reg.add(Dropout(0.3))\n",
        "model_reg.add(Dense(100, activation='relu', kernel_regularizer=l2(0.001)))\n",
        "model_reg.add(Dropout(0.2))\n",
        "model_reg.add(Dense(200, activation='relu', kernel_regularizer=l2(0.001)))\n",
        "model_reg.add(Dropout(0.2))\n",
        "model_reg.add(Dense(100, activation='relu', kernel_regularizer=l2(0.001)))\n",
        "model_reg.add(Dropout(0.2))\n",
        "model_reg.add(Dense(50, activation='relu', kernel_regularizer=l2(0.001)))\n",
        "model_reg.add(Dense(1))\n",
        "\n",
        "model_reg.compile(loss='mean_squared_error', optimizer='adam')\n",
        "model_reg.summary()"
      ],
      "execution_count": 54,
      "outputs": [
        {
          "output_type": "stream",
          "text": [
            "WARNING:tensorflow:From /usr/local/lib/python3.6/dist-packages/keras/backend/tensorflow_backend.py:3445: calling dropout (from tensorflow.python.ops.nn_ops) with keep_prob is deprecated and will be removed in a future version.\n",
            "Instructions for updating:\n",
            "Please use `rate` instead of `keep_prob`. Rate should be set to `rate = 1 - keep_prob`.\n",
            "_________________________________________________________________\n",
            "Layer (type)                 Output Shape              Param #   \n",
            "=================================================================\n",
            "dense_7 (Dense)              (None, 35)                1260      \n",
            "_________________________________________________________________\n",
            "dropout_1 (Dropout)          (None, 35)                0         \n",
            "_________________________________________________________________\n",
            "dense_8 (Dense)              (None, 100)               3600      \n",
            "_________________________________________________________________\n",
            "dropout_2 (Dropout)          (None, 100)               0         \n",
            "_________________________________________________________________\n",
            "dense_9 (Dense)              (None, 200)               20200     \n",
            "_________________________________________________________________\n",
            "dropout_3 (Dropout)          (None, 200)               0         \n",
            "_________________________________________________________________\n",
            "dense_10 (Dense)             (None, 100)               20100     \n",
            "_________________________________________________________________\n",
            "dropout_4 (Dropout)          (None, 100)               0         \n",
            "_________________________________________________________________\n",
            "dense_11 (Dense)             (None, 50)                5050      \n",
            "_________________________________________________________________\n",
            "dense_12 (Dense)             (None, 1)                 51        \n",
            "=================================================================\n",
            "Total params: 50,261\n",
            "Trainable params: 50,261\n",
            "Non-trainable params: 0\n",
            "_________________________________________________________________\n"
          ],
          "name": "stdout"
        }
      ]
    },
    {
      "cell_type": "code",
      "metadata": {
        "id": "zDCx1g8JID_a",
        "colab_type": "code",
        "colab": {}
      },
      "source": [
        "history_reg = model_reg.fit(x_train_scaled, y_train, epochs=200, verbose=0)"
      ],
      "execution_count": 0,
      "outputs": []
    },
    {
      "cell_type": "code",
      "metadata": {
        "id": "dILnNqsVIqCc",
        "colab_type": "code",
        "colab": {
          "base_uri": "https://localhost:8080/",
          "height": 34
        },
        "outputId": "d158cb23-2aa1-4cc3-ccbc-b3b686663b90"
      },
      "source": [
        "y_predicted_scaled_reg = model_reg.predict(x_test_scaled)\n",
        "nn_rmse_reg = np.round(np.sqrt(mean_squared_error(y_test,y_predicted_scaled_reg)), 5)\n",
        "print('Root Mean Square Error: {}'.format(nn_rmse_reg))"
      ],
      "execution_count": 56,
      "outputs": [
        {
          "output_type": "stream",
          "text": [
            "Root Mean Square Error: 6.43933\n"
          ],
          "name": "stdout"
        }
      ]
    },
    {
      "cell_type": "code",
      "metadata": {
        "id": "wyI-ZL4YIwdi",
        "colab_type": "code",
        "colab": {}
      },
      "source": [
        "rmse_x = rmse_x + ['DNN Regularized']\n",
        "rmse_y = rmse_y + [nn_rmse_reg]"
      ],
      "execution_count": 0,
      "outputs": []
    },
    {
      "cell_type": "code",
      "metadata": {
        "id": "MeP4R1KNJFQH",
        "colab_type": "code",
        "colab": {
          "base_uri": "https://localhost:8080/",
          "height": 716
        },
        "outputId": "3cad9c23-229b-4aec-fe4f-984209731d62"
      },
      "source": [
        "plot_RMSE(rmse_x, rmse_y, (24,12))"
      ],
      "execution_count": 60,
      "outputs": [
        {
          "output_type": "display_data",
          "data": {
            "image/png": "[encoded data removed]",
            "text/plain": [
              "<Figure size 1728x864 with 1 Axes>"
            ]
          },
          "metadata": {
            "tags": []
          }
        }
      ]
    },
    {
      "cell_type": "code",
      "metadata": {
        "id": "zyj6YnoZLwvt",
        "colab_type": "code",
        "colab": {}
      },
      "source": [
        ""
      ],
      "execution_count": 0,
      "outputs": []
    }
  ]
}