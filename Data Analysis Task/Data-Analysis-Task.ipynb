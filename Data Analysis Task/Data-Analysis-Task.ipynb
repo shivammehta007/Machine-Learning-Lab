{
  "nbformat": 4,
  "nbformat_minor": 0,
  "metadata": {
    "colab": {
      "name": "Data-Analysis-Task.ipynb",
      "version": "0.3.2",
      "provenance": []
    },
    "language_info": {
      "codemirror_mode": {
        "name": "ipython",
        "version": 3
      },
      "file_extension": ".py",
      "mimetype": "text/x-python",
      "name": "python",
      "nbconvert_exporter": "python",
      "pygments_lexer": "ipython3",
      "version": "3.6.7"
    },
    "kernelspec": {
      "name": "python3",
      "display_name": "Python 3"
    },
    "accelerator": "GPU"
  },
  "cells": [
    {
      "cell_type": "markdown",
      "metadata": {
        "id": "Y4_IKVIaeQga",
        "colab_type": "text"
      },
      "source": [
        "# Problem :\n",
        "## Jaipur Rainfall Data\n",
        "#### The problem is that Jaipur is one of the regions in India that has very limited amount of rainfall throught the year, So we will try to implement data analysis to predict what amount of rainfall will be recieved"
      ]
    },
    {
      "cell_type": "code",
      "metadata": {
        "id": "NweI1bLxeQgd",
        "colab_type": "code",
        "colab": {
          "base_uri": "https://localhost:8080/",
          "height": 34
        },
        "outputId": "57a9e38f-c25e-4f1e-e84f-bcd5d247c5e9"
      },
      "source": [
        "import numpy as np\n",
        "import pandas as pd\n",
        "import matplotlib.pyplot as plt\n",
        "import seaborn as sns\n",
        "\n",
        "from scipy.stats import pearsonr\n",
        "\n",
        "from sklearn.metrics import accuracy_score\n",
        "from sklearn.metrics import mean_squared_error, r2_score\n",
        "from sklearn.model_selection import train_test_split\n",
        "from sklearn.feature_selection import RFE\n",
        "from sklearn.linear_model import LinearRegression\n",
        "from sklearn.preprocessing import MinMaxScaler\n",
        "\n",
        "\n",
        "import keras\n",
        "from keras.layers.core import Dense, Dropout\n",
        "from keras.layers import Input\n",
        "from keras.models import Model\n",
        "from keras.models import Sequential\n",
        "from keras.optimizers import RMSprop\n",
        "\n",
        "from os.path import join\n"
      ],
      "execution_count": 1,
      "outputs": [
        {
          "output_type": "stream",
          "text": [
            "Using TensorFlow backend.\n"
          ],
          "name": "stderr"
        }
      ]
    },
    {
      "cell_type": "code",
      "metadata": {
        "id": "lHm5z-wBefGN",
        "colab_type": "code",
        "colab": {
          "base_uri": "https://localhost:8080/",
          "height": 34
        },
        "outputId": "38bbc297-621a-43e0-bec4-147323298a57"
      },
      "source": [
        "from google.colab import drive\n",
        "drive.mount('/content/gdrive')"
      ],
      "execution_count": 2,
      "outputs": [
        {
          "output_type": "stream",
          "text": [
            "Drive already mounted at /content/gdrive; to attempt to forcibly remount, call drive.mount(\"/content/gdrive\", force_remount=True).\n"
          ],
          "name": "stdout"
        }
      ]
    },
    {
      "cell_type": "code",
      "metadata": {
        "id": "8j5tUZR0eQgk",
        "colab_type": "code",
        "colab": {}
      },
      "source": [
        "dataset = '/content/gdrive/My Drive/Colab Notebooks/DataSet-Jaipur'\n",
        "\n",
        "# Location of Dataset\n",
        "# dataset = 'DataSet-Jaipur'\n",
        "filename = 'JaipurRawData.csv'\n",
        "filename = join(dataset, filename)"
      ],
      "execution_count": 0,
      "outputs": []
    },
    {
      "cell_type": "code",
      "metadata": {
        "id": "ZhSQ825BeQgn",
        "colab_type": "code",
        "colab": {
          "base_uri": "https://localhost:8080/",
          "height": 235
        },
        "outputId": "03380db9-c4a2-4572-e82a-f074947413a8"
      },
      "source": [
        "df = pd.read_csv(filename, index_col='date')\n",
        "df.head()"
      ],
      "execution_count": 4,
      "outputs": [
        {
          "output_type": "execute_result",
          "data": {
            "text/html": [
              "<div>\n",
              "<style scoped>\n",
              "    .dataframe tbody tr th:only-of-type {\n",
              "        vertical-align: middle;\n",
              "    }\n",
              "\n",
              "    .dataframe tbody tr th {\n",
              "        vertical-align: top;\n",
              "    }\n",
              "\n",
              "    .dataframe thead th {\n",
              "        text-align: right;\n",
              "    }\n",
              "</style>\n",
              "<table border=\"1\" class=\"dataframe\">\n",
              "  <thead>\n",
              "    <tr style=\"text-align: right;\">\n",
              "      <th></th>\n",
              "      <th>meantempm</th>\n",
              "      <th>meandewptm</th>\n",
              "      <th>meanpressurem</th>\n",
              "      <th>maxhumidity</th>\n",
              "      <th>minhumidity</th>\n",
              "      <th>maxtempm</th>\n",
              "      <th>mintempm</th>\n",
              "      <th>maxdewptm</th>\n",
              "      <th>mindewptm</th>\n",
              "      <th>maxpressurem</th>\n",
              "      <th>minpressurem</th>\n",
              "      <th>precipm</th>\n",
              "    </tr>\n",
              "    <tr>\n",
              "      <th>date</th>\n",
              "      <th></th>\n",
              "      <th></th>\n",
              "      <th></th>\n",
              "      <th></th>\n",
              "      <th></th>\n",
              "      <th></th>\n",
              "      <th></th>\n",
              "      <th></th>\n",
              "      <th></th>\n",
              "      <th></th>\n",
              "      <th></th>\n",
              "      <th></th>\n",
              "    </tr>\n",
              "  </thead>\n",
              "  <tbody>\n",
              "    <tr>\n",
              "      <th>2016-05-01</th>\n",
              "      <td>34</td>\n",
              "      <td>-1</td>\n",
              "      <td>1005.63</td>\n",
              "      <td>24</td>\n",
              "      <td>4</td>\n",
              "      <td>43</td>\n",
              "      <td>26</td>\n",
              "      <td>9</td>\n",
              "      <td>-10</td>\n",
              "      <td>1009</td>\n",
              "      <td>999</td>\n",
              "      <td>0.0</td>\n",
              "    </tr>\n",
              "    <tr>\n",
              "      <th>2016-05-02</th>\n",
              "      <td>36</td>\n",
              "      <td>4</td>\n",
              "      <td>1005.46</td>\n",
              "      <td>21</td>\n",
              "      <td>6</td>\n",
              "      <td>43</td>\n",
              "      <td>29</td>\n",
              "      <td>10</td>\n",
              "      <td>-2</td>\n",
              "      <td>1008</td>\n",
              "      <td>1001</td>\n",
              "      <td>0.0</td>\n",
              "    </tr>\n",
              "    <tr>\n",
              "      <th>2016-05-03</th>\n",
              "      <td>35</td>\n",
              "      <td>6</td>\n",
              "      <td>1006.00</td>\n",
              "      <td>27</td>\n",
              "      <td>5</td>\n",
              "      <td>41</td>\n",
              "      <td>29</td>\n",
              "      <td>12</td>\n",
              "      <td>-2</td>\n",
              "      <td>1009</td>\n",
              "      <td>1000</td>\n",
              "      <td>0.0</td>\n",
              "    </tr>\n",
              "    <tr>\n",
              "      <th>2016-05-04</th>\n",
              "      <td>34</td>\n",
              "      <td>7</td>\n",
              "      <td>1005.65</td>\n",
              "      <td>29</td>\n",
              "      <td>6</td>\n",
              "      <td>41</td>\n",
              "      <td>27</td>\n",
              "      <td>13</td>\n",
              "      <td>0</td>\n",
              "      <td>1008</td>\n",
              "      <td>1001</td>\n",
              "      <td>0.0</td>\n",
              "    </tr>\n",
              "    <tr>\n",
              "      <th>2016-05-05</th>\n",
              "      <td>31</td>\n",
              "      <td>11</td>\n",
              "      <td>1007.94</td>\n",
              "      <td>61</td>\n",
              "      <td>13</td>\n",
              "      <td>38</td>\n",
              "      <td>24</td>\n",
              "      <td>16</td>\n",
              "      <td>6</td>\n",
              "      <td>1011</td>\n",
              "      <td>1003</td>\n",
              "      <td>5.0</td>\n",
              "    </tr>\n",
              "  </tbody>\n",
              "</table>\n",
              "</div>"
            ],
            "text/plain": [
              "            meantempm  meandewptm  ...  minpressurem  precipm\n",
              "date                               ...                       \n",
              "2016-05-01         34          -1  ...           999      0.0\n",
              "2016-05-02         36           4  ...          1001      0.0\n",
              "2016-05-03         35           6  ...          1000      0.0\n",
              "2016-05-04         34           7  ...          1001      0.0\n",
              "2016-05-05         31          11  ...          1003      5.0\n",
              "\n",
              "[5 rows x 12 columns]"
            ]
          },
          "metadata": {
            "tags": []
          },
          "execution_count": 4
        }
      ]
    },
    {
      "cell_type": "code",
      "metadata": {
        "id": "ksnFmSQdeQgu",
        "colab_type": "code",
        "colab": {
          "base_uri": "https://localhost:8080/",
          "height": 68
        },
        "outputId": "4c215694-9720-4ed7-baff-23cf2f81385a"
      },
      "source": [
        "print('Shape of Dataset: {}'.format(df.shape))\n",
        "print('Shape of Each Row: {}'.format(df.iloc[0].shape))\n",
        "print('')"
      ],
      "execution_count": 5,
      "outputs": [
        {
          "output_type": "stream",
          "text": [
            "Shape of Dataset: (679, 12)\n",
            "Shape of Each Row: (12,)\n",
            "\n"
          ],
          "name": "stdout"
        }
      ]
    },
    {
      "cell_type": "code",
      "metadata": {
        "id": "78oopMgNeQgz",
        "colab_type": "code",
        "colab": {
          "base_uri": "https://localhost:8080/",
          "height": 667
        },
        "outputId": "e9eacee3-04db-467a-aae6-3490d52a4446"
      },
      "source": [
        "plt.figure(figsize=(12,10))\n",
        "cor = df.corr()\n",
        "sns.heatmap(cor, annot=True, cmap=plt.cm.Reds)\n",
        "plt.show()"
      ],
      "execution_count": 6,
      "outputs": [
        {
          "output_type": "display_data",
          "data": {
            "image/png": "[encoded data removed]",
            "text/plain": [
              "<Figure size 864x720 with 2 Axes>"
            ]
          },
          "metadata": {
            "tags": []
          }
        }
      ]
    },
    {
      "cell_type": "markdown",
      "metadata": {
        "id": "gk4C8NDQeQg3",
        "colab_type": "text"
      },
      "source": [
        "##### Pad Historic data for past 2 days with each row"
      ]
    },
    {
      "cell_type": "code",
      "metadata": {
        "id": "bM-ThbsWeQg4",
        "colab_type": "code",
        "colab": {}
      },
      "source": [
        "def pad_nth_day_feature(df, feature, N):\n",
        "    rows = df.shape[0]\n",
        "    nth_prior_meassurements = [None]*N + [df[feature][i-N] for i in range(N, rows)]\n",
        "    col_name = \"{}_{}\".format(feature, N)\n",
        "    df[col_name] = nth_prior_meassurements"
      ],
      "execution_count": 0,
      "outputs": []
    },
    {
      "cell_type": "code",
      "metadata": {
        "id": "1zpvp9ZveQg6",
        "colab_type": "code",
        "colab": {
          "base_uri": "https://localhost:8080/",
          "height": 85
        },
        "outputId": "735724a1-0f68-46fa-cad9-ad1d9fb0a290"
      },
      "source": [
        "df.columns"
      ],
      "execution_count": 8,
      "outputs": [
        {
          "output_type": "execute_result",
          "data": {
            "text/plain": [
              "Index(['meantempm', 'meandewptm', 'meanpressurem', 'maxhumidity',\n",
              "       'minhumidity', 'maxtempm', 'mintempm', 'maxdewptm', 'mindewptm',\n",
              "       'maxpressurem', 'minpressurem', 'precipm'],\n",
              "      dtype='object')"
            ]
          },
          "metadata": {
            "tags": []
          },
          "execution_count": 8
        }
      ]
    },
    {
      "cell_type": "code",
      "metadata": {
        "id": "HOUvMhy0eQg9",
        "colab_type": "code",
        "colab": {}
      },
      "source": [
        "for column in df.columns:\n",
        "#     if column != 'precipm':\n",
        "    for n in range(1, 3):\n",
        "        pad_nth_day_feature(df, column, n)"
      ],
      "execution_count": 0,
      "outputs": []
    },
    {
      "cell_type": "code",
      "metadata": {
        "id": "MSevkw7EeQhA",
        "colab_type": "code",
        "colab": {
          "base_uri": "https://localhost:8080/",
          "height": 340
        },
        "outputId": "0d51a1c2-c007-4e85-ba93-c479dfc4371f"
      },
      "source": [
        "df.head()"
      ],
      "execution_count": 10,
      "outputs": [
        {
          "output_type": "execute_result",
          "data": {
            "text/html": [
              "<div>\n",
              "<style scoped>\n",
              "    .dataframe tbody tr th:only-of-type {\n",
              "        vertical-align: middle;\n",
              "    }\n",
              "\n",
              "    .dataframe tbody tr th {\n",
              "        vertical-align: top;\n",
              "    }\n",
              "\n",
              "    .dataframe thead th {\n",
              "        text-align: right;\n",
              "    }\n",
              "</style>\n",
              "<table border=\"1\" class=\"dataframe\">\n",
              "  <thead>\n",
              "    <tr style=\"text-align: right;\">\n",
              "      <th></th>\n",
              "      <th>meantempm</th>\n",
              "      <th>meandewptm</th>\n",
              "      <th>meanpressurem</th>\n",
              "      <th>maxhumidity</th>\n",
              "      <th>minhumidity</th>\n",
              "      <th>maxtempm</th>\n",
              "      <th>mintempm</th>\n",
              "      <th>maxdewptm</th>\n",
              "      <th>mindewptm</th>\n",
              "      <th>maxpressurem</th>\n",
              "      <th>minpressurem</th>\n",
              "      <th>precipm</th>\n",
              "      <th>meantempm_1</th>\n",
              "      <th>meantempm_2</th>\n",
              "      <th>meandewptm_1</th>\n",
              "      <th>meandewptm_2</th>\n",
              "      <th>meanpressurem_1</th>\n",
              "      <th>meanpressurem_2</th>\n",
              "      <th>maxhumidity_1</th>\n",
              "      <th>maxhumidity_2</th>\n",
              "      <th>minhumidity_1</th>\n",
              "      <th>minhumidity_2</th>\n",
              "      <th>maxtempm_1</th>\n",
              "      <th>maxtempm_2</th>\n",
              "      <th>mintempm_1</th>\n",
              "      <th>mintempm_2</th>\n",
              "      <th>maxdewptm_1</th>\n",
              "      <th>maxdewptm_2</th>\n",
              "      <th>mindewptm_1</th>\n",
              "      <th>mindewptm_2</th>\n",
              "      <th>maxpressurem_1</th>\n",
              "      <th>maxpressurem_2</th>\n",
              "      <th>minpressurem_1</th>\n",
              "      <th>minpressurem_2</th>\n",
              "      <th>precipm_1</th>\n",
              "      <th>precipm_2</th>\n",
              "    </tr>\n",
              "    <tr>\n",
              "      <th>date</th>\n",
              "      <th></th>\n",
              "      <th></th>\n",
              "      <th></th>\n",
              "      <th></th>\n",
              "      <th></th>\n",
              "      <th></th>\n",
              "      <th></th>\n",
              "      <th></th>\n",
              "      <th></th>\n",
              "      <th></th>\n",
              "      <th></th>\n",
              "      <th></th>\n",
              "      <th></th>\n",
              "      <th></th>\n",
              "      <th></th>\n",
              "      <th></th>\n",
              "      <th></th>\n",
              "      <th></th>\n",
              "      <th></th>\n",
              "      <th></th>\n",
              "      <th></th>\n",
              "      <th></th>\n",
              "      <th></th>\n",
              "      <th></th>\n",
              "      <th></th>\n",
              "      <th></th>\n",
              "      <th></th>\n",
              "      <th></th>\n",
              "      <th></th>\n",
              "      <th></th>\n",
              "      <th></th>\n",
              "      <th></th>\n",
              "      <th></th>\n",
              "      <th></th>\n",
              "      <th></th>\n",
              "      <th></th>\n",
              "    </tr>\n",
              "  </thead>\n",
              "  <tbody>\n",
              "    <tr>\n",
              "      <th>2016-05-01</th>\n",
              "      <td>34</td>\n",
              "      <td>-1</td>\n",
              "      <td>1005.63</td>\n",
              "      <td>24</td>\n",
              "      <td>4</td>\n",
              "      <td>43</td>\n",
              "      <td>26</td>\n",
              "      <td>9</td>\n",
              "      <td>-10</td>\n",
              "      <td>1009</td>\n",
              "      <td>999</td>\n",
              "      <td>0.0</td>\n",
              "      <td>NaN</td>\n",
              "      <td>NaN</td>\n",
              "      <td>NaN</td>\n",
              "      <td>NaN</td>\n",
              "      <td>NaN</td>\n",
              "      <td>NaN</td>\n",
              "      <td>NaN</td>\n",
              "      <td>NaN</td>\n",
              "      <td>NaN</td>\n",
              "      <td>NaN</td>\n",
              "      <td>NaN</td>\n",
              "      <td>NaN</td>\n",
              "      <td>NaN</td>\n",
              "      <td>NaN</td>\n",
              "      <td>NaN</td>\n",
              "      <td>NaN</td>\n",
              "      <td>NaN</td>\n",
              "      <td>NaN</td>\n",
              "      <td>NaN</td>\n",
              "      <td>NaN</td>\n",
              "      <td>NaN</td>\n",
              "      <td>NaN</td>\n",
              "      <td>NaN</td>\n",
              "      <td>NaN</td>\n",
              "    </tr>\n",
              "    <tr>\n",
              "      <th>2016-05-02</th>\n",
              "      <td>36</td>\n",
              "      <td>4</td>\n",
              "      <td>1005.46</td>\n",
              "      <td>21</td>\n",
              "      <td>6</td>\n",
              "      <td>43</td>\n",
              "      <td>29</td>\n",
              "      <td>10</td>\n",
              "      <td>-2</td>\n",
              "      <td>1008</td>\n",
              "      <td>1001</td>\n",
              "      <td>0.0</td>\n",
              "      <td>34.0</td>\n",
              "      <td>NaN</td>\n",
              "      <td>-1.0</td>\n",
              "      <td>NaN</td>\n",
              "      <td>1005.63</td>\n",
              "      <td>NaN</td>\n",
              "      <td>24.0</td>\n",
              "      <td>NaN</td>\n",
              "      <td>4.0</td>\n",
              "      <td>NaN</td>\n",
              "      <td>43.0</td>\n",
              "      <td>NaN</td>\n",
              "      <td>26.0</td>\n",
              "      <td>NaN</td>\n",
              "      <td>9.0</td>\n",
              "      <td>NaN</td>\n",
              "      <td>-10.0</td>\n",
              "      <td>NaN</td>\n",
              "      <td>1009.0</td>\n",
              "      <td>NaN</td>\n",
              "      <td>999.0</td>\n",
              "      <td>NaN</td>\n",
              "      <td>0.0</td>\n",
              "      <td>NaN</td>\n",
              "    </tr>\n",
              "    <tr>\n",
              "      <th>2016-05-03</th>\n",
              "      <td>35</td>\n",
              "      <td>6</td>\n",
              "      <td>1006.00</td>\n",
              "      <td>27</td>\n",
              "      <td>5</td>\n",
              "      <td>41</td>\n",
              "      <td>29</td>\n",
              "      <td>12</td>\n",
              "      <td>-2</td>\n",
              "      <td>1009</td>\n",
              "      <td>1000</td>\n",
              "      <td>0.0</td>\n",
              "      <td>36.0</td>\n",
              "      <td>34.0</td>\n",
              "      <td>4.0</td>\n",
              "      <td>-1.0</td>\n",
              "      <td>1005.46</td>\n",
              "      <td>1005.63</td>\n",
              "      <td>21.0</td>\n",
              "      <td>24.0</td>\n",
              "      <td>6.0</td>\n",
              "      <td>4.0</td>\n",
              "      <td>43.0</td>\n",
              "      <td>43.0</td>\n",
              "      <td>29.0</td>\n",
              "      <td>26.0</td>\n",
              "      <td>10.0</td>\n",
              "      <td>9.0</td>\n",
              "      <td>-2.0</td>\n",
              "      <td>-10.0</td>\n",
              "      <td>1008.0</td>\n",
              "      <td>1009.0</td>\n",
              "      <td>1001.0</td>\n",
              "      <td>999.0</td>\n",
              "      <td>0.0</td>\n",
              "      <td>0.0</td>\n",
              "    </tr>\n",
              "    <tr>\n",
              "      <th>2016-05-04</th>\n",
              "      <td>34</td>\n",
              "      <td>7</td>\n",
              "      <td>1005.65</td>\n",
              "      <td>29</td>\n",
              "      <td>6</td>\n",
              "      <td>41</td>\n",
              "      <td>27</td>\n",
              "      <td>13</td>\n",
              "      <td>0</td>\n",
              "      <td>1008</td>\n",
              "      <td>1001</td>\n",
              "      <td>0.0</td>\n",
              "      <td>35.0</td>\n",
              "      <td>36.0</td>\n",
              "      <td>6.0</td>\n",
              "      <td>4.0</td>\n",
              "      <td>1006.00</td>\n",
              "      <td>1005.46</td>\n",
              "      <td>27.0</td>\n",
              "      <td>21.0</td>\n",
              "      <td>5.0</td>\n",
              "      <td>6.0</td>\n",
              "      <td>41.0</td>\n",
              "      <td>43.0</td>\n",
              "      <td>29.0</td>\n",
              "      <td>29.0</td>\n",
              "      <td>12.0</td>\n",
              "      <td>10.0</td>\n",
              "      <td>-2.0</td>\n",
              "      <td>-2.0</td>\n",
              "      <td>1009.0</td>\n",
              "      <td>1008.0</td>\n",
              "      <td>1000.0</td>\n",
              "      <td>1001.0</td>\n",
              "      <td>0.0</td>\n",
              "      <td>0.0</td>\n",
              "    </tr>\n",
              "    <tr>\n",
              "      <th>2016-05-05</th>\n",
              "      <td>31</td>\n",
              "      <td>11</td>\n",
              "      <td>1007.94</td>\n",
              "      <td>61</td>\n",
              "      <td>13</td>\n",
              "      <td>38</td>\n",
              "      <td>24</td>\n",
              "      <td>16</td>\n",
              "      <td>6</td>\n",
              "      <td>1011</td>\n",
              "      <td>1003</td>\n",
              "      <td>5.0</td>\n",
              "      <td>34.0</td>\n",
              "      <td>35.0</td>\n",
              "      <td>7.0</td>\n",
              "      <td>6.0</td>\n",
              "      <td>1005.65</td>\n",
              "      <td>1006.00</td>\n",
              "      <td>29.0</td>\n",
              "      <td>27.0</td>\n",
              "      <td>6.0</td>\n",
              "      <td>5.0</td>\n",
              "      <td>41.0</td>\n",
              "      <td>41.0</td>\n",
              "      <td>27.0</td>\n",
              "      <td>29.0</td>\n",
              "      <td>13.0</td>\n",
              "      <td>12.0</td>\n",
              "      <td>0.0</td>\n",
              "      <td>-2.0</td>\n",
              "      <td>1008.0</td>\n",
              "      <td>1009.0</td>\n",
              "      <td>1001.0</td>\n",
              "      <td>1000.0</td>\n",
              "      <td>0.0</td>\n",
              "      <td>0.0</td>\n",
              "    </tr>\n",
              "  </tbody>\n",
              "</table>\n",
              "</div>"
            ],
            "text/plain": [
              "            meantempm  meandewptm  ...  precipm_1  precipm_2\n",
              "date                               ...                      \n",
              "2016-05-01         34          -1  ...        NaN        NaN\n",
              "2016-05-02         36           4  ...        0.0        NaN\n",
              "2016-05-03         35           6  ...        0.0        0.0\n",
              "2016-05-04         34           7  ...        0.0        0.0\n",
              "2016-05-05         31          11  ...        0.0        0.0\n",
              "\n",
              "[5 rows x 36 columns]"
            ]
          },
          "metadata": {
            "tags": []
          },
          "execution_count": 10
        }
      ]
    },
    {
      "cell_type": "code",
      "metadata": {
        "id": "KLULoVageQhD",
        "colab_type": "code",
        "colab": {
          "base_uri": "https://localhost:8080/",
          "height": 51
        },
        "outputId": "9fc9a816-3560-4382-9478-c162b42eb625"
      },
      "source": [
        "# Changes in Shape\n",
        "print('Shape of Dataset: {}'.format(df.shape))\n",
        "print('Shape of Each Row: {}'.format(df.iloc[0].shape))"
      ],
      "execution_count": 11,
      "outputs": [
        {
          "output_type": "stream",
          "text": [
            "Shape of Dataset: (679, 36)\n",
            "Shape of Each Row: (36,)\n"
          ],
          "name": "stdout"
        }
      ]
    },
    {
      "cell_type": "code",
      "metadata": {
        "id": "0PT0ZBHSeQhL",
        "colab_type": "code",
        "colab": {
          "base_uri": "https://localhost:8080/",
          "height": 714
        },
        "outputId": "9fa25a7e-9c2c-42ad-8b2c-775106266e21"
      },
      "source": [
        "df.info()"
      ],
      "execution_count": 12,
      "outputs": [
        {
          "output_type": "stream",
          "text": [
            "<class 'pandas.core.frame.DataFrame'>\n",
            "Index: 679 entries, 2016-05-01 to 2018-03-11\n",
            "Data columns (total 36 columns):\n",
            "meantempm          679 non-null int64\n",
            "meandewptm         679 non-null int64\n",
            "meanpressurem      679 non-null float64\n",
            "maxhumidity        679 non-null int64\n",
            "minhumidity        679 non-null int64\n",
            "maxtempm           679 non-null int64\n",
            "mintempm           679 non-null int64\n",
            "maxdewptm          679 non-null int64\n",
            "mindewptm          679 non-null int64\n",
            "maxpressurem       679 non-null int64\n",
            "minpressurem       679 non-null int64\n",
            "precipm            679 non-null float64\n",
            "meantempm_1        678 non-null float64\n",
            "meantempm_2        677 non-null float64\n",
            "meandewptm_1       678 non-null float64\n",
            "meandewptm_2       677 non-null float64\n",
            "meanpressurem_1    678 non-null float64\n",
            "meanpressurem_2    677 non-null float64\n",
            "maxhumidity_1      678 non-null float64\n",
            "maxhumidity_2      677 non-null float64\n",
            "minhumidity_1      678 non-null float64\n",
            "minhumidity_2      677 non-null float64\n",
            "maxtempm_1         678 non-null float64\n",
            "maxtempm_2         677 non-null float64\n",
            "mintempm_1         678 non-null float64\n",
            "mintempm_2         677 non-null float64\n",
            "maxdewptm_1        678 non-null float64\n",
            "maxdewptm_2        677 non-null float64\n",
            "mindewptm_1        678 non-null float64\n",
            "mindewptm_2        677 non-null float64\n",
            "maxpressurem_1     678 non-null float64\n",
            "maxpressurem_2     677 non-null float64\n",
            "minpressurem_1     678 non-null float64\n",
            "minpressurem_2     677 non-null float64\n",
            "precipm_1          678 non-null float64\n",
            "precipm_2          677 non-null float64\n",
            "dtypes: float64(26), int64(10)\n",
            "memory usage: 216.3+ KB\n"
          ],
          "name": "stdout"
        }
      ]
    },
    {
      "cell_type": "markdown",
      "metadata": {
        "id": "ApQ3kFm9eQhc",
        "colab_type": "text"
      },
      "source": [
        "##### Doing Some Data Cleaning Operations"
      ]
    },
    {
      "cell_type": "code",
      "metadata": {
        "id": "2ntzM64ReQhe",
        "colab_type": "code",
        "colab": {}
      },
      "source": [
        "# Check if there is only one value in the column remove that feature\n",
        "def check_uniqueness(dataframe):\n",
        "    for column in dataframe.columns:\n",
        "        if len(pd.Series.unique(dataframe[column])) == 1:\n",
        "            dataframe.drop(column, inplace=True, axis=1)\n",
        "\n",
        "            \n",
        "    return dataframe\n",
        "\n",
        "df = check_uniqueness(df)"
      ],
      "execution_count": 0,
      "outputs": []
    },
    {
      "cell_type": "code",
      "metadata": {
        "id": "-63Y5NWbeQhl",
        "colab_type": "code",
        "colab": {}
      },
      "source": [
        "# Drop Na Columns\n",
        "df.dropna(inplace=True)"
      ],
      "execution_count": 0,
      "outputs": []
    },
    {
      "cell_type": "code",
      "metadata": {
        "id": "btCB-su1eQhu",
        "colab_type": "code",
        "colab": {
          "base_uri": "https://localhost:8080/",
          "height": 1165
        },
        "outputId": "00b8a48b-d87f-42f8-bdae-0d3524edb810"
      },
      "source": [
        "df.describe().T"
      ],
      "execution_count": 15,
      "outputs": [
        {
          "output_type": "execute_result",
          "data": {
            "text/html": [
              "<div>\n",
              "<style scoped>\n",
              "    .dataframe tbody tr th:only-of-type {\n",
              "        vertical-align: middle;\n",
              "    }\n",
              "\n",
              "    .dataframe tbody tr th {\n",
              "        vertical-align: top;\n",
              "    }\n",
              "\n",
              "    .dataframe thead th {\n",
              "        text-align: right;\n",
              "    }\n",
              "</style>\n",
              "<table border=\"1\" class=\"dataframe\">\n",
              "  <thead>\n",
              "    <tr style=\"text-align: right;\">\n",
              "      <th></th>\n",
              "      <th>count</th>\n",
              "      <th>mean</th>\n",
              "      <th>std</th>\n",
              "      <th>min</th>\n",
              "      <th>25%</th>\n",
              "      <th>50%</th>\n",
              "      <th>75%</th>\n",
              "      <th>max</th>\n",
              "    </tr>\n",
              "  </thead>\n",
              "  <tbody>\n",
              "    <tr>\n",
              "      <th>meantempm</th>\n",
              "      <td>677.0</td>\n",
              "      <td>26.066470</td>\n",
              "      <td>6.213891</td>\n",
              "      <td>10.00</td>\n",
              "      <td>20.0</td>\n",
              "      <td>28.00</td>\n",
              "      <td>30.00</td>\n",
              "      <td>38.00</td>\n",
              "    </tr>\n",
              "    <tr>\n",
              "      <th>meandewptm</th>\n",
              "      <td>677.0</td>\n",
              "      <td>11.982275</td>\n",
              "      <td>8.731514</td>\n",
              "      <td>-10.00</td>\n",
              "      <td>5.0</td>\n",
              "      <td>10.00</td>\n",
              "      <td>21.00</td>\n",
              "      <td>26.00</td>\n",
              "    </tr>\n",
              "    <tr>\n",
              "      <th>meanpressurem</th>\n",
              "      <td>677.0</td>\n",
              "      <td>1009.505081</td>\n",
              "      <td>6.478314</td>\n",
              "      <td>997.63</td>\n",
              "      <td>1003.7</td>\n",
              "      <td>1008.85</td>\n",
              "      <td>1015.52</td>\n",
              "      <td>1023.43</td>\n",
              "    </tr>\n",
              "    <tr>\n",
              "      <th>maxhumidity</th>\n",
              "      <td>677.0</td>\n",
              "      <td>67.397341</td>\n",
              "      <td>22.057420</td>\n",
              "      <td>15.00</td>\n",
              "      <td>50.0</td>\n",
              "      <td>66.00</td>\n",
              "      <td>88.00</td>\n",
              "      <td>100.00</td>\n",
              "    </tr>\n",
              "    <tr>\n",
              "      <th>minhumidity</th>\n",
              "      <td>677.0</td>\n",
              "      <td>22.794682</td>\n",
              "      <td>19.367531</td>\n",
              "      <td>4.00</td>\n",
              "      <td>9.0</td>\n",
              "      <td>15.00</td>\n",
              "      <td>33.00</td>\n",
              "      <td>89.00</td>\n",
              "    </tr>\n",
              "    <tr>\n",
              "      <th>maxtempm</th>\n",
              "      <td>677.0</td>\n",
              "      <td>32.536189</td>\n",
              "      <td>5.992397</td>\n",
              "      <td>18.00</td>\n",
              "      <td>28.0</td>\n",
              "      <td>33.00</td>\n",
              "      <td>37.00</td>\n",
              "      <td>46.00</td>\n",
              "    </tr>\n",
              "    <tr>\n",
              "      <th>mintempm</th>\n",
              "      <td>677.0</td>\n",
              "      <td>19.644018</td>\n",
              "      <td>6.830276</td>\n",
              "      <td>3.00</td>\n",
              "      <td>13.0</td>\n",
              "      <td>22.00</td>\n",
              "      <td>25.00</td>\n",
              "      <td>32.00</td>\n",
              "    </tr>\n",
              "    <tr>\n",
              "      <th>maxdewptm</th>\n",
              "      <td>677.0</td>\n",
              "      <td>16.166913</td>\n",
              "      <td>7.237327</td>\n",
              "      <td>0.00</td>\n",
              "      <td>10.0</td>\n",
              "      <td>15.00</td>\n",
              "      <td>23.00</td>\n",
              "      <td>29.00</td>\n",
              "    </tr>\n",
              "    <tr>\n",
              "      <th>mindewptm</th>\n",
              "      <td>677.0</td>\n",
              "      <td>7.478582</td>\n",
              "      <td>11.686926</td>\n",
              "      <td>-94.00</td>\n",
              "      <td>0.0</td>\n",
              "      <td>6.00</td>\n",
              "      <td>18.00</td>\n",
              "      <td>25.00</td>\n",
              "    </tr>\n",
              "    <tr>\n",
              "      <th>maxpressurem</th>\n",
              "      <td>677.0</td>\n",
              "      <td>1012.251108</td>\n",
              "      <td>6.527288</td>\n",
              "      <td>999.00</td>\n",
              "      <td>1006.0</td>\n",
              "      <td>1012.00</td>\n",
              "      <td>1018.00</td>\n",
              "      <td>1026.00</td>\n",
              "    </tr>\n",
              "    <tr>\n",
              "      <th>minpressurem</th>\n",
              "      <td>677.0</td>\n",
              "      <td>1005.283604</td>\n",
              "      <td>7.128942</td>\n",
              "      <td>992.00</td>\n",
              "      <td>999.0</td>\n",
              "      <td>1004.00</td>\n",
              "      <td>1012.00</td>\n",
              "      <td>1020.00</td>\n",
              "    </tr>\n",
              "    <tr>\n",
              "      <th>precipm</th>\n",
              "      <td>677.0</td>\n",
              "      <td>1.248744</td>\n",
              "      <td>5.431849</td>\n",
              "      <td>0.00</td>\n",
              "      <td>0.0</td>\n",
              "      <td>0.00</td>\n",
              "      <td>0.00</td>\n",
              "      <td>57.00</td>\n",
              "    </tr>\n",
              "    <tr>\n",
              "      <th>meantempm_1</th>\n",
              "      <td>677.0</td>\n",
              "      <td>26.081241</td>\n",
              "      <td>6.225607</td>\n",
              "      <td>10.00</td>\n",
              "      <td>20.0</td>\n",
              "      <td>28.00</td>\n",
              "      <td>30.00</td>\n",
              "      <td>38.00</td>\n",
              "    </tr>\n",
              "    <tr>\n",
              "      <th>meantempm_2</th>\n",
              "      <td>677.0</td>\n",
              "      <td>26.093058</td>\n",
              "      <td>6.233041</td>\n",
              "      <td>10.00</td>\n",
              "      <td>20.0</td>\n",
              "      <td>28.00</td>\n",
              "      <td>30.00</td>\n",
              "      <td>38.00</td>\n",
              "    </tr>\n",
              "    <tr>\n",
              "      <th>meandewptm_1</th>\n",
              "      <td>677.0</td>\n",
              "      <td>11.983752</td>\n",
              "      <td>8.730076</td>\n",
              "      <td>-10.00</td>\n",
              "      <td>5.0</td>\n",
              "      <td>10.00</td>\n",
              "      <td>21.00</td>\n",
              "      <td>26.00</td>\n",
              "    </tr>\n",
              "    <tr>\n",
              "      <th>meandewptm_2</th>\n",
              "      <td>677.0</td>\n",
              "      <td>11.976366</td>\n",
              "      <td>8.738951</td>\n",
              "      <td>-10.00</td>\n",
              "      <td>5.0</td>\n",
              "      <td>10.00</td>\n",
              "      <td>21.00</td>\n",
              "      <td>26.00</td>\n",
              "    </tr>\n",
              "    <tr>\n",
              "      <th>meanpressurem_1</th>\n",
              "      <td>677.0</td>\n",
              "      <td>1009.493944</td>\n",
              "      <td>6.478778</td>\n",
              "      <td>997.63</td>\n",
              "      <td>1003.7</td>\n",
              "      <td>1008.81</td>\n",
              "      <td>1015.52</td>\n",
              "      <td>1023.43</td>\n",
              "    </tr>\n",
              "    <tr>\n",
              "      <th>meanpressurem_2</th>\n",
              "      <td>677.0</td>\n",
              "      <td>1009.481935</td>\n",
              "      <td>6.478393</td>\n",
              "      <td>997.63</td>\n",
              "      <td>1003.7</td>\n",
              "      <td>1008.78</td>\n",
              "      <td>1015.52</td>\n",
              "      <td>1023.43</td>\n",
              "    </tr>\n",
              "    <tr>\n",
              "      <th>maxhumidity_1</th>\n",
              "      <td>677.0</td>\n",
              "      <td>67.360414</td>\n",
              "      <td>22.114149</td>\n",
              "      <td>15.00</td>\n",
              "      <td>50.0</td>\n",
              "      <td>66.00</td>\n",
              "      <td>88.00</td>\n",
              "      <td>100.00</td>\n",
              "    </tr>\n",
              "    <tr>\n",
              "      <th>maxhumidity_2</th>\n",
              "      <td>677.0</td>\n",
              "      <td>67.339734</td>\n",
              "      <td>22.148165</td>\n",
              "      <td>15.00</td>\n",
              "      <td>50.0</td>\n",
              "      <td>66.00</td>\n",
              "      <td>88.00</td>\n",
              "      <td>100.00</td>\n",
              "    </tr>\n",
              "    <tr>\n",
              "      <th>minhumidity_1</th>\n",
              "      <td>677.0</td>\n",
              "      <td>22.794682</td>\n",
              "      <td>19.367531</td>\n",
              "      <td>4.00</td>\n",
              "      <td>9.0</td>\n",
              "      <td>15.00</td>\n",
              "      <td>33.00</td>\n",
              "      <td>89.00</td>\n",
              "    </tr>\n",
              "    <tr>\n",
              "      <th>minhumidity_2</th>\n",
              "      <td>677.0</td>\n",
              "      <td>22.791728</td>\n",
              "      <td>19.370249</td>\n",
              "      <td>4.00</td>\n",
              "      <td>9.0</td>\n",
              "      <td>15.00</td>\n",
              "      <td>33.00</td>\n",
              "      <td>89.00</td>\n",
              "    </tr>\n",
              "    <tr>\n",
              "      <th>maxtempm_1</th>\n",
              "      <td>677.0</td>\n",
              "      <td>32.549483</td>\n",
              "      <td>6.005618</td>\n",
              "      <td>18.00</td>\n",
              "      <td>28.0</td>\n",
              "      <td>33.00</td>\n",
              "      <td>37.00</td>\n",
              "      <td>46.00</td>\n",
              "    </tr>\n",
              "    <tr>\n",
              "      <th>maxtempm_2</th>\n",
              "      <td>677.0</td>\n",
              "      <td>32.562777</td>\n",
              "      <td>6.018780</td>\n",
              "      <td>18.00</td>\n",
              "      <td>28.0</td>\n",
              "      <td>33.00</td>\n",
              "      <td>37.00</td>\n",
              "      <td>46.00</td>\n",
              "    </tr>\n",
              "    <tr>\n",
              "      <th>mintempm_1</th>\n",
              "      <td>677.0</td>\n",
              "      <td>19.660266</td>\n",
              "      <td>6.839437</td>\n",
              "      <td>3.00</td>\n",
              "      <td>13.0</td>\n",
              "      <td>22.00</td>\n",
              "      <td>25.00</td>\n",
              "      <td>32.00</td>\n",
              "    </tr>\n",
              "    <tr>\n",
              "      <th>mintempm_2</th>\n",
              "      <td>677.0</td>\n",
              "      <td>19.670606</td>\n",
              "      <td>6.843727</td>\n",
              "      <td>3.00</td>\n",
              "      <td>13.0</td>\n",
              "      <td>22.00</td>\n",
              "      <td>25.00</td>\n",
              "      <td>32.00</td>\n",
              "    </tr>\n",
              "    <tr>\n",
              "      <th>maxdewptm_1</th>\n",
              "      <td>677.0</td>\n",
              "      <td>16.166913</td>\n",
              "      <td>7.237327</td>\n",
              "      <td>0.00</td>\n",
              "      <td>10.0</td>\n",
              "      <td>15.00</td>\n",
              "      <td>23.00</td>\n",
              "      <td>29.00</td>\n",
              "    </tr>\n",
              "    <tr>\n",
              "      <th>maxdewptm_2</th>\n",
              "      <td>677.0</td>\n",
              "      <td>16.168390</td>\n",
              "      <td>7.235760</td>\n",
              "      <td>0.00</td>\n",
              "      <td>10.0</td>\n",
              "      <td>15.00</td>\n",
              "      <td>23.00</td>\n",
              "      <td>29.00</td>\n",
              "    </tr>\n",
              "    <tr>\n",
              "      <th>mindewptm_1</th>\n",
              "      <td>677.0</td>\n",
              "      <td>7.480059</td>\n",
              "      <td>11.685662</td>\n",
              "      <td>-94.00</td>\n",
              "      <td>0.0</td>\n",
              "      <td>6.00</td>\n",
              "      <td>18.00</td>\n",
              "      <td>25.00</td>\n",
              "    </tr>\n",
              "    <tr>\n",
              "      <th>mindewptm_2</th>\n",
              "      <td>677.0</td>\n",
              "      <td>7.465288</td>\n",
              "      <td>11.701441</td>\n",
              "      <td>-94.00</td>\n",
              "      <td>0.0</td>\n",
              "      <td>6.00</td>\n",
              "      <td>18.00</td>\n",
              "      <td>25.00</td>\n",
              "    </tr>\n",
              "    <tr>\n",
              "      <th>maxpressurem_1</th>\n",
              "      <td>677.0</td>\n",
              "      <td>1012.239291</td>\n",
              "      <td>6.527733</td>\n",
              "      <td>999.00</td>\n",
              "      <td>1006.0</td>\n",
              "      <td>1012.00</td>\n",
              "      <td>1018.00</td>\n",
              "      <td>1026.00</td>\n",
              "    </tr>\n",
              "    <tr>\n",
              "      <th>maxpressurem_2</th>\n",
              "      <td>677.0</td>\n",
              "      <td>1012.227474</td>\n",
              "      <td>6.526343</td>\n",
              "      <td>999.00</td>\n",
              "      <td>1006.0</td>\n",
              "      <td>1012.00</td>\n",
              "      <td>1018.00</td>\n",
              "      <td>1026.00</td>\n",
              "    </tr>\n",
              "    <tr>\n",
              "      <th>minpressurem_1</th>\n",
              "      <td>677.0</td>\n",
              "      <td>1005.271787</td>\n",
              "      <td>7.129403</td>\n",
              "      <td>992.00</td>\n",
              "      <td>999.0</td>\n",
              "      <td>1004.00</td>\n",
              "      <td>1012.00</td>\n",
              "      <td>1020.00</td>\n",
              "    </tr>\n",
              "    <tr>\n",
              "      <th>minpressurem_2</th>\n",
              "      <td>677.0</td>\n",
              "      <td>1005.257016</td>\n",
              "      <td>7.132026</td>\n",
              "      <td>992.00</td>\n",
              "      <td>999.0</td>\n",
              "      <td>1004.00</td>\n",
              "      <td>1012.00</td>\n",
              "      <td>1020.00</td>\n",
              "    </tr>\n",
              "    <tr>\n",
              "      <th>precipm_1</th>\n",
              "      <td>677.0</td>\n",
              "      <td>1.248744</td>\n",
              "      <td>5.431849</td>\n",
              "      <td>0.00</td>\n",
              "      <td>0.0</td>\n",
              "      <td>0.00</td>\n",
              "      <td>0.00</td>\n",
              "      <td>57.00</td>\n",
              "    </tr>\n",
              "    <tr>\n",
              "      <th>precipm_2</th>\n",
              "      <td>677.0</td>\n",
              "      <td>1.248744</td>\n",
              "      <td>5.431849</td>\n",
              "      <td>0.00</td>\n",
              "      <td>0.0</td>\n",
              "      <td>0.00</td>\n",
              "      <td>0.00</td>\n",
              "      <td>57.00</td>\n",
              "    </tr>\n",
              "  </tbody>\n",
              "</table>\n",
              "</div>"
            ],
            "text/plain": [
              "                 count         mean        std  ...      50%      75%      max\n",
              "meantempm        677.0    26.066470   6.213891  ...    28.00    30.00    38.00\n",
              "meandewptm       677.0    11.982275   8.731514  ...    10.00    21.00    26.00\n",
              "meanpressurem    677.0  1009.505081   6.478314  ...  1008.85  1015.52  1023.43\n",
              "maxhumidity      677.0    67.397341  22.057420  ...    66.00    88.00   100.00\n",
              "minhumidity      677.0    22.794682  19.367531  ...    15.00    33.00    89.00\n",
              "maxtempm         677.0    32.536189   5.992397  ...    33.00    37.00    46.00\n",
              "mintempm         677.0    19.644018   6.830276  ...    22.00    25.00    32.00\n",
              "maxdewptm        677.0    16.166913   7.237327  ...    15.00    23.00    29.00\n",
              "mindewptm        677.0     7.478582  11.686926  ...     6.00    18.00    25.00\n",
              "maxpressurem     677.0  1012.251108   6.527288  ...  1012.00  1018.00  1026.00\n",
              "minpressurem     677.0  1005.283604   7.128942  ...  1004.00  1012.00  1020.00\n",
              "precipm          677.0     1.248744   5.431849  ...     0.00     0.00    57.00\n",
              "meantempm_1      677.0    26.081241   6.225607  ...    28.00    30.00    38.00\n",
              "meantempm_2      677.0    26.093058   6.233041  ...    28.00    30.00    38.00\n",
              "meandewptm_1     677.0    11.983752   8.730076  ...    10.00    21.00    26.00\n",
              "meandewptm_2     677.0    11.976366   8.738951  ...    10.00    21.00    26.00\n",
              "meanpressurem_1  677.0  1009.493944   6.478778  ...  1008.81  1015.52  1023.43\n",
              "meanpressurem_2  677.0  1009.481935   6.478393  ...  1008.78  1015.52  1023.43\n",
              "maxhumidity_1    677.0    67.360414  22.114149  ...    66.00    88.00   100.00\n",
              "maxhumidity_2    677.0    67.339734  22.148165  ...    66.00    88.00   100.00\n",
              "minhumidity_1    677.0    22.794682  19.367531  ...    15.00    33.00    89.00\n",
              "minhumidity_2    677.0    22.791728  19.370249  ...    15.00    33.00    89.00\n",
              "maxtempm_1       677.0    32.549483   6.005618  ...    33.00    37.00    46.00\n",
              "maxtempm_2       677.0    32.562777   6.018780  ...    33.00    37.00    46.00\n",
              "mintempm_1       677.0    19.660266   6.839437  ...    22.00    25.00    32.00\n",
              "mintempm_2       677.0    19.670606   6.843727  ...    22.00    25.00    32.00\n",
              "maxdewptm_1      677.0    16.166913   7.237327  ...    15.00    23.00    29.00\n",
              "maxdewptm_2      677.0    16.168390   7.235760  ...    15.00    23.00    29.00\n",
              "mindewptm_1      677.0     7.480059  11.685662  ...     6.00    18.00    25.00\n",
              "mindewptm_2      677.0     7.465288  11.701441  ...     6.00    18.00    25.00\n",
              "maxpressurem_1   677.0  1012.239291   6.527733  ...  1012.00  1018.00  1026.00\n",
              "maxpressurem_2   677.0  1012.227474   6.526343  ...  1012.00  1018.00  1026.00\n",
              "minpressurem_1   677.0  1005.271787   7.129403  ...  1004.00  1012.00  1020.00\n",
              "minpressurem_2   677.0  1005.257016   7.132026  ...  1004.00  1012.00  1020.00\n",
              "precipm_1        677.0     1.248744   5.431849  ...     0.00     0.00    57.00\n",
              "precipm_2        677.0     1.248744   5.431849  ...     0.00     0.00    57.00\n",
              "\n",
              "[36 rows x 8 columns]"
            ]
          },
          "metadata": {
            "tags": []
          },
          "execution_count": 15
        }
      ]
    },
    {
      "cell_type": "markdown",
      "metadata": {
        "id": "5GLG7voKeQh3",
        "colab_type": "text"
      },
      "source": [
        "### Preparing Data"
      ]
    },
    {
      "cell_type": "markdown",
      "metadata": {
        "id": "dL35dIISeQh4",
        "colab_type": "text"
      },
      "source": [
        "For Precipitation Prediction"
      ]
    },
    {
      "cell_type": "code",
      "metadata": {
        "id": "-EVEfmLXeQh8",
        "colab_type": "code",
        "colab": {}
      },
      "source": [
        "y_data = df['precipm']\n",
        "x_data = df.drop(['precipm'], axis=1)"
      ],
      "execution_count": 0,
      "outputs": []
    },
    {
      "cell_type": "code",
      "metadata": {
        "id": "ADdL4ZwaeQiD",
        "colab_type": "code",
        "colab": {
          "base_uri": "https://localhost:8080/",
          "height": 51
        },
        "outputId": "a6303fb9-b625-4c6f-f756-7c44523c3515"
      },
      "source": [
        "print('Shape of X: {}'.format(x_data.shape))\n",
        "print('Shape of Y: {}'.format(y_data.shape))"
      ],
      "execution_count": 17,
      "outputs": [
        {
          "output_type": "stream",
          "text": [
            "Shape of X: (677, 35)\n",
            "Shape of Y: (677,)\n"
          ],
          "name": "stdout"
        }
      ]
    },
    {
      "cell_type": "markdown",
      "metadata": {
        "id": "phskDi67eQiP",
        "colab_type": "text"
      },
      "source": [
        "#### Split Train and Test Data\n"
      ]
    },
    {
      "cell_type": "code",
      "metadata": {
        "id": "GZLyrvNUeQiR",
        "colab_type": "code",
        "colab": {}
      },
      "source": [
        "# Split into Training and Test Set\n",
        "x_train, x_test, y_train, y_test = train_test_split(x_data, y_data, test_size=0.2)"
      ],
      "execution_count": 0,
      "outputs": []
    },
    {
      "cell_type": "code",
      "metadata": {
        "id": "ZlCniOYbeQiZ",
        "colab_type": "code",
        "colab": {}
      },
      "source": [
        "# Change them all to numpy array for faster computation\n",
        "x_train = np.array(x_train)\n",
        "x_test = np.array(x_test)\n",
        "y_train = np.array(y_train)\n",
        "y_test = np.array(y_test)"
      ],
      "execution_count": 0,
      "outputs": []
    },
    {
      "cell_type": "code",
      "metadata": {
        "id": "01G3IG3AeQif",
        "colab_type": "code",
        "colab": {
          "base_uri": "https://localhost:8080/",
          "height": 51
        },
        "outputId": "b44b8b71-8b8f-460a-9d27-cc241b6c1abc"
      },
      "source": [
        "# Print Final Shapes of Sets\n",
        "print('Training Set : X -> {}, Y -> {}'.format(x_train.shape, y_train.shape))\n",
        "print('Testing Set: X -> {}, Y -> {}'.format(x_test.shape, y_test.shape))"
      ],
      "execution_count": 20,
      "outputs": [
        {
          "output_type": "stream",
          "text": [
            "Training Set : X -> (541, 35), Y -> (541,)\n",
            "Testing Set: X -> (136, 35), Y -> (136,)\n"
          ],
          "name": "stdout"
        }
      ]
    },
    {
      "cell_type": "markdown",
      "metadata": {
        "id": "_uwRj8KEeQii",
        "colab_type": "text"
      },
      "source": [
        "#### Now we have Training Set, Validation Set and Testing Set"
      ]
    },
    {
      "cell_type": "markdown",
      "metadata": {
        "id": "Gri2KvwTeQik",
        "colab_type": "text"
      },
      "source": [
        "##### 1. Applying Linear Regression"
      ]
    },
    {
      "cell_type": "code",
      "metadata": {
        "id": "NXFFxevpeQim",
        "colab_type": "code",
        "colab": {
          "base_uri": "https://localhost:8080/",
          "height": 34
        },
        "outputId": "dbf591e6-6216-4662-9f56-9770b2816943"
      },
      "source": [
        "lin_reg = LinearRegression()\n",
        "lin_reg.fit(x_train, y_train)"
      ],
      "execution_count": 21,
      "outputs": [
        {
          "output_type": "execute_result",
          "data": {
            "text/plain": [
              "LinearRegression(copy_X=True, fit_intercept=True, n_jobs=None, normalize=False)"
            ]
          },
          "metadata": {
            "tags": []
          },
          "execution_count": 21
        }
      ]
    },
    {
      "cell_type": "code",
      "metadata": {
        "id": "Q4MELKmJeQiv",
        "colab_type": "code",
        "colab": {}
      },
      "source": [
        "y_test_predicted = lin_reg.predict(x_test)"
      ],
      "execution_count": 0,
      "outputs": []
    },
    {
      "cell_type": "code",
      "metadata": {
        "id": "KS4SvidIeQiz",
        "colab_type": "code",
        "colab": {
          "base_uri": "https://localhost:8080/",
          "height": 51
        },
        "outputId": "08a46ddc-c612-4336-828a-07c61cb830cf"
      },
      "source": [
        "# Root Mean Square Error\n",
        "lin_rmse = np.round(np.sqrt(mean_squared_error(y_test,y_test_predicted)), 5)\n",
        "print('Root Mean Square Error: {}'.format(lin_rmse))\n",
        "\n",
        "# R2 Score\n",
        "lin_r2 = np.round(r2_score(y_test,y_test_predicted), 5)\n",
        "print('R2 Score : {}'.format(lin_r2))\n"
      ],
      "execution_count": 23,
      "outputs": [
        {
          "output_type": "stream",
          "text": [
            "Root Mean Square Error: 4.10809\n",
            "R2 Score : -0.14789\n"
          ],
          "name": "stdout"
        }
      ]
    },
    {
      "cell_type": "markdown",
      "metadata": {
        "id": "Ej62vwPieQi6",
        "colab_type": "text"
      },
      "source": [
        "##### 2. Fitting Polynomial Regression"
      ]
    },
    {
      "cell_type": "code",
      "metadata": {
        "id": "CIPxwpkNeQi7",
        "colab_type": "code",
        "colab": {}
      },
      "source": [
        "from sklearn.preprocessing import PolynomialFeatures"
      ],
      "execution_count": 0,
      "outputs": []
    },
    {
      "cell_type": "code",
      "metadata": {
        "id": "DW0UVL66eQi9",
        "colab_type": "code",
        "colab": {}
      },
      "source": [
        "polynomial_history = []"
      ],
      "execution_count": 0,
      "outputs": []
    },
    {
      "cell_type": "code",
      "metadata": {
        "id": "1dUZ1bGLeQjC",
        "colab_type": "code",
        "colab": {
          "base_uri": "https://localhost:8080/",
          "height": 119
        },
        "outputId": "561df498-d54c-4c30-9f19-5311630e1a01"
      },
      "source": [
        "for degree in range(2,5):\n",
        "\n",
        "    polynomial_features= PolynomialFeatures(degree=degree)\n",
        "    x_train_poly = polynomial_features.fit_transform(x_train)\n",
        "    x_test_poly = polynomial_features.fit_transform(x_test)\n",
        "    lin_reg = LinearRegression()\n",
        "    lin_reg.fit(x_train_poly, y_train)\n",
        "    y_test_poly_predicted = lin_reg.predict(x_test_poly)\n",
        "    rmse = np.round(np.sqrt(mean_squared_error(y_test, y_test_poly_predicted)), 5)\n",
        "    print('Root Mean Square Error: {}'.format(rmse))\n",
        "    \n",
        "    # R2 Score\n",
        "    r2 = np.round(r2_score(y_test,y_test_poly_predicted), 5)\n",
        "    print('R2 Score : {}'.format(r2))\n",
        "    \n",
        "    polynomial_history.append((degree, rmse))\n",
        "    "
      ],
      "execution_count": 26,
      "outputs": [
        {
          "output_type": "stream",
          "text": [
            "Root Mean Square Error: 35.11572\n",
            "R2 Score : -82.87324\n",
            "Root Mean Square Error: 23.03077\n",
            "R2 Score : -35.07755\n",
            "Root Mean Square Error: 22.23875\n",
            "R2 Score : -32.63885\n"
          ],
          "name": "stdout"
        }
      ]
    },
    {
      "cell_type": "markdown",
      "metadata": {
        "id": "oH_ibgWbeQjE",
        "colab_type": "text"
      },
      "source": [
        "#### Plotting Linear Regression with Polynomial Regression RMSE"
      ]
    },
    {
      "cell_type": "code",
      "metadata": {
        "id": "hkP48a6PeQjF",
        "colab_type": "code",
        "colab": {}
      },
      "source": [
        "def plot_RMSE(x_axis, y_axis, figsize=(12,8)):\n",
        "    plt.figure(figsize=figsize)\n",
        "    plt.title('Linear Regression and Polynomial Regression with their RMSE Value')\n",
        "    plt.ylabel('Root Mean Square Error')\n",
        "    bar_heights = plt.bar(x_axis, y_axis)\n",
        "    for rect in bar_heights:\n",
        "        height = rect.get_height()\n",
        "        plt.text(rect.get_x() + rect.get_width()/2.0, height, '{}'.format(height), ha='center', va='bottom')\n",
        "    plt.show()\n",
        "\n",
        "\n",
        "\n",
        "\n"
      ],
      "execution_count": 0,
      "outputs": []
    },
    {
      "cell_type": "code",
      "metadata": {
        "id": "jU1TQv-O9u0_",
        "colab_type": "code",
        "colab": {
          "base_uri": "https://localhost:8080/",
          "height": 499
        },
        "outputId": "0d85c596-8fc7-48ed-d276-c5ef6813b697"
      },
      "source": [
        "rmse_x = ['Linear Regression'] + ['Polynomial of Degree {}'.format(x[0]) for x in polynomial_history]\n",
        "rmse_y = [lin_rmse] + [x[1] for x in polynomial_history]\n",
        "\n",
        "plot_RMSE(rmse_x, rmse_y)"
      ],
      "execution_count": 28,
      "outputs": [
        {
          "output_type": "display_data",
          "data": {
            "image/png": "[encoded data removed]",
            "text/plain": [
              "<Figure size 864x576 with 1 Axes>"
            ]
          },
          "metadata": {
            "tags": []
          }
        }
      ]
    },
    {
      "cell_type": "markdown",
      "metadata": {
        "id": "pdTkZIJLeQjI",
        "colab_type": "text"
      },
      "source": [
        "#### Therefore, In case of Regression the Minimum Value of Root Mean Square Error is seen in ***Linear Regression***"
      ]
    },
    {
      "cell_type": "markdown",
      "metadata": {
        "id": "rTJGQozMeQjK",
        "colab_type": "text"
      },
      "source": [
        "##### 2. Recursive Feature Selection on Linear Regression\n",
        "We will use Wrapper Method of Recursive Feature Selection"
      ]
    },
    {
      "cell_type": "code",
      "metadata": {
        "id": "01m9N58neQjL",
        "colab_type": "code",
        "colab": {}
      },
      "source": [
        "lin_reg_fs = LinearRegression()\n",
        "rfe = RFE(lin_reg_fs, 10)\n",
        "fit = rfe.fit(x_data, y_data)"
      ],
      "execution_count": 0,
      "outputs": []
    },
    {
      "cell_type": "code",
      "metadata": {
        "id": "7KW5NK9yeQjO",
        "colab_type": "code",
        "colab": {
          "base_uri": "https://localhost:8080/",
          "height": 119
        },
        "outputId": "013a5fe4-70eb-4e19-c787-57a4849507d7"
      },
      "source": [
        "print(\"Num Features: {}\".format(fit.n_features_))\n",
        "print(\"Selected Features: {}\".format(fit.support_))\n",
        "print(\"Feature Ranking: {}\".format(fit.ranking_))"
      ],
      "execution_count": 30,
      "outputs": [
        {
          "output_type": "stream",
          "text": [
            "Num Features: 10\n",
            "Selected Features: [False  True  True False  True  True False False False False False False\n",
            "  True False False  True  True False False False False  True False False\n",
            "  True False False False False  True False False False False False]\n",
            "Feature Ranking: [26  1  1  9  1  1 11 24 19 15 17  5  1  4 12  1  1  8 23 25 13  1 21  7\n",
            "  1  6 16 20 22  1 10  3  2 14 18]\n"
          ],
          "name": "stdout"
        }
      ]
    },
    {
      "cell_type": "code",
      "metadata": {
        "id": "HJaS9GKBeQjR",
        "colab_type": "code",
        "colab": {
          "base_uri": "https://localhost:8080/",
          "height": 34
        },
        "outputId": "852e2f24-4c68-41cc-865e-9b6e6427e86b"
      },
      "source": [
        "x_feature_selected_data = rfe.transform(x_data)\n",
        "x_feature_selected_data.shape"
      ],
      "execution_count": 31,
      "outputs": [
        {
          "output_type": "execute_result",
          "data": {
            "text/plain": [
              "(677, 10)"
            ]
          },
          "metadata": {
            "tags": []
          },
          "execution_count": 31
        }
      ]
    },
    {
      "cell_type": "markdown",
      "metadata": {
        "id": "0puMXIwBeQjU",
        "colab_type": "text"
      },
      "source": [
        "Now Splitting the data to train and test set"
      ]
    },
    {
      "cell_type": "code",
      "metadata": {
        "id": "0s5dMTFSeQjW",
        "colab_type": "code",
        "colab": {
          "base_uri": "https://localhost:8080/",
          "height": 34
        },
        "outputId": "4fd1c824-629e-405c-b9a3-70917e431d24"
      },
      "source": [
        "x_train, x_test, y_train, y_test = train_test_split(x_data, y_data, test_size=0.2)\n",
        "print(x_train.shape, y_train.shape, x_test.shape, y_test.shape)"
      ],
      "execution_count": 32,
      "outputs": [
        {
          "output_type": "stream",
          "text": [
            "(541, 35) (541,) (136, 35) (136,)\n"
          ],
          "name": "stdout"
        }
      ]
    },
    {
      "cell_type": "code",
      "metadata": {
        "id": "CZZPXfdJeQja",
        "colab_type": "code",
        "colab": {
          "base_uri": "https://localhost:8080/",
          "height": 34
        },
        "outputId": "c4a6d3cd-fbff-4022-9d53-c9da624ea396"
      },
      "source": [
        "lin_reg_fs.fit(x_train, y_train)"
      ],
      "execution_count": 33,
      "outputs": [
        {
          "output_type": "execute_result",
          "data": {
            "text/plain": [
              "LinearRegression(copy_X=True, fit_intercept=True, n_jobs=None, normalize=False)"
            ]
          },
          "metadata": {
            "tags": []
          },
          "execution_count": 33
        }
      ]
    },
    {
      "cell_type": "code",
      "metadata": {
        "id": "3N2k_WhXeQjd",
        "colab_type": "code",
        "colab": {}
      },
      "source": [
        "y_predicted = lin_reg_fs.predict(x_test)"
      ],
      "execution_count": 0,
      "outputs": []
    },
    {
      "cell_type": "code",
      "metadata": {
        "id": "oK4MNxiLeQji",
        "colab_type": "code",
        "colab": {
          "base_uri": "https://localhost:8080/",
          "height": 51
        },
        "outputId": "a4364674-3845-483f-c84e-d63352ff8350"
      },
      "source": [
        "lin_rmse_fs = np.round(np.sqrt(mean_squared_error(y_test,y_predicted)), 5)\n",
        "print('Root Mean Square Error: {}'.format(lin_rmse_fs))\n",
        "\n",
        "lin_r2 = np.round(r2_score(y_test,y_predicted), 5)\n",
        "print('R2 Score : {}'.format(lin_r2))"
      ],
      "execution_count": 35,
      "outputs": [
        {
          "output_type": "stream",
          "text": [
            "Root Mean Square Error: 3.43213\n",
            "R2 Score : 0.16123\n"
          ],
          "name": "stdout"
        }
      ]
    },
    {
      "cell_type": "code",
      "metadata": {
        "id": "Ntz-ZpMUeQjl",
        "colab_type": "code",
        "colab": {
          "base_uri": "https://localhost:8080/",
          "height": 499
        },
        "outputId": "989f06e4-c861-4ff6-d300-84a4c890a2b8"
      },
      "source": [
        "rmse_x = rmse_x + ['Linear Regression After Feature Selection']\n",
        "rmse_y = rmse_y + [lin_rmse_fs]\n",
        "\n",
        "plot_RMSE(rmse_x, rmse_y, (18,8))"
      ],
      "execution_count": 36,
      "outputs": [
        {
          "output_type": "display_data",
          "data": {
            "image/png": "[encoded data removed]",
            "text/plain": [
              "<Figure size 1296x576 with 1 Axes>"
            ]
          },
          "metadata": {
            "tags": []
          }
        }
      ]
    },
    {
      "cell_type": "markdown",
      "metadata": {
        "id": "TYaLZjHaeQjv",
        "colab_type": "text"
      },
      "source": [
        "## Feature Selection Reduced the Mean Square Error thus with Feature Selection we got a better fit"
      ]
    },
    {
      "cell_type": "markdown",
      "metadata": {
        "id": "z-z9JYD1eQjx",
        "colab_type": "text"
      },
      "source": [
        "# Lets Analysis The response of Neural Netoworks in This Scenario"
      ]
    },
    {
      "cell_type": "markdown",
      "metadata": {
        "id": "hoGxAMKgf0HK",
        "colab_type": "text"
      },
      "source": [
        "Normalizing The Data"
      ]
    },
    {
      "cell_type": "code",
      "metadata": {
        "id": "K3hjuWQieQjz",
        "colab_type": "code",
        "colab": {}
      },
      "source": [
        "scaler = MinMaxScaler(feature_range=(0, 1))\n",
        "x_data_scaled = scaler.fit_transform(x_data)"
      ],
      "execution_count": 0,
      "outputs": []
    },
    {
      "cell_type": "code",
      "metadata": {
        "id": "SscLu4hlge_b",
        "colab_type": "code",
        "colab": {}
      },
      "source": [
        "x_data_scaled = pd.DataFrame(x_data_scaled, columns=x_data.columns)"
      ],
      "execution_count": 0,
      "outputs": []
    },
    {
      "cell_type": "code",
      "metadata": {
        "id": "81-G94zphSZK",
        "colab_type": "code",
        "colab": {
          "base_uri": "https://localhost:8080/",
          "height": 34
        },
        "outputId": "441a569b-924b-4f59-8745-470f57f21257"
      },
      "source": [
        "x_data_scaled.shape"
      ],
      "execution_count": 39,
      "outputs": [
        {
          "output_type": "execute_result",
          "data": {
            "text/plain": [
              "(677, 35)"
            ]
          },
          "metadata": {
            "tags": []
          },
          "execution_count": 39
        }
      ]
    },
    {
      "cell_type": "code",
      "metadata": {
        "id": "H84Ow8RqkZOc",
        "colab_type": "code",
        "colab": {}
      },
      "source": [
        "# y_data_scaled = df_scaled_data['precipm']\n",
        "# x_data_scaled = df_scaled_data.drop(['precipm'], axis=1)"
      ],
      "execution_count": 0,
      "outputs": []
    },
    {
      "cell_type": "code",
      "metadata": {
        "id": "Xi_oG86kjRxw",
        "colab_type": "code",
        "colab": {}
      },
      "source": [
        "x_train_scaled, x_test_scaled, y_train , y_test = train_test_split(x_data_scaled, y_data)"
      ],
      "execution_count": 0,
      "outputs": []
    },
    {
      "cell_type": "code",
      "metadata": {
        "id": "3vUR67IYh8b-",
        "colab_type": "code",
        "colab": {
          "base_uri": "https://localhost:8080/",
          "height": 476
        },
        "outputId": "01580cf2-2853-4025-dcb9-aa6dbc4b8855"
      },
      "source": [
        "model = Sequential()\n",
        "\n",
        "model.add(Dense(35, activation='relu', input_shape=x_train_scaled.iloc[0].shape))\n",
        "model.add(Dropout(0.3))\n",
        "model.add(Dense(100, activation='relu'))\n",
        "model.add(Dropout(0.2))\n",
        "model.add(Dense(200, activation='relu'))\n",
        "model.add(Dropout(0.2))\n",
        "model.add(Dense(100, activation='relu'))\n",
        "model.add(Dropout(0.2))\n",
        "model.add(Dense(50, activation='relu'))\n",
        "model.add(Dense(1))\n",
        "\n",
        "model.compile(loss='mean_squared_error', optimizer='adam')\n",
        "model.summary()"
      ],
      "execution_count": 49,
      "outputs": [
        {
          "output_type": "stream",
          "text": [
            "_________________________________________________________________\n",
            "Layer (type)                 Output Shape              Param #   \n",
            "=================================================================\n",
            "dense_7 (Dense)              (None, 35)                1260      \n",
            "_________________________________________________________________\n",
            "dropout_5 (Dropout)          (None, 35)                0         \n",
            "_________________________________________________________________\n",
            "dense_8 (Dense)              (None, 100)               3600      \n",
            "_________________________________________________________________\n",
            "dropout_6 (Dropout)          (None, 100)               0         \n",
            "_________________________________________________________________\n",
            "dense_9 (Dense)              (None, 200)               20200     \n",
            "_________________________________________________________________\n",
            "dropout_7 (Dropout)          (None, 200)               0         \n",
            "_________________________________________________________________\n",
            "dense_10 (Dense)             (None, 100)               20100     \n",
            "_________________________________________________________________\n",
            "dropout_8 (Dropout)          (None, 100)               0         \n",
            "_________________________________________________________________\n",
            "dense_11 (Dense)             (None, 50)                5050      \n",
            "_________________________________________________________________\n",
            "dense_12 (Dense)             (None, 1)                 51        \n",
            "=================================================================\n",
            "Total params: 50,261\n",
            "Trainable params: 50,261\n",
            "Non-trainable params: 0\n",
            "_________________________________________________________________\n"
          ],
          "name": "stdout"
        }
      ]
    },
    {
      "cell_type": "code",
      "metadata": {
        "id": "qp23tcLJiz1K",
        "colab_type": "code",
        "colab": {}
      },
      "source": [
        "history = model.fit(x_train_scaled, y_train, epochs=200, verbose=0)"
      ],
      "execution_count": 0,
      "outputs": []
    },
    {
      "cell_type": "code",
      "metadata": {
        "id": "_LatEZoujFil",
        "colab_type": "code",
        "colab": {}
      },
      "source": [
        "y_predicted_scaled = model.predict(x_test_scaled)"
      ],
      "execution_count": 0,
      "outputs": []
    },
    {
      "cell_type": "code",
      "metadata": {
        "id": "sdiLymlrlqsl",
        "colab_type": "code",
        "colab": {
          "base_uri": "https://localhost:8080/",
          "height": 34
        },
        "outputId": "17e8bd21-60c0-4088-9c62-07b2774de10a"
      },
      "source": [
        "nn_rmse = np.round(np.sqrt(mean_squared_error(y_test,y_predicted_scaled)), 5).tolist()\n",
        "print('Root Mean Square Error: {}'.format(nn_rmse))"
      ],
      "execution_count": 45,
      "outputs": [
        {
          "output_type": "stream",
          "text": [
            "Root Mean Square Error: 5.17238\n"
          ],
          "name": "stdout"
        }
      ]
    },
    {
      "cell_type": "code",
      "metadata": {
        "id": "wXVq5R4yl1a9",
        "colab_type": "code",
        "colab": {}
      },
      "source": [
        "rmse_x = rmse_x + ['Deep Neural Network']\n",
        "rmse_y = rmse_y + [nn_rmse]"
      ],
      "execution_count": 0,
      "outputs": []
    },
    {
      "cell_type": "code",
      "metadata": {
        "id": "AxxbY9_eAE56",
        "colab_type": "code",
        "colab": {
          "base_uri": "https://localhost:8080/",
          "height": 499
        },
        "outputId": "3b8e990b-2339-4f6e-b881-93d6ccdb38f6"
      },
      "source": [
        "plot_RMSE(rmse_x, rmse_y, (20,8))"
      ],
      "execution_count": 47,
      "outputs": [
        {
          "output_type": "display_data",
          "data": {
            "image/png": "[encoded data removed]",
            "text/plain": [
              "<Figure size 1440x576 with 1 Axes>"
            ]
          },
          "metadata": {
            "tags": []
          }
        }
      ]
    },
    {
      "cell_type": "code",
      "metadata": {
        "id": "wJCnMAmnCQhl",
        "colab_type": "code",
        "colab": {}
      },
      "source": [
        ""
      ],
      "execution_count": 0,
      "outputs": []
    }
  ]
}