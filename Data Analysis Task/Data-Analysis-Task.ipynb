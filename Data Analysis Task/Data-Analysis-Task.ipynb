{
 "cells": [
  {
   "cell_type": "markdown",
   "metadata": {},
   "source": [
    "# Problem :\n",
    "## Jaipur Rainfall Data\n",
    "#### The problem is that Jaipur is one of the regions in India that has very limited amount of rainfall throught the year, So we will try to implement data analysis to predict what amount of rainfall will be recieved"
   ]
  },
  {
   "cell_type": "code",
   "execution_count": 1,
   "metadata": {},
   "outputs": [],
   "source": [
    "import numpy as np\n",
    "import pandas as pd\n",
    "import matplotlib.pyplot as plt\n",
    "import seaborn as sns\n",
    "from scipy.stats import pearsonr\n",
    "from sklearn.metrics import accuracy_score\n",
    "from sklearn.metrics import mean_squared_error, r2_score\n",
    "from sklearn.model_selection import train_test_split\n",
    "from sklearn.feature_selection import RFE\n",
    "from sklearn.linear_model import LinearRegression\n",
    "from os.path import join"
   ]
  },
  {
   "cell_type": "code",
   "execution_count": 2,
   "metadata": {},
   "outputs": [],
   "source": [
    "# Location of Dataset\n",
    "dataset = 'DataSet-Jaipur'\n",
    "filename = 'JaipurRawData.csv'\n",
    "filename = join(dataset, filename)"
   ]
  },
  {
   "cell_type": "code",
   "execution_count": 3,
   "metadata": {},
   "outputs": [
    {
     "data": {
      "text/html": [
       "<div>\n",
       "<style scoped>\n",
       "    .dataframe tbody tr th:only-of-type {\n",
       "        vertical-align: middle;\n",
       "    }\n",
       "\n",
       "    .dataframe tbody tr th {\n",
       "        vertical-align: top;\n",
       "    }\n",
       "\n",
       "    .dataframe thead th {\n",
       "        text-align: right;\n",
       "    }\n",
       "</style>\n",
       "<table border=\"1\" class=\"dataframe\">\n",
       "  <thead>\n",
       "    <tr style=\"text-align: right;\">\n",
       "      <th></th>\n",
       "      <th>meantempm</th>\n",
       "      <th>meandewptm</th>\n",
       "      <th>meanpressurem</th>\n",
       "      <th>maxhumidity</th>\n",
       "      <th>minhumidity</th>\n",
       "      <th>maxtempm</th>\n",
       "      <th>mintempm</th>\n",
       "      <th>maxdewptm</th>\n",
       "      <th>mindewptm</th>\n",
       "      <th>maxpressurem</th>\n",
       "      <th>minpressurem</th>\n",
       "      <th>precipm</th>\n",
       "    </tr>\n",
       "    <tr>\n",
       "      <th>date</th>\n",
       "      <th></th>\n",
       "      <th></th>\n",
       "      <th></th>\n",
       "      <th></th>\n",
       "      <th></th>\n",
       "      <th></th>\n",
       "      <th></th>\n",
       "      <th></th>\n",
       "      <th></th>\n",
       "      <th></th>\n",
       "      <th></th>\n",
       "      <th></th>\n",
       "    </tr>\n",
       "  </thead>\n",
       "  <tbody>\n",
       "    <tr>\n",
       "      <th>2016-05-01</th>\n",
       "      <td>34</td>\n",
       "      <td>-1</td>\n",
       "      <td>1005.63</td>\n",
       "      <td>24</td>\n",
       "      <td>4</td>\n",
       "      <td>43</td>\n",
       "      <td>26</td>\n",
       "      <td>9</td>\n",
       "      <td>-10</td>\n",
       "      <td>1009</td>\n",
       "      <td>999</td>\n",
       "      <td>0.0</td>\n",
       "    </tr>\n",
       "    <tr>\n",
       "      <th>2016-05-02</th>\n",
       "      <td>36</td>\n",
       "      <td>4</td>\n",
       "      <td>1005.46</td>\n",
       "      <td>21</td>\n",
       "      <td>6</td>\n",
       "      <td>43</td>\n",
       "      <td>29</td>\n",
       "      <td>10</td>\n",
       "      <td>-2</td>\n",
       "      <td>1008</td>\n",
       "      <td>1001</td>\n",
       "      <td>0.0</td>\n",
       "    </tr>\n",
       "    <tr>\n",
       "      <th>2016-05-03</th>\n",
       "      <td>35</td>\n",
       "      <td>6</td>\n",
       "      <td>1006.00</td>\n",
       "      <td>27</td>\n",
       "      <td>5</td>\n",
       "      <td>41</td>\n",
       "      <td>29</td>\n",
       "      <td>12</td>\n",
       "      <td>-2</td>\n",
       "      <td>1009</td>\n",
       "      <td>1000</td>\n",
       "      <td>0.0</td>\n",
       "    </tr>\n",
       "    <tr>\n",
       "      <th>2016-05-04</th>\n",
       "      <td>34</td>\n",
       "      <td>7</td>\n",
       "      <td>1005.65</td>\n",
       "      <td>29</td>\n",
       "      <td>6</td>\n",
       "      <td>41</td>\n",
       "      <td>27</td>\n",
       "      <td>13</td>\n",
       "      <td>0</td>\n",
       "      <td>1008</td>\n",
       "      <td>1001</td>\n",
       "      <td>0.0</td>\n",
       "    </tr>\n",
       "    <tr>\n",
       "      <th>2016-05-05</th>\n",
       "      <td>31</td>\n",
       "      <td>11</td>\n",
       "      <td>1007.94</td>\n",
       "      <td>61</td>\n",
       "      <td>13</td>\n",
       "      <td>38</td>\n",
       "      <td>24</td>\n",
       "      <td>16</td>\n",
       "      <td>6</td>\n",
       "      <td>1011</td>\n",
       "      <td>1003</td>\n",
       "      <td>5.0</td>\n",
       "    </tr>\n",
       "  </tbody>\n",
       "</table>\n",
       "</div>"
      ],
      "text/plain": [
       "            meantempm  meandewptm  meanpressurem  maxhumidity  minhumidity  \\\n",
       "date                                                                         \n",
       "2016-05-01         34          -1        1005.63           24            4   \n",
       "2016-05-02         36           4        1005.46           21            6   \n",
       "2016-05-03         35           6        1006.00           27            5   \n",
       "2016-05-04         34           7        1005.65           29            6   \n",
       "2016-05-05         31          11        1007.94           61           13   \n",
       "\n",
       "            maxtempm  mintempm  maxdewptm  mindewptm  maxpressurem  \\\n",
       "date                                                                 \n",
       "2016-05-01        43        26          9        -10          1009   \n",
       "2016-05-02        43        29         10         -2          1008   \n",
       "2016-05-03        41        29         12         -2          1009   \n",
       "2016-05-04        41        27         13          0          1008   \n",
       "2016-05-05        38        24         16          6          1011   \n",
       "\n",
       "            minpressurem  precipm  \n",
       "date                               \n",
       "2016-05-01           999      0.0  \n",
       "2016-05-02          1001      0.0  \n",
       "2016-05-03          1000      0.0  \n",
       "2016-05-04          1001      0.0  \n",
       "2016-05-05          1003      5.0  "
      ]
     },
     "execution_count": 3,
     "metadata": {},
     "output_type": "execute_result"
    }
   ],
   "source": [
    "df = pd.read_csv(filename, index_col='date')\n",
    "df.head()"
   ]
  },
  {
   "cell_type": "code",
   "execution_count": 4,
   "metadata": {},
   "outputs": [
    {
     "name": "stdout",
     "output_type": "stream",
     "text": [
      "Shape of Dataset: (679, 12)\n",
      "Shape of Each Row: (12,)\n",
      "\n"
     ]
    }
   ],
   "source": [
    "print('Shape of Dataset: {}'.format(df.shape))\n",
    "print('Shape of Each Row: {}'.format(df.iloc[0].shape))\n",
    "print('')"
   ]
  },
  {
   "cell_type": "code",
   "execution_count": 5,
   "metadata": {},
   "outputs": [
    {
     "data": {
      "image/png": "[encoded data removed]",
      "text/plain": [
       "<Figure size 864x720 with 2 Axes>"
      ]
     },
     "metadata": {
      "needs_background": "light"
     },
     "output_type": "display_data"
    }
   ],
   "source": [
    "plt.figure(figsize=(12,10))\n",
    "cor = df.corr()\n",
    "sns.heatmap(cor, annot=True, cmap=plt.cm.Reds)\n",
    "plt.show()"
   ]
  },
  {
   "cell_type": "markdown",
   "metadata": {},
   "source": [
    "##### Pad Historic data for past 2 days with each row"
   ]
  },
  {
   "cell_type": "code",
   "execution_count": 6,
   "metadata": {},
   "outputs": [],
   "source": [
    "def pad_nth_day_feature(df, feature, N):\n",
    "    rows = df.shape[0]\n",
    "    nth_prior_meassurements = [None]*N + [df[feature][i-N] for i in range(N, rows)]\n",
    "    col_name = \"{}_{}\".format(feature, N)\n",
    "    df[col_name] = nth_prior_meassurements"
   ]
  },
  {
   "cell_type": "code",
   "execution_count": 7,
   "metadata": {},
   "outputs": [
    {
     "data": {
      "text/plain": [
       "Index(['meantempm', 'meandewptm', 'meanpressurem', 'maxhumidity',\n",
       "       'minhumidity', 'maxtempm', 'mintempm', 'maxdewptm', 'mindewptm',\n",
       "       'maxpressurem', 'minpressurem', 'precipm'],\n",
       "      dtype='object')"
      ]
     },
     "execution_count": 7,
     "metadata": {},
     "output_type": "execute_result"
    }
   ],
   "source": [
    "df.columns"
   ]
  },
  {
   "cell_type": "code",
   "execution_count": 8,
   "metadata": {},
   "outputs": [],
   "source": [
    "for column in df.columns:\n",
    "#     if column != 'precipm':\n",
    "    for n in range(1, 3):\n",
    "        pad_nth_day_feature(df, column, n)"
   ]
  },
  {
   "cell_type": "code",
   "execution_count": 9,
   "metadata": {},
   "outputs": [
    {
     "data": {
      "text/html": [
       "<div>\n",
       "<style scoped>\n",
       "    .dataframe tbody tr th:only-of-type {\n",
       "        vertical-align: middle;\n",
       "    }\n",
       "\n",
       "    .dataframe tbody tr th {\n",
       "        vertical-align: top;\n",
       "    }\n",
       "\n",
       "    .dataframe thead th {\n",
       "        text-align: right;\n",
       "    }\n",
       "</style>\n",
       "<table border=\"1\" class=\"dataframe\">\n",
       "  <thead>\n",
       "    <tr style=\"text-align: right;\">\n",
       "      <th></th>\n",
       "      <th>meantempm</th>\n",
       "      <th>meandewptm</th>\n",
       "      <th>meanpressurem</th>\n",
       "      <th>maxhumidity</th>\n",
       "      <th>minhumidity</th>\n",
       "      <th>maxtempm</th>\n",
       "      <th>mintempm</th>\n",
       "      <th>maxdewptm</th>\n",
       "      <th>mindewptm</th>\n",
       "      <th>maxpressurem</th>\n",
       "      <th>...</th>\n",
       "      <th>maxdewptm_1</th>\n",
       "      <th>maxdewptm_2</th>\n",
       "      <th>mindewptm_1</th>\n",
       "      <th>mindewptm_2</th>\n",
       "      <th>maxpressurem_1</th>\n",
       "      <th>maxpressurem_2</th>\n",
       "      <th>minpressurem_1</th>\n",
       "      <th>minpressurem_2</th>\n",
       "      <th>precipm_1</th>\n",
       "      <th>precipm_2</th>\n",
       "    </tr>\n",
       "    <tr>\n",
       "      <th>date</th>\n",
       "      <th></th>\n",
       "      <th></th>\n",
       "      <th></th>\n",
       "      <th></th>\n",
       "      <th></th>\n",
       "      <th></th>\n",
       "      <th></th>\n",
       "      <th></th>\n",
       "      <th></th>\n",
       "      <th></th>\n",
       "      <th></th>\n",
       "      <th></th>\n",
       "      <th></th>\n",
       "      <th></th>\n",
       "      <th></th>\n",
       "      <th></th>\n",
       "      <th></th>\n",
       "      <th></th>\n",
       "      <th></th>\n",
       "      <th></th>\n",
       "      <th></th>\n",
       "    </tr>\n",
       "  </thead>\n",
       "  <tbody>\n",
       "    <tr>\n",
       "      <th>2016-05-01</th>\n",
       "      <td>34</td>\n",
       "      <td>-1</td>\n",
       "      <td>1005.63</td>\n",
       "      <td>24</td>\n",
       "      <td>4</td>\n",
       "      <td>43</td>\n",
       "      <td>26</td>\n",
       "      <td>9</td>\n",
       "      <td>-10</td>\n",
       "      <td>1009</td>\n",
       "      <td>...</td>\n",
       "      <td>NaN</td>\n",
       "      <td>NaN</td>\n",
       "      <td>NaN</td>\n",
       "      <td>NaN</td>\n",
       "      <td>NaN</td>\n",
       "      <td>NaN</td>\n",
       "      <td>NaN</td>\n",
       "      <td>NaN</td>\n",
       "      <td>NaN</td>\n",
       "      <td>NaN</td>\n",
       "    </tr>\n",
       "    <tr>\n",
       "      <th>2016-05-02</th>\n",
       "      <td>36</td>\n",
       "      <td>4</td>\n",
       "      <td>1005.46</td>\n",
       "      <td>21</td>\n",
       "      <td>6</td>\n",
       "      <td>43</td>\n",
       "      <td>29</td>\n",
       "      <td>10</td>\n",
       "      <td>-2</td>\n",
       "      <td>1008</td>\n",
       "      <td>...</td>\n",
       "      <td>9.0</td>\n",
       "      <td>NaN</td>\n",
       "      <td>-10.0</td>\n",
       "      <td>NaN</td>\n",
       "      <td>1009.0</td>\n",
       "      <td>NaN</td>\n",
       "      <td>999.0</td>\n",
       "      <td>NaN</td>\n",
       "      <td>0.0</td>\n",
       "      <td>NaN</td>\n",
       "    </tr>\n",
       "    <tr>\n",
       "      <th>2016-05-03</th>\n",
       "      <td>35</td>\n",
       "      <td>6</td>\n",
       "      <td>1006.00</td>\n",
       "      <td>27</td>\n",
       "      <td>5</td>\n",
       "      <td>41</td>\n",
       "      <td>29</td>\n",
       "      <td>12</td>\n",
       "      <td>-2</td>\n",
       "      <td>1009</td>\n",
       "      <td>...</td>\n",
       "      <td>10.0</td>\n",
       "      <td>9.0</td>\n",
       "      <td>-2.0</td>\n",
       "      <td>-10.0</td>\n",
       "      <td>1008.0</td>\n",
       "      <td>1009.0</td>\n",
       "      <td>1001.0</td>\n",
       "      <td>999.0</td>\n",
       "      <td>0.0</td>\n",
       "      <td>0.0</td>\n",
       "    </tr>\n",
       "    <tr>\n",
       "      <th>2016-05-04</th>\n",
       "      <td>34</td>\n",
       "      <td>7</td>\n",
       "      <td>1005.65</td>\n",
       "      <td>29</td>\n",
       "      <td>6</td>\n",
       "      <td>41</td>\n",
       "      <td>27</td>\n",
       "      <td>13</td>\n",
       "      <td>0</td>\n",
       "      <td>1008</td>\n",
       "      <td>...</td>\n",
       "      <td>12.0</td>\n",
       "      <td>10.0</td>\n",
       "      <td>-2.0</td>\n",
       "      <td>-2.0</td>\n",
       "      <td>1009.0</td>\n",
       "      <td>1008.0</td>\n",
       "      <td>1000.0</td>\n",
       "      <td>1001.0</td>\n",
       "      <td>0.0</td>\n",
       "      <td>0.0</td>\n",
       "    </tr>\n",
       "    <tr>\n",
       "      <th>2016-05-05</th>\n",
       "      <td>31</td>\n",
       "      <td>11</td>\n",
       "      <td>1007.94</td>\n",
       "      <td>61</td>\n",
       "      <td>13</td>\n",
       "      <td>38</td>\n",
       "      <td>24</td>\n",
       "      <td>16</td>\n",
       "      <td>6</td>\n",
       "      <td>1011</td>\n",
       "      <td>...</td>\n",
       "      <td>13.0</td>\n",
       "      <td>12.0</td>\n",
       "      <td>0.0</td>\n",
       "      <td>-2.0</td>\n",
       "      <td>1008.0</td>\n",
       "      <td>1009.0</td>\n",
       "      <td>1001.0</td>\n",
       "      <td>1000.0</td>\n",
       "      <td>0.0</td>\n",
       "      <td>0.0</td>\n",
       "    </tr>\n",
       "  </tbody>\n",
       "</table>\n",
       "<p>5 rows × 36 columns</p>\n",
       "</div>"
      ],
      "text/plain": [
       "            meantempm  meandewptm  meanpressurem  maxhumidity  minhumidity  \\\n",
       "date                                                                         \n",
       "2016-05-01         34          -1        1005.63           24            4   \n",
       "2016-05-02         36           4        1005.46           21            6   \n",
       "2016-05-03         35           6        1006.00           27            5   \n",
       "2016-05-04         34           7        1005.65           29            6   \n",
       "2016-05-05         31          11        1007.94           61           13   \n",
       "\n",
       "            maxtempm  mintempm  maxdewptm  mindewptm  maxpressurem  ...  \\\n",
       "date                                                                ...   \n",
       "2016-05-01        43        26          9        -10          1009  ...   \n",
       "2016-05-02        43        29         10         -2          1008  ...   \n",
       "2016-05-03        41        29         12         -2          1009  ...   \n",
       "2016-05-04        41        27         13          0          1008  ...   \n",
       "2016-05-05        38        24         16          6          1011  ...   \n",
       "\n",
       "            maxdewptm_1  maxdewptm_2  mindewptm_1  mindewptm_2  \\\n",
       "date                                                             \n",
       "2016-05-01          NaN          NaN          NaN          NaN   \n",
       "2016-05-02          9.0          NaN        -10.0          NaN   \n",
       "2016-05-03         10.0          9.0         -2.0        -10.0   \n",
       "2016-05-04         12.0         10.0         -2.0         -2.0   \n",
       "2016-05-05         13.0         12.0          0.0         -2.0   \n",
       "\n",
       "            maxpressurem_1  maxpressurem_2  minpressurem_1  minpressurem_2  \\\n",
       "date                                                                         \n",
       "2016-05-01             NaN             NaN             NaN             NaN   \n",
       "2016-05-02          1009.0             NaN           999.0             NaN   \n",
       "2016-05-03          1008.0          1009.0          1001.0           999.0   \n",
       "2016-05-04          1009.0          1008.0          1000.0          1001.0   \n",
       "2016-05-05          1008.0          1009.0          1001.0          1000.0   \n",
       "\n",
       "            precipm_1  precipm_2  \n",
       "date                              \n",
       "2016-05-01        NaN        NaN  \n",
       "2016-05-02        0.0        NaN  \n",
       "2016-05-03        0.0        0.0  \n",
       "2016-05-04        0.0        0.0  \n",
       "2016-05-05        0.0        0.0  \n",
       "\n",
       "[5 rows x 36 columns]"
      ]
     },
     "execution_count": 9,
     "metadata": {},
     "output_type": "execute_result"
    }
   ],
   "source": [
    "df.head()"
   ]
  },
  {
   "cell_type": "code",
   "execution_count": 10,
   "metadata": {},
   "outputs": [
    {
     "name": "stdout",
     "output_type": "stream",
     "text": [
      "Shape of Dataset: (679, 36)\n",
      "Shape of Each Row: (36,)\n"
     ]
    }
   ],
   "source": [
    "# Changes in Shape\n",
    "print('Shape of Dataset: {}'.format(df.shape))\n",
    "print('Shape of Each Row: {}'.format(df.iloc[0].shape))"
   ]
  },
  {
   "cell_type": "code",
   "execution_count": 11,
   "metadata": {},
   "outputs": [
    {
     "name": "stdout",
     "output_type": "stream",
     "text": [
      "<class 'pandas.core.frame.DataFrame'>\n",
      "Index: 679 entries, 2016-05-01 to 2018-03-11\n",
      "Data columns (total 36 columns):\n",
      "meantempm          679 non-null int64\n",
      "meandewptm         679 non-null int64\n",
      "meanpressurem      679 non-null float64\n",
      "maxhumidity        679 non-null int64\n",
      "minhumidity        679 non-null int64\n",
      "maxtempm           679 non-null int64\n",
      "mintempm           679 non-null int64\n",
      "maxdewptm          679 non-null int64\n",
      "mindewptm          679 non-null int64\n",
      "maxpressurem       679 non-null int64\n",
      "minpressurem       679 non-null int64\n",
      "precipm            679 non-null float64\n",
      "meantempm_1        678 non-null float64\n",
      "meantempm_2        677 non-null float64\n",
      "meandewptm_1       678 non-null float64\n",
      "meandewptm_2       677 non-null float64\n",
      "meanpressurem_1    678 non-null float64\n",
      "meanpressurem_2    677 non-null float64\n",
      "maxhumidity_1      678 non-null float64\n",
      "maxhumidity_2      677 non-null float64\n",
      "minhumidity_1      678 non-null float64\n",
      "minhumidity_2      677 non-null float64\n",
      "maxtempm_1         678 non-null float64\n",
      "maxtempm_2         677 non-null float64\n",
      "mintempm_1         678 non-null float64\n",
      "mintempm_2         677 non-null float64\n",
      "maxdewptm_1        678 non-null float64\n",
      "maxdewptm_2        677 non-null float64\n",
      "mindewptm_1        678 non-null float64\n",
      "mindewptm_2        677 non-null float64\n",
      "maxpressurem_1     678 non-null float64\n",
      "maxpressurem_2     677 non-null float64\n",
      "minpressurem_1     678 non-null float64\n",
      "minpressurem_2     677 non-null float64\n",
      "precipm_1          678 non-null float64\n",
      "precipm_2          677 non-null float64\n",
      "dtypes: float64(26), int64(10)\n",
      "memory usage: 216.3+ KB\n"
     ]
    }
   ],
   "source": [
    "df.info()"
   ]
  },
  {
   "cell_type": "markdown",
   "metadata": {},
   "source": [
    "##### Doing Some Data Cleaning Operations"
   ]
  },
  {
   "cell_type": "code",
   "execution_count": 12,
   "metadata": {},
   "outputs": [],
   "source": [
    "# Check if there is only one value in the column remove that feature\n",
    "def check_uniqueness(dataframe):\n",
    "    for column in dataframe.columns:\n",
    "        if len(pd.Series.unique(dataframe[column])) == 1:\n",
    "            dataframe.drop(column, inplace=True, axis=1)\n",
    "\n",
    "            \n",
    "    return dataframe\n",
    "\n",
    "df = check_uniqueness(df)"
   ]
  },
  {
   "cell_type": "code",
   "execution_count": 13,
   "metadata": {},
   "outputs": [],
   "source": [
    "# Drop Na Columns\n",
    "df.dropna(inplace=True)"
   ]
  },
  {
   "cell_type": "code",
   "execution_count": 14,
   "metadata": {},
   "outputs": [
    {
     "data": {
      "text/html": [
       "<div>\n",
       "<style scoped>\n",
       "    .dataframe tbody tr th:only-of-type {\n",
       "        vertical-align: middle;\n",
       "    }\n",
       "\n",
       "    .dataframe tbody tr th {\n",
       "        vertical-align: top;\n",
       "    }\n",
       "\n",
       "    .dataframe thead th {\n",
       "        text-align: right;\n",
       "    }\n",
       "</style>\n",
       "<table border=\"1\" class=\"dataframe\">\n",
       "  <thead>\n",
       "    <tr style=\"text-align: right;\">\n",
       "      <th></th>\n",
       "      <th>count</th>\n",
       "      <th>mean</th>\n",
       "      <th>std</th>\n",
       "      <th>min</th>\n",
       "      <th>25%</th>\n",
       "      <th>50%</th>\n",
       "      <th>75%</th>\n",
       "      <th>max</th>\n",
       "    </tr>\n",
       "  </thead>\n",
       "  <tbody>\n",
       "    <tr>\n",
       "      <th>meantempm</th>\n",
       "      <td>677.0</td>\n",
       "      <td>26.066470</td>\n",
       "      <td>6.213891</td>\n",
       "      <td>10.00</td>\n",
       "      <td>20.0</td>\n",
       "      <td>28.00</td>\n",
       "      <td>30.00</td>\n",
       "      <td>38.00</td>\n",
       "    </tr>\n",
       "    <tr>\n",
       "      <th>meandewptm</th>\n",
       "      <td>677.0</td>\n",
       "      <td>11.982275</td>\n",
       "      <td>8.731514</td>\n",
       "      <td>-10.00</td>\n",
       "      <td>5.0</td>\n",
       "      <td>10.00</td>\n",
       "      <td>21.00</td>\n",
       "      <td>26.00</td>\n",
       "    </tr>\n",
       "    <tr>\n",
       "      <th>meanpressurem</th>\n",
       "      <td>677.0</td>\n",
       "      <td>1009.505081</td>\n",
       "      <td>6.478314</td>\n",
       "      <td>997.63</td>\n",
       "      <td>1003.7</td>\n",
       "      <td>1008.85</td>\n",
       "      <td>1015.52</td>\n",
       "      <td>1023.43</td>\n",
       "    </tr>\n",
       "    <tr>\n",
       "      <th>maxhumidity</th>\n",
       "      <td>677.0</td>\n",
       "      <td>67.397341</td>\n",
       "      <td>22.057420</td>\n",
       "      <td>15.00</td>\n",
       "      <td>50.0</td>\n",
       "      <td>66.00</td>\n",
       "      <td>88.00</td>\n",
       "      <td>100.00</td>\n",
       "    </tr>\n",
       "    <tr>\n",
       "      <th>minhumidity</th>\n",
       "      <td>677.0</td>\n",
       "      <td>22.794682</td>\n",
       "      <td>19.367531</td>\n",
       "      <td>4.00</td>\n",
       "      <td>9.0</td>\n",
       "      <td>15.00</td>\n",
       "      <td>33.00</td>\n",
       "      <td>89.00</td>\n",
       "    </tr>\n",
       "    <tr>\n",
       "      <th>maxtempm</th>\n",
       "      <td>677.0</td>\n",
       "      <td>32.536189</td>\n",
       "      <td>5.992397</td>\n",
       "      <td>18.00</td>\n",
       "      <td>28.0</td>\n",
       "      <td>33.00</td>\n",
       "      <td>37.00</td>\n",
       "      <td>46.00</td>\n",
       "    </tr>\n",
       "    <tr>\n",
       "      <th>mintempm</th>\n",
       "      <td>677.0</td>\n",
       "      <td>19.644018</td>\n",
       "      <td>6.830276</td>\n",
       "      <td>3.00</td>\n",
       "      <td>13.0</td>\n",
       "      <td>22.00</td>\n",
       "      <td>25.00</td>\n",
       "      <td>32.00</td>\n",
       "    </tr>\n",
       "    <tr>\n",
       "      <th>maxdewptm</th>\n",
       "      <td>677.0</td>\n",
       "      <td>16.166913</td>\n",
       "      <td>7.237327</td>\n",
       "      <td>0.00</td>\n",
       "      <td>10.0</td>\n",
       "      <td>15.00</td>\n",
       "      <td>23.00</td>\n",
       "      <td>29.00</td>\n",
       "    </tr>\n",
       "    <tr>\n",
       "      <th>mindewptm</th>\n",
       "      <td>677.0</td>\n",
       "      <td>7.478582</td>\n",
       "      <td>11.686926</td>\n",
       "      <td>-94.00</td>\n",
       "      <td>0.0</td>\n",
       "      <td>6.00</td>\n",
       "      <td>18.00</td>\n",
       "      <td>25.00</td>\n",
       "    </tr>\n",
       "    <tr>\n",
       "      <th>maxpressurem</th>\n",
       "      <td>677.0</td>\n",
       "      <td>1012.251108</td>\n",
       "      <td>6.527288</td>\n",
       "      <td>999.00</td>\n",
       "      <td>1006.0</td>\n",
       "      <td>1012.00</td>\n",
       "      <td>1018.00</td>\n",
       "      <td>1026.00</td>\n",
       "    </tr>\n",
       "    <tr>\n",
       "      <th>minpressurem</th>\n",
       "      <td>677.0</td>\n",
       "      <td>1005.283604</td>\n",
       "      <td>7.128942</td>\n",
       "      <td>992.00</td>\n",
       "      <td>999.0</td>\n",
       "      <td>1004.00</td>\n",
       "      <td>1012.00</td>\n",
       "      <td>1020.00</td>\n",
       "    </tr>\n",
       "    <tr>\n",
       "      <th>precipm</th>\n",
       "      <td>677.0</td>\n",
       "      <td>1.248744</td>\n",
       "      <td>5.431849</td>\n",
       "      <td>0.00</td>\n",
       "      <td>0.0</td>\n",
       "      <td>0.00</td>\n",
       "      <td>0.00</td>\n",
       "      <td>57.00</td>\n",
       "    </tr>\n",
       "    <tr>\n",
       "      <th>meantempm_1</th>\n",
       "      <td>677.0</td>\n",
       "      <td>26.081241</td>\n",
       "      <td>6.225607</td>\n",
       "      <td>10.00</td>\n",
       "      <td>20.0</td>\n",
       "      <td>28.00</td>\n",
       "      <td>30.00</td>\n",
       "      <td>38.00</td>\n",
       "    </tr>\n",
       "    <tr>\n",
       "      <th>meantempm_2</th>\n",
       "      <td>677.0</td>\n",
       "      <td>26.093058</td>\n",
       "      <td>6.233041</td>\n",
       "      <td>10.00</td>\n",
       "      <td>20.0</td>\n",
       "      <td>28.00</td>\n",
       "      <td>30.00</td>\n",
       "      <td>38.00</td>\n",
       "    </tr>\n",
       "    <tr>\n",
       "      <th>meandewptm_1</th>\n",
       "      <td>677.0</td>\n",
       "      <td>11.983752</td>\n",
       "      <td>8.730076</td>\n",
       "      <td>-10.00</td>\n",
       "      <td>5.0</td>\n",
       "      <td>10.00</td>\n",
       "      <td>21.00</td>\n",
       "      <td>26.00</td>\n",
       "    </tr>\n",
       "    <tr>\n",
       "      <th>meandewptm_2</th>\n",
       "      <td>677.0</td>\n",
       "      <td>11.976366</td>\n",
       "      <td>8.738951</td>\n",
       "      <td>-10.00</td>\n",
       "      <td>5.0</td>\n",
       "      <td>10.00</td>\n",
       "      <td>21.00</td>\n",
       "      <td>26.00</td>\n",
       "    </tr>\n",
       "    <tr>\n",
       "      <th>meanpressurem_1</th>\n",
       "      <td>677.0</td>\n",
       "      <td>1009.493944</td>\n",
       "      <td>6.478778</td>\n",
       "      <td>997.63</td>\n",
       "      <td>1003.7</td>\n",
       "      <td>1008.81</td>\n",
       "      <td>1015.52</td>\n",
       "      <td>1023.43</td>\n",
       "    </tr>\n",
       "    <tr>\n",
       "      <th>meanpressurem_2</th>\n",
       "      <td>677.0</td>\n",
       "      <td>1009.481935</td>\n",
       "      <td>6.478393</td>\n",
       "      <td>997.63</td>\n",
       "      <td>1003.7</td>\n",
       "      <td>1008.78</td>\n",
       "      <td>1015.52</td>\n",
       "      <td>1023.43</td>\n",
       "    </tr>\n",
       "    <tr>\n",
       "      <th>maxhumidity_1</th>\n",
       "      <td>677.0</td>\n",
       "      <td>67.360414</td>\n",
       "      <td>22.114149</td>\n",
       "      <td>15.00</td>\n",
       "      <td>50.0</td>\n",
       "      <td>66.00</td>\n",
       "      <td>88.00</td>\n",
       "      <td>100.00</td>\n",
       "    </tr>\n",
       "    <tr>\n",
       "      <th>maxhumidity_2</th>\n",
       "      <td>677.0</td>\n",
       "      <td>67.339734</td>\n",
       "      <td>22.148165</td>\n",
       "      <td>15.00</td>\n",
       "      <td>50.0</td>\n",
       "      <td>66.00</td>\n",
       "      <td>88.00</td>\n",
       "      <td>100.00</td>\n",
       "    </tr>\n",
       "    <tr>\n",
       "      <th>minhumidity_1</th>\n",
       "      <td>677.0</td>\n",
       "      <td>22.794682</td>\n",
       "      <td>19.367531</td>\n",
       "      <td>4.00</td>\n",
       "      <td>9.0</td>\n",
       "      <td>15.00</td>\n",
       "      <td>33.00</td>\n",
       "      <td>89.00</td>\n",
       "    </tr>\n",
       "    <tr>\n",
       "      <th>minhumidity_2</th>\n",
       "      <td>677.0</td>\n",
       "      <td>22.791728</td>\n",
       "      <td>19.370249</td>\n",
       "      <td>4.00</td>\n",
       "      <td>9.0</td>\n",
       "      <td>15.00</td>\n",
       "      <td>33.00</td>\n",
       "      <td>89.00</td>\n",
       "    </tr>\n",
       "    <tr>\n",
       "      <th>maxtempm_1</th>\n",
       "      <td>677.0</td>\n",
       "      <td>32.549483</td>\n",
       "      <td>6.005618</td>\n",
       "      <td>18.00</td>\n",
       "      <td>28.0</td>\n",
       "      <td>33.00</td>\n",
       "      <td>37.00</td>\n",
       "      <td>46.00</td>\n",
       "    </tr>\n",
       "    <tr>\n",
       "      <th>maxtempm_2</th>\n",
       "      <td>677.0</td>\n",
       "      <td>32.562777</td>\n",
       "      <td>6.018780</td>\n",
       "      <td>18.00</td>\n",
       "      <td>28.0</td>\n",
       "      <td>33.00</td>\n",
       "      <td>37.00</td>\n",
       "      <td>46.00</td>\n",
       "    </tr>\n",
       "    <tr>\n",
       "      <th>mintempm_1</th>\n",
       "      <td>677.0</td>\n",
       "      <td>19.660266</td>\n",
       "      <td>6.839437</td>\n",
       "      <td>3.00</td>\n",
       "      <td>13.0</td>\n",
       "      <td>22.00</td>\n",
       "      <td>25.00</td>\n",
       "      <td>32.00</td>\n",
       "    </tr>\n",
       "    <tr>\n",
       "      <th>mintempm_2</th>\n",
       "      <td>677.0</td>\n",
       "      <td>19.670606</td>\n",
       "      <td>6.843727</td>\n",
       "      <td>3.00</td>\n",
       "      <td>13.0</td>\n",
       "      <td>22.00</td>\n",
       "      <td>25.00</td>\n",
       "      <td>32.00</td>\n",
       "    </tr>\n",
       "    <tr>\n",
       "      <th>maxdewptm_1</th>\n",
       "      <td>677.0</td>\n",
       "      <td>16.166913</td>\n",
       "      <td>7.237327</td>\n",
       "      <td>0.00</td>\n",
       "      <td>10.0</td>\n",
       "      <td>15.00</td>\n",
       "      <td>23.00</td>\n",
       "      <td>29.00</td>\n",
       "    </tr>\n",
       "    <tr>\n",
       "      <th>maxdewptm_2</th>\n",
       "      <td>677.0</td>\n",
       "      <td>16.168390</td>\n",
       "      <td>7.235760</td>\n",
       "      <td>0.00</td>\n",
       "      <td>10.0</td>\n",
       "      <td>15.00</td>\n",
       "      <td>23.00</td>\n",
       "      <td>29.00</td>\n",
       "    </tr>\n",
       "    <tr>\n",
       "      <th>mindewptm_1</th>\n",
       "      <td>677.0</td>\n",
       "      <td>7.480059</td>\n",
       "      <td>11.685662</td>\n",
       "      <td>-94.00</td>\n",
       "      <td>0.0</td>\n",
       "      <td>6.00</td>\n",
       "      <td>18.00</td>\n",
       "      <td>25.00</td>\n",
       "    </tr>\n",
       "    <tr>\n",
       "      <th>mindewptm_2</th>\n",
       "      <td>677.0</td>\n",
       "      <td>7.465288</td>\n",
       "      <td>11.701441</td>\n",
       "      <td>-94.00</td>\n",
       "      <td>0.0</td>\n",
       "      <td>6.00</td>\n",
       "      <td>18.00</td>\n",
       "      <td>25.00</td>\n",
       "    </tr>\n",
       "    <tr>\n",
       "      <th>maxpressurem_1</th>\n",
       "      <td>677.0</td>\n",
       "      <td>1012.239291</td>\n",
       "      <td>6.527733</td>\n",
       "      <td>999.00</td>\n",
       "      <td>1006.0</td>\n",
       "      <td>1012.00</td>\n",
       "      <td>1018.00</td>\n",
       "      <td>1026.00</td>\n",
       "    </tr>\n",
       "    <tr>\n",
       "      <th>maxpressurem_2</th>\n",
       "      <td>677.0</td>\n",
       "      <td>1012.227474</td>\n",
       "      <td>6.526343</td>\n",
       "      <td>999.00</td>\n",
       "      <td>1006.0</td>\n",
       "      <td>1012.00</td>\n",
       "      <td>1018.00</td>\n",
       "      <td>1026.00</td>\n",
       "    </tr>\n",
       "    <tr>\n",
       "      <th>minpressurem_1</th>\n",
       "      <td>677.0</td>\n",
       "      <td>1005.271787</td>\n",
       "      <td>7.129403</td>\n",
       "      <td>992.00</td>\n",
       "      <td>999.0</td>\n",
       "      <td>1004.00</td>\n",
       "      <td>1012.00</td>\n",
       "      <td>1020.00</td>\n",
       "    </tr>\n",
       "    <tr>\n",
       "      <th>minpressurem_2</th>\n",
       "      <td>677.0</td>\n",
       "      <td>1005.257016</td>\n",
       "      <td>7.132026</td>\n",
       "      <td>992.00</td>\n",
       "      <td>999.0</td>\n",
       "      <td>1004.00</td>\n",
       "      <td>1012.00</td>\n",
       "      <td>1020.00</td>\n",
       "    </tr>\n",
       "    <tr>\n",
       "      <th>precipm_1</th>\n",
       "      <td>677.0</td>\n",
       "      <td>1.248744</td>\n",
       "      <td>5.431849</td>\n",
       "      <td>0.00</td>\n",
       "      <td>0.0</td>\n",
       "      <td>0.00</td>\n",
       "      <td>0.00</td>\n",
       "      <td>57.00</td>\n",
       "    </tr>\n",
       "    <tr>\n",
       "      <th>precipm_2</th>\n",
       "      <td>677.0</td>\n",
       "      <td>1.248744</td>\n",
       "      <td>5.431849</td>\n",
       "      <td>0.00</td>\n",
       "      <td>0.0</td>\n",
       "      <td>0.00</td>\n",
       "      <td>0.00</td>\n",
       "      <td>57.00</td>\n",
       "    </tr>\n",
       "  </tbody>\n",
       "</table>\n",
       "</div>"
      ],
      "text/plain": [
       "                 count         mean        std     min     25%      50%  \\\n",
       "meantempm        677.0    26.066470   6.213891   10.00    20.0    28.00   \n",
       "meandewptm       677.0    11.982275   8.731514  -10.00     5.0    10.00   \n",
       "meanpressurem    677.0  1009.505081   6.478314  997.63  1003.7  1008.85   \n",
       "maxhumidity      677.0    67.397341  22.057420   15.00    50.0    66.00   \n",
       "minhumidity      677.0    22.794682  19.367531    4.00     9.0    15.00   \n",
       "maxtempm         677.0    32.536189   5.992397   18.00    28.0    33.00   \n",
       "mintempm         677.0    19.644018   6.830276    3.00    13.0    22.00   \n",
       "maxdewptm        677.0    16.166913   7.237327    0.00    10.0    15.00   \n",
       "mindewptm        677.0     7.478582  11.686926  -94.00     0.0     6.00   \n",
       "maxpressurem     677.0  1012.251108   6.527288  999.00  1006.0  1012.00   \n",
       "minpressurem     677.0  1005.283604   7.128942  992.00   999.0  1004.00   \n",
       "precipm          677.0     1.248744   5.431849    0.00     0.0     0.00   \n",
       "meantempm_1      677.0    26.081241   6.225607   10.00    20.0    28.00   \n",
       "meantempm_2      677.0    26.093058   6.233041   10.00    20.0    28.00   \n",
       "meandewptm_1     677.0    11.983752   8.730076  -10.00     5.0    10.00   \n",
       "meandewptm_2     677.0    11.976366   8.738951  -10.00     5.0    10.00   \n",
       "meanpressurem_1  677.0  1009.493944   6.478778  997.63  1003.7  1008.81   \n",
       "meanpressurem_2  677.0  1009.481935   6.478393  997.63  1003.7  1008.78   \n",
       "maxhumidity_1    677.0    67.360414  22.114149   15.00    50.0    66.00   \n",
       "maxhumidity_2    677.0    67.339734  22.148165   15.00    50.0    66.00   \n",
       "minhumidity_1    677.0    22.794682  19.367531    4.00     9.0    15.00   \n",
       "minhumidity_2    677.0    22.791728  19.370249    4.00     9.0    15.00   \n",
       "maxtempm_1       677.0    32.549483   6.005618   18.00    28.0    33.00   \n",
       "maxtempm_2       677.0    32.562777   6.018780   18.00    28.0    33.00   \n",
       "mintempm_1       677.0    19.660266   6.839437    3.00    13.0    22.00   \n",
       "mintempm_2       677.0    19.670606   6.843727    3.00    13.0    22.00   \n",
       "maxdewptm_1      677.0    16.166913   7.237327    0.00    10.0    15.00   \n",
       "maxdewptm_2      677.0    16.168390   7.235760    0.00    10.0    15.00   \n",
       "mindewptm_1      677.0     7.480059  11.685662  -94.00     0.0     6.00   \n",
       "mindewptm_2      677.0     7.465288  11.701441  -94.00     0.0     6.00   \n",
       "maxpressurem_1   677.0  1012.239291   6.527733  999.00  1006.0  1012.00   \n",
       "maxpressurem_2   677.0  1012.227474   6.526343  999.00  1006.0  1012.00   \n",
       "minpressurem_1   677.0  1005.271787   7.129403  992.00   999.0  1004.00   \n",
       "minpressurem_2   677.0  1005.257016   7.132026  992.00   999.0  1004.00   \n",
       "precipm_1        677.0     1.248744   5.431849    0.00     0.0     0.00   \n",
       "precipm_2        677.0     1.248744   5.431849    0.00     0.0     0.00   \n",
       "\n",
       "                     75%      max  \n",
       "meantempm          30.00    38.00  \n",
       "meandewptm         21.00    26.00  \n",
       "meanpressurem    1015.52  1023.43  \n",
       "maxhumidity        88.00   100.00  \n",
       "minhumidity        33.00    89.00  \n",
       "maxtempm           37.00    46.00  \n",
       "mintempm           25.00    32.00  \n",
       "maxdewptm          23.00    29.00  \n",
       "mindewptm          18.00    25.00  \n",
       "maxpressurem     1018.00  1026.00  \n",
       "minpressurem     1012.00  1020.00  \n",
       "precipm             0.00    57.00  \n",
       "meantempm_1        30.00    38.00  \n",
       "meantempm_2        30.00    38.00  \n",
       "meandewptm_1       21.00    26.00  \n",
       "meandewptm_2       21.00    26.00  \n",
       "meanpressurem_1  1015.52  1023.43  \n",
       "meanpressurem_2  1015.52  1023.43  \n",
       "maxhumidity_1      88.00   100.00  \n",
       "maxhumidity_2      88.00   100.00  \n",
       "minhumidity_1      33.00    89.00  \n",
       "minhumidity_2      33.00    89.00  \n",
       "maxtempm_1         37.00    46.00  \n",
       "maxtempm_2         37.00    46.00  \n",
       "mintempm_1         25.00    32.00  \n",
       "mintempm_2         25.00    32.00  \n",
       "maxdewptm_1        23.00    29.00  \n",
       "maxdewptm_2        23.00    29.00  \n",
       "mindewptm_1        18.00    25.00  \n",
       "mindewptm_2        18.00    25.00  \n",
       "maxpressurem_1   1018.00  1026.00  \n",
       "maxpressurem_2   1018.00  1026.00  \n",
       "minpressurem_1   1012.00  1020.00  \n",
       "minpressurem_2   1012.00  1020.00  \n",
       "precipm_1           0.00    57.00  \n",
       "precipm_2           0.00    57.00  "
      ]
     },
     "execution_count": 14,
     "metadata": {},
     "output_type": "execute_result"
    }
   ],
   "source": [
    "df.describe().T"
   ]
  },
  {
   "cell_type": "markdown",
   "metadata": {},
   "source": [
    "### Preparing Data"
   ]
  },
  {
   "cell_type": "markdown",
   "metadata": {},
   "source": [
    "For Precipitation Prediction"
   ]
  },
  {
   "cell_type": "code",
   "execution_count": 15,
   "metadata": {},
   "outputs": [],
   "source": [
    "y_data = df['precipm']\n",
    "x_data = df.drop(['precipm'], axis=1)"
   ]
  },
  {
   "cell_type": "code",
   "execution_count": 16,
   "metadata": {},
   "outputs": [
    {
     "name": "stdout",
     "output_type": "stream",
     "text": [
      "Shape of X: (677, 35)\n",
      "Shape of Y: (677,)\n"
     ]
    }
   ],
   "source": [
    "print('Shape of X: {}'.format(x_data.shape))\n",
    "print('Shape of Y: {}'.format(y_data.shape))"
   ]
  },
  {
   "cell_type": "markdown",
   "metadata": {},
   "source": [
    "#### Split Train and Test Data\n"
   ]
  },
  {
   "cell_type": "code",
   "execution_count": 17,
   "metadata": {},
   "outputs": [],
   "source": [
    "# Split into Training and Test Set\n",
    "x_train, x_test, y_train, y_test = train_test_split(x_data, y_data, test_size=0.2)"
   ]
  },
  {
   "cell_type": "code",
   "execution_count": 18,
   "metadata": {},
   "outputs": [],
   "source": [
    "# Change them all to numpy array for faster computation\n",
    "x_train = np.array(x_train)\n",
    "x_test = np.array(x_test)\n",
    "y_train = np.array(y_train)\n",
    "y_test = np.array(y_test)"
   ]
  },
  {
   "cell_type": "code",
   "execution_count": 19,
   "metadata": {},
   "outputs": [
    {
     "name": "stdout",
     "output_type": "stream",
     "text": [
      "Training Set : X -> (541, 35), Y -> (541,)\n",
      "Testing Set: X -> (136, 35), Y -> (136,)\n"
     ]
    }
   ],
   "source": [
    "# Print Final Shapes of Sets\n",
    "print('Training Set : X -> {}, Y -> {}'.format(x_train.shape, y_train.shape))\n",
    "print('Testing Set: X -> {}, Y -> {}'.format(x_test.shape, y_test.shape))"
   ]
  },
  {
   "cell_type": "markdown",
   "metadata": {},
   "source": [
    "#### Now we have Training Set, Validation Set and Testing Set"
   ]
  },
  {
   "cell_type": "markdown",
   "metadata": {},
   "source": [
    "##### 1. Applying Linear Regression"
   ]
  },
  {
   "cell_type": "code",
   "execution_count": 141,
   "metadata": {},
   "outputs": [
    {
     "data": {
      "text/plain": [
       "LinearRegression(copy_X=True, fit_intercept=True, n_jobs=None,\n",
       "         normalize=False)"
      ]
     },
     "execution_count": 141,
     "metadata": {},
     "output_type": "execute_result"
    }
   ],
   "source": [
    "lin_reg = LinearRegression()\n",
    "lin_reg.fit(x_train, y_train)"
   ]
  },
  {
   "cell_type": "code",
   "execution_count": 142,
   "metadata": {},
   "outputs": [],
   "source": [
    "y_test_predicted = lin_reg.predict(x_test)"
   ]
  },
  {
   "cell_type": "code",
   "execution_count": 143,
   "metadata": {},
   "outputs": [
    {
     "name": "stdout",
     "output_type": "stream",
     "text": [
      "Root Mean Square Error: 3.68219\n",
      "R2 Score : -0.00576\n"
     ]
    }
   ],
   "source": [
    "# Root Mean Square Error\n",
    "lin_rmse = np.round(np.sqrt(mean_squared_error(y_test,y_test_predicted)), 5)\n",
    "print('Root Mean Square Error: {}'.format(lin_rmse))\n",
    "\n",
    "# R2 Score\n",
    "lin_r2 = np.round(r2_score(y_test,y_test_predicted), 5)\n",
    "print('R2 Score : {}'.format(lin_r2))\n"
   ]
  },
  {
   "cell_type": "markdown",
   "metadata": {},
   "source": [
    "##### 2. Fitting Polynomial Regression"
   ]
  },
  {
   "cell_type": "code",
   "execution_count": 158,
   "metadata": {},
   "outputs": [],
   "source": [
    "from sklearn.preprocessing import PolynomialFeatures"
   ]
  },
  {
   "cell_type": "code",
   "execution_count": 159,
   "metadata": {},
   "outputs": [],
   "source": [
    "polynomial_history = []"
   ]
  },
  {
   "cell_type": "code",
   "execution_count": 160,
   "metadata": {},
   "outputs": [
    {
     "name": "stdout",
     "output_type": "stream",
     "text": [
      "Root Mean Square Error: 31.584\n",
      "R2 Score : -55.41844\n",
      "Root Mean Square Error: 21.62843\n",
      "R2 Score : -25.45679\n",
      "Root Mean Square Error: 20.18192\n",
      "R2 Score : -22.03625\n"
     ]
    }
   ],
   "source": [
    "for degree in range(2,5):\n",
    "\n",
    "    polynomial_features= PolynomialFeatures(degree=degree)\n",
    "    x_train_poly = polynomial_features.fit_transform(x_train)\n",
    "    x_test_poly = polynomial_features.fit_transform(x_test)\n",
    "    lin_reg = LinearRegression()\n",
    "    lin_reg.fit(x_train_poly, y_train)\n",
    "    y_test_poly_predicted = lin_reg.predict(x_test_poly)\n",
    "    rmse = np.round(np.sqrt(mean_squared_error(y_test, y_test_poly_predicted)), 5)\n",
    "    print('Root Mean Square Error: {}'.format(rmse))\n",
    "    \n",
    "    # R2 Score\n",
    "    r2 = np.round(r2_score(y_test,y_test_poly_predicted), 5)\n",
    "    print('R2 Score : {}'.format(r2))\n",
    "    \n",
    "    polynomial_history.append((degree, rmse))\n",
    "    "
   ]
  },
  {
   "cell_type": "markdown",
   "metadata": {},
   "source": [
    "#### Plotting Linear Regression with Polynomial Regression RMSE"
   ]
  },
  {
   "cell_type": "code",
   "execution_count": 161,
   "metadata": {},
   "outputs": [
    {
     "data": {
      "image/png": "[encoded data removed]",
      "text/plain": [
       "<Figure size 864x576 with 1 Axes>"
      ]
     },
     "metadata": {
      "needs_background": "light"
     },
     "output_type": "display_data"
    }
   ],
   "source": [
    "plt.figure(figsize=(12,8))\n",
    "plt.title('Linear Regression and Polynomial Regression with their RMSE Value')\n",
    "plt.xlabel('Different Regressions of Different Polynomials')\n",
    "plt.ylabel('Root Mean Square Error')\n",
    "bar_heights = plt.bar(['Linear Regression'] + ['Polynomial of Degree {}'.format(x[0]) for x in polynomial_history], [lin_rmse] + [x[1] for x in polynomial_history])\n",
    "for rect in bar_heights:\n",
    "    height = rect.get_height()\n",
    "    plt.text(rect.get_x() + rect.get_width()/2.0, height, '{}'.format(height), ha='center', va='bottom')\n",
    "plt.show()"
   ]
  },
  {
   "cell_type": "markdown",
   "metadata": {},
   "source": [
    "#### Therefore, In case of Regression the Minimum Value of Root Mean Square Error is seen in ***Linear Regression***"
   ]
  },
  {
   "cell_type": "markdown",
   "metadata": {},
   "source": [
    "##### 2. Recursive Feature Selection on Linear Regression\n",
    "We will use Wrapper Method of Recursive Feature Selection"
   ]
  },
  {
   "cell_type": "code",
   "execution_count": 194,
   "metadata": {},
   "outputs": [],
   "source": [
    "lin_reg_fs = LinearRegression()\n",
    "rfe = RFE(lin_reg_fs, 10)\n",
    "fit = rfe.fit(x_data, y_data)"
   ]
  },
  {
   "cell_type": "code",
   "execution_count": 195,
   "metadata": {},
   "outputs": [
    {
     "name": "stdout",
     "output_type": "stream",
     "text": [
      "Num Features: 10\n",
      "Selected Features: [False  True  True False  True  True False False False False False False\n",
      "  True False False  True  True False False False False  True False False\n",
      "  True False False False False  True False False False False False]\n",
      "Feature Ranking: [26  1  1  9  1  1 11 24 19 15 17  5  1  4 12  1  1  8 23 25 13  1 21  7\n",
      "  1  6 16 20 22  1 10  3  2 14 18]\n"
     ]
    }
   ],
   "source": [
    "print(\"Num Features: {}\".format(fit.n_features_))\n",
    "print(\"Selected Features: {}\".format(fit.support_))\n",
    "print(\"Feature Ranking: {}\".format(fit.ranking_))"
   ]
  },
  {
   "cell_type": "code",
   "execution_count": 196,
   "metadata": {},
   "outputs": [
    {
     "data": {
      "text/plain": [
       "(677, 10)"
      ]
     },
     "execution_count": 196,
     "metadata": {},
     "output_type": "execute_result"
    }
   ],
   "source": [
    "x_feature_selected_data = rfe.transform(x_data)\n",
    "x_feature_selected_data.shape"
   ]
  },
  {
   "cell_type": "markdown",
   "metadata": {},
   "source": [
    "Now Splitting the data to train and test set"
   ]
  },
  {
   "cell_type": "code",
   "execution_count": 197,
   "metadata": {},
   "outputs": [
    {
     "name": "stdout",
     "output_type": "stream",
     "text": [
      "(541, 35) (541,) (136, 35) (136,)\n"
     ]
    }
   ],
   "source": [
    "x_train, x_test, y_train, y_test = train_test_split(x_data, y_data, test_size=0.2)\n",
    "print(x_train.shape, y_train.shape, x_test.shape, y_test.shape)"
   ]
  },
  {
   "cell_type": "code",
   "execution_count": 198,
   "metadata": {},
   "outputs": [
    {
     "data": {
      "text/plain": [
       "LinearRegression(copy_X=True, fit_intercept=True, n_jobs=None,\n",
       "         normalize=False)"
      ]
     },
     "execution_count": 198,
     "metadata": {},
     "output_type": "execute_result"
    }
   ],
   "source": [
    "lin_reg_fs.fit(x_train, y_train)"
   ]
  },
  {
   "cell_type": "code",
   "execution_count": 199,
   "metadata": {},
   "outputs": [],
   "source": [
    "y_predicted = lin_reg_fs.predict(x_test)"
   ]
  },
  {
   "cell_type": "code",
   "execution_count": 200,
   "metadata": {},
   "outputs": [
    {
     "name": "stdout",
     "output_type": "stream",
     "text": [
      "Root Mean Square Error: 3.43921\n",
      "R2 Score : 0.3935\n"
     ]
    }
   ],
   "source": [
    "lin_rmse_fs = np.round(np.sqrt(mean_squared_error(y_test,y_predicted)), 5)\n",
    "print('Root Mean Square Error: {}'.format(lin_rmse_fs))\n",
    "\n",
    "lin_r2 = np.round(r2_score(y_test,y_predicted), 5)\n",
    "print('R2 Score : {}'.format(lin_r2))\n"
   ]
  },
  {
   "cell_type": "code",
   "execution_count": 201,
   "metadata": {},
   "outputs": [
    {
     "data": {
      "image/png": "[encoded data removed]",
      "text/plain": [
       "<Figure size 1296x576 with 1 Axes>"
      ]
     },
     "metadata": {
      "needs_background": "light"
     },
     "output_type": "display_data"
    }
   ],
   "source": [
    "plt.figure(figsize=(18,8))\n",
    "plt.title('Linear Regression and Polynomial Regression with their RMSE Value')\n",
    "plt.xlabel('Different Regressions of Different Polynomials')\n",
    "plt.ylabel('Root Mean Square Error')\n",
    "bar_heights = plt.bar(['Linear Regression'] + ['Polynomial of Degree {}'.format(x[0]) for x in polynomial_history] + ['Linear Regression After Feature Selection'], [lin_rmse] + [x[1] for x in polynomial_history] + [lin_rmse_fs] )\n",
    "for rect in bar_heights:\n",
    "    height = rect.get_height()\n",
    "    plt.text(rect.get_x() + rect.get_width()/2.0, height, '{}'.format(height), ha='center', va='bottom')\n",
    "plt.show()"
   ]
  },
  {
   "cell_type": "markdown",
   "metadata": {},
   "source": [
    "## Feature Selection Reduced the Mean Square Error thus with Feature Selection we got a better fit"
   ]
  },
  {
   "cell_type": "markdown",
   "metadata": {},
   "source": [
    "# Lets Analysis The response of Neural Netoworks in This Scenario"
   ]
  },
  {
   "cell_type": "code",
   "execution_count": null,
   "metadata": {},
   "outputs": [],
   "source": []
  }
 ],
 "metadata": {
  "kernelspec": {
   "display_name": "Python 3",
   "language": "python",
   "name": "python3"
  },
  "language_info": {
   "codemirror_mode": {
    "name": "ipython",
    "version": 3
   },
   "file_extension": ".py",
   "mimetype": "text/x-python",
   "name": "python",
   "nbconvert_exporter": "python",
   "pygments_lexer": "ipython3",
   "version": "3.6.7"
  }
 },
 "nbformat": 4,
 "nbformat_minor": 2
}
