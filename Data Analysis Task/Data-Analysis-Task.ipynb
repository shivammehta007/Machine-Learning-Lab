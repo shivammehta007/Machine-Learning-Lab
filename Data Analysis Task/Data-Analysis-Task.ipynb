{
  "nbformat": 4,
  "nbformat_minor": 0,
  "metadata": {
    "colab": {
      "name": "Data-Analysis-Task.ipynb",
      "version": "0.3.2",
      "provenance": []
    },
    "language_info": {
      "codemirror_mode": {
        "name": "ipython",
        "version": 3
      },
      "file_extension": ".py",
      "mimetype": "text/x-python",
      "name": "python",
      "nbconvert_exporter": "python",
      "pygments_lexer": "ipython3",
      "version": "3.6.7"
    },
    "kernelspec": {
      "name": "python3",
      "display_name": "Python 3"
    },
    "accelerator": "GPU"
  },
  "cells": [
    {
      "cell_type": "markdown",
      "metadata": {
        "id": "Y4_IKVIaeQga",
        "colab_type": "text"
      },
      "source": [
        "# Problem :\n",
        "## Jaipur Rainfall Data\n",
        "#### The problem is that Jaipur is one of the regions in India that has very limited amount of rainfall throught the year, So we will try to implement data analysis to predict what amount of rainfall will be recieved"
      ]
    },
    {
      "cell_type": "code",
      "metadata": {
        "id": "NweI1bLxeQgd",
        "colab_type": "code",
        "colab": {
          "base_uri": "https://localhost:8080/",
          "height": 34
        },
        "outputId": "5efe2c09-a47c-4c95-c47b-145bdc65ad0f"
      },
      "source": [
        "import numpy as np\n",
        "import pandas as pd\n",
        "import matplotlib.pyplot as plt\n",
        "import seaborn as sns\n",
        "\n",
        "from scipy.stats import pearsonr\n",
        "\n",
        "from sklearn.metrics import accuracy_score\n",
        "from sklearn.metrics import mean_squared_error, r2_score\n",
        "from sklearn.model_selection import train_test_split\n",
        "from sklearn.feature_selection import RFE\n",
        "from sklearn.linear_model import LinearRegression\n",
        "from sklearn.preprocessing import MinMaxScaler\n",
        "\n",
        "\n",
        "import keras\n",
        "from keras.layers.core import Dense, Dropout\n",
        "from keras.layers import Input\n",
        "from keras.models import Model\n",
        "from keras.models import Sequential\n",
        "from keras.optimizers import RMSprop\n",
        "\n",
        "from os.path import join\n"
      ],
      "execution_count": 1,
      "outputs": [
        {
          "output_type": "stream",
          "text": [
            "Using TensorFlow backend.\n"
          ],
          "name": "stderr"
        }
      ]
    },
    {
      "cell_type": "code",
      "metadata": {
        "id": "lHm5z-wBefGN",
        "colab_type": "code",
        "colab": {
          "base_uri": "https://localhost:8080/",
          "height": 122
        },
        "outputId": "f0a8d7e0-1291-456a-bf39-1e9684b16507"
      },
      "source": [
        "from google.colab import drive\n",
        "drive.mount('/content/gdrive')"
      ],
      "execution_count": 2,
      "outputs": [
        {
          "output_type": "stream",
          "text": [
            "Go to this URL in a browser: https://accounts.google.com/o/oauth2/auth?client_id=947318989803-6bn6qk8qdgf4n4g3pfee6491hc0brc4i.apps.googleusercontent.com&redirect_uri=urn%3Aietf%3Awg%3Aoauth%3A2.0%3Aoob&scope=email%20https%3A%2F%2Fwww.googleapis.com%2Fauth%2Fdocs.test%20https%3A%2F%2Fwww.googleapis.com%2Fauth%2Fdrive%20https%3A%2F%2Fwww.googleapis.com%2Fauth%2Fdrive.photos.readonly%20https%3A%2F%2Fwww.googleapis.com%2Fauth%2Fpeopleapi.readonly&response_type=code\n",
            "\n",
            "Enter your authorization code:\n",
            "··········\n",
            "Mounted at /content/gdrive\n"
          ],
          "name": "stdout"
        }
      ]
    },
    {
      "cell_type": "code",
      "metadata": {
        "id": "8j5tUZR0eQgk",
        "colab_type": "code",
        "colab": {}
      },
      "source": [
        "dataset = '/content/gdrive/My Drive/Colab Notebooks/DataSet-Jaipur'\n",
        "\n",
        "# Location of Dataset\n",
        "# dataset = 'DataSet-Jaipur'\n",
        "filename = 'JaipurRawData.csv'\n",
        "filename = join(dataset, filename)"
      ],
      "execution_count": 0,
      "outputs": []
    },
    {
      "cell_type": "code",
      "metadata": {
        "id": "ZhSQ825BeQgn",
        "colab_type": "code",
        "colab": {
          "base_uri": "https://localhost:8080/",
          "height": 235
        },
        "outputId": "a6b19cfa-46ea-4cf5-dc00-8e71ba886138"
      },
      "source": [
        "df = pd.read_csv(filename, index_col='date')\n",
        "df.head()"
      ],
      "execution_count": 4,
      "outputs": [
        {
          "output_type": "execute_result",
          "data": {
            "text/html": [
              "<div>\n",
              "<style scoped>\n",
              "    .dataframe tbody tr th:only-of-type {\n",
              "        vertical-align: middle;\n",
              "    }\n",
              "\n",
              "    .dataframe tbody tr th {\n",
              "        vertical-align: top;\n",
              "    }\n",
              "\n",
              "    .dataframe thead th {\n",
              "        text-align: right;\n",
              "    }\n",
              "</style>\n",
              "<table border=\"1\" class=\"dataframe\">\n",
              "  <thead>\n",
              "    <tr style=\"text-align: right;\">\n",
              "      <th></th>\n",
              "      <th>meantempm</th>\n",
              "      <th>meandewptm</th>\n",
              "      <th>meanpressurem</th>\n",
              "      <th>maxhumidity</th>\n",
              "      <th>minhumidity</th>\n",
              "      <th>maxtempm</th>\n",
              "      <th>mintempm</th>\n",
              "      <th>maxdewptm</th>\n",
              "      <th>mindewptm</th>\n",
              "      <th>maxpressurem</th>\n",
              "      <th>minpressurem</th>\n",
              "      <th>precipm</th>\n",
              "    </tr>\n",
              "    <tr>\n",
              "      <th>date</th>\n",
              "      <th></th>\n",
              "      <th></th>\n",
              "      <th></th>\n",
              "      <th></th>\n",
              "      <th></th>\n",
              "      <th></th>\n",
              "      <th></th>\n",
              "      <th></th>\n",
              "      <th></th>\n",
              "      <th></th>\n",
              "      <th></th>\n",
              "      <th></th>\n",
              "    </tr>\n",
              "  </thead>\n",
              "  <tbody>\n",
              "    <tr>\n",
              "      <th>2016-05-01</th>\n",
              "      <td>34</td>\n",
              "      <td>-1</td>\n",
              "      <td>1005.63</td>\n",
              "      <td>24</td>\n",
              "      <td>4</td>\n",
              "      <td>43</td>\n",
              "      <td>26</td>\n",
              "      <td>9</td>\n",
              "      <td>-10</td>\n",
              "      <td>1009</td>\n",
              "      <td>999</td>\n",
              "      <td>0.0</td>\n",
              "    </tr>\n",
              "    <tr>\n",
              "      <th>2016-05-02</th>\n",
              "      <td>36</td>\n",
              "      <td>4</td>\n",
              "      <td>1005.46</td>\n",
              "      <td>21</td>\n",
              "      <td>6</td>\n",
              "      <td>43</td>\n",
              "      <td>29</td>\n",
              "      <td>10</td>\n",
              "      <td>-2</td>\n",
              "      <td>1008</td>\n",
              "      <td>1001</td>\n",
              "      <td>0.0</td>\n",
              "    </tr>\n",
              "    <tr>\n",
              "      <th>2016-05-03</th>\n",
              "      <td>35</td>\n",
              "      <td>6</td>\n",
              "      <td>1006.00</td>\n",
              "      <td>27</td>\n",
              "      <td>5</td>\n",
              "      <td>41</td>\n",
              "      <td>29</td>\n",
              "      <td>12</td>\n",
              "      <td>-2</td>\n",
              "      <td>1009</td>\n",
              "      <td>1000</td>\n",
              "      <td>0.0</td>\n",
              "    </tr>\n",
              "    <tr>\n",
              "      <th>2016-05-04</th>\n",
              "      <td>34</td>\n",
              "      <td>7</td>\n",
              "      <td>1005.65</td>\n",
              "      <td>29</td>\n",
              "      <td>6</td>\n",
              "      <td>41</td>\n",
              "      <td>27</td>\n",
              "      <td>13</td>\n",
              "      <td>0</td>\n",
              "      <td>1008</td>\n",
              "      <td>1001</td>\n",
              "      <td>0.0</td>\n",
              "    </tr>\n",
              "    <tr>\n",
              "      <th>2016-05-05</th>\n",
              "      <td>31</td>\n",
              "      <td>11</td>\n",
              "      <td>1007.94</td>\n",
              "      <td>61</td>\n",
              "      <td>13</td>\n",
              "      <td>38</td>\n",
              "      <td>24</td>\n",
              "      <td>16</td>\n",
              "      <td>6</td>\n",
              "      <td>1011</td>\n",
              "      <td>1003</td>\n",
              "      <td>5.0</td>\n",
              "    </tr>\n",
              "  </tbody>\n",
              "</table>\n",
              "</div>"
            ],
            "text/plain": [
              "            meantempm  meandewptm  ...  minpressurem  precipm\n",
              "date                               ...                       \n",
              "2016-05-01         34          -1  ...           999      0.0\n",
              "2016-05-02         36           4  ...          1001      0.0\n",
              "2016-05-03         35           6  ...          1000      0.0\n",
              "2016-05-04         34           7  ...          1001      0.0\n",
              "2016-05-05         31          11  ...          1003      5.0\n",
              "\n",
              "[5 rows x 12 columns]"
            ]
          },
          "metadata": {
            "tags": []
          },
          "execution_count": 4
        }
      ]
    },
    {
      "cell_type": "code",
      "metadata": {
        "id": "ksnFmSQdeQgu",
        "colab_type": "code",
        "colab": {
          "base_uri": "https://localhost:8080/",
          "height": 68
        },
        "outputId": "b6915a82-5ed6-4ee6-868a-7ad929c99f0d"
      },
      "source": [
        "print('Shape of Dataset: {}'.format(df.shape))\n",
        "print('Shape of Each Row: {}'.format(df.iloc[0].shape))\n",
        "print('')"
      ],
      "execution_count": 5,
      "outputs": [
        {
          "output_type": "stream",
          "text": [
            "Shape of Dataset: (679, 12)\n",
            "Shape of Each Row: (12,)\n",
            "\n"
          ],
          "name": "stdout"
        }
      ]
    },
    {
      "cell_type": "code",
      "metadata": {
        "id": "78oopMgNeQgz",
        "colab_type": "code",
        "colab": {
          "base_uri": "https://localhost:8080/",
          "height": 667
        },
        "outputId": "9c41ff6f-5ec9-4e1b-8688-9bcb63d7f3f7"
      },
      "source": [
        "plt.figure(figsize=(12,10))\n",
        "cor = df.corr()\n",
        "sns.heatmap(cor, annot=True, cmap=plt.cm.Reds)\n",
        "plt.show()"
      ],
      "execution_count": 6,
      "outputs": [
        {
          "output_type": "display_data",
          "data": {
            "image/png": "[encoded data removed]",
            "text/plain": [
              "<Figure size 864x720 with 2 Axes>"
            ]
          },
          "metadata": {
            "tags": []
          }
        }
      ]
    },
    {
      "cell_type": "markdown",
      "metadata": {
        "id": "gk4C8NDQeQg3",
        "colab_type": "text"
      },
      "source": [
        "##### Pad Historic data for past 2 days with each row"
      ]
    },
    {
      "cell_type": "code",
      "metadata": {
        "id": "bM-ThbsWeQg4",
        "colab_type": "code",
        "colab": {}
      },
      "source": [
        "def pad_nth_day_feature(df, feature, N):\n",
        "    rows = df.shape[0]\n",
        "    nth_prior_meassurements = [None]*N + [df[feature][i-N] for i in range(N, rows)]\n",
        "    col_name = \"{}_{}\".format(feature, N)\n",
        "    df[col_name] = nth_prior_meassurements"
      ],
      "execution_count": 0,
      "outputs": []
    },
    {
      "cell_type": "code",
      "metadata": {
        "id": "1zpvp9ZveQg6",
        "colab_type": "code",
        "colab": {
          "base_uri": "https://localhost:8080/",
          "height": 85
        },
        "outputId": "2a0ae890-e547-4247-9505-d95fddb39597"
      },
      "source": [
        "df.columns"
      ],
      "execution_count": 8,
      "outputs": [
        {
          "output_type": "execute_result",
          "data": {
            "text/plain": [
              "Index(['meantempm', 'meandewptm', 'meanpressurem', 'maxhumidity',\n",
              "       'minhumidity', 'maxtempm', 'mintempm', 'maxdewptm', 'mindewptm',\n",
              "       'maxpressurem', 'minpressurem', 'precipm'],\n",
              "      dtype='object')"
            ]
          },
          "metadata": {
            "tags": []
          },
          "execution_count": 8
        }
      ]
    },
    {
      "cell_type": "code",
      "metadata": {
        "id": "HOUvMhy0eQg9",
        "colab_type": "code",
        "colab": {}
      },
      "source": [
        "for column in df.columns:\n",
        "#     if column != 'precipm':\n",
        "    for n in range(1, 3):\n",
        "        pad_nth_day_feature(df, column, n)"
      ],
      "execution_count": 0,
      "outputs": []
    },
    {
      "cell_type": "code",
      "metadata": {
        "id": "MSevkw7EeQhA",
        "colab_type": "code",
        "colab": {
          "base_uri": "https://localhost:8080/",
          "height": 340
        },
        "outputId": "21e63f43-24ec-4737-c4d4-a9ca2532d50c"
      },
      "source": [
        "df.head()"
      ],
      "execution_count": 10,
      "outputs": [
        {
          "output_type": "execute_result",
          "data": {
            "text/html": [
              "<div>\n",
              "<style scoped>\n",
              "    .dataframe tbody tr th:only-of-type {\n",
              "        vertical-align: middle;\n",
              "    }\n",
              "\n",
              "    .dataframe tbody tr th {\n",
              "        vertical-align: top;\n",
              "    }\n",
              "\n",
              "    .dataframe thead th {\n",
              "        text-align: right;\n",
              "    }\n",
              "</style>\n",
              "<table border=\"1\" class=\"dataframe\">\n",
              "  <thead>\n",
              "    <tr style=\"text-align: right;\">\n",
              "      <th></th>\n",
              "      <th>meantempm</th>\n",
              "      <th>meandewptm</th>\n",
              "      <th>meanpressurem</th>\n",
              "      <th>maxhumidity</th>\n",
              "      <th>minhumidity</th>\n",
              "      <th>maxtempm</th>\n",
              "      <th>mintempm</th>\n",
              "      <th>maxdewptm</th>\n",
              "      <th>mindewptm</th>\n",
              "      <th>maxpressurem</th>\n",
              "      <th>minpressurem</th>\n",
              "      <th>precipm</th>\n",
              "      <th>meantempm_1</th>\n",
              "      <th>meantempm_2</th>\n",
              "      <th>meandewptm_1</th>\n",
              "      <th>meandewptm_2</th>\n",
              "      <th>meanpressurem_1</th>\n",
              "      <th>meanpressurem_2</th>\n",
              "      <th>maxhumidity_1</th>\n",
              "      <th>maxhumidity_2</th>\n",
              "      <th>minhumidity_1</th>\n",
              "      <th>minhumidity_2</th>\n",
              "      <th>maxtempm_1</th>\n",
              "      <th>maxtempm_2</th>\n",
              "      <th>mintempm_1</th>\n",
              "      <th>mintempm_2</th>\n",
              "      <th>maxdewptm_1</th>\n",
              "      <th>maxdewptm_2</th>\n",
              "      <th>mindewptm_1</th>\n",
              "      <th>mindewptm_2</th>\n",
              "      <th>maxpressurem_1</th>\n",
              "      <th>maxpressurem_2</th>\n",
              "      <th>minpressurem_1</th>\n",
              "      <th>minpressurem_2</th>\n",
              "      <th>precipm_1</th>\n",
              "      <th>precipm_2</th>\n",
              "    </tr>\n",
              "    <tr>\n",
              "      <th>date</th>\n",
              "      <th></th>\n",
              "      <th></th>\n",
              "      <th></th>\n",
              "      <th></th>\n",
              "      <th></th>\n",
              "      <th></th>\n",
              "      <th></th>\n",
              "      <th></th>\n",
              "      <th></th>\n",
              "      <th></th>\n",
              "      <th></th>\n",
              "      <th></th>\n",
              "      <th></th>\n",
              "      <th></th>\n",
              "      <th></th>\n",
              "      <th></th>\n",
              "      <th></th>\n",
              "      <th></th>\n",
              "      <th></th>\n",
              "      <th></th>\n",
              "      <th></th>\n",
              "      <th></th>\n",
              "      <th></th>\n",
              "      <th></th>\n",
              "      <th></th>\n",
              "      <th></th>\n",
              "      <th></th>\n",
              "      <th></th>\n",
              "      <th></th>\n",
              "      <th></th>\n",
              "      <th></th>\n",
              "      <th></th>\n",
              "      <th></th>\n",
              "      <th></th>\n",
              "      <th></th>\n",
              "      <th></th>\n",
              "    </tr>\n",
              "  </thead>\n",
              "  <tbody>\n",
              "    <tr>\n",
              "      <th>2016-05-01</th>\n",
              "      <td>34</td>\n",
              "      <td>-1</td>\n",
              "      <td>1005.63</td>\n",
              "      <td>24</td>\n",
              "      <td>4</td>\n",
              "      <td>43</td>\n",
              "      <td>26</td>\n",
              "      <td>9</td>\n",
              "      <td>-10</td>\n",
              "      <td>1009</td>\n",
              "      <td>999</td>\n",
              "      <td>0.0</td>\n",
              "      <td>NaN</td>\n",
              "      <td>NaN</td>\n",
              "      <td>NaN</td>\n",
              "      <td>NaN</td>\n",
              "      <td>NaN</td>\n",
              "      <td>NaN</td>\n",
              "      <td>NaN</td>\n",
              "      <td>NaN</td>\n",
              "      <td>NaN</td>\n",
              "      <td>NaN</td>\n",
              "      <td>NaN</td>\n",
              "      <td>NaN</td>\n",
              "      <td>NaN</td>\n",
              "      <td>NaN</td>\n",
              "      <td>NaN</td>\n",
              "      <td>NaN</td>\n",
              "      <td>NaN</td>\n",
              "      <td>NaN</td>\n",
              "      <td>NaN</td>\n",
              "      <td>NaN</td>\n",
              "      <td>NaN</td>\n",
              "      <td>NaN</td>\n",
              "      <td>NaN</td>\n",
              "      <td>NaN</td>\n",
              "    </tr>\n",
              "    <tr>\n",
              "      <th>2016-05-02</th>\n",
              "      <td>36</td>\n",
              "      <td>4</td>\n",
              "      <td>1005.46</td>\n",
              "      <td>21</td>\n",
              "      <td>6</td>\n",
              "      <td>43</td>\n",
              "      <td>29</td>\n",
              "      <td>10</td>\n",
              "      <td>-2</td>\n",
              "      <td>1008</td>\n",
              "      <td>1001</td>\n",
              "      <td>0.0</td>\n",
              "      <td>34.0</td>\n",
              "      <td>NaN</td>\n",
              "      <td>-1.0</td>\n",
              "      <td>NaN</td>\n",
              "      <td>1005.63</td>\n",
              "      <td>NaN</td>\n",
              "      <td>24.0</td>\n",
              "      <td>NaN</td>\n",
              "      <td>4.0</td>\n",
              "      <td>NaN</td>\n",
              "      <td>43.0</td>\n",
              "      <td>NaN</td>\n",
              "      <td>26.0</td>\n",
              "      <td>NaN</td>\n",
              "      <td>9.0</td>\n",
              "      <td>NaN</td>\n",
              "      <td>-10.0</td>\n",
              "      <td>NaN</td>\n",
              "      <td>1009.0</td>\n",
              "      <td>NaN</td>\n",
              "      <td>999.0</td>\n",
              "      <td>NaN</td>\n",
              "      <td>0.0</td>\n",
              "      <td>NaN</td>\n",
              "    </tr>\n",
              "    <tr>\n",
              "      <th>2016-05-03</th>\n",
              "      <td>35</td>\n",
              "      <td>6</td>\n",
              "      <td>1006.00</td>\n",
              "      <td>27</td>\n",
              "      <td>5</td>\n",
              "      <td>41</td>\n",
              "      <td>29</td>\n",
              "      <td>12</td>\n",
              "      <td>-2</td>\n",
              "      <td>1009</td>\n",
              "      <td>1000</td>\n",
              "      <td>0.0</td>\n",
              "      <td>36.0</td>\n",
              "      <td>34.0</td>\n",
              "      <td>4.0</td>\n",
              "      <td>-1.0</td>\n",
              "      <td>1005.46</td>\n",
              "      <td>1005.63</td>\n",
              "      <td>21.0</td>\n",
              "      <td>24.0</td>\n",
              "      <td>6.0</td>\n",
              "      <td>4.0</td>\n",
              "      <td>43.0</td>\n",
              "      <td>43.0</td>\n",
              "      <td>29.0</td>\n",
              "      <td>26.0</td>\n",
              "      <td>10.0</td>\n",
              "      <td>9.0</td>\n",
              "      <td>-2.0</td>\n",
              "      <td>-10.0</td>\n",
              "      <td>1008.0</td>\n",
              "      <td>1009.0</td>\n",
              "      <td>1001.0</td>\n",
              "      <td>999.0</td>\n",
              "      <td>0.0</td>\n",
              "      <td>0.0</td>\n",
              "    </tr>\n",
              "    <tr>\n",
              "      <th>2016-05-04</th>\n",
              "      <td>34</td>\n",
              "      <td>7</td>\n",
              "      <td>1005.65</td>\n",
              "      <td>29</td>\n",
              "      <td>6</td>\n",
              "      <td>41</td>\n",
              "      <td>27</td>\n",
              "      <td>13</td>\n",
              "      <td>0</td>\n",
              "      <td>1008</td>\n",
              "      <td>1001</td>\n",
              "      <td>0.0</td>\n",
              "      <td>35.0</td>\n",
              "      <td>36.0</td>\n",
              "      <td>6.0</td>\n",
              "      <td>4.0</td>\n",
              "      <td>1006.00</td>\n",
              "      <td>1005.46</td>\n",
              "      <td>27.0</td>\n",
              "      <td>21.0</td>\n",
              "      <td>5.0</td>\n",
              "      <td>6.0</td>\n",
              "      <td>41.0</td>\n",
              "      <td>43.0</td>\n",
              "      <td>29.0</td>\n",
              "      <td>29.0</td>\n",
              "      <td>12.0</td>\n",
              "      <td>10.0</td>\n",
              "      <td>-2.0</td>\n",
              "      <td>-2.0</td>\n",
              "      <td>1009.0</td>\n",
              "      <td>1008.0</td>\n",
              "      <td>1000.0</td>\n",
              "      <td>1001.0</td>\n",
              "      <td>0.0</td>\n",
              "      <td>0.0</td>\n",
              "    </tr>\n",
              "    <tr>\n",
              "      <th>2016-05-05</th>\n",
              "      <td>31</td>\n",
              "      <td>11</td>\n",
              "      <td>1007.94</td>\n",
              "      <td>61</td>\n",
              "      <td>13</td>\n",
              "      <td>38</td>\n",
              "      <td>24</td>\n",
              "      <td>16</td>\n",
              "      <td>6</td>\n",
              "      <td>1011</td>\n",
              "      <td>1003</td>\n",
              "      <td>5.0</td>\n",
              "      <td>34.0</td>\n",
              "      <td>35.0</td>\n",
              "      <td>7.0</td>\n",
              "      <td>6.0</td>\n",
              "      <td>1005.65</td>\n",
              "      <td>1006.00</td>\n",
              "      <td>29.0</td>\n",
              "      <td>27.0</td>\n",
              "      <td>6.0</td>\n",
              "      <td>5.0</td>\n",
              "      <td>41.0</td>\n",
              "      <td>41.0</td>\n",
              "      <td>27.0</td>\n",
              "      <td>29.0</td>\n",
              "      <td>13.0</td>\n",
              "      <td>12.0</td>\n",
              "      <td>0.0</td>\n",
              "      <td>-2.0</td>\n",
              "      <td>1008.0</td>\n",
              "      <td>1009.0</td>\n",
              "      <td>1001.0</td>\n",
              "      <td>1000.0</td>\n",
              "      <td>0.0</td>\n",
              "      <td>0.0</td>\n",
              "    </tr>\n",
              "  </tbody>\n",
              "</table>\n",
              "</div>"
            ],
            "text/plain": [
              "            meantempm  meandewptm  ...  precipm_1  precipm_2\n",
              "date                               ...                      \n",
              "2016-05-01         34          -1  ...        NaN        NaN\n",
              "2016-05-02         36           4  ...        0.0        NaN\n",
              "2016-05-03         35           6  ...        0.0        0.0\n",
              "2016-05-04         34           7  ...        0.0        0.0\n",
              "2016-05-05         31          11  ...        0.0        0.0\n",
              "\n",
              "[5 rows x 36 columns]"
            ]
          },
          "metadata": {
            "tags": []
          },
          "execution_count": 10
        }
      ]
    },
    {
      "cell_type": "code",
      "metadata": {
        "id": "KLULoVageQhD",
        "colab_type": "code",
        "colab": {
          "base_uri": "https://localhost:8080/",
          "height": 51
        },
        "outputId": "3e201b47-efe6-4927-f7c6-fbb20c454636"
      },
      "source": [
        "# Changes in Shape\n",
        "print('Shape of Dataset: {}'.format(df.shape))\n",
        "print('Shape of Each Row: {}'.format(df.iloc[0].shape))"
      ],
      "execution_count": 11,
      "outputs": [
        {
          "output_type": "stream",
          "text": [
            "Shape of Dataset: (679, 36)\n",
            "Shape of Each Row: (36,)\n"
          ],
          "name": "stdout"
        }
      ]
    },
    {
      "cell_type": "code",
      "metadata": {
        "id": "0PT0ZBHSeQhL",
        "colab_type": "code",
        "colab": {
          "base_uri": "https://localhost:8080/",
          "height": 714
        },
        "outputId": "bd49ca64-b3af-4975-929b-e00c553ab5b9"
      },
      "source": [
        "df.info()"
      ],
      "execution_count": 12,
      "outputs": [
        {
          "output_type": "stream",
          "text": [
            "<class 'pandas.core.frame.DataFrame'>\n",
            "Index: 679 entries, 2016-05-01 to 2018-03-11\n",
            "Data columns (total 36 columns):\n",
            "meantempm          679 non-null int64\n",
            "meandewptm         679 non-null int64\n",
            "meanpressurem      679 non-null float64\n",
            "maxhumidity        679 non-null int64\n",
            "minhumidity        679 non-null int64\n",
            "maxtempm           679 non-null int64\n",
            "mintempm           679 non-null int64\n",
            "maxdewptm          679 non-null int64\n",
            "mindewptm          679 non-null int64\n",
            "maxpressurem       679 non-null int64\n",
            "minpressurem       679 non-null int64\n",
            "precipm            679 non-null float64\n",
            "meantempm_1        678 non-null float64\n",
            "meantempm_2        677 non-null float64\n",
            "meandewptm_1       678 non-null float64\n",
            "meandewptm_2       677 non-null float64\n",
            "meanpressurem_1    678 non-null float64\n",
            "meanpressurem_2    677 non-null float64\n",
            "maxhumidity_1      678 non-null float64\n",
            "maxhumidity_2      677 non-null float64\n",
            "minhumidity_1      678 non-null float64\n",
            "minhumidity_2      677 non-null float64\n",
            "maxtempm_1         678 non-null float64\n",
            "maxtempm_2         677 non-null float64\n",
            "mintempm_1         678 non-null float64\n",
            "mintempm_2         677 non-null float64\n",
            "maxdewptm_1        678 non-null float64\n",
            "maxdewptm_2        677 non-null float64\n",
            "mindewptm_1        678 non-null float64\n",
            "mindewptm_2        677 non-null float64\n",
            "maxpressurem_1     678 non-null float64\n",
            "maxpressurem_2     677 non-null float64\n",
            "minpressurem_1     678 non-null float64\n",
            "minpressurem_2     677 non-null float64\n",
            "precipm_1          678 non-null float64\n",
            "precipm_2          677 non-null float64\n",
            "dtypes: float64(26), int64(10)\n",
            "memory usage: 216.3+ KB\n"
          ],
          "name": "stdout"
        }
      ]
    },
    {
      "cell_type": "markdown",
      "metadata": {
        "id": "ApQ3kFm9eQhc",
        "colab_type": "text"
      },
      "source": [
        "##### Doing Some Data Cleaning Operations"
      ]
    },
    {
      "cell_type": "code",
      "metadata": {
        "id": "2ntzM64ReQhe",
        "colab_type": "code",
        "colab": {}
      },
      "source": [
        "# Check if there is only one value in the column remove that feature\n",
        "def check_uniqueness(dataframe):\n",
        "    for column in dataframe.columns:\n",
        "        if len(pd.Series.unique(dataframe[column])) == 1:\n",
        "            dataframe.drop(column, inplace=True, axis=1)\n",
        "\n",
        "            \n",
        "    return dataframe\n",
        "\n",
        "df = check_uniqueness(df)"
      ],
      "execution_count": 0,
      "outputs": []
    },
    {
      "cell_type": "code",
      "metadata": {
        "id": "-63Y5NWbeQhl",
        "colab_type": "code",
        "colab": {}
      },
      "source": [
        "# Drop Na Columns\n",
        "df.dropna(inplace=True)"
      ],
      "execution_count": 0,
      "outputs": []
    },
    {
      "cell_type": "code",
      "metadata": {
        "id": "btCB-su1eQhu",
        "colab_type": "code",
        "colab": {
          "base_uri": "https://localhost:8080/",
          "height": 1165
        },
        "outputId": "4d554a32-d080-43b9-ff6a-0db9593407a0"
      },
      "source": [
        "df.describe().T"
      ],
      "execution_count": 15,
      "outputs": [
        {
          "output_type": "execute_result",
          "data": {
            "text/html": [
              "<div>\n",
              "<style scoped>\n",
              "    .dataframe tbody tr th:only-of-type {\n",
              "        vertical-align: middle;\n",
              "    }\n",
              "\n",
              "    .dataframe tbody tr th {\n",
              "        vertical-align: top;\n",
              "    }\n",
              "\n",
              "    .dataframe thead th {\n",
              "        text-align: right;\n",
              "    }\n",
              "</style>\n",
              "<table border=\"1\" class=\"dataframe\">\n",
              "  <thead>\n",
              "    <tr style=\"text-align: right;\">\n",
              "      <th></th>\n",
              "      <th>count</th>\n",
              "      <th>mean</th>\n",
              "      <th>std</th>\n",
              "      <th>min</th>\n",
              "      <th>25%</th>\n",
              "      <th>50%</th>\n",
              "      <th>75%</th>\n",
              "      <th>max</th>\n",
              "    </tr>\n",
              "  </thead>\n",
              "  <tbody>\n",
              "    <tr>\n",
              "      <th>meantempm</th>\n",
              "      <td>677.0</td>\n",
              "      <td>26.066470</td>\n",
              "      <td>6.213891</td>\n",
              "      <td>10.00</td>\n",
              "      <td>20.0</td>\n",
              "      <td>28.00</td>\n",
              "      <td>30.00</td>\n",
              "      <td>38.00</td>\n",
              "    </tr>\n",
              "    <tr>\n",
              "      <th>meandewptm</th>\n",
              "      <td>677.0</td>\n",
              "      <td>11.982275</td>\n",
              "      <td>8.731514</td>\n",
              "      <td>-10.00</td>\n",
              "      <td>5.0</td>\n",
              "      <td>10.00</td>\n",
              "      <td>21.00</td>\n",
              "      <td>26.00</td>\n",
              "    </tr>\n",
              "    <tr>\n",
              "      <th>meanpressurem</th>\n",
              "      <td>677.0</td>\n",
              "      <td>1009.505081</td>\n",
              "      <td>6.478314</td>\n",
              "      <td>997.63</td>\n",
              "      <td>1003.7</td>\n",
              "      <td>1008.85</td>\n",
              "      <td>1015.52</td>\n",
              "      <td>1023.43</td>\n",
              "    </tr>\n",
              "    <tr>\n",
              "      <th>maxhumidity</th>\n",
              "      <td>677.0</td>\n",
              "      <td>67.397341</td>\n",
              "      <td>22.057420</td>\n",
              "      <td>15.00</td>\n",
              "      <td>50.0</td>\n",
              "      <td>66.00</td>\n",
              "      <td>88.00</td>\n",
              "      <td>100.00</td>\n",
              "    </tr>\n",
              "    <tr>\n",
              "      <th>minhumidity</th>\n",
              "      <td>677.0</td>\n",
              "      <td>22.794682</td>\n",
              "      <td>19.367531</td>\n",
              "      <td>4.00</td>\n",
              "      <td>9.0</td>\n",
              "      <td>15.00</td>\n",
              "      <td>33.00</td>\n",
              "      <td>89.00</td>\n",
              "    </tr>\n",
              "    <tr>\n",
              "      <th>maxtempm</th>\n",
              "      <td>677.0</td>\n",
              "      <td>32.536189</td>\n",
              "      <td>5.992397</td>\n",
              "      <td>18.00</td>\n",
              "      <td>28.0</td>\n",
              "      <td>33.00</td>\n",
              "      <td>37.00</td>\n",
              "      <td>46.00</td>\n",
              "    </tr>\n",
              "    <tr>\n",
              "      <th>mintempm</th>\n",
              "      <td>677.0</td>\n",
              "      <td>19.644018</td>\n",
              "      <td>6.830276</td>\n",
              "      <td>3.00</td>\n",
              "      <td>13.0</td>\n",
              "      <td>22.00</td>\n",
              "      <td>25.00</td>\n",
              "      <td>32.00</td>\n",
              "    </tr>\n",
              "    <tr>\n",
              "      <th>maxdewptm</th>\n",
              "      <td>677.0</td>\n",
              "      <td>16.166913</td>\n",
              "      <td>7.237327</td>\n",
              "      <td>0.00</td>\n",
              "      <td>10.0</td>\n",
              "      <td>15.00</td>\n",
              "      <td>23.00</td>\n",
              "      <td>29.00</td>\n",
              "    </tr>\n",
              "    <tr>\n",
              "      <th>mindewptm</th>\n",
              "      <td>677.0</td>\n",
              "      <td>7.478582</td>\n",
              "      <td>11.686926</td>\n",
              "      <td>-94.00</td>\n",
              "      <td>0.0</td>\n",
              "      <td>6.00</td>\n",
              "      <td>18.00</td>\n",
              "      <td>25.00</td>\n",
              "    </tr>\n",
              "    <tr>\n",
              "      <th>maxpressurem</th>\n",
              "      <td>677.0</td>\n",
              "      <td>1012.251108</td>\n",
              "      <td>6.527288</td>\n",
              "      <td>999.00</td>\n",
              "      <td>1006.0</td>\n",
              "      <td>1012.00</td>\n",
              "      <td>1018.00</td>\n",
              "      <td>1026.00</td>\n",
              "    </tr>\n",
              "    <tr>\n",
              "      <th>minpressurem</th>\n",
              "      <td>677.0</td>\n",
              "      <td>1005.283604</td>\n",
              "      <td>7.128942</td>\n",
              "      <td>992.00</td>\n",
              "      <td>999.0</td>\n",
              "      <td>1004.00</td>\n",
              "      <td>1012.00</td>\n",
              "      <td>1020.00</td>\n",
              "    </tr>\n",
              "    <tr>\n",
              "      <th>precipm</th>\n",
              "      <td>677.0</td>\n",
              "      <td>1.248744</td>\n",
              "      <td>5.431849</td>\n",
              "      <td>0.00</td>\n",
              "      <td>0.0</td>\n",
              "      <td>0.00</td>\n",
              "      <td>0.00</td>\n",
              "      <td>57.00</td>\n",
              "    </tr>\n",
              "    <tr>\n",
              "      <th>meantempm_1</th>\n",
              "      <td>677.0</td>\n",
              "      <td>26.081241</td>\n",
              "      <td>6.225607</td>\n",
              "      <td>10.00</td>\n",
              "      <td>20.0</td>\n",
              "      <td>28.00</td>\n",
              "      <td>30.00</td>\n",
              "      <td>38.00</td>\n",
              "    </tr>\n",
              "    <tr>\n",
              "      <th>meantempm_2</th>\n",
              "      <td>677.0</td>\n",
              "      <td>26.093058</td>\n",
              "      <td>6.233041</td>\n",
              "      <td>10.00</td>\n",
              "      <td>20.0</td>\n",
              "      <td>28.00</td>\n",
              "      <td>30.00</td>\n",
              "      <td>38.00</td>\n",
              "    </tr>\n",
              "    <tr>\n",
              "      <th>meandewptm_1</th>\n",
              "      <td>677.0</td>\n",
              "      <td>11.983752</td>\n",
              "      <td>8.730076</td>\n",
              "      <td>-10.00</td>\n",
              "      <td>5.0</td>\n",
              "      <td>10.00</td>\n",
              "      <td>21.00</td>\n",
              "      <td>26.00</td>\n",
              "    </tr>\n",
              "    <tr>\n",
              "      <th>meandewptm_2</th>\n",
              "      <td>677.0</td>\n",
              "      <td>11.976366</td>\n",
              "      <td>8.738951</td>\n",
              "      <td>-10.00</td>\n",
              "      <td>5.0</td>\n",
              "      <td>10.00</td>\n",
              "      <td>21.00</td>\n",
              "      <td>26.00</td>\n",
              "    </tr>\n",
              "    <tr>\n",
              "      <th>meanpressurem_1</th>\n",
              "      <td>677.0</td>\n",
              "      <td>1009.493944</td>\n",
              "      <td>6.478778</td>\n",
              "      <td>997.63</td>\n",
              "      <td>1003.7</td>\n",
              "      <td>1008.81</td>\n",
              "      <td>1015.52</td>\n",
              "      <td>1023.43</td>\n",
              "    </tr>\n",
              "    <tr>\n",
              "      <th>meanpressurem_2</th>\n",
              "      <td>677.0</td>\n",
              "      <td>1009.481935</td>\n",
              "      <td>6.478393</td>\n",
              "      <td>997.63</td>\n",
              "      <td>1003.7</td>\n",
              "      <td>1008.78</td>\n",
              "      <td>1015.52</td>\n",
              "      <td>1023.43</td>\n",
              "    </tr>\n",
              "    <tr>\n",
              "      <th>maxhumidity_1</th>\n",
              "      <td>677.0</td>\n",
              "      <td>67.360414</td>\n",
              "      <td>22.114149</td>\n",
              "      <td>15.00</td>\n",
              "      <td>50.0</td>\n",
              "      <td>66.00</td>\n",
              "      <td>88.00</td>\n",
              "      <td>100.00</td>\n",
              "    </tr>\n",
              "    <tr>\n",
              "      <th>maxhumidity_2</th>\n",
              "      <td>677.0</td>\n",
              "      <td>67.339734</td>\n",
              "      <td>22.148165</td>\n",
              "      <td>15.00</td>\n",
              "      <td>50.0</td>\n",
              "      <td>66.00</td>\n",
              "      <td>88.00</td>\n",
              "      <td>100.00</td>\n",
              "    </tr>\n",
              "    <tr>\n",
              "      <th>minhumidity_1</th>\n",
              "      <td>677.0</td>\n",
              "      <td>22.794682</td>\n",
              "      <td>19.367531</td>\n",
              "      <td>4.00</td>\n",
              "      <td>9.0</td>\n",
              "      <td>15.00</td>\n",
              "      <td>33.00</td>\n",
              "      <td>89.00</td>\n",
              "    </tr>\n",
              "    <tr>\n",
              "      <th>minhumidity_2</th>\n",
              "      <td>677.0</td>\n",
              "      <td>22.791728</td>\n",
              "      <td>19.370249</td>\n",
              "      <td>4.00</td>\n",
              "      <td>9.0</td>\n",
              "      <td>15.00</td>\n",
              "      <td>33.00</td>\n",
              "      <td>89.00</td>\n",
              "    </tr>\n",
              "    <tr>\n",
              "      <th>maxtempm_1</th>\n",
              "      <td>677.0</td>\n",
              "      <td>32.549483</td>\n",
              "      <td>6.005618</td>\n",
              "      <td>18.00</td>\n",
              "      <td>28.0</td>\n",
              "      <td>33.00</td>\n",
              "      <td>37.00</td>\n",
              "      <td>46.00</td>\n",
              "    </tr>\n",
              "    <tr>\n",
              "      <th>maxtempm_2</th>\n",
              "      <td>677.0</td>\n",
              "      <td>32.562777</td>\n",
              "      <td>6.018780</td>\n",
              "      <td>18.00</td>\n",
              "      <td>28.0</td>\n",
              "      <td>33.00</td>\n",
              "      <td>37.00</td>\n",
              "      <td>46.00</td>\n",
              "    </tr>\n",
              "    <tr>\n",
              "      <th>mintempm_1</th>\n",
              "      <td>677.0</td>\n",
              "      <td>19.660266</td>\n",
              "      <td>6.839437</td>\n",
              "      <td>3.00</td>\n",
              "      <td>13.0</td>\n",
              "      <td>22.00</td>\n",
              "      <td>25.00</td>\n",
              "      <td>32.00</td>\n",
              "    </tr>\n",
              "    <tr>\n",
              "      <th>mintempm_2</th>\n",
              "      <td>677.0</td>\n",
              "      <td>19.670606</td>\n",
              "      <td>6.843727</td>\n",
              "      <td>3.00</td>\n",
              "      <td>13.0</td>\n",
              "      <td>22.00</td>\n",
              "      <td>25.00</td>\n",
              "      <td>32.00</td>\n",
              "    </tr>\n",
              "    <tr>\n",
              "      <th>maxdewptm_1</th>\n",
              "      <td>677.0</td>\n",
              "      <td>16.166913</td>\n",
              "      <td>7.237327</td>\n",
              "      <td>0.00</td>\n",
              "      <td>10.0</td>\n",
              "      <td>15.00</td>\n",
              "      <td>23.00</td>\n",
              "      <td>29.00</td>\n",
              "    </tr>\n",
              "    <tr>\n",
              "      <th>maxdewptm_2</th>\n",
              "      <td>677.0</td>\n",
              "      <td>16.168390</td>\n",
              "      <td>7.235760</td>\n",
              "      <td>0.00</td>\n",
              "      <td>10.0</td>\n",
              "      <td>15.00</td>\n",
              "      <td>23.00</td>\n",
              "      <td>29.00</td>\n",
              "    </tr>\n",
              "    <tr>\n",
              "      <th>mindewptm_1</th>\n",
              "      <td>677.0</td>\n",
              "      <td>7.480059</td>\n",
              "      <td>11.685662</td>\n",
              "      <td>-94.00</td>\n",
              "      <td>0.0</td>\n",
              "      <td>6.00</td>\n",
              "      <td>18.00</td>\n",
              "      <td>25.00</td>\n",
              "    </tr>\n",
              "    <tr>\n",
              "      <th>mindewptm_2</th>\n",
              "      <td>677.0</td>\n",
              "      <td>7.465288</td>\n",
              "      <td>11.701441</td>\n",
              "      <td>-94.00</td>\n",
              "      <td>0.0</td>\n",
              "      <td>6.00</td>\n",
              "      <td>18.00</td>\n",
              "      <td>25.00</td>\n",
              "    </tr>\n",
              "    <tr>\n",
              "      <th>maxpressurem_1</th>\n",
              "      <td>677.0</td>\n",
              "      <td>1012.239291</td>\n",
              "      <td>6.527733</td>\n",
              "      <td>999.00</td>\n",
              "      <td>1006.0</td>\n",
              "      <td>1012.00</td>\n",
              "      <td>1018.00</td>\n",
              "      <td>1026.00</td>\n",
              "    </tr>\n",
              "    <tr>\n",
              "      <th>maxpressurem_2</th>\n",
              "      <td>677.0</td>\n",
              "      <td>1012.227474</td>\n",
              "      <td>6.526343</td>\n",
              "      <td>999.00</td>\n",
              "      <td>1006.0</td>\n",
              "      <td>1012.00</td>\n",
              "      <td>1018.00</td>\n",
              "      <td>1026.00</td>\n",
              "    </tr>\n",
              "    <tr>\n",
              "      <th>minpressurem_1</th>\n",
              "      <td>677.0</td>\n",
              "      <td>1005.271787</td>\n",
              "      <td>7.129403</td>\n",
              "      <td>992.00</td>\n",
              "      <td>999.0</td>\n",
              "      <td>1004.00</td>\n",
              "      <td>1012.00</td>\n",
              "      <td>1020.00</td>\n",
              "    </tr>\n",
              "    <tr>\n",
              "      <th>minpressurem_2</th>\n",
              "      <td>677.0</td>\n",
              "      <td>1005.257016</td>\n",
              "      <td>7.132026</td>\n",
              "      <td>992.00</td>\n",
              "      <td>999.0</td>\n",
              "      <td>1004.00</td>\n",
              "      <td>1012.00</td>\n",
              "      <td>1020.00</td>\n",
              "    </tr>\n",
              "    <tr>\n",
              "      <th>precipm_1</th>\n",
              "      <td>677.0</td>\n",
              "      <td>1.248744</td>\n",
              "      <td>5.431849</td>\n",
              "      <td>0.00</td>\n",
              "      <td>0.0</td>\n",
              "      <td>0.00</td>\n",
              "      <td>0.00</td>\n",
              "      <td>57.00</td>\n",
              "    </tr>\n",
              "    <tr>\n",
              "      <th>precipm_2</th>\n",
              "      <td>677.0</td>\n",
              "      <td>1.248744</td>\n",
              "      <td>5.431849</td>\n",
              "      <td>0.00</td>\n",
              "      <td>0.0</td>\n",
              "      <td>0.00</td>\n",
              "      <td>0.00</td>\n",
              "      <td>57.00</td>\n",
              "    </tr>\n",
              "  </tbody>\n",
              "</table>\n",
              "</div>"
            ],
            "text/plain": [
              "                 count         mean        std  ...      50%      75%      max\n",
              "meantempm        677.0    26.066470   6.213891  ...    28.00    30.00    38.00\n",
              "meandewptm       677.0    11.982275   8.731514  ...    10.00    21.00    26.00\n",
              "meanpressurem    677.0  1009.505081   6.478314  ...  1008.85  1015.52  1023.43\n",
              "maxhumidity      677.0    67.397341  22.057420  ...    66.00    88.00   100.00\n",
              "minhumidity      677.0    22.794682  19.367531  ...    15.00    33.00    89.00\n",
              "maxtempm         677.0    32.536189   5.992397  ...    33.00    37.00    46.00\n",
              "mintempm         677.0    19.644018   6.830276  ...    22.00    25.00    32.00\n",
              "maxdewptm        677.0    16.166913   7.237327  ...    15.00    23.00    29.00\n",
              "mindewptm        677.0     7.478582  11.686926  ...     6.00    18.00    25.00\n",
              "maxpressurem     677.0  1012.251108   6.527288  ...  1012.00  1018.00  1026.00\n",
              "minpressurem     677.0  1005.283604   7.128942  ...  1004.00  1012.00  1020.00\n",
              "precipm          677.0     1.248744   5.431849  ...     0.00     0.00    57.00\n",
              "meantempm_1      677.0    26.081241   6.225607  ...    28.00    30.00    38.00\n",
              "meantempm_2      677.0    26.093058   6.233041  ...    28.00    30.00    38.00\n",
              "meandewptm_1     677.0    11.983752   8.730076  ...    10.00    21.00    26.00\n",
              "meandewptm_2     677.0    11.976366   8.738951  ...    10.00    21.00    26.00\n",
              "meanpressurem_1  677.0  1009.493944   6.478778  ...  1008.81  1015.52  1023.43\n",
              "meanpressurem_2  677.0  1009.481935   6.478393  ...  1008.78  1015.52  1023.43\n",
              "maxhumidity_1    677.0    67.360414  22.114149  ...    66.00    88.00   100.00\n",
              "maxhumidity_2    677.0    67.339734  22.148165  ...    66.00    88.00   100.00\n",
              "minhumidity_1    677.0    22.794682  19.367531  ...    15.00    33.00    89.00\n",
              "minhumidity_2    677.0    22.791728  19.370249  ...    15.00    33.00    89.00\n",
              "maxtempm_1       677.0    32.549483   6.005618  ...    33.00    37.00    46.00\n",
              "maxtempm_2       677.0    32.562777   6.018780  ...    33.00    37.00    46.00\n",
              "mintempm_1       677.0    19.660266   6.839437  ...    22.00    25.00    32.00\n",
              "mintempm_2       677.0    19.670606   6.843727  ...    22.00    25.00    32.00\n",
              "maxdewptm_1      677.0    16.166913   7.237327  ...    15.00    23.00    29.00\n",
              "maxdewptm_2      677.0    16.168390   7.235760  ...    15.00    23.00    29.00\n",
              "mindewptm_1      677.0     7.480059  11.685662  ...     6.00    18.00    25.00\n",
              "mindewptm_2      677.0     7.465288  11.701441  ...     6.00    18.00    25.00\n",
              "maxpressurem_1   677.0  1012.239291   6.527733  ...  1012.00  1018.00  1026.00\n",
              "maxpressurem_2   677.0  1012.227474   6.526343  ...  1012.00  1018.00  1026.00\n",
              "minpressurem_1   677.0  1005.271787   7.129403  ...  1004.00  1012.00  1020.00\n",
              "minpressurem_2   677.0  1005.257016   7.132026  ...  1004.00  1012.00  1020.00\n",
              "precipm_1        677.0     1.248744   5.431849  ...     0.00     0.00    57.00\n",
              "precipm_2        677.0     1.248744   5.431849  ...     0.00     0.00    57.00\n",
              "\n",
              "[36 rows x 8 columns]"
            ]
          },
          "metadata": {
            "tags": []
          },
          "execution_count": 15
        }
      ]
    },
    {
      "cell_type": "markdown",
      "metadata": {
        "id": "5GLG7voKeQh3",
        "colab_type": "text"
      },
      "source": [
        "### Preparing Data"
      ]
    },
    {
      "cell_type": "markdown",
      "metadata": {
        "id": "dL35dIISeQh4",
        "colab_type": "text"
      },
      "source": [
        "For Precipitation Prediction"
      ]
    },
    {
      "cell_type": "code",
      "metadata": {
        "id": "-EVEfmLXeQh8",
        "colab_type": "code",
        "colab": {}
      },
      "source": [
        "y_data = df['precipm']\n",
        "x_data = df.drop(['precipm'], axis=1)"
      ],
      "execution_count": 0,
      "outputs": []
    },
    {
      "cell_type": "code",
      "metadata": {
        "id": "ADdL4ZwaeQiD",
        "colab_type": "code",
        "colab": {
          "base_uri": "https://localhost:8080/",
          "height": 51
        },
        "outputId": "9db14ee3-05bb-497e-f8bd-71a7ba72416c"
      },
      "source": [
        "print('Shape of X: {}'.format(x_data.shape))\n",
        "print('Shape of Y: {}'.format(y_data.shape))"
      ],
      "execution_count": 17,
      "outputs": [
        {
          "output_type": "stream",
          "text": [
            "Shape of X: (677, 35)\n",
            "Shape of Y: (677,)\n"
          ],
          "name": "stdout"
        }
      ]
    },
    {
      "cell_type": "markdown",
      "metadata": {
        "id": "phskDi67eQiP",
        "colab_type": "text"
      },
      "source": [
        "#### Split Train and Test Data\n"
      ]
    },
    {
      "cell_type": "code",
      "metadata": {
        "id": "GZLyrvNUeQiR",
        "colab_type": "code",
        "colab": {}
      },
      "source": [
        "# Split into Training and Test Set\n",
        "x_train, x_test, y_train, y_test = train_test_split(x_data, y_data, test_size=0.2)"
      ],
      "execution_count": 0,
      "outputs": []
    },
    {
      "cell_type": "code",
      "metadata": {
        "id": "ZlCniOYbeQiZ",
        "colab_type": "code",
        "colab": {}
      },
      "source": [
        "# Change them all to numpy array for faster computation\n",
        "x_train = np.array(x_train)\n",
        "x_test = np.array(x_test)\n",
        "y_train = np.array(y_train)\n",
        "y_test = np.array(y_test)"
      ],
      "execution_count": 0,
      "outputs": []
    },
    {
      "cell_type": "code",
      "metadata": {
        "id": "01G3IG3AeQif",
        "colab_type": "code",
        "colab": {
          "base_uri": "https://localhost:8080/",
          "height": 51
        },
        "outputId": "d93f616f-9eaf-405e-c8bd-2b9137fc5a8e"
      },
      "source": [
        "# Print Final Shapes of Sets\n",
        "print('Training Set : X -> {}, Y -> {}'.format(x_train.shape, y_train.shape))\n",
        "print('Testing Set: X -> {}, Y -> {}'.format(x_test.shape, y_test.shape))"
      ],
      "execution_count": 20,
      "outputs": [
        {
          "output_type": "stream",
          "text": [
            "Training Set : X -> (541, 35), Y -> (541,)\n",
            "Testing Set: X -> (136, 35), Y -> (136,)\n"
          ],
          "name": "stdout"
        }
      ]
    },
    {
      "cell_type": "markdown",
      "metadata": {
        "id": "_uwRj8KEeQii",
        "colab_type": "text"
      },
      "source": [
        "#### Now we have Training Set, Validation Set and Testing Set"
      ]
    },
    {
      "cell_type": "markdown",
      "metadata": {
        "id": "Gri2KvwTeQik",
        "colab_type": "text"
      },
      "source": [
        "##### 1. Applying Linear Regression"
      ]
    },
    {
      "cell_type": "code",
      "metadata": {
        "id": "NXFFxevpeQim",
        "colab_type": "code",
        "colab": {},
        "outputId": "b44bd202-bc78-43b8-ce54-81b33c864590"
      },
      "source": [
        "lin_reg = LinearRegression()\n",
        "lin_reg.fit(x_train, y_train)"
      ],
      "execution_count": 0,
      "outputs": [
        {
          "output_type": "execute_result",
          "data": {
            "text/plain": [
              "LinearRegression(copy_X=True, fit_intercept=True, n_jobs=None,\n",
              "         normalize=False)"
            ]
          },
          "metadata": {
            "tags": []
          },
          "execution_count": 141
        }
      ]
    },
    {
      "cell_type": "code",
      "metadata": {
        "id": "Q4MELKmJeQiv",
        "colab_type": "code",
        "colab": {}
      },
      "source": [
        "y_test_predicted = lin_reg.predict(x_test)"
      ],
      "execution_count": 0,
      "outputs": []
    },
    {
      "cell_type": "code",
      "metadata": {
        "id": "KS4SvidIeQiz",
        "colab_type": "code",
        "colab": {},
        "outputId": "de919cbd-8a26-4fe7-8565-e3c3699feed9"
      },
      "source": [
        "# Root Mean Square Error\n",
        "lin_rmse = np.round(np.sqrt(mean_squared_error(y_test,y_test_predicted)), 5)\n",
        "print('Root Mean Square Error: {}'.format(lin_rmse))\n",
        "\n",
        "# R2 Score\n",
        "lin_r2 = np.round(r2_score(y_test,y_test_predicted), 5)\n",
        "print('R2 Score : {}'.format(lin_r2))\n"
      ],
      "execution_count": 0,
      "outputs": [
        {
          "output_type": "stream",
          "text": [
            "Root Mean Square Error: 3.68219\n",
            "R2 Score : -0.00576\n"
          ],
          "name": "stdout"
        }
      ]
    },
    {
      "cell_type": "markdown",
      "metadata": {
        "id": "Ej62vwPieQi6",
        "colab_type": "text"
      },
      "source": [
        "##### 2. Fitting Polynomial Regression"
      ]
    },
    {
      "cell_type": "code",
      "metadata": {
        "id": "CIPxwpkNeQi7",
        "colab_type": "code",
        "colab": {}
      },
      "source": [
        "from sklearn.preprocessing import PolynomialFeatures"
      ],
      "execution_count": 0,
      "outputs": []
    },
    {
      "cell_type": "code",
      "metadata": {
        "id": "DW0UVL66eQi9",
        "colab_type": "code",
        "colab": {}
      },
      "source": [
        "polynomial_history = []"
      ],
      "execution_count": 0,
      "outputs": []
    },
    {
      "cell_type": "code",
      "metadata": {
        "id": "1dUZ1bGLeQjC",
        "colab_type": "code",
        "colab": {},
        "outputId": "fc6241b8-8181-4836-ce3d-3edaa9e6b271"
      },
      "source": [
        "for degree in range(2,5):\n",
        "\n",
        "    polynomial_features= PolynomialFeatures(degree=degree)\n",
        "    x_train_poly = polynomial_features.fit_transform(x_train)\n",
        "    x_test_poly = polynomial_features.fit_transform(x_test)\n",
        "    lin_reg = LinearRegression()\n",
        "    lin_reg.fit(x_train_poly, y_train)\n",
        "    y_test_poly_predicted = lin_reg.predict(x_test_poly)\n",
        "    rmse = np.round(np.sqrt(mean_squared_error(y_test, y_test_poly_predicted)), 5)\n",
        "    print('Root Mean Square Error: {}'.format(rmse))\n",
        "    \n",
        "    # R2 Score\n",
        "    r2 = np.round(r2_score(y_test,y_test_poly_predicted), 5)\n",
        "    print('R2 Score : {}'.format(r2))\n",
        "    \n",
        "    polynomial_history.append((degree, rmse))\n",
        "    "
      ],
      "execution_count": 0,
      "outputs": [
        {
          "output_type": "stream",
          "text": [
            "Root Mean Square Error: 31.584\n",
            "R2 Score : -55.41844\n",
            "Root Mean Square Error: 21.62843\n",
            "R2 Score : -25.45679\n",
            "Root Mean Square Error: 20.18192\n",
            "R2 Score : -22.03625\n"
          ],
          "name": "stdout"
        }
      ]
    },
    {
      "cell_type": "markdown",
      "metadata": {
        "id": "oH_ibgWbeQjE",
        "colab_type": "text"
      },
      "source": [
        "#### Plotting Linear Regression with Polynomial Regression RMSE"
      ]
    },
    {
      "cell_type": "code",
      "metadata": {
        "id": "hkP48a6PeQjF",
        "colab_type": "code",
        "colab": {},
        "outputId": "620c9bd7-b591-4164-d97a-c427bda4be09"
      },
      "source": [
        "plt.figure(figsize=(12,8))\n",
        "plt.title('Linear Regression and Polynomial Regression with their RMSE Value')\n",
        "plt.xlabel('Different Regressions of Different Polynomials')\n",
        "plt.ylabel('Root Mean Square Error')\n",
        "bar_heights = plt.bar(['Linear Regression'] + ['Polynomial of Degree {}'.format(x[0]) for x in polynomial_history], [lin_rmse] + [x[1] for x in polynomial_history])\n",
        "for rect in bar_heights:\n",
        "    height = rect.get_height()\n",
        "    plt.text(rect.get_x() + rect.get_width()/2.0, height, '{}'.format(height), ha='center', va='bottom')\n",
        "plt.show()"
      ],
      "execution_count": 0,
      "outputs": [
        {
          "output_type": "display_data",
          "data": {
            "image/png": "[encoded data removed]",
            "text/plain": [
              "<Figure size 864x576 with 1 Axes>"
            ]
          },
          "metadata": {
            "tags": [],
            "needs_background": "light"
          }
        }
      ]
    },
    {
      "cell_type": "markdown",
      "metadata": {
        "id": "pdTkZIJLeQjI",
        "colab_type": "text"
      },
      "source": [
        "#### Therefore, In case of Regression the Minimum Value of Root Mean Square Error is seen in ***Linear Regression***"
      ]
    },
    {
      "cell_type": "markdown",
      "metadata": {
        "id": "rTJGQozMeQjK",
        "colab_type": "text"
      },
      "source": [
        "##### 2. Recursive Feature Selection on Linear Regression\n",
        "We will use Wrapper Method of Recursive Feature Selection"
      ]
    },
    {
      "cell_type": "code",
      "metadata": {
        "id": "01m9N58neQjL",
        "colab_type": "code",
        "colab": {}
      },
      "source": [
        "lin_reg_fs = LinearRegression()\n",
        "rfe = RFE(lin_reg_fs, 10)\n",
        "fit = rfe.fit(x_data, y_data)"
      ],
      "execution_count": 0,
      "outputs": []
    },
    {
      "cell_type": "code",
      "metadata": {
        "id": "7KW5NK9yeQjO",
        "colab_type": "code",
        "colab": {},
        "outputId": "f3ddc879-f39f-4875-fe49-ba52f9d266fb"
      },
      "source": [
        "print(\"Num Features: {}\".format(fit.n_features_))\n",
        "print(\"Selected Features: {}\".format(fit.support_))\n",
        "print(\"Feature Ranking: {}\".format(fit.ranking_))"
      ],
      "execution_count": 0,
      "outputs": [
        {
          "output_type": "stream",
          "text": [
            "Num Features: 10\n",
            "Selected Features: [False  True  True False  True  True False False False False False False\n",
            "  True False False  True  True False False False False  True False False\n",
            "  True False False False False  True False False False False False]\n",
            "Feature Ranking: [26  1  1  9  1  1 11 24 19 15 17  5  1  4 12  1  1  8 23 25 13  1 21  7\n",
            "  1  6 16 20 22  1 10  3  2 14 18]\n"
          ],
          "name": "stdout"
        }
      ]
    },
    {
      "cell_type": "code",
      "metadata": {
        "id": "HJaS9GKBeQjR",
        "colab_type": "code",
        "colab": {},
        "outputId": "87a37fc8-cac2-47cf-a913-160af5ff8148"
      },
      "source": [
        "x_feature_selected_data = rfe.transform(x_data)\n",
        "x_feature_selected_data.shape"
      ],
      "execution_count": 0,
      "outputs": [
        {
          "output_type": "execute_result",
          "data": {
            "text/plain": [
              "(677, 10)"
            ]
          },
          "metadata": {
            "tags": []
          },
          "execution_count": 196
        }
      ]
    },
    {
      "cell_type": "markdown",
      "metadata": {
        "id": "0puMXIwBeQjU",
        "colab_type": "text"
      },
      "source": [
        "Now Splitting the data to train and test set"
      ]
    },
    {
      "cell_type": "code",
      "metadata": {
        "id": "0s5dMTFSeQjW",
        "colab_type": "code",
        "colab": {},
        "outputId": "9c8d5f1b-f4a2-4f22-d262-aa42a734ebfe"
      },
      "source": [
        "x_train, x_test, y_train, y_test = train_test_split(x_data, y_data, test_size=0.2)\n",
        "print(x_train.shape, y_train.shape, x_test.shape, y_test.shape)"
      ],
      "execution_count": 0,
      "outputs": [
        {
          "output_type": "stream",
          "text": [
            "(541, 35) (541,) (136, 35) (136,)\n"
          ],
          "name": "stdout"
        }
      ]
    },
    {
      "cell_type": "code",
      "metadata": {
        "id": "CZZPXfdJeQja",
        "colab_type": "code",
        "colab": {},
        "outputId": "c30c769d-05a5-4c44-e58a-dfc65aaea83e"
      },
      "source": [
        "lin_reg_fs.fit(x_train, y_train)"
      ],
      "execution_count": 0,
      "outputs": [
        {
          "output_type": "execute_result",
          "data": {
            "text/plain": [
              "LinearRegression(copy_X=True, fit_intercept=True, n_jobs=None,\n",
              "         normalize=False)"
            ]
          },
          "metadata": {
            "tags": []
          },
          "execution_count": 198
        }
      ]
    },
    {
      "cell_type": "code",
      "metadata": {
        "id": "3N2k_WhXeQjd",
        "colab_type": "code",
        "colab": {}
      },
      "source": [
        "y_predicted = lin_reg_fs.predict(x_test)"
      ],
      "execution_count": 0,
      "outputs": []
    },
    {
      "cell_type": "code",
      "metadata": {
        "id": "oK4MNxiLeQji",
        "colab_type": "code",
        "colab": {},
        "outputId": "16ff5605-b1b1-4f33-c2d6-c955c0a17a10"
      },
      "source": [
        "lin_rmse_fs = np.round(np.sqrt(mean_squared_error(y_test,y_predicted)), 5)\n",
        "print('Root Mean Square Error: {}'.format(lin_rmse_fs))\n",
        "\n",
        "lin_r2 = np.round(r2_score(y_test,y_predicted), 5)\n",
        "print('R2 Score : {}'.format(lin_r2))\n"
      ],
      "execution_count": 0,
      "outputs": [
        {
          "output_type": "stream",
          "text": [
            "Root Mean Square Error: 3.43921\n",
            "R2 Score : 0.3935\n"
          ],
          "name": "stdout"
        }
      ]
    },
    {
      "cell_type": "code",
      "metadata": {
        "id": "Ntz-ZpMUeQjl",
        "colab_type": "code",
        "colab": {},
        "outputId": "400377db-3240-430c-85ad-44dcc8648c99"
      },
      "source": [
        "plt.figure(figsize=(18,8))\n",
        "plt.title('Linear Regression and Polynomial Regression with their RMSE Value')\n",
        "plt.xlabel('Different Regressions of Different Polynomials')\n",
        "plt.ylabel('Root Mean Square Error')\n",
        "bar_heights = plt.bar(['Linear Regression'] + ['Polynomial of Degree {}'.format(x[0]) for x in polynomial_history] + ['Linear Regression After Feature Selection'], [lin_rmse] + [x[1] for x in polynomial_history] + [lin_rmse_fs] )\n",
        "for rect in bar_heights:\n",
        "    height = rect.get_height()\n",
        "    plt.text(rect.get_x() + rect.get_width()/2.0, height, '{}'.format(height), ha='center', va='bottom')\n",
        "plt.show()"
      ],
      "execution_count": 0,
      "outputs": [
        {
          "output_type": "display_data",
          "data": {
            "image/png": "[encoded data removed]",
            "text/plain": [
              "<Figure size 1296x576 with 1 Axes>"
            ]
          },
          "metadata": {
            "tags": [],
            "needs_background": "light"
          }
        }
      ]
    },
    {
      "cell_type": "markdown",
      "metadata": {
        "id": "TYaLZjHaeQjv",
        "colab_type": "text"
      },
      "source": [
        "## Feature Selection Reduced the Mean Square Error thus with Feature Selection we got a better fit"
      ]
    },
    {
      "cell_type": "markdown",
      "metadata": {
        "id": "z-z9JYD1eQjx",
        "colab_type": "text"
      },
      "source": [
        "# Lets Analysis The response of Neural Netoworks in This Scenario"
      ]
    },
    {
      "cell_type": "markdown",
      "metadata": {
        "id": "hoGxAMKgf0HK",
        "colab_type": "text"
      },
      "source": [
        "Normalizing The Data"
      ]
    },
    {
      "cell_type": "code",
      "metadata": {
        "id": "K3hjuWQieQjz",
        "colab_type": "code",
        "colab": {}
      },
      "source": [
        "scaler = MinMaxScaler(feature_range=(0, 1))\n",
        "x_data_scaled = scaler.fit_transform(x_data)"
      ],
      "execution_count": 0,
      "outputs": []
    },
    {
      "cell_type": "code",
      "metadata": {
        "id": "SscLu4hlge_b",
        "colab_type": "code",
        "colab": {}
      },
      "source": [
        "x_data_scaled = pd.DataFrame(x_data_scaled, columns=x_data.columns)"
      ],
      "execution_count": 0,
      "outputs": []
    },
    {
      "cell_type": "code",
      "metadata": {
        "id": "81-G94zphSZK",
        "colab_type": "code",
        "colab": {
          "base_uri": "https://localhost:8080/",
          "height": 34
        },
        "outputId": "5147bc62-b94e-45f4-9a92-1adac2c6f710"
      },
      "source": [
        "x_data_scaled.shape"
      ],
      "execution_count": 81,
      "outputs": [
        {
          "output_type": "execute_result",
          "data": {
            "text/plain": [
              "(677, 35)"
            ]
          },
          "metadata": {
            "tags": []
          },
          "execution_count": 81
        }
      ]
    },
    {
      "cell_type": "code",
      "metadata": {
        "id": "H84Ow8RqkZOc",
        "colab_type": "code",
        "colab": {}
      },
      "source": [
        "# y_data_scaled = df_scaled_data['precipm']\n",
        "# x_data_scaled = df_scaled_data.drop(['precipm'], axis=1)"
      ],
      "execution_count": 0,
      "outputs": []
    },
    {
      "cell_type": "code",
      "metadata": {
        "id": "Xi_oG86kjRxw",
        "colab_type": "code",
        "colab": {}
      },
      "source": [
        "x_train_scaled, x_test_scaled, y_train , y_test = train_test_split(x_data_scaled, y_data)"
      ],
      "execution_count": 0,
      "outputs": []
    },
    {
      "cell_type": "code",
      "metadata": {
        "id": "3vUR67IYh8b-",
        "colab_type": "code",
        "colab": {}
      },
      "source": [
        "model = Sequential()\n",
        "\n",
        "model.add(Dense(35, activation='relu', input_shape=x_train_scaled.iloc[0].shape))\n",
        "model.add(Dropout(0.3))\n",
        "model.add(Dense(100, activation='relu'))\n",
        "model.add(Dropout(0.2))\n",
        "model.add(Dense(200, activation='relu'))\n",
        "model.add(Dropout(0.2))\n",
        "model.add(Dense(100, activation='relu'))\n",
        "model.add(Dropout(0.2))\n",
        "model.add(Dense(50, activation='relu'))\n",
        "model.add(Dense(1))\n",
        "\n",
        "model.compile(loss='mean_squared_error', optimizer='adam')\n",
        "model.summary()"
      ],
      "execution_count": 0,
      "outputs": []
    },
    {
      "cell_type": "code",
      "metadata": {
        "id": "qp23tcLJiz1K",
        "colab_type": "code",
        "colab": {
          "base_uri": "https://localhost:8080/",
          "height": 34
        },
        "outputId": "3f15b09b-89f8-4e4c-fabc-aac47499ba95"
      },
      "source": [
        "model.fit(x_train_scaled, y_train, epochs=200, verbose=0)"
      ],
      "execution_count": 93,
      "outputs": [
        {
          "output_type": "execute_result",
          "data": {
            "text/plain": [
              "<keras.callbacks.History at 0x7f826014b0b8>"
            ]
          },
          "metadata": {
            "tags": []
          },
          "execution_count": 93
        }
      ]
    },
    {
      "cell_type": "code",
      "metadata": {
        "id": "_LatEZoujFil",
        "colab_type": "code",
        "colab": {}
      },
      "source": [
        "y_predicted_scaled = model.predict(x_test_scaled)"
      ],
      "execution_count": 0,
      "outputs": []
    },
    {
      "cell_type": "code",
      "metadata": {
        "id": "sdiLymlrlqsl",
        "colab_type": "code",
        "colab": {
          "base_uri": "https://localhost:8080/",
          "height": 34
        },
        "outputId": "4035badb-d9c2-4454-eac8-d8a9d68330a5"
      },
      "source": [
        "nn_rmse = np.round(np.sqrt(mean_squared_error(y_test,y_predicted_scaled)), 5)\n",
        "print('Root Mean Square Error: {}'.format(nn_rmse))"
      ],
      "execution_count": 95,
      "outputs": [
        {
          "output_type": "stream",
          "text": [
            "Root Mean Square Error: 6.49106\n"
          ],
          "name": "stdout"
        }
      ]
    },
    {
      "cell_type": "code",
      "metadata": {
        "id": "wXVq5R4yl1a9",
        "colab_type": "code",
        "colab": {}
      },
      "source": [
        ""
      ],
      "execution_count": 0,
      "outputs": []
    }
  ]
}