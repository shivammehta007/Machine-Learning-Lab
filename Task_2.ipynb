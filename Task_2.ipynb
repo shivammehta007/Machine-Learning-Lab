{
 "cells": [
  {
   "cell_type": "code",
   "execution_count": 24,
   "metadata": {},
   "outputs": [],
   "source": [
    "import numpy as np"
   ]
  },
  {
   "cell_type": "code",
   "execution_count": 39,
   "metadata": {},
   "outputs": [],
   "source": [
    "class Scores:\n",
    "    def __init__(self, confusion_matrix):\n",
    "        self.confusion_matrix = confusion_matrix\n",
    "        if not self.isSquare(self.confusion_matrix):\n",
    "            raise ArithmeticError('Confusion Matrix is not square Matrix')\n",
    "            exit()\n",
    "        self.values = {}\n",
    "        self.weighted_average_precision = 0.0\n",
    "        self.weighted_average_recall = 0.0\n",
    "        self.macro_f1_score = 0.0\n",
    "        self.micro_f1_score = 0.0\n",
    "\n",
    "    def isSquare(self,m): return all(len(row) == len(m) for row in m)\n",
    "\n",
    "    def calculate_precision(self,label):\n",
    "        with np.errstate(all='raise'):\n",
    "            try:\n",
    "                return round(self.confusion_matrix[label, label] / self.confusion_matrix[:,label].sum() , 3)\n",
    "            except:\n",
    "                return 0.0\n",
    "\n",
    "    def calculate_recall(self, label):\n",
    "        with np.errstate(all='raise'):\n",
    "            try:\n",
    "                return round(self.confusion_matrix[label, label] / self.confusion_matrix[label, :].sum() , 3)\n",
    "            except:\n",
    "                return 0.0\n",
    "\n",
    "    def calculate_F1Score(self, precision, recall):\n",
    "        if precision + recall:\n",
    "            return round(2 * precision * recall / (precision + recall), 3)\n",
    "        else:\n",
    "            return 0.0\n",
    "\n",
    "    def calculate_weighted_average_precision_and_recall(self):\n",
    "\n",
    "        total_precision = 0.0\n",
    "        total_recall = 0.0\n",
    "\n",
    "        for label in range(len(self.confusion_matrix)):\n",
    "            weight = self.confusion_matrix[label, : ].sum() / self.confusion_matrix.sum()\n",
    "            values_for_this_label = self.values[label]\n",
    "            self.weighted_average_precision += weight * values_for_this_label['Precision']\n",
    "            self.weighted_average_recall += weight * values_for_this_label['Recall']\n",
    "            self.micro_f1_score += weight * values_for_this_label['F1Score']    # < ------------------- added weight I changed here\n",
    "            total_precision += weight * values_for_this_label['Precision']\n",
    "            total_recall += weight * values_for_this_label['Recall']\n",
    "\n",
    "\n",
    "        self.weighted_average_precision = round(self.weighted_average_precision, 3)\n",
    "        self.weighted_average_recall = round(self.weighted_average_recall, 3)\n",
    "        self.micro_f1_score /= len(self.confusion_matrix)\n",
    "        self.micro_f1_score = round(self.micro_f1_score * len(self.confusion_matrix), 3)\n",
    "\n",
    "        self.macro_f1_score = round(self.calculate_F1Score(total_precision, total_recall) , 3)\n",
    "\n",
    "    def calculate_matrices(self):\n",
    "        for label in range(len(self.confusion_matrix)):\n",
    "            precision = self.calculate_precision(label)\n",
    "            recall = self.calculate_recall(label)\n",
    "            f1_score = self.calculate_F1Score(precision, recall)\n",
    "            self.values[label] = {'Precision' : precision,\n",
    "                                  'Recall' : recall,\n",
    "                                  'F1Score': f1_score}\n",
    "\n",
    "        self.calculate_weighted_average_precision_and_recall()\n",
    "\n",
    "\n",
    "    def __str__(self):\n",
    "        print('{:<28}{:<28}{:<28}{:<28}'.format('Label', 'Precision', 'Recall', 'F1 Score'))\n",
    "        for label in range(len(self.confusion_matrix)):\n",
    "            print('{:<28}{:<28}{:<28}{:<28}'.format(label+1, self.values[label]['Precision'], self.values[label]['Recall'], self.values[label]['F1Score']))\n",
    "\n",
    "        print('Weighted average precision : {}'.format(self.weighted_average_precision))\n",
    "        print('Weighted average recall : {}'.format(self.weighted_average_recall))\n",
    "        print('Macro F1-score : {}'.format(self.macro_f1_score))\n",
    "        print('Micro F1-Score : {}'.format(self.micro_f1_score))\n",
    "        return ''\n"
   ]
  },
  {
   "cell_type": "code",
   "execution_count": 40,
   "metadata": {},
   "outputs": [
    {
     "name": "stdout",
     "output_type": "stream",
     "text": [
      "Enter the number of Classes:2\n",
      "1 0\n",
      "0 0\n",
      "Label                       Precision                   Recall                      F1 Score                    \n",
      "1                           1.0                         1.0                         1.0                         \n",
      "2                           0.0                         0.0                         0.0                         \n",
      "Weighted average precision : 1.0\n",
      "Weighted average recall : 1.0\n",
      "Macro F1-score : 1.0\n",
      "Micro F1-Score : 1.0\n",
      "\n"
     ]
    }
   ],
   "source": [
    "number = int(input('Enter the number of Classes:'))\n",
    "cm = []\n",
    "for i in range(number):\n",
    "    cm.append(list(map(int, input().split())))\n",
    "\n",
    "\n",
    "cm = np.array(cm)\n",
    "scores = Scores(cm)\n",
    "scores.calculate_matrices()\n",
    "print(scores)"
   ]
  },
  {
   "cell_type": "code",
   "execution_count": 41,
   "metadata": {},
   "outputs": [
    {
     "name": "stdout",
     "output_type": "stream",
     "text": [
      "Enter the number of Classes:3\n",
      "3 1 1\n",
      "3 1 1\n",
      "1 3 1\n",
      "Label                       Precision                   Recall                      F1 Score                    \n",
      "1                           0.429                       0.6                         0.5                         \n",
      "2                           0.2                         0.2                         0.2                         \n",
      "3                           0.333                       0.2                         0.25                        \n",
      "Weighted average precision : 0.321\n",
      "Weighted average recall : 0.333\n",
      "Macro F1-score : 0.327\n",
      "Micro F1-Score : 0.317\n",
      "\n"
     ]
    }
   ],
   "source": [
    "number = int(input('Enter the number of Classes:'))\n",
    "cm = []\n",
    "for i in range(number):\n",
    "    cm.append(list(map(int, input().split())))\n",
    "\n",
    "\n",
    "cm = np.array(cm)\n",
    "scores = Scores(cm)\n",
    "scores.calculate_matrices()\n",
    "print(scores)"
   ]
  },
  {
   "cell_type": "code",
   "execution_count": 42,
   "metadata": {},
   "outputs": [
    {
     "name": "stdout",
     "output_type": "stream",
     "text": [
      "Enter the number of Classes:2\n",
      "0 1\n",
      "1 3\n",
      "Label                       Precision                   Recall                      F1 Score                    \n",
      "1                           0.0                         0.0                         0.0                         \n",
      "2                           0.75                        0.75                        0.75                        \n",
      "Weighted average precision : 0.6\n",
      "Weighted average recall : 0.6\n",
      "Macro F1-score : 0.6\n",
      "Micro F1-Score : 0.6\n",
      "\n"
     ]
    }
   ],
   "source": [
    "number = int(input('Enter the number of Classes:'))\n",
    "cm = []\n",
    "for i in range(number):\n",
    "    cm.append(list(map(int, input().split())))\n",
    "\n",
    "\n",
    "cm = np.array(cm)\n",
    "scores = Scores(cm)\n",
    "scores.calculate_matrices()\n",
    "print(scores)"
   ]
  },
  {
   "cell_type": "code",
   "execution_count": null,
   "metadata": {},
   "outputs": [],
   "source": []
  }
 ],
 "metadata": {
  "kernelspec": {
   "display_name": "Python 3",
   "language": "python",
   "name": "python3"
  },
  "language_info": {
   "codemirror_mode": {
    "name": "ipython",
    "version": 3
   },
   "file_extension": ".py",
   "mimetype": "text/x-python",
   "name": "python",
   "nbconvert_exporter": "python",
   "pygments_lexer": "ipython3",
   "version": "3.6.7"
  }
 },
 "nbformat": 4,
 "nbformat_minor": 2
}
