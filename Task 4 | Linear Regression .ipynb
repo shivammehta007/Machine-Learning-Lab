{
 "cells": [
  {
   "cell_type": "code",
   "execution_count": 104,
   "metadata": {},
   "outputs": [],
   "source": [
    "import numpy as np\n",
    "import matplotlib.pyplot as plt\n",
    "import pandas as pd\n",
    "from os import path\n",
    "%matplotlib inline"
   ]
  },
  {
   "cell_type": "code",
   "execution_count": 105,
   "metadata": {},
   "outputs": [],
   "source": [
    "# Read data\n",
    "data = pd.read_csv('Task4DataSet/02_train.csv')"
   ]
  },
  {
   "cell_type": "code",
   "execution_count": 120,
   "metadata": {},
   "outputs": [],
   "source": [
    "def clean_data(data):\n",
    "    new_data = []\n",
    "    data = np.array(data.T)\n",
    "    for row in data:\n",
    "        if row.max() == row.min():\n",
    "            continue\n",
    "        else:\n",
    "            new_data.append(row)\n",
    "    \n",
    "    new_data = pd.DataFrame(new_data).T\n",
    "    return new_data"
   ]
  },
  {
   "cell_type": "code",
   "execution_count": 121,
   "metadata": {},
   "outputs": [],
   "source": [
    "data = clean_data(data)"
   ]
  },
  {
   "cell_type": "code",
   "execution_count": 124,
   "metadata": {},
   "outputs": [],
   "source": [
    "test_data = pd.read_csv('Task4DataSet/02_test.csv')\n",
    "test_data = clean_data(test_data)"
   ]
  },
  {
   "cell_type": "code",
   "execution_count": 125,
   "metadata": {},
   "outputs": [],
   "source": [
    "# # Normalize the data\n",
    "# def norm(x):\n",
    "#     return (x - np.mean(x)) / np.std(x)\n",
    "\n",
    "# data = data.apply(norm, axis=0)\n",
    "data = data.dropna(axis=1, how='all')\n",
    "# test_data = test_data.apply(norm, axis=0)\n",
    "test_data = test_data.dropna(axis=0, how='all')"
   ]
  },
  {
   "cell_type": "code",
   "execution_count": 126,
   "metadata": {},
   "outputs": [],
   "source": [
    "def normalize(data):\n",
    "    data = data.T\n",
    "    data = np.array(data)\n",
    "    mean_std = {'mean': [],\n",
    "                'std': [] }\n",
    "    normalized_data = []\n",
    "    for values in data:\n",
    "        normalized_data.append((values - np.mean(values)) /np.std(values))\n",
    "        mean_std['mean'].append(np.mean(values))\n",
    "        mean_std['std'].append(np.std(values))\n",
    "    \n",
    "    normalized_data = pd.DataFrame(normalized_data)\n",
    "    return normalized_data.T, mean_std\n",
    "\n",
    "        \n",
    "        "
   ]
  },
  {
   "cell_type": "code",
   "execution_count": 127,
   "metadata": {},
   "outputs": [],
   "source": [
    "# def normalize_with_mean_and_std(data, mean_std_dict):\n",
    "#     data = data.T\n",
    "#     data = np.array(data)\n",
    "#     print(data.shape, len(mean_std_dict['mean']))\n",
    "#     normalized_data = []\n",
    "#     for i,values in enumerate(data):\n",
    "#         normalized_data.append( (values - mean_std_dict['mean'][i]) / mean_std_dict['std'][i])\n",
    "    \n",
    "#     normalized_data = pd.DataFrame(normalized_data)\n",
    "#     return normalized_data.T\n",
    "    "
   ]
  },
  {
   "cell_type": "code",
   "execution_count": 128,
   "metadata": {},
   "outputs": [],
   "source": [
    "data , std= normalize(data)"
   ]
  },
  {
   "cell_type": "code",
   "execution_count": 129,
   "metadata": {},
   "outputs": [
    {
     "data": {
      "text/plain": [
       "219"
      ]
     },
     "execution_count": 129,
     "metadata": {},
     "output_type": "execute_result"
    }
   ],
   "source": [
    "len(std['mean'])"
   ]
  },
  {
   "cell_type": "code",
   "execution_count": 130,
   "metadata": {},
   "outputs": [],
   "source": [
    "# test_data = normalize_with_mean_and_std(test_data, std)"
   ]
  },
  {
   "cell_type": "code",
   "execution_count": 131,
   "metadata": {},
   "outputs": [],
   "source": [
    "data = data.dropna(axis=1, how='all')\n",
    "test_data = data.dropna(axis=1, how='all')\n",
    "test_data.insert(loc=0,column='1',value=np.ones(len(test_data))) "
   ]
  },
  {
   "cell_type": "code",
   "execution_count": 132,
   "metadata": {},
   "outputs": [
    {
     "name": "stdout",
     "output_type": "stream",
     "text": [
      "(4418, 220)\n"
     ]
    }
   ],
   "source": [
    "print(test_data.shape)"
   ]
  },
  {
   "cell_type": "code",
   "execution_count": 133,
   "metadata": {},
   "outputs": [
    {
     "name": "stdout",
     "output_type": "stream",
     "text": [
      "(4418, 219)\n"
     ]
    }
   ],
   "source": [
    "print(data.shape)"
   ]
  },
  {
   "cell_type": "code",
   "execution_count": 134,
   "metadata": {},
   "outputs": [
    {
     "data": {
      "text/html": [
       "<div>\n",
       "<style scoped>\n",
       "    .dataframe tbody tr th:only-of-type {\n",
       "        vertical-align: middle;\n",
       "    }\n",
       "\n",
       "    .dataframe tbody tr th {\n",
       "        vertical-align: top;\n",
       "    }\n",
       "\n",
       "    .dataframe thead th {\n",
       "        text-align: right;\n",
       "    }\n",
       "</style>\n",
       "<table border=\"1\" class=\"dataframe\">\n",
       "  <thead>\n",
       "    <tr style=\"text-align: right;\">\n",
       "      <th></th>\n",
       "      <th>0</th>\n",
       "      <th>1</th>\n",
       "      <th>2</th>\n",
       "      <th>3</th>\n",
       "      <th>4</th>\n",
       "      <th>5</th>\n",
       "      <th>6</th>\n",
       "      <th>7</th>\n",
       "      <th>8</th>\n",
       "      <th>9</th>\n",
       "      <th>...</th>\n",
       "      <th>209</th>\n",
       "      <th>210</th>\n",
       "      <th>211</th>\n",
       "      <th>212</th>\n",
       "      <th>213</th>\n",
       "      <th>214</th>\n",
       "      <th>215</th>\n",
       "      <th>216</th>\n",
       "      <th>217</th>\n",
       "      <th>218</th>\n",
       "    </tr>\n",
       "  </thead>\n",
       "  <tbody>\n",
       "    <tr>\n",
       "      <th>0</th>\n",
       "      <td>-0.579714</td>\n",
       "      <td>-0.077113</td>\n",
       "      <td>-1.633070</td>\n",
       "      <td>-1.110431</td>\n",
       "      <td>0.581960</td>\n",
       "      <td>1.523532</td>\n",
       "      <td>-0.394176</td>\n",
       "      <td>1.382873</td>\n",
       "      <td>-1.332836</td>\n",
       "      <td>1.022412</td>\n",
       "      <td>...</td>\n",
       "      <td>1.162597</td>\n",
       "      <td>-0.074094</td>\n",
       "      <td>0.397552</td>\n",
       "      <td>1.454982</td>\n",
       "      <td>0.801484</td>\n",
       "      <td>0.681071</td>\n",
       "      <td>-0.895976</td>\n",
       "      <td>0.653857</td>\n",
       "      <td>-1.151957</td>\n",
       "      <td>-3.480289</td>\n",
       "    </tr>\n",
       "    <tr>\n",
       "      <th>1</th>\n",
       "      <td>1.030099</td>\n",
       "      <td>-0.289189</td>\n",
       "      <td>-1.939341</td>\n",
       "      <td>-0.931570</td>\n",
       "      <td>-0.666981</td>\n",
       "      <td>-0.227407</td>\n",
       "      <td>-0.011038</td>\n",
       "      <td>0.657749</td>\n",
       "      <td>-1.102381</td>\n",
       "      <td>-0.174019</td>\n",
       "      <td>...</td>\n",
       "      <td>-0.924464</td>\n",
       "      <td>-2.820143</td>\n",
       "      <td>1.946153</td>\n",
       "      <td>0.773023</td>\n",
       "      <td>-0.079000</td>\n",
       "      <td>-0.330729</td>\n",
       "      <td>1.543295</td>\n",
       "      <td>-1.260569</td>\n",
       "      <td>0.791686</td>\n",
       "      <td>-3.418385</td>\n",
       "    </tr>\n",
       "    <tr>\n",
       "      <th>2</th>\n",
       "      <td>-1.529432</td>\n",
       "      <td>1.874766</td>\n",
       "      <td>0.492129</td>\n",
       "      <td>-0.286621</td>\n",
       "      <td>-0.574553</td>\n",
       "      <td>-0.337271</td>\n",
       "      <td>0.083922</td>\n",
       "      <td>0.728985</td>\n",
       "      <td>1.344128</td>\n",
       "      <td>0.621395</td>\n",
       "      <td>...</td>\n",
       "      <td>1.097844</td>\n",
       "      <td>0.254771</td>\n",
       "      <td>0.442206</td>\n",
       "      <td>-0.065230</td>\n",
       "      <td>0.782832</td>\n",
       "      <td>0.881815</td>\n",
       "      <td>-1.441829</td>\n",
       "      <td>-0.169698</td>\n",
       "      <td>0.711008</td>\n",
       "      <td>-3.291954</td>\n",
       "    </tr>\n",
       "    <tr>\n",
       "      <th>3</th>\n",
       "      <td>0.916160</td>\n",
       "      <td>0.102234</td>\n",
       "      <td>-0.416609</td>\n",
       "      <td>1.079818</td>\n",
       "      <td>-1.156138</td>\n",
       "      <td>0.406795</td>\n",
       "      <td>-1.879076</td>\n",
       "      <td>-1.500190</td>\n",
       "      <td>-0.272538</td>\n",
       "      <td>-1.224160</td>\n",
       "      <td>...</td>\n",
       "      <td>0.595225</td>\n",
       "      <td>-1.160920</td>\n",
       "      <td>-0.060582</td>\n",
       "      <td>-0.393548</td>\n",
       "      <td>0.578735</td>\n",
       "      <td>0.264808</td>\n",
       "      <td>1.182424</td>\n",
       "      <td>-1.162125</td>\n",
       "      <td>2.411121</td>\n",
       "      <td>-3.229124</td>\n",
       "    </tr>\n",
       "    <tr>\n",
       "      <th>4</th>\n",
       "      <td>1.512003</td>\n",
       "      <td>-0.988369</td>\n",
       "      <td>0.116380</td>\n",
       "      <td>-0.651220</td>\n",
       "      <td>0.184436</td>\n",
       "      <td>-0.191325</td>\n",
       "      <td>-0.776060</td>\n",
       "      <td>-0.153408</td>\n",
       "      <td>-0.821160</td>\n",
       "      <td>-0.292016</td>\n",
       "      <td>...</td>\n",
       "      <td>-0.812206</td>\n",
       "      <td>-2.335458</td>\n",
       "      <td>-0.132038</td>\n",
       "      <td>0.151737</td>\n",
       "      <td>0.053897</td>\n",
       "      <td>0.725083</td>\n",
       "      <td>-1.402549</td>\n",
       "      <td>-2.765511</td>\n",
       "      <td>0.353703</td>\n",
       "      <td>-3.053837</td>\n",
       "    </tr>\n",
       "  </tbody>\n",
       "</table>\n",
       "<p>5 rows × 219 columns</p>\n",
       "</div>"
      ],
      "text/plain": [
       "        0         1         2         3         4         5         6    \\\n",
       "0 -0.579714 -0.077113 -1.633070 -1.110431  0.581960  1.523532 -0.394176   \n",
       "1  1.030099 -0.289189 -1.939341 -0.931570 -0.666981 -0.227407 -0.011038   \n",
       "2 -1.529432  1.874766  0.492129 -0.286621 -0.574553 -0.337271  0.083922   \n",
       "3  0.916160  0.102234 -0.416609  1.079818 -1.156138  0.406795 -1.879076   \n",
       "4  1.512003 -0.988369  0.116380 -0.651220  0.184436 -0.191325 -0.776060   \n",
       "\n",
       "        7         8         9    ...       209       210       211       212  \\\n",
       "0  1.382873 -1.332836  1.022412  ...  1.162597 -0.074094  0.397552  1.454982   \n",
       "1  0.657749 -1.102381 -0.174019  ... -0.924464 -2.820143  1.946153  0.773023   \n",
       "2  0.728985  1.344128  0.621395  ...  1.097844  0.254771  0.442206 -0.065230   \n",
       "3 -1.500190 -0.272538 -1.224160  ...  0.595225 -1.160920 -0.060582 -0.393548   \n",
       "4 -0.153408 -0.821160 -0.292016  ... -0.812206 -2.335458 -0.132038  0.151737   \n",
       "\n",
       "        213       214       215       216       217       218  \n",
       "0  0.801484  0.681071 -0.895976  0.653857 -1.151957 -3.480289  \n",
       "1 -0.079000 -0.330729  1.543295 -1.260569  0.791686 -3.418385  \n",
       "2  0.782832  0.881815 -1.441829 -0.169698  0.711008 -3.291954  \n",
       "3  0.578735  0.264808  1.182424 -1.162125  2.411121 -3.229124  \n",
       "4  0.053897  0.725083 -1.402549 -2.765511  0.353703 -3.053837  \n",
       "\n",
       "[5 rows x 219 columns]"
      ]
     },
     "execution_count": 134,
     "metadata": {},
     "output_type": "execute_result"
    }
   ],
   "source": [
    "data.head()"
   ]
  },
  {
   "cell_type": "code",
   "execution_count": 135,
   "metadata": {},
   "outputs": [],
   "source": [
    "data.insert(loc=0,column='x_0_1',value=np.ones(len(data))) "
   ]
  },
  {
   "cell_type": "code",
   "execution_count": 136,
   "metadata": {},
   "outputs": [
    {
     "data": {
      "text/html": [
       "<div>\n",
       "<style scoped>\n",
       "    .dataframe tbody tr th:only-of-type {\n",
       "        vertical-align: middle;\n",
       "    }\n",
       "\n",
       "    .dataframe tbody tr th {\n",
       "        vertical-align: top;\n",
       "    }\n",
       "\n",
       "    .dataframe thead th {\n",
       "        text-align: right;\n",
       "    }\n",
       "</style>\n",
       "<table border=\"1\" class=\"dataframe\">\n",
       "  <thead>\n",
       "    <tr style=\"text-align: right;\">\n",
       "      <th></th>\n",
       "      <th>x_0_1</th>\n",
       "      <th>0</th>\n",
       "      <th>1</th>\n",
       "      <th>2</th>\n",
       "      <th>3</th>\n",
       "      <th>4</th>\n",
       "      <th>5</th>\n",
       "      <th>6</th>\n",
       "      <th>7</th>\n",
       "      <th>8</th>\n",
       "      <th>...</th>\n",
       "      <th>209</th>\n",
       "      <th>210</th>\n",
       "      <th>211</th>\n",
       "      <th>212</th>\n",
       "      <th>213</th>\n",
       "      <th>214</th>\n",
       "      <th>215</th>\n",
       "      <th>216</th>\n",
       "      <th>217</th>\n",
       "      <th>218</th>\n",
       "    </tr>\n",
       "  </thead>\n",
       "  <tbody>\n",
       "    <tr>\n",
       "      <th>0</th>\n",
       "      <td>1.0</td>\n",
       "      <td>-0.579714</td>\n",
       "      <td>-0.077113</td>\n",
       "      <td>-1.633070</td>\n",
       "      <td>-1.110431</td>\n",
       "      <td>0.581960</td>\n",
       "      <td>1.523532</td>\n",
       "      <td>-0.394176</td>\n",
       "      <td>1.382873</td>\n",
       "      <td>-1.332836</td>\n",
       "      <td>...</td>\n",
       "      <td>1.162597</td>\n",
       "      <td>-0.074094</td>\n",
       "      <td>0.397552</td>\n",
       "      <td>1.454982</td>\n",
       "      <td>0.801484</td>\n",
       "      <td>0.681071</td>\n",
       "      <td>-0.895976</td>\n",
       "      <td>0.653857</td>\n",
       "      <td>-1.151957</td>\n",
       "      <td>-3.480289</td>\n",
       "    </tr>\n",
       "    <tr>\n",
       "      <th>1</th>\n",
       "      <td>1.0</td>\n",
       "      <td>1.030099</td>\n",
       "      <td>-0.289189</td>\n",
       "      <td>-1.939341</td>\n",
       "      <td>-0.931570</td>\n",
       "      <td>-0.666981</td>\n",
       "      <td>-0.227407</td>\n",
       "      <td>-0.011038</td>\n",
       "      <td>0.657749</td>\n",
       "      <td>-1.102381</td>\n",
       "      <td>...</td>\n",
       "      <td>-0.924464</td>\n",
       "      <td>-2.820143</td>\n",
       "      <td>1.946153</td>\n",
       "      <td>0.773023</td>\n",
       "      <td>-0.079000</td>\n",
       "      <td>-0.330729</td>\n",
       "      <td>1.543295</td>\n",
       "      <td>-1.260569</td>\n",
       "      <td>0.791686</td>\n",
       "      <td>-3.418385</td>\n",
       "    </tr>\n",
       "    <tr>\n",
       "      <th>2</th>\n",
       "      <td>1.0</td>\n",
       "      <td>-1.529432</td>\n",
       "      <td>1.874766</td>\n",
       "      <td>0.492129</td>\n",
       "      <td>-0.286621</td>\n",
       "      <td>-0.574553</td>\n",
       "      <td>-0.337271</td>\n",
       "      <td>0.083922</td>\n",
       "      <td>0.728985</td>\n",
       "      <td>1.344128</td>\n",
       "      <td>...</td>\n",
       "      <td>1.097844</td>\n",
       "      <td>0.254771</td>\n",
       "      <td>0.442206</td>\n",
       "      <td>-0.065230</td>\n",
       "      <td>0.782832</td>\n",
       "      <td>0.881815</td>\n",
       "      <td>-1.441829</td>\n",
       "      <td>-0.169698</td>\n",
       "      <td>0.711008</td>\n",
       "      <td>-3.291954</td>\n",
       "    </tr>\n",
       "    <tr>\n",
       "      <th>3</th>\n",
       "      <td>1.0</td>\n",
       "      <td>0.916160</td>\n",
       "      <td>0.102234</td>\n",
       "      <td>-0.416609</td>\n",
       "      <td>1.079818</td>\n",
       "      <td>-1.156138</td>\n",
       "      <td>0.406795</td>\n",
       "      <td>-1.879076</td>\n",
       "      <td>-1.500190</td>\n",
       "      <td>-0.272538</td>\n",
       "      <td>...</td>\n",
       "      <td>0.595225</td>\n",
       "      <td>-1.160920</td>\n",
       "      <td>-0.060582</td>\n",
       "      <td>-0.393548</td>\n",
       "      <td>0.578735</td>\n",
       "      <td>0.264808</td>\n",
       "      <td>1.182424</td>\n",
       "      <td>-1.162125</td>\n",
       "      <td>2.411121</td>\n",
       "      <td>-3.229124</td>\n",
       "    </tr>\n",
       "    <tr>\n",
       "      <th>4</th>\n",
       "      <td>1.0</td>\n",
       "      <td>1.512003</td>\n",
       "      <td>-0.988369</td>\n",
       "      <td>0.116380</td>\n",
       "      <td>-0.651220</td>\n",
       "      <td>0.184436</td>\n",
       "      <td>-0.191325</td>\n",
       "      <td>-0.776060</td>\n",
       "      <td>-0.153408</td>\n",
       "      <td>-0.821160</td>\n",
       "      <td>...</td>\n",
       "      <td>-0.812206</td>\n",
       "      <td>-2.335458</td>\n",
       "      <td>-0.132038</td>\n",
       "      <td>0.151737</td>\n",
       "      <td>0.053897</td>\n",
       "      <td>0.725083</td>\n",
       "      <td>-1.402549</td>\n",
       "      <td>-2.765511</td>\n",
       "      <td>0.353703</td>\n",
       "      <td>-3.053837</td>\n",
       "    </tr>\n",
       "  </tbody>\n",
       "</table>\n",
       "<p>5 rows × 220 columns</p>\n",
       "</div>"
      ],
      "text/plain": [
       "   x_0_1         0         1         2         3         4         5  \\\n",
       "0    1.0 -0.579714 -0.077113 -1.633070 -1.110431  0.581960  1.523532   \n",
       "1    1.0  1.030099 -0.289189 -1.939341 -0.931570 -0.666981 -0.227407   \n",
       "2    1.0 -1.529432  1.874766  0.492129 -0.286621 -0.574553 -0.337271   \n",
       "3    1.0  0.916160  0.102234 -0.416609  1.079818 -1.156138  0.406795   \n",
       "4    1.0  1.512003 -0.988369  0.116380 -0.651220  0.184436 -0.191325   \n",
       "\n",
       "          6         7         8  ...       209       210       211       212  \\\n",
       "0 -0.394176  1.382873 -1.332836  ...  1.162597 -0.074094  0.397552  1.454982   \n",
       "1 -0.011038  0.657749 -1.102381  ... -0.924464 -2.820143  1.946153  0.773023   \n",
       "2  0.083922  0.728985  1.344128  ...  1.097844  0.254771  0.442206 -0.065230   \n",
       "3 -1.879076 -1.500190 -0.272538  ...  0.595225 -1.160920 -0.060582 -0.393548   \n",
       "4 -0.776060 -0.153408 -0.821160  ... -0.812206 -2.335458 -0.132038  0.151737   \n",
       "\n",
       "        213       214       215       216       217       218  \n",
       "0  0.801484  0.681071 -0.895976  0.653857 -1.151957 -3.480289  \n",
       "1 -0.079000 -0.330729  1.543295 -1.260569  0.791686 -3.418385  \n",
       "2  0.782832  0.881815 -1.441829 -0.169698  0.711008 -3.291954  \n",
       "3  0.578735  0.264808  1.182424 -1.162125  2.411121 -3.229124  \n",
       "4  0.053897  0.725083 -1.402549 -2.765511  0.353703 -3.053837  \n",
       "\n",
       "[5 rows x 220 columns]"
      ]
     },
     "execution_count": 136,
     "metadata": {},
     "output_type": "execute_result"
    }
   ],
   "source": [
    "data.head(5)"
   ]
  },
  {
   "cell_type": "code",
   "execution_count": 137,
   "metadata": {},
   "outputs": [],
   "source": [
    "X = data.iloc[:, :-1]\n",
    "Y = data.iloc[:, -1]"
   ]
  },
  {
   "cell_type": "code",
   "execution_count": 138,
   "metadata": {},
   "outputs": [],
   "source": [
    "X_test = test_data.iloc[:, :-1]\n",
    "Y_test = test_data.iloc[:,-1]"
   ]
  },
  {
   "cell_type": "code",
   "execution_count": 139,
   "metadata": {},
   "outputs": [
    {
     "name": "stdout",
     "output_type": "stream",
     "text": [
      "[0. 0. 0. 0. 0. 0. 0. 0. 0. 0. 0. 0. 0. 0. 0. 0. 0. 0. 0. 0. 0. 0. 0. 0.\n",
      " 0. 0. 0. 0. 0. 0. 0. 0. 0. 0. 0. 0. 0. 0. 0. 0. 0. 0. 0. 0. 0. 0. 0. 0.\n",
      " 0. 0. 0. 0. 0. 0. 0. 0. 0. 0. 0. 0. 0. 0. 0. 0. 0. 0. 0. 0. 0. 0. 0. 0.\n",
      " 0. 0. 0. 0. 0. 0. 0. 0. 0. 0. 0. 0. 0. 0. 0. 0. 0. 0. 0. 0. 0. 0. 0. 0.\n",
      " 0. 0. 0. 0. 0. 0. 0. 0. 0. 0. 0. 0. 0. 0. 0. 0. 0. 0. 0. 0. 0. 0. 0. 0.\n",
      " 0. 0. 0. 0. 0. 0. 0. 0. 0. 0. 0. 0. 0. 0. 0. 0. 0. 0. 0. 0. 0. 0. 0. 0.\n",
      " 0. 0. 0. 0. 0. 0. 0. 0. 0. 0. 0. 0. 0. 0. 0. 0. 0. 0. 0. 0. 0. 0. 0. 0.\n",
      " 0. 0. 0. 0. 0. 0. 0. 0. 0. 0. 0. 0. 0. 0. 0. 0. 0. 0. 0. 0. 0. 0. 0. 0.\n",
      " 0. 0. 0. 0. 0. 0. 0. 0. 0. 0. 0. 0. 0. 0. 0. 0. 0. 0. 0. 0. 0. 0. 0. 0.\n",
      " 0. 0. 0.]\n",
      "float64\n"
     ]
    }
   ],
   "source": [
    "# Generating Coefficients\n",
    "B = np.zeros(len(X.columns))\n",
    "print(B)\n",
    "X = np.array(X)\n",
    "Y = np.array(Y)\n",
    "print(X.dtype)"
   ]
  },
  {
   "cell_type": "code",
   "execution_count": 140,
   "metadata": {},
   "outputs": [],
   "source": [
    "# HyperParameters \n",
    "learning_rate = 0.01\n",
    "regularization_parameter = 1e-15 # 0.01"
   ]
  },
  {
   "cell_type": "code",
   "execution_count": 141,
   "metadata": {},
   "outputs": [],
   "source": [
    "# Defining Cost function\n",
    "cost_function = lambda X,Y,B: np.sum(np.square(X.dot(B) - Y)) / (2.0 * len(Y))"
   ]
  },
  {
   "cell_type": "code",
   "execution_count": 142,
   "metadata": {},
   "outputs": [
    {
     "name": "stdout",
     "output_type": "stream",
     "text": [
      "0.5\n"
     ]
    }
   ],
   "source": [
    "initial_cost = cost_function(X,Y,B)\n",
    "print(initial_cost)"
   ]
  },
  {
   "cell_type": "code",
   "execution_count": 143,
   "metadata": {},
   "outputs": [],
   "source": [
    "# Writing Gradient Descent with L2 Ridge Regularization\n",
    "\n",
    "def gradient_descent(X, Y, B, learning_rate, epochs,regularization_parameter):\n",
    "    \n",
    "    cost_history = []\n",
    "    size = len(Y)\n",
    "    for i in range(epochs):\n",
    "        h = X.dot(B)\n",
    "        loss = h - Y  - ( regularization_parameter / (2 * size) ) * np.sum(np.square(B))\n",
    "        gradient = X.T.dot(loss) / size\n",
    "        B = B - learning_rate * gradient# Lasso Regression - regularization_parameter*np.sign(B)\n",
    "        # B[B < 1e-16] = 0     when lasso regression\n",
    "        cost = cost_function(X,Y,B)\n",
    "        if i % 10 == 0:\n",
    "            cost_history.append(cost)\n",
    "  \n",
    "    return B, cost_history\n",
    "    "
   ]
  },
  {
   "cell_type": "code",
   "execution_count": 144,
   "metadata": {},
   "outputs": [
    {
     "data": {
      "text/plain": [
       "((4418, 219), (4418,), (219,))"
      ]
     },
     "execution_count": 144,
     "metadata": {},
     "output_type": "execute_result"
    }
   ],
   "source": [
    "X.shape, Y.shape, B.shape"
   ]
  },
  {
   "cell_type": "code",
   "execution_count": 145,
   "metadata": {},
   "outputs": [],
   "source": [
    "newB, cost_history = gradient_descent(X, Y, B, learning_rate, 1000, regularization_parameter)"
   ]
  },
  {
   "cell_type": "code",
   "execution_count": 146,
   "metadata": {},
   "outputs": [
    {
     "data": {
      "image/png": "[encoded data removed]",
      "text/plain": [
       "<Figure size 432x288 with 1 Axes>"
      ]
     },
     "metadata": {
      "needs_background": "light"
     },
     "output_type": "display_data"
    }
   ],
   "source": [
    "a = np.linspace(0,1000,100)\n",
    "plt.plot(a, cost_history)\n",
    "plt.xlabel('Epochs')\n",
    "plt.ylabel('Cost')\n",
    "plt.title('Cost Function with Epochs')\n",
    "plt.show()"
   ]
  },
  {
   "cell_type": "code",
   "execution_count": 147,
   "metadata": {},
   "outputs": [],
   "source": [
    "def predict(X, B ,std):\n",
    "    X = np.array(X)\n",
    "    new_X = []\n",
    "    for i in range(len(X.T)):\n",
    "        if i == 0:\n",
    "            new_X.append(X[:, i])\n",
    "        else:\n",
    "            try:\n",
    "                new_X.append( (X[ :,i] - std['mean'][i-1]) / std['std'][i-1] )\n",
    "            except:\n",
    "                print(i)\n",
    "        \n",
    "    new_X = np.array(new_X).T\n",
    "    return new_X.dot(B)"
   ]
  },
  {
   "cell_type": "code",
   "execution_count": 148,
   "metadata": {},
   "outputs": [],
   "source": [
    "def rmse(Y, Y_pred):\n",
    "    s = np.array(Y - Y_pred)\n",
    "    s = np.array(s**2)\n",
    "    s = np.sum(s)/ len(Y)\n",
    "    return s"
   ]
  },
  {
   "cell_type": "code",
   "execution_count": 149,
   "metadata": {},
   "outputs": [
    {
     "data": {
      "text/plain": [
       "(4418, 219)"
      ]
     },
     "execution_count": 149,
     "metadata": {},
     "output_type": "execute_result"
    }
   ],
   "source": [
    "X_test.shape"
   ]
  },
  {
   "cell_type": "code",
   "execution_count": 150,
   "metadata": {},
   "outputs": [],
   "source": [
    "Y_pred = predict(X_test, newB, std)"
   ]
  },
  {
   "cell_type": "code",
   "execution_count": 151,
   "metadata": {},
   "outputs": [
    {
     "name": "stdout",
     "output_type": "stream",
     "text": [
      "1.303528942441008\n"
     ]
    }
   ],
   "source": [
    "print(rmse(Y_test, Y_pred))"
   ]
  },
  {
   "cell_type": "markdown",
   "metadata": {},
   "source": [
    "Alternate Method"
   ]
  },
  {
   "cell_type": "code",
   "execution_count": 152,
   "metadata": {},
   "outputs": [],
   "source": [
    "def method_of_regularized_least_squares(X_, Y_):\n",
    "    # Regularized Least Squares\n",
    "    L = 0.1\n",
    "    CX = X_.T.dot(X_)\n",
    "    B_ = (np.linalg.inv(CX + L * np.identity(len(CX)))).dot(X_.T.dot(Y_))\n",
    "\n",
    "    return B_"
   ]
  },
  {
   "cell_type": "code",
   "execution_count": 153,
   "metadata": {},
   "outputs": [],
   "source": [
    "B = method_of_regularized_least_squares(X, Y)"
   ]
  },
  {
   "cell_type": "code",
   "execution_count": 154,
   "metadata": {},
   "outputs": [],
   "source": [
    "Y_pred = X_test.dot(B)"
   ]
  },
  {
   "cell_type": "code",
   "execution_count": 155,
   "metadata": {},
   "outputs": [
    {
     "name": "stdout",
     "output_type": "stream",
     "text": [
      "5.792340740989087e-06\n"
     ]
    }
   ],
   "source": [
    "print(rmse(Y_test, Y_pred))"
   ]
  },
  {
   "cell_type": "code",
   "execution_count": null,
   "metadata": {},
   "outputs": [],
   "source": []
  }
 ],
 "metadata": {
  "kernelspec": {
   "display_name": "Python 3",
   "language": "python",
   "name": "python3"
  },
  "language_info": {
   "codemirror_mode": {
    "name": "ipython",
    "version": 3
   },
   "file_extension": ".py",
   "mimetype": "text/x-python",
   "name": "python",
   "nbconvert_exporter": "python",
   "pygments_lexer": "ipython3",
   "version": "3.6.7"
  }
 },
 "nbformat": 4,
 "nbformat_minor": 2
}
