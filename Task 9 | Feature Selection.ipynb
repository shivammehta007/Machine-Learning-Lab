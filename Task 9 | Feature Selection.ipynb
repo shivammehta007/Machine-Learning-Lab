{
 "cells": [
  {
   "cell_type": "markdown",
   "metadata": {},
   "source": [
    "# Feature Selection"
   ]
  },
  {
   "cell_type": "markdown",
   "metadata": {},
   "source": [
    "40% - for two or more filters  \n",
    "\n",
    "20% - for embedded method\n",
    "\n",
    "40% - for wrapper method"
   ]
  },
  {
   "cell_type": "code",
   "execution_count": 3,
   "metadata": {},
   "outputs": [],
   "source": [
    "from __future__ import division\n",
    "\n",
    "import numpy as np\n",
    "np.warnings.filterwarnings('ignore')\n",
    "\n",
    "import pandas as pd\n",
    "from os.path import join"
   ]
  },
  {
   "cell_type": "code",
   "execution_count": 83,
   "metadata": {},
   "outputs": [],
   "source": [
    "# Number of features to evaulate :\n",
    "N = [5, 20, 50]"
   ]
  },
  {
   "cell_type": "code",
   "execution_count": 89,
   "metadata": {},
   "outputs": [],
   "source": [
    "def calculate_accuracy(predicted, actual ):\n",
    "        correct = 0.0\n",
    "        for i in range(len(predicted)):\n",
    "            if predicted[i] == actual[i]:\n",
    "                correct += 1\n",
    "        \n",
    "        return correct/ len(predicted)"
   ]
  },
  {
   "cell_type": "code",
   "execution_count": 90,
   "metadata": {},
   "outputs": [],
   "source": [
    "header = {'filter_method' : ['FRatioFilter', 'SpearmanRankCorrelationFilter', 'SequentialForwardSelection' ]}"
   ]
  },
  {
   "cell_type": "code",
   "execution_count": 91,
   "metadata": {},
   "outputs": [],
   "source": [
    "final_matrix = { 5 : [np.nan, np.nan, np.nan] , 20 : [np.nan, np.nan, np.nan] , 50 : [np.nan, np.nan , np.nan]} "
   ]
  },
  {
   "cell_type": "code",
   "execution_count": 92,
   "metadata": {},
   "outputs": [],
   "source": [
    "final_matrix = pd.DataFrame(data=dafarame, index=header['filter_method'])"
   ]
  },
  {
   "cell_type": "code",
   "execution_count": 93,
   "metadata": {},
   "outputs": [
    {
     "data": {
      "text/html": [
       "<div>\n",
       "<style scoped>\n",
       "    .dataframe tbody tr th:only-of-type {\n",
       "        vertical-align: middle;\n",
       "    }\n",
       "\n",
       "    .dataframe tbody tr th {\n",
       "        vertical-align: top;\n",
       "    }\n",
       "\n",
       "    .dataframe thead th {\n",
       "        text-align: right;\n",
       "    }\n",
       "</style>\n",
       "<table border=\"1\" class=\"dataframe\">\n",
       "  <thead>\n",
       "    <tr style=\"text-align: right;\">\n",
       "      <th></th>\n",
       "      <th>5</th>\n",
       "      <th>20</th>\n",
       "      <th>50</th>\n",
       "    </tr>\n",
       "  </thead>\n",
       "  <tbody>\n",
       "    <tr>\n",
       "      <th>FRatioFilter</th>\n",
       "      <td>NaN</td>\n",
       "      <td>NaN</td>\n",
       "      <td>NaN</td>\n",
       "    </tr>\n",
       "    <tr>\n",
       "      <th>SpearmanRankCorrelationFilter</th>\n",
       "      <td>NaN</td>\n",
       "      <td>NaN</td>\n",
       "      <td>NaN</td>\n",
       "    </tr>\n",
       "    <tr>\n",
       "      <th>SequentialForwardSelection</th>\n",
       "      <td>NaN</td>\n",
       "      <td>NaN</td>\n",
       "      <td>NaN</td>\n",
       "    </tr>\n",
       "  </tbody>\n",
       "</table>\n",
       "</div>"
      ],
      "text/plain": [
       "                               5   20  50\n",
       "FRatioFilter                  NaN NaN NaN\n",
       "SpearmanRankCorrelationFilter NaN NaN NaN\n",
       "SequentialForwardSelection    NaN NaN NaN"
      ]
     },
     "execution_count": 93,
     "metadata": {},
     "output_type": "execute_result"
    }
   ],
   "source": [
    "final_matrix.head()"
   ]
  },
  {
   "cell_type": "code",
   "execution_count": 4,
   "metadata": {},
   "outputs": [],
   "source": [
    "class DataProcessor:\n",
    "    def __init__(self, data_filename, label_filename):\n",
    "        self.data_filename = data_filename\n",
    "        self.label_filename = label_filename\n",
    "        \n",
    "        self.process_data()\n",
    "        self.X = np.array(self.X)\n",
    "        self.Y = np.array(self.Y)\n",
    "        \n",
    "    \n",
    "    def process_data(self):\n",
    "        self.X = pd.read_csv(self.data_filename, delim_whitespace=True)\n",
    "        self.Y = pd.read_csv(self.label_filename, delim_whitespace=True)\n",
    "        self.X = self.X.dropna(how='any', axis=1)\n",
    "        self.remove_with_one_value()\n",
    "    \n",
    "    def remove_with_one_value(self):\n",
    "        for col in self.X.columns:\n",
    "            if len(self.X[col].unique()) == 1:\n",
    "                self.X.drop(col,inplace=True,axis=1)\n",
    "\n",
    "    "
   ]
  },
  {
   "cell_type": "code",
   "execution_count": 5,
   "metadata": {},
   "outputs": [],
   "source": [
    "data_folder = 'Task9_DataSet'\n",
    "filename_data_train = join(data_folder, 'arcene_train.data')\n",
    "filename_label_train = join(data_folder, 'arcene_train.labels')"
   ]
  },
  {
   "cell_type": "code",
   "execution_count": 6,
   "metadata": {},
   "outputs": [],
   "source": [
    "data = DataProcessor(filename_data_train, filename_label_train)"
   ]
  },
  {
   "cell_type": "code",
   "execution_count": 7,
   "metadata": {},
   "outputs": [
    {
     "name": "stdout",
     "output_type": "stream",
     "text": [
      "(99, 9919)\n",
      "[[  0  41  82 ...   0 284 423]\n",
      " [  0   0   1 ...   0  34 508]\n",
      " [  0  56  44 ...   0   0 469]\n",
      " [105   0 141 ...   0   0 354]\n",
      " [ 38  62   0 ...  18  59 340]]\n"
     ]
    }
   ],
   "source": [
    "print(data.X.shape)\n",
    "print(data.X[:5])\n"
   ]
  },
  {
   "cell_type": "markdown",
   "metadata": {},
   "source": [
    "## Filters:\n",
    "### 1. FRatio Filter"
   ]
  },
  {
   "cell_type": "markdown",
   "metadata": {},
   "source": [
    "##### https://stats.stackexchange.com/questions/277123/fisher-score-feature-selection-implementation"
   ]
  },
  {
   "cell_type": "code",
   "execution_count": 8,
   "metadata": {},
   "outputs": [],
   "source": [
    "class FRatioFilter:\n",
    "    def __init__(self, n=10):\n",
    "        self.n = n\n",
    "    \n",
    "    def __calculate_F_ratio__(self,row, y_data):\n",
    "        Mu = np.mean(row)\n",
    "        inter_class = 0.0\n",
    "        intra_class = 0.0\n",
    "        for value in np.unique(y_data):\n",
    "            index_for_this_value = np.where(y_data == value)[0]\n",
    "            n = np.sum(row[index_for_this_value])\n",
    "            mu = np.mean(row[index_for_this_value])\n",
    "            var = np.var(row[index_for_this_value])\n",
    "            inter_class += n * np.power(( mu - Mu),2)\n",
    "            intra_class += (n - 1) * var\n",
    "        \n",
    "        f_ratio = inter_class/intra_class\n",
    "        return f_ratio\n",
    "            \n",
    "    \n",
    "    \n",
    "    def fit(self, x_data, y_data):\n",
    "        self.x_data, self.y_data = x_data, y_data\n",
    "        f_ratios = []\n",
    "        for feature in x_data.T:\n",
    "            f_ratio = self.__calculate_F_ratio__(feature, y_data.T)\n",
    "            f_ratios.append(f_ratio)\n",
    "        self.f_ratios = np.array(f_ratios)\n",
    "        # return top n f_ratios\n",
    "        self.selection_indexes = np.argpartition(self.f_ratios, -self.n)[-self.n:]\n",
    "        \n",
    "    def transform(self, x_data, y_data):\n",
    "        return x_data[:,self.selection_indexes]\n",
    "    \n",
    "    def fit_and_transform(self, x_data, y_data):\n",
    "        self.fit(x_data, y_data)\n",
    "        return self.transform(x_data, y_data)\n",
    "        "
   ]
  },
  {
   "cell_type": "code",
   "execution_count": 9,
   "metadata": {},
   "outputs": [
    {
     "name": "stdout",
     "output_type": "stream",
     "text": [
      "[2193 6165 6155 6163 6162 2201 2202 6157 6156    0]\n"
     ]
    }
   ],
   "source": [
    "fs = FRatioFilter()\n",
    "new_X = fs.fit_and_transform(data.X, data.Y)\n",
    "indexes = fs.selection_indexes\n",
    "print(indexes)"
   ]
  },
  {
   "cell_type": "code",
   "execution_count": 100,
   "metadata": {},
   "outputs": [],
   "source": [
    "# Calculation for evaluation metrix in the end\n",
    "\n",
    "for n in N:\n",
    "    fs = FRatioFilter(n=n)\n",
    "    new_X = fs.fit_and_transform(data.X, data.Y)\n",
    "    logistic_regression = LogisticRegression()\n",
    "    logistic_regression.fit(new_X, data.Y)\n",
    "    prediction = logistic_regression.predict(new_X)\n",
    "    accuracy = '{}%'.format(np.round(calculate_accuracy(prediction, data.Y) * 100 , 2))\n",
    "    final_matrix.loc['FRatioFilter', n] = accuracy\n"
   ]
  },
  {
   "cell_type": "code",
   "execution_count": 101,
   "metadata": {},
   "outputs": [
    {
     "data": {
      "text/html": [
       "<div>\n",
       "<style scoped>\n",
       "    .dataframe tbody tr th:only-of-type {\n",
       "        vertical-align: middle;\n",
       "    }\n",
       "\n",
       "    .dataframe tbody tr th {\n",
       "        vertical-align: top;\n",
       "    }\n",
       "\n",
       "    .dataframe thead th {\n",
       "        text-align: right;\n",
       "    }\n",
       "</style>\n",
       "<table border=\"1\" class=\"dataframe\">\n",
       "  <thead>\n",
       "    <tr style=\"text-align: right;\">\n",
       "      <th></th>\n",
       "      <th>5</th>\n",
       "      <th>20</th>\n",
       "      <th>50</th>\n",
       "    </tr>\n",
       "  </thead>\n",
       "  <tbody>\n",
       "    <tr>\n",
       "      <th>FRatioFilter</th>\n",
       "      <td>69.7%</td>\n",
       "      <td>78.79%</td>\n",
       "      <td>100.0%</td>\n",
       "    </tr>\n",
       "    <tr>\n",
       "      <th>SpearmanRankCorrelationFilter</th>\n",
       "      <td>NaN</td>\n",
       "      <td>NaN</td>\n",
       "      <td>NaN</td>\n",
       "    </tr>\n",
       "    <tr>\n",
       "      <th>SequentialForwardSelection</th>\n",
       "      <td>NaN</td>\n",
       "      <td>NaN</td>\n",
       "      <td>NaN</td>\n",
       "    </tr>\n",
       "  </tbody>\n",
       "</table>\n",
       "</div>"
      ],
      "text/plain": [
       "                                  5       20      50\n",
       "FRatioFilter                   69.7%  78.79%  100.0%\n",
       "SpearmanRankCorrelationFilter    NaN     NaN     NaN\n",
       "SequentialForwardSelection       NaN     NaN     NaN"
      ]
     },
     "execution_count": 101,
     "metadata": {},
     "output_type": "execute_result"
    }
   ],
   "source": [
    "final_matrix.head()"
   ]
  },
  {
   "cell_type": "markdown",
   "metadata": {},
   "source": [
    "## 2. SpearmanCorrelation Filter"
   ]
  },
  {
   "cell_type": "code",
   "execution_count": 110,
   "metadata": {},
   "outputs": [],
   "source": [
    "class SpearmanRankCorrelationFilter:\n",
    "    def __init__(self):\n",
    "        self.n = 10\n",
    "    \n",
    "    def __calculate_spearmancorrelation__(self,row, y_data):\n",
    "        y_data = np.reshape(y_data, len(y_data[0]))\n",
    "        temp_data = {'row' : row,\n",
    "                     'y_data' : y_data\n",
    "                    }\n",
    "        temp_frame = pd.DataFrame(temp_data)\n",
    "        temp_frame['row_rank'] = temp_frame['row'].rank()\n",
    "        temp_frame['y_data_rank'] = temp_frame['y_data'].rank()\n",
    "        temp_frame['rank_diff_sq'] = (temp_frame['row_rank'] - temp_frame['y_data_rank']).apply(lambda x: np.power(x,2))        \n",
    "        correlation_rho = 1 -  ( 6 * np.sum(temp_frame['rank_diff_sq']) /  ( len(row) * np.power(len(row), 2)  - 1 ) )\n",
    "        return correlation_rho\n",
    "    \n",
    "    def fit(self, x_data, y_data):\n",
    "        self.n = n\n",
    "        correlations = []\n",
    "        for feature in x_data.T:\n",
    "            correlation = self.__calculate_spearmancorrelation__(feature, y_data.T)\n",
    "            correlations.append(correlation)\n",
    "        self.correlations = np.array(correlations)\n",
    "    \n",
    "    def transform(self, x_data, y_data,n = 10):\n",
    "        self.n = n\n",
    "        self.selection_indexes = np.argpartition(self.correlations, -self.n)[-self.n:]\n",
    "        return x_data[:,self.selection_indexes]\n",
    "    \n",
    "    def fit_and_transform(self, x_data, y_data, n = 10):\n",
    "        self.fit(x_data, y_data)\n",
    "        return self.transform(x_data, y_data, n)"
   ]
  },
  {
   "cell_type": "code",
   "execution_count": 111,
   "metadata": {},
   "outputs": [],
   "source": [
    "sfc = SpearmanRankCorrelationFilter()\n",
    "sfc.fit(data.X, data.Y)"
   ]
  },
  {
   "cell_type": "code",
   "execution_count": 112,
   "metadata": {},
   "outputs": [
    {
     "name": "stdout",
     "output_type": "stream",
     "text": [
      "[9881 1854 6229 6734 4642 6883 8406 3938 7323 6930]\n"
     ]
    }
   ],
   "source": [
    "new_X = sfc.transform(data.X, data.Y)\n",
    "indexes = sfc.selection_indexes\n",
    "print(indexes)"
   ]
  },
  {
   "cell_type": "code",
   "execution_count": 114,
   "metadata": {},
   "outputs": [],
   "source": [
    "# Calculation for evaluation metrix in the end\n",
    "\n",
    "for n in N:\n",
    "    new_X = sfc.transform(data.X, data.Y, n)\n",
    "    logistic_regression = LogisticRegression()\n",
    "    logistic_regression.fit(new_X, data.Y)\n",
    "    prediction = logistic_regression.predict(new_X)\n",
    "    accuracy = '{}%'.format(np.round(calculate_accuracy(prediction, data.Y) * 100 , 2))\n",
    "    final_matrix.loc['SpearmanRankCorrelationFilter', n] = accuracy"
   ]
  },
  {
   "cell_type": "code",
   "execution_count": 115,
   "metadata": {},
   "outputs": [
    {
     "data": {
      "text/html": [
       "<div>\n",
       "<style scoped>\n",
       "    .dataframe tbody tr th:only-of-type {\n",
       "        vertical-align: middle;\n",
       "    }\n",
       "\n",
       "    .dataframe tbody tr th {\n",
       "        vertical-align: top;\n",
       "    }\n",
       "\n",
       "    .dataframe thead th {\n",
       "        text-align: right;\n",
       "    }\n",
       "</style>\n",
       "<table border=\"1\" class=\"dataframe\">\n",
       "  <thead>\n",
       "    <tr style=\"text-align: right;\">\n",
       "      <th></th>\n",
       "      <th>5</th>\n",
       "      <th>20</th>\n",
       "      <th>50</th>\n",
       "    </tr>\n",
       "  </thead>\n",
       "  <tbody>\n",
       "    <tr>\n",
       "      <th>FRatioFilter</th>\n",
       "      <td>69.7%</td>\n",
       "      <td>78.79%</td>\n",
       "      <td>100.0%</td>\n",
       "    </tr>\n",
       "    <tr>\n",
       "      <th>SpearmanRankCorrelationFilter</th>\n",
       "      <td>63.64%</td>\n",
       "      <td>72.73%</td>\n",
       "      <td>83.84%</td>\n",
       "    </tr>\n",
       "    <tr>\n",
       "      <th>SequentialForwardSelection</th>\n",
       "      <td>NaN</td>\n",
       "      <td>NaN</td>\n",
       "      <td>NaN</td>\n",
       "    </tr>\n",
       "  </tbody>\n",
       "</table>\n",
       "</div>"
      ],
      "text/plain": [
       "                                   5       20      50\n",
       "FRatioFilter                    69.7%  78.79%  100.0%\n",
       "SpearmanRankCorrelationFilter  63.64%  72.73%  83.84%\n",
       "SequentialForwardSelection        NaN     NaN     NaN"
      ]
     },
     "execution_count": 115,
     "metadata": {},
     "output_type": "execute_result"
    }
   ],
   "source": [
    "final_matrix.head()"
   ]
  },
  {
   "cell_type": "markdown",
   "metadata": {},
   "source": [
    "# Wrapper"
   ]
  },
  {
   "cell_type": "code",
   "execution_count": 116,
   "metadata": {},
   "outputs": [],
   "source": [
    "\n",
    "class SequentialForwardSelection:\n",
    "    def __init__(self, model, n=10):\n",
    "        self.n = n\n",
    "        self.model = model\n",
    "        self.selection_indexes = []\n",
    "    \n",
    "    \n",
    "    def __calculate_accuracy__(self, predicted, actual ):\n",
    "        correct = 0.0\n",
    "        for i in range(len(predicted)):\n",
    "            if predicted[i] == actual[i]:\n",
    "                correct += 1\n",
    "        \n",
    "        return correct/ len(predicted)\n",
    "    \n",
    "    \n",
    "    \n",
    "    def __fit_model__(self, dataset, y_data):\n",
    "        self.model.fit(dataset, y_data)\n",
    "        predicted_y = self.model.predict(dataset)\n",
    "        accuracy = self.__calculate_accuracy__(predicted_y, y_data)\n",
    "        return accuracy\n",
    "        \n",
    "    \n",
    "    def fit(self, x_data, y_data):\n",
    "        number_of_selected_feature = 0\n",
    "        selected_dataset = []\n",
    "        best_accuracy = 0\n",
    "        self.accuracy = []\n",
    "        for i, feature in enumerate(x_data.T):\n",
    "            temp_dataset = [column for column in selected_dataset]\n",
    "            temp_dataset.append(feature)\n",
    "            \n",
    "            current_accuracy = self.__fit_model__(np.array(temp_dataset).T, y_data)\n",
    "            self.accuracy.append(current_accuracy)\n",
    "            if current_accuracy > best_accuracy:\n",
    "                number_of_selected_feature += 1\n",
    "                best_accuracy = current_accuracy\n",
    "                selected_dataset = temp_dataset\n",
    "                self.selection_indexes.append(i)\n",
    "                if number_of_selected_feature >= self.n:\n",
    "                    break\n",
    "\n",
    "                    \n",
    "    def transform(self, x_data, y_data):\n",
    "        return x_data[:,np.array(self.selection_indexes)]\n",
    "\n",
    "    \n",
    "    def fit_and_transform(self, x_data, y_data):\n",
    "        self.fit(x_data, y_data)\n",
    "        return self.transform(x_data, y_data)"
   ]
  },
  {
   "cell_type": "markdown",
   "metadata": {},
   "source": [
    "Testing Wrapper On Logistic Regression"
   ]
  },
  {
   "cell_type": "code",
   "execution_count": 117,
   "metadata": {},
   "outputs": [],
   "source": [
    "from sklearn.linear_model import LogisticRegression\n",
    "lg = LogisticRegression()"
   ]
  },
  {
   "cell_type": "code",
   "execution_count": 118,
   "metadata": {},
   "outputs": [],
   "source": [
    "sfs = SequentialForwardSelection(lg)"
   ]
  },
  {
   "cell_type": "code",
   "execution_count": 119,
   "metadata": {},
   "outputs": [],
   "source": [
    "sfs.fit(data.X, data.Y)"
   ]
  },
  {
   "cell_type": "code",
   "execution_count": 120,
   "metadata": {},
   "outputs": [
    {
     "data": {
      "text/plain": [
       "[0, 2, 3, 4, 7, 19, 33, 44, 61, 63]"
      ]
     },
     "execution_count": 120,
     "metadata": {},
     "output_type": "execute_result"
    }
   ],
   "source": [
    "sfs.selection_indexes"
   ]
  },
  {
   "cell_type": "code",
   "execution_count": 121,
   "metadata": {},
   "outputs": [],
   "source": [
    "new_X = sfs.transform(data.X, data.Y)"
   ]
  },
  {
   "cell_type": "code",
   "execution_count": 124,
   "metadata": {},
   "outputs": [
    {
     "name": "stdout",
     "output_type": "stream",
     "text": [
      "5\n",
      "20\n",
      "50\n"
     ]
    }
   ],
   "source": [
    "for n in N:\n",
    "    fs = SequentialForwardSelection(LogisticRegression(), n=n)\n",
    "    new_X = fs.fit_and_transform(data.X, data.Y)\n",
    "    logistic_regression = LogisticRegression()\n",
    "    logistic_regression.fit(new_X, data.Y)\n",
    "    prediction = logistic_regression.predict(new_X)\n",
    "    accuracy = '{}%'.format(np.round(calculate_accuracy(prediction, data.Y) * 100 , 2))\n",
    "    final_matrix.loc['SequentialForwardSelection', n] = accuracy"
   ]
  },
  {
   "cell_type": "markdown",
   "metadata": {},
   "source": [
    "Evaluation Metrix"
   ]
  },
  {
   "cell_type": "code",
   "execution_count": 126,
   "metadata": {},
   "outputs": [
    {
     "data": {
      "text/html": [
       "<div>\n",
       "<style scoped>\n",
       "    .dataframe tbody tr th:only-of-type {\n",
       "        vertical-align: middle;\n",
       "    }\n",
       "\n",
       "    .dataframe tbody tr th {\n",
       "        vertical-align: top;\n",
       "    }\n",
       "\n",
       "    .dataframe thead th {\n",
       "        text-align: right;\n",
       "    }\n",
       "</style>\n",
       "<table border=\"1\" class=\"dataframe\">\n",
       "  <thead>\n",
       "    <tr style=\"text-align: right;\">\n",
       "      <th></th>\n",
       "      <th>5</th>\n",
       "      <th>20</th>\n",
       "      <th>50</th>\n",
       "    </tr>\n",
       "  </thead>\n",
       "  <tbody>\n",
       "    <tr>\n",
       "      <th>FRatioFilter</th>\n",
       "      <td>69.7%</td>\n",
       "      <td>78.79%</td>\n",
       "      <td>100.0%</td>\n",
       "    </tr>\n",
       "    <tr>\n",
       "      <th>SpearmanRankCorrelationFilter</th>\n",
       "      <td>76.77%</td>\n",
       "      <td>93.94%</td>\n",
       "      <td>83.84%</td>\n",
       "    </tr>\n",
       "    <tr>\n",
       "      <th>SequentialForwardSelection</th>\n",
       "      <td>76.77%</td>\n",
       "      <td>94.95%</td>\n",
       "      <td>100.0%</td>\n",
       "    </tr>\n",
       "  </tbody>\n",
       "</table>\n",
       "</div>"
      ],
      "text/plain": [
       "                                   5       20      50\n",
       "FRatioFilter                    69.7%  78.79%  100.0%\n",
       "SpearmanRankCorrelationFilter  76.77%  93.94%  83.84%\n",
       "SequentialForwardSelection     76.77%  94.95%  100.0%"
      ]
     },
     "execution_count": 126,
     "metadata": {},
     "output_type": "execute_result"
    }
   ],
   "source": [
    "final_matrix.head()"
   ]
  },
  {
   "cell_type": "code",
   "execution_count": null,
   "metadata": {},
   "outputs": [],
   "source": []
  }
 ],
 "metadata": {
  "kernelspec": {
   "display_name": "Python 3",
   "language": "python",
   "name": "python3"
  },
  "language_info": {
   "codemirror_mode": {
    "name": "ipython",
    "version": 3
   },
   "file_extension": ".py",
   "mimetype": "text/x-python",
   "name": "python",
   "nbconvert_exporter": "python",
   "pygments_lexer": "ipython3",
   "version": "3.6.7"
  }
 },
 "nbformat": 4,
 "nbformat_minor": 2
}
