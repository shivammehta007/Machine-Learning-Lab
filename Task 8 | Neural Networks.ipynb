{
 "cells": [
  {
   "cell_type": "markdown",
   "metadata": {},
   "source": [
    "# Neural Network \n",
    "## with MNIST Dataset"
   ]
  },
  {
   "cell_type": "code",
   "execution_count": 3,
   "metadata": {},
   "outputs": [
    {
     "name": "stderr",
     "output_type": "stream",
     "text": [
      "Using TensorFlow backend.\n"
     ]
    }
   ],
   "source": [
    "import numpy as np\n",
    "import keras\n",
    "%matplotlib inline\n",
    "import matplotlib.pyplot as plt\n",
    "\n"
   ]
  },
  {
   "cell_type": "code",
   "execution_count": 4,
   "metadata": {},
   "outputs": [],
   "source": [
    "# Load Data\n",
    "(train_x_orig, train_y_orig), (test_x_orig, test_y_orig) = keras.datasets.mnist.load_data()"
   ]
  },
  {
   "cell_type": "code",
   "execution_count": 5,
   "metadata": {},
   "outputs": [
    {
     "name": "stdout",
     "output_type": "stream",
     "text": [
      "Number of training examples: 60000\n",
      "Number of testing examples: 10000\n",
      "Each image is of size: (28, 28, 3)\n",
      "train_x_orig shape: (60000, 28, 28)\n",
      "train_y shape: (60000,)\n",
      "test_x_orig shape: (10000, 28, 28)\n",
      "test_y shape: (10000,)\n"
     ]
    }
   ],
   "source": [
    "# Data Values\n",
    "\n",
    "m_train = train_x_orig.shape[0]\n",
    "num_px = train_x_orig.shape[1]\n",
    "m_test = test_x_orig.shape[0]\n",
    "\n",
    "print (\"Number of training examples: \" + str(m_train))\n",
    "print (\"Number of testing examples: \" + str(m_test))\n",
    "print (\"Each image is of size: (\" + str(num_px) + \", \" + str(num_px) + \", 3)\")\n",
    "print (\"train_x_orig shape: \" + str(train_x_orig.shape))\n",
    "print (\"train_y shape: \" + str(train_y_orig.shape))\n",
    "print (\"test_x_orig shape: \" + str(test_x_orig.shape))\n",
    "print (\"test_y shape: \" + str(test_y_orig.shape))"
   ]
  },
  {
   "cell_type": "code",
   "execution_count": 6,
   "metadata": {},
   "outputs": [],
   "source": [
    "# Prepare Training Labels\n",
    "\n",
    "digits = 10\n",
    "examples = train_y_orig.shape[0]\n",
    "\n",
    "train_y_orig = train_y_orig.reshape(1, examples)\n",
    "\n",
    "train_y = np.eye(digits)[train_y_orig.astype('int32')]\n",
    "train_y = train_y.T.reshape(digits, examples)\n",
    "#print(train_y)"
   ]
  },
  {
   "cell_type": "code",
   "execution_count": 7,
   "metadata": {},
   "outputs": [],
   "source": [
    "# Prepare Test Labels\n",
    "\n",
    "m_test = test_y_orig.shape[0]\n",
    "test_y_orig = test_y_orig.reshape(1, m_test)\n",
    "\n",
    "test_y = np.eye(digits)[test_y_orig.astype('int32')]\n",
    "test_y = test_y.T.reshape(digits, m_test)\n",
    "#print(test_y)"
   ]
  },
  {
   "cell_type": "markdown",
   "metadata": {},
   "source": [
    "## NN"
   ]
  },
  {
   "cell_type": "code",
   "execution_count": 8,
   "metadata": {},
   "outputs": [
    {
     "name": "stdout",
     "output_type": "stream",
     "text": [
      "train_x's shape: (784, 60000)\n",
      "test_x's shape: (784, 10000)\n",
      "train_y's shape: (10, 60000)\n",
      "test_y's shape: (10, 10000)\n"
     ]
    }
   ],
   "source": [
    "#Model data\n",
    "\n",
    "# Convert into shape of (784,60000)\n",
    "train_x_flatten = train_x_orig.reshape(train_x_orig.shape[0], -1).T  \n",
    "# Convert into shape of (784,10000)\n",
    "test_x_flatten = test_x_orig.reshape(test_x_orig.shape[0], -1).T\n",
    "\n",
    "train_x = train_x_flatten / 255.\n",
    "test_x = test_x_flatten / 255.\n",
    "\n",
    "print (\"train_x's shape: \" + str(train_x.shape))\n",
    "print (\"test_x's shape: \" + str(test_x.shape))\n",
    "\n",
    "train_y = train_y\n",
    "test_y = test_y\n",
    "print (\"train_y's shape: \" + str(train_y.shape))\n",
    "print (\"test_y's shape: \" + str(test_y.shape))\n",
    "\n",
    "\n",
    "# train_x_flatten = train_x_orig.reshape(train_x_orig.shape[0], -1).T  \n",
    "# test_x_flatten = test_x_orig.reshape(test_x_orig.shape[0], -1).T\n",
    "\n",
    "# train_x = train_x_flatten / 255.\n",
    "# test_x = test_x_flatten / 255.\n",
    "\n",
    "# print (\"train_x's shape: \" + str(train_x.shape))\n",
    "# print (\"test_x's shape: \" + str(test_x.shape))\n",
    "\n",
    "# train_y = train_y\n",
    "# test_y = test_y\n",
    "# print (\"train_y's shape: \" + str(train_y.shape))\n",
    "# print (\"test_y's shape: \" + str(test_y.shape))\n",
    "\n",
    "\n"
   ]
  },
  {
   "cell_type": "code",
   "execution_count": 9,
   "metadata": {},
   "outputs": [],
   "source": [
    "#Define all the activation functions\n",
    "def sigmoid(value):\n",
    "    return 1.0 / ( 1.0+np.exp(-value))\n",
    "\n",
    "def sigmoid_prime(value):\n",
    "    return sigmoid(value) * (1- sigmoid(value))\n",
    "\n",
    "def softmax(value):\n",
    "    return np.exp(value) / (np.sum(np.exp(value), axis = 0))\n",
    "\n",
    "def sofmax_prime(value):\n",
    "    return softmax(value) * (1- softmax(value))"
   ]
  },
  {
   "cell_type": "code",
   "execution_count": 10,
   "metadata": {},
   "outputs": [],
   "source": [
    "# Cost Function\n",
    "\n",
    "def compute_cost(Y, Y_hat):\n",
    "    cost_sum = np.sum(np.multiply(Y, np.log(Y_hat)))\n",
    "    m = Y.shape[1]\n",
    "    cost = -(1/m) * cost_sum\n",
    "    return cost"
   ]
  },
  {
   "cell_type": "code",
   "execution_count": 11,
   "metadata": {},
   "outputs": [],
   "source": [
    "# Initializing Hyper Parameters\n",
    "\n",
    "n_x = train_x.shape[0]\n",
    "n_h = 50\n",
    "learning_rate = 1\n",
    "digits = 10\n",
    "m = train_x.shape[1]\n",
    "epochs = 1000"
   ]
  },
  {
   "cell_type": "code",
   "execution_count": 12,
   "metadata": {},
   "outputs": [
    {
     "name": "stdout",
     "output_type": "stream",
     "text": [
      "Input Values : 784\n",
      "Hidden Values : 50\n",
      "60000\n",
      "(784, 60000)\n"
     ]
    }
   ],
   "source": [
    "print('Input Values : {}'.format(n_x))\n",
    "print('Hidden Values : {}'.format(n_h))\n",
    "print(m)\n",
    "print(train_x.shape)"
   ]
  },
  {
   "cell_type": "code",
   "execution_count": 13,
   "metadata": {},
   "outputs": [],
   "source": [
    "# Initializing Weights and Biasis\n",
    "\n",
    "W1 = np.random.randn(n_h, n_x)\n",
    "b1 = np.zeros((n_h, 1))\n",
    "W2 = np.random.randn(digits, n_h)\n",
    "b2 = np.zeros((digits, 1))\n",
    "costs = []"
   ]
  },
  {
   "cell_type": "code",
   "execution_count": 14,
   "metadata": {},
   "outputs": [
    {
     "data": {
      "text/plain": [
       "(50, 784)"
      ]
     },
     "execution_count": 14,
     "metadata": {},
     "output_type": "execute_result"
    }
   ],
   "source": [
    "W1.shape"
   ]
  },
  {
   "cell_type": "code",
   "execution_count": 15,
   "metadata": {},
   "outputs": [
    {
     "name": "stdout",
     "output_type": "stream",
     "text": [
      "Epoch 0 cost:  8.117687725289919\n",
      "Epoch 100 cost:  0.7760177271712653\n",
      "Epoch 200 cost:  0.5905945628491717\n",
      "Epoch 300 cost:  0.508889736571268\n",
      "Epoch 400 cost:  0.45956344992313053\n",
      "Epoch 500 cost:  0.42538144191433197\n",
      "Epoch 600 cost:  0.3996534498193591\n",
      "Epoch 700 cost:  0.3792546871678905\n",
      "Epoch 800 cost:  0.3624575659012541\n",
      "Epoch 900 cost:  0.3482218720094239\n",
      "Epoch 1000 cost:  0.33589266141640334\n",
      "Epoch 1100 cost:  0.3250376229330625\n"
     ]
    },
    {
     "ename": "KeyboardInterrupt",
     "evalue": "",
     "output_type": "error",
     "traceback": [
      "\u001b[0;31m---------------------------------------------------------------------------\u001b[0m",
      "\u001b[0;31mKeyboardInterrupt\u001b[0m                         Traceback (most recent call last)",
      "\u001b[0;32m<ipython-input-15-64553f36f085>\u001b[0m in \u001b[0;36m<module>\u001b[0;34m\u001b[0m\n\u001b[1;32m      2\u001b[0m \u001b[0;34m\u001b[0m\u001b[0m\n\u001b[1;32m      3\u001b[0m \u001b[0;32mfor\u001b[0m \u001b[0mi\u001b[0m \u001b[0;32min\u001b[0m \u001b[0mrange\u001b[0m\u001b[0;34m(\u001b[0m\u001b[0mepochs\u001b[0m\u001b[0;34m)\u001b[0m\u001b[0;34m:\u001b[0m\u001b[0;34m\u001b[0m\u001b[0;34m\u001b[0m\u001b[0m\n\u001b[0;32m----> 4\u001b[0;31m     \u001b[0mZ1\u001b[0m \u001b[0;34m=\u001b[0m \u001b[0mnp\u001b[0m\u001b[0;34m.\u001b[0m\u001b[0mmatmul\u001b[0m\u001b[0;34m(\u001b[0m\u001b[0mW1\u001b[0m\u001b[0;34m,\u001b[0m\u001b[0mtrain_x\u001b[0m\u001b[0;34m)\u001b[0m \u001b[0;34m+\u001b[0m \u001b[0mb1\u001b[0m\u001b[0;34m\u001b[0m\u001b[0;34m\u001b[0m\u001b[0m\n\u001b[0m\u001b[1;32m      5\u001b[0m     \u001b[0mA1\u001b[0m \u001b[0;34m=\u001b[0m \u001b[0msigmoid\u001b[0m\u001b[0;34m(\u001b[0m\u001b[0mZ1\u001b[0m\u001b[0;34m)\u001b[0m     \u001b[0;31m# Activation Sigmoid\u001b[0m\u001b[0;34m\u001b[0m\u001b[0;34m\u001b[0m\u001b[0m\n\u001b[1;32m      6\u001b[0m     \u001b[0mZ2\u001b[0m \u001b[0;34m=\u001b[0m \u001b[0mnp\u001b[0m\u001b[0;34m.\u001b[0m\u001b[0mmatmul\u001b[0m\u001b[0;34m(\u001b[0m\u001b[0mW2\u001b[0m\u001b[0;34m,\u001b[0m\u001b[0mA1\u001b[0m\u001b[0;34m)\u001b[0m \u001b[0;34m+\u001b[0m \u001b[0mb2\u001b[0m\u001b[0;34m\u001b[0m\u001b[0;34m\u001b[0m\u001b[0m\n",
      "\u001b[0;31mKeyboardInterrupt\u001b[0m: "
     ]
    }
   ],
   "source": [
    "# Running the Neural Network\n",
    "\n",
    "for i in range(epochs):\n",
    "    Z1 = np.matmul(W1,train_x) + b1\n",
    "    A1 = sigmoid(Z1)     # Activation Sigmoid\n",
    "    Z2 = np.matmul(W2,A1) + b2\n",
    "    A2 = softmax(Z2)     # Activation Softmax\n",
    "    cost = compute_cost(train_y, A2)\n",
    "    \n",
    "    dZ2 = A2 - train_y\n",
    "    dW2 = (1./m) * np.matmul(dZ2, A1.T)\n",
    "    db2 = (1./m) * np.sum(dZ2, axis=1, keepdims=True)\n",
    "    \n",
    "    dA1 = np.matmul(W2.T,dZ2)\n",
    "    dZ1 = dA1 * sigmoid_prime(Z1)\n",
    "    dW1 = (1./m) * np.matmul(dZ1, train_x.T)\n",
    "    db1 = (1./m) * np.sum(dZ1, axis = 1, keepdims=True)\n",
    "    \n",
    "    W2 = W2 - learning_rate * dW2\n",
    "    b2 = b2 - learning_rate * db2\n",
    "    W1 = W1 - learning_rate * dW1\n",
    "    b1 = b1 - learning_rate * db1\n",
    "    \n",
    "    if (i % 100 == 0):\n",
    "        print(\"Epoch\", i, \"cost: \", cost)\n",
    "\n",
    "print(\"Final cost:\", cost)\n",
    "    "
   ]
  },
  {
   "cell_type": "code",
   "execution_count": null,
   "metadata": {},
   "outputs": [],
   "source": [
    "# Save the Biasis and weights because it took ages to calculate on Mac xP\n",
    "np.savetxt('W1.csv', W1, delimiter=',')\n",
    "np.savetxt('W2.csv', W2, delimiter=',')\n",
    "np.savetxt('b1.csv', b1, delimiter=',')\n",
    "np.savetxt('b2.csv', b2, delimiter=',')"
   ]
  },
  {
   "cell_type": "code",
   "execution_count": null,
   "metadata": {},
   "outputs": [],
   "source": [
    "# Test Accuracy \n",
    "\n",
    "Z1 = np.matmul(W1, test_x) + b1\n",
    "A1 = sigmoid(Z1)\n",
    "Z2 = np.matmul(W2, A1) + b2\n",
    "A2 = softmax(Z2)\n",
    "predictions = np.argmax(A2, axis=0)\n",
    "labels = np.argmax(test_y, axis=0)\n",
    "\n",
    "correct = 0 \n",
    "for i in range(labels.size):\n",
    "    if predictions[i] == labels[i]:\n",
    "        correct +=1\n",
    "print('Test Accuracy : {}'.format(100*correct/labels.size))\n"
   ]
  },
  {
   "cell_type": "markdown",
   "metadata": {},
   "source": [
    "## CNN"
   ]
  },
  {
   "cell_type": "code",
   "execution_count": null,
   "metadata": {},
   "outputs": [],
   "source": []
  }
 ],
 "metadata": {
  "kernelspec": {
   "display_name": "Python 3",
   "language": "python",
   "name": "python3"
  },
  "language_info": {
   "codemirror_mode": {
    "name": "ipython",
    "version": 3
   },
   "file_extension": ".py",
   "mimetype": "text/x-python",
   "name": "python",
   "nbconvert_exporter": "python",
   "pygments_lexer": "ipython3",
   "version": "3.6.7"
  }
 },
 "nbformat": 4,
 "nbformat_minor": 2
}
