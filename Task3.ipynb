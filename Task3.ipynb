{
 "cells": [
  {
   "cell_type": "code",
   "execution_count": 1,
   "metadata": {},
   "outputs": [],
   "source": [
    "import numpy as np\n",
    "import pandas as pd\n",
    "from sklearn.model_selection import train_test_split\n",
    "from math import sqrt, pow\n",
    "import matplotlib.pyplot as plt"
   ]
  },
  {
   "cell_type": "code",
   "execution_count": 5,
   "metadata": {},
   "outputs": [],
   "source": [
    "\n",
    "class KNN:\n",
    "    def __init__(self, filename, k, h=1, distance_function='eucledian', kernel='uniform'):\n",
    "        self.filename = filename\n",
    "        self.k = k\n",
    "        self.h = h\n",
    "        self.data = np.array(pd.read_csv(self.filename))\n",
    "        self.X = self.data[:, :-1]\n",
    "        self.Y = self.data[:, -1]\n",
    "        self.X_train = []\n",
    "        self.Y_train = []\n",
    "        self.X_test = []\n",
    "        self.Y_test = []\n",
    "        self.predictions = {'k': [], 'h': []}\n",
    "        self.distance_function = distance_function\n",
    "        self.kernel_function = kernel\n",
    "\n",
    "    def __fit__(self):\n",
    "        # Todo: Change the Splitting Logic as per LOOC\n",
    "        self.X_train, self.X_test, self.Y_train, self.Y_test = train_test_split(self.X, self.Y, test_size=0.33,\n",
    "                                                                                random_state=42)\n",
    "\n",
    "    def calculate_eucledian_distance_from_a_point(self, test_value):\n",
    "        distances = []\n",
    "\n",
    "        for i in self.X_train:\n",
    "            distance = 0\n",
    "            for column in range(len(test_value)):\n",
    "                distance += pow(i[column] - test_value[column], 2)\n",
    "            distances.append(sqrt(distance))\n",
    "\n",
    "        return distances\n",
    "\n",
    "    def calculate_manhattan_distance_from_a_point(self, test_value):\n",
    "        distances = []\n",
    "\n",
    "        for i in self.X_train:\n",
    "            distance = 0\n",
    "            for column in range(len(test_value)):\n",
    "                distance += abs(i[column] - test_value[column])\n",
    "            distances.append(distance)\n",
    "\n",
    "        return distances\n",
    "\n",
    "    def calculate_cosine_distance_from_a_point(self, test_value):\n",
    "        distances = []\n",
    "\n",
    "        for i in self.X_train:\n",
    "            distance = 0\n",
    "            for column in range(len(test_value)):\n",
    "                distance += abs(i[column] - test_value[column])\n",
    "            distances.append(distance)\n",
    "\n",
    "        return distances\n",
    "    \n",
    "    \n",
    "    def __apply_kernel(self, distance):\n",
    "        if self.kernel_function == 'epanechnikov':\n",
    "            kernel_value = (3/4) * (1 - distance**2) if distance <= 1 else 0\n",
    "        elif self.kernel_function == 'quadratic':\n",
    "            kernel_value = (15/16) * (1 - distance**2)**2 if distance <= 1 else 0\n",
    "        else:\n",
    "            kernel_value = 1/2 if distance <= 1 else 0\n",
    "            \n",
    "        return kernel_value\n",
    "    \n",
    "\n",
    "    def __get_prediction_based_on_k_neighbours__(self, distances):\n",
    "        min_indexes = np.argpartition(np.array(distances), self.k)[:self.k:]\n",
    "        output = {}\n",
    "        for index in min_indexes:\n",
    "            op = self.Y_train[index]\n",
    "            if op in output:\n",
    "                output[op] += 1\n",
    "            else:\n",
    "                output[op] = 1\n",
    "\n",
    "        sorted_output = sorted(output.items(), key=lambda kv: kv[1])\n",
    "        return sorted_output[0][0]\n",
    "\n",
    "    def __get_prediction_based_on_parsion_window(self, distances):\n",
    "        distances = np.array(distances)\n",
    "        windowed_values_indexes = np.argwhere(distances <= self.h)\n",
    "        windowed_values_indexes = windowed_values_indexes[:, 0]\n",
    "        output = {}\n",
    "        for index in windowed_values_indexes:\n",
    "            op = self.Y_train[index]\n",
    "            if op in output:\n",
    "                output[op] += self.__apply_kernel(distances[index])\n",
    "            else:\n",
    "                output[op] = self.__apply_kernel(distances[index])\n",
    "        sorted_output = sorted(output.items(), key=lambda kv: kv[1])\n",
    "        return sorted_output[0][0]\n",
    "\n",
    "    def __predict__(self):\n",
    "        distances = []\n",
    "        for x in range(len(self.X_test)):\n",
    "            if self.distance_function == 'eucledian':\n",
    "                distances.append(self.calculate_eucledian_distance_from_a_point(self.X_test[x]))\n",
    "            if self.distance_function == 'manhatten':\n",
    "                distances.append(self.calculate_eucledian_distance_from_a_point(self.X_test[x]))\n",
    "            if self.distance_function == 'cosine':\n",
    "                distances.append(self.calculate_cosine_distance_from_a_point(self.X_test[x]))\n",
    "\n",
    "        for distance in distances:\n",
    "            self.predictions['k'].append(self.__get_prediction_based_on_k_neighbours__(distance))\n",
    "            self.predictions['h'].append(self.__get_prediction_based_on_parsion_window(distance))\n",
    "\n",
    "    def accuracy(self):\n",
    "        correct_h = 0\n",
    "        correct_k = 0\n",
    "        for x in range(len(self.Y_test)):\n",
    "            if self.predictions['k'][x] == self.Y_test[x]:\n",
    "                correct_k = correct_k + 1\n",
    "            if self.predictions['h'][x] == self.Y_test[x]:\n",
    "                correct_h = correct_h + 1\n",
    "\n",
    "        accuracy_k = (correct_k / float(len(self.Y_test)) * 100)\n",
    "        accuracy_h = (correct_h / float(len(self.Y_test)) * 100)\n",
    "        return accuracy_k, accuracy_h\n",
    "\n",
    "\n"
   ]
  },
  {
   "cell_type": "code",
   "execution_count": 6,
   "metadata": {},
   "outputs": [],
   "source": [
    "# Create a empty dictonary\n",
    "final_output = {'h' : [] , 'k' : []}"
   ]
  },
  {
   "cell_type": "code",
   "execution_count": 7,
   "metadata": {},
   "outputs": [
    {
     "name": "stdout",
     "output_type": "stream",
     "text": [
      "Accuracy of K: 98.0, Accuracy of H: 54.0\n"
     ]
    }
   ],
   "source": [
    "knn = KNN('knn-iris.csv', 2, kernel='quadratic')\n",
    "knn.__fit__()\n",
    "knn.__predict__()\n",
    "(k,h) = knn.accuracy()\n",
    "print('Accuracy of K: {}, Accuracy of H: {}'.format(k,h))\n",
    "\n",
    "final_output['h'].append(h)\n",
    "final_output['k'].append(k)"
   ]
  },
  {
   "cell_type": "code",
   "execution_count": 8,
   "metadata": {},
   "outputs": [
    {
     "name": "stdout",
     "output_type": "stream",
     "text": [
      "Accuracy of K: 94.0, Accuracy of H: 54.0\n"
     ]
    }
   ],
   "source": [
    "knn = KNN('knn-iris.csv', 3, kernel='epanechnikov')\n",
    "knn.__fit__()\n",
    "knn.__predict__()\n",
    "(k,h) = knn.accuracy()\n",
    "print('Accuracy of K: {}, Accuracy of H: {}'.format(k,h))\n",
    "final_output['h'].append(h)\n",
    "final_output['k'].append(k)"
   ]
  },
  {
   "cell_type": "code",
   "execution_count": 9,
   "metadata": {},
   "outputs": [
    {
     "name": "stdout",
     "output_type": "stream",
     "text": [
      "Accuracy of K: 86.0, Accuracy of H: 54.0\n"
     ]
    }
   ],
   "source": [
    "knn = KNN('knn-iris.csv', 4)\n",
    "knn.__fit__()\n",
    "knn.__predict__()\n",
    "(k,h) = knn.accuracy()\n",
    "print('Accuracy of K: {}, Accuracy of H: {}'.format(k,h))\n",
    "final_output['h'].append(h)\n",
    "final_output['k'].append(k)"
   ]
  },
  {
   "cell_type": "code",
   "execution_count": 10,
   "metadata": {},
   "outputs": [
    {
     "name": "stdout",
     "output_type": "stream",
     "text": [
      "Accuracy of K: 86.0, Accuracy of H: 54.0\n"
     ]
    }
   ],
   "source": [
    "knn = KNN('knn-iris.csv', 5)\n",
    "knn.__fit__()\n",
    "knn.__predict__()\n",
    "(k,h) = knn.accuracy()\n",
    "print('Accuracy of K: {}, Accuracy of H: {}'.format(k,h))\n",
    "final_output['h'].append(h)\n",
    "final_output['k'].append(k)"
   ]
  },
  {
   "cell_type": "code",
   "execution_count": 11,
   "metadata": {},
   "outputs": [
    {
     "name": "stdout",
     "output_type": "stream",
     "text": [
      "Accuracy of K: 84.0, Accuracy of H: 54.0\n"
     ]
    }
   ],
   "source": [
    "knn = KNN('knn-iris.csv', 6)\n",
    "knn.__fit__()\n",
    "knn.__predict__()\n",
    "(k,h) = knn.accuracy()\n",
    "print('Accuracy of K: {}, Accuracy of H: {}'.format(k,h))\n",
    "final_output['h'].append(h)\n",
    "final_output['k'].append(k)"
   ]
  },
  {
   "cell_type": "code",
   "execution_count": 12,
   "metadata": {},
   "outputs": [
    {
     "name": "stdout",
     "output_type": "stream",
     "text": [
      "Accuracy of K: 82.0, Accuracy of H: 54.0\n"
     ]
    }
   ],
   "source": [
    "knn = KNN('knn-iris.csv', 7)\n",
    "knn.__fit__()\n",
    "knn.__predict__()\n",
    "(k,h) = knn.accuracy()\n",
    "print('Accuracy of K: {}, Accuracy of H: {}'.format(k,h))\n",
    "final_output['h'].append(h)\n",
    "final_output['k'].append(k)"
   ]
  },
  {
   "cell_type": "code",
   "execution_count": 13,
   "metadata": {},
   "outputs": [
    {
     "name": "stdout",
     "output_type": "stream",
     "text": [
      "Accuracy of K: 76.0, Accuracy of H: 54.0\n"
     ]
    }
   ],
   "source": [
    "knn = KNN('knn-iris.csv', 8)\n",
    "knn.__fit__()\n",
    "knn.__predict__()\n",
    "(k,h) = knn.accuracy()\n",
    "print('Accuracy of K: {}, Accuracy of H: {}'.format(k,h))\n",
    "final_output['h'].append(h)\n",
    "final_output['k'].append(k)"
   ]
  },
  {
   "cell_type": "code",
   "execution_count": 14,
   "metadata": {},
   "outputs": [
    {
     "name": "stdout",
     "output_type": "stream",
     "text": [
      "Accuracy of K: 72.0, Accuracy of H: 54.0\n"
     ]
    }
   ],
   "source": [
    "knn = KNN('knn-iris.csv', 9)\n",
    "knn.__fit__()\n",
    "knn.__predict__()\n",
    "(k,h) = knn.accuracy()\n",
    "print('Accuracy of K: {}, Accuracy of H: {}'.format(k,h))\n",
    "final_output['h'].append(h)\n",
    "final_output['k'].append(k)"
   ]
  },
  {
   "cell_type": "code",
   "execution_count": 15,
   "metadata": {},
   "outputs": [],
   "source": [
    "final_output_df = pd.DataFrame(final_output)"
   ]
  },
  {
   "cell_type": "code",
   "execution_count": 16,
   "metadata": {},
   "outputs": [
    {
     "data": {
      "text/html": [
       "<div>\n",
       "<style scoped>\n",
       "    .dataframe tbody tr th:only-of-type {\n",
       "        vertical-align: middle;\n",
       "    }\n",
       "\n",
       "    .dataframe tbody tr th {\n",
       "        vertical-align: top;\n",
       "    }\n",
       "\n",
       "    .dataframe thead th {\n",
       "        text-align: right;\n",
       "    }\n",
       "</style>\n",
       "<table border=\"1\" class=\"dataframe\">\n",
       "  <thead>\n",
       "    <tr style=\"text-align: right;\">\n",
       "      <th></th>\n",
       "      <th>h</th>\n",
       "      <th>k</th>\n",
       "    </tr>\n",
       "  </thead>\n",
       "  <tbody>\n",
       "    <tr>\n",
       "      <th>0</th>\n",
       "      <td>54.0</td>\n",
       "      <td>98.0</td>\n",
       "    </tr>\n",
       "    <tr>\n",
       "      <th>1</th>\n",
       "      <td>54.0</td>\n",
       "      <td>94.0</td>\n",
       "    </tr>\n",
       "    <tr>\n",
       "      <th>2</th>\n",
       "      <td>54.0</td>\n",
       "      <td>86.0</td>\n",
       "    </tr>\n",
       "    <tr>\n",
       "      <th>3</th>\n",
       "      <td>54.0</td>\n",
       "      <td>86.0</td>\n",
       "    </tr>\n",
       "    <tr>\n",
       "      <th>4</th>\n",
       "      <td>54.0</td>\n",
       "      <td>84.0</td>\n",
       "    </tr>\n",
       "    <tr>\n",
       "      <th>5</th>\n",
       "      <td>54.0</td>\n",
       "      <td>82.0</td>\n",
       "    </tr>\n",
       "    <tr>\n",
       "      <th>6</th>\n",
       "      <td>54.0</td>\n",
       "      <td>76.0</td>\n",
       "    </tr>\n",
       "    <tr>\n",
       "      <th>7</th>\n",
       "      <td>54.0</td>\n",
       "      <td>72.0</td>\n",
       "    </tr>\n",
       "  </tbody>\n",
       "</table>\n",
       "</div>"
      ],
      "text/plain": [
       "      h     k\n",
       "0  54.0  98.0\n",
       "1  54.0  94.0\n",
       "2  54.0  86.0\n",
       "3  54.0  86.0\n",
       "4  54.0  84.0\n",
       "5  54.0  82.0\n",
       "6  54.0  76.0\n",
       "7  54.0  72.0"
      ]
     },
     "execution_count": 16,
     "metadata": {},
     "output_type": "execute_result"
    }
   ],
   "source": [
    "final_output_df"
   ]
  },
  {
   "cell_type": "code",
   "execution_count": 17,
   "metadata": {},
   "outputs": [
    {
     "data": {
      "image/png": "[encoded data removed]",
      "text/plain": [
       "<Figure size 432x288 with 1 Axes>"
      ]
     },
     "metadata": {
      "needs_background": "light"
     },
     "output_type": "display_data"
    }
   ],
   "source": [
    "fig, ax = plt.subplots()\n",
    "ax.plot([2,3,4,5,6,7,8,9],final_output_df['k'])\n",
    "#ax.plot(final_output_df['h'], label='Parsing Window')\n",
    "ax.plot([2,3,4,5,6,7,8,9],final_output_df['h'])\n",
    "plt.show()"
   ]
  },
  {
   "cell_type": "code",
   "execution_count": null,
   "metadata": {},
   "outputs": [],
   "source": []
  },
  {
   "cell_type": "code",
   "execution_count": null,
   "metadata": {},
   "outputs": [],
   "source": []
  }
 ],
 "metadata": {
  "kernelspec": {
   "display_name": "Python 3",
   "language": "python",
   "name": "python3"
  },
  "language_info": {
   "codemirror_mode": {
    "name": "ipython",
    "version": 3
   },
   "file_extension": ".py",
   "mimetype": "text/x-python",
   "name": "python",
   "nbconvert_exporter": "python",
   "pygments_lexer": "ipython3",
   "version": "3.6.7"
  }
 },
 "nbformat": 4,
 "nbformat_minor": 2
}
