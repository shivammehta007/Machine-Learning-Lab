{
 "cells": [
  {
   "cell_type": "markdown",
   "metadata": {},
   "source": [
    "# Task 1 \n",
    "## Write a K Fold Classifer"
   ]
  },
  {
   "cell_type": "code",
   "execution_count": 2,
   "metadata": {},
   "outputs": [],
   "source": [
    "import random"
   ]
  },
  {
   "cell_type": "code",
   "execution_count": 5,
   "metadata": {},
   "outputs": [],
   "source": [
    "class KFold:\n",
    "\n",
    "    def __init__(self, data, K_folds):\n",
    "        self.data = data\n",
    "        self.K = K_folds\n",
    "\n",
    "\n",
    "    def splitter(self):\n",
    "        avg = len(self.data) / float(self.K)\n",
    "        splitted_list = []\n",
    "        last = 0.0\n",
    "        while last < len(self.data):\n",
    "            splitted_list.append(self.data[int(last):int(last + avg)])\n",
    "            last += avg\n",
    "        splitted_list = sorted(splitted_list, reverse=True, key=lambda x: len(x))\n",
    "        return splitted_list\n",
    "\n",
    "\n",
    "    def cross_validation(self):\n",
    "        value_dict = self.generate_dictionary()\n",
    "        splitted_index_list = self.splitter()\n",
    "\n",
    "        for i in range(len(splitted_index_list)):\n",
    "            head_position = 0\n",
    "            for j in range(len(splitted_index_list[i])):\n",
    "                if len(value_dict[head_position]) == 0:\n",
    "                    for item in value_dict[head_position:len(value_dict)] + value_dict[0:head_position]:\n",
    "                        if len(item) != 0:\n",
    "                            head_position = value_dict.index(item)\n",
    "                            break\n",
    "\n",
    "                value = random.choice(value_dict[head_position])\n",
    "                value_dict[head_position].remove(value)\n",
    "                splitted_index_list[i][j] = value\n",
    "\n",
    "                if head_position == len(value_dict) - 1:\n",
    "                    head_position = 0\n",
    "                else:\n",
    "                    head_position += 1\n",
    "\n",
    "        return splitted_index_list\n",
    "\n",
    "\n",
    "    def run(self):\n",
    "        splitted_indexes = self.cross_validation()\n",
    "        fold_number = 1\n",
    "        for value in splitted_indexes:\n",
    "            print('Fold Number {} = {}'.format(fold_number, value))\n",
    "            fold_number += 1\n",
    "\n",
    "\n",
    "    def generate_dictionary(self):\n",
    "        dict_classes = dict()\n",
    "        for i in range(len(self.data)):\n",
    "            if self.data[i] in dict_classes:\n",
    "                dict_classes[self.data[i]].append(i)\n",
    "            else:\n",
    "                dict_classes.update({self.data[i]: [i]})\n",
    "        list_tup = sorted(dict_classes.items(), reverse=True, key=lambda x: len(x[1]))\n",
    "        list_classes = list()\n",
    "        for x in list_tup:\n",
    "            list_classes.append(x[1])\n",
    "        return list_classes\n"
   ]
  },
  {
   "cell_type": "code",
   "execution_count": 6,
   "metadata": {},
   "outputs": [
    {
     "name": "stdout",
     "output_type": "stream",
     "text": [
      "Input sequence: 1 2 3 2 3 4 5 6 5 3 2\n",
      "Input K: 3\n",
      "Fold Number 1 = [10, 4, 8, 0]\n",
      "Fold Number 2 = [3, 9, 6, 5]\n",
      "Fold Number 3 = [1, 2, 7]\n"
     ]
    }
   ],
   "source": [
    "list_data = [int(x) for x in input(\"Input sequence: \").split()]\n",
    "K = int(input(\"Input K: \"))\n",
    "\n",
    "validator = KFold(list_data, K)\n",
    "validator.run()\n"
   ]
  },
  {
   "cell_type": "code",
   "execution_count": 7,
   "metadata": {},
   "outputs": [
    {
     "name": "stdout",
     "output_type": "stream",
     "text": [
      "Input sequence: 1 2 3 2 3 4 5 6 5 3 2\n",
      "Input K: 3\n",
      "Fold Number 1 = [3, 2, 6, 0]\n",
      "Fold Number 2 = [1, 9, 8, 5]\n",
      "Fold Number 3 = [10, 4, 7]\n"
     ]
    }
   ],
   "source": [
    "list_data = [int(x) for x in input(\"Input sequence: \").split()]\n",
    "K = int(input(\"Input K: \"))\n",
    "\n",
    "validator = KFold(list_data, K)\n",
    "validator.run()"
   ]
  },
  {
   "cell_type": "code",
   "execution_count": null,
   "metadata": {},
   "outputs": [],
   "source": []
  }
 ],
 "metadata": {
  "kernelspec": {
   "display_name": "Python 3",
   "language": "python",
   "name": "python3"
  },
  "language_info": {
   "codemirror_mode": {
    "name": "ipython",
    "version": 3
   },
   "file_extension": ".py",
   "mimetype": "text/x-python",
   "name": "python",
   "nbconvert_exporter": "python",
   "pygments_lexer": "ipython3",
   "version": "3.6.7"
  }
 },
 "nbformat": 4,
 "nbformat_minor": 2
}
