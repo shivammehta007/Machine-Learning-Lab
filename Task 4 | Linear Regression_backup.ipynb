{
 "cells": [
  {
   "cell_type": "code",
   "execution_count": 1,
   "metadata": {},
   "outputs": [],
   "source": [
    "import numpy as np\n",
    "import matplotlib.pyplot as plt\n",
    "import pandas as pd\n",
    "from os import path\n",
    "%matplotlib inline"
   ]
  },
  {
   "cell_type": "code",
   "execution_count": 2,
   "metadata": {},
   "outputs": [],
   "source": [
    "# Read data\n",
    "data = pd.read_csv('Task4DataSet/01_train.csv')"
   ]
  },
  {
   "cell_type": "code",
   "execution_count": 3,
   "metadata": {},
   "outputs": [],
   "source": [
    "test_data = pd.read_csv('Task4DataSet/01_test.csv')"
   ]
  },
  {
   "cell_type": "code",
   "execution_count": 4,
   "metadata": {},
   "outputs": [],
   "source": [
    "def normalize(data):\n",
    "    data = data.T\n",
    "    data = np.array(data)\n",
    "    mean_std = {'mean': [],\n",
    "                'std': [] }\n",
    "    normalized_data = []\n",
    "    for values in data:\n",
    "        if np.max(values) == np.min(values):\n",
    "            continue\n",
    "        normalized_data.append((values - np.mean(values)) / ( np.std(values) if np.std(values) else 1e-5))\n",
    "        mean_std['mean'].append(np.mean(values))\n",
    "        mean_std['std'].append(np.std(values))\n",
    "    \n",
    "    normalized_data = pd.DataFrame(normalized_data)\n",
    "    return normalized_data.T, mean_std\n",
    "\n",
    "        \n",
    "        "
   ]
  },
  {
   "cell_type": "code",
   "execution_count": 5,
   "metadata": {},
   "outputs": [],
   "source": [
    "# def normalize_with_mean_and_std(data, mean_std_dict):\n",
    "#     data = data.T\n",
    "#     data = np.array(data)\n",
    "#     print(data.shape, len(mean_std_dict['mean']))\n",
    "#     normalized_data = []\n",
    "#     for i,values in enumerate(data):\n",
    "#         normalized_data.append( (values - mean_std_dict['mean'][i]) / mean_std_dict['std'][i])\n",
    "    \n",
    "#     normalized_data = pd.DataFrame(normalized_data)\n",
    "#     return normalized_data.T\n",
    "    "
   ]
  },
  {
   "cell_type": "code",
   "execution_count": 6,
   "metadata": {},
   "outputs": [],
   "source": [
    "data , std= normalize(data)"
   ]
  },
  {
   "cell_type": "code",
   "execution_count": 7,
   "metadata": {},
   "outputs": [
    {
     "data": {
      "text/plain": [
       "2"
      ]
     },
     "execution_count": 7,
     "metadata": {},
     "output_type": "execute_result"
    }
   ],
   "source": [
    "len(std)"
   ]
  },
  {
   "cell_type": "code",
   "execution_count": 8,
   "metadata": {},
   "outputs": [],
   "source": [
    "data.insert(loc=0,column='x_0_1',value=np.ones(len(data))) \n",
    "data = data.dropna(axis=1, how='all')\n",
    "test_data = data.dropna(axis=1, how='all')\n",
    "# test_data.insert(loc=0,column='1',value=np.ones(len(test_data))) "
   ]
  },
  {
   "cell_type": "code",
   "execution_count": 9,
   "metadata": {},
   "outputs": [],
   "source": [
    "# test_data = normalize_with_mean_and_std(test_data, std)"
   ]
  },
  {
   "cell_type": "code",
   "execution_count": 10,
   "metadata": {},
   "outputs": [
    {
     "name": "stdout",
     "output_type": "stream",
     "text": [
      "(125, 10)\n"
     ]
    }
   ],
   "source": [
    "print(test_data.shape)"
   ]
  },
  {
   "cell_type": "code",
   "execution_count": 11,
   "metadata": {},
   "outputs": [
    {
     "name": "stdout",
     "output_type": "stream",
     "text": [
      "(125, 10)\n"
     ]
    }
   ],
   "source": [
    "print(data.shape)"
   ]
  },
  {
   "cell_type": "code",
   "execution_count": 12,
   "metadata": {},
   "outputs": [
    {
     "data": {
      "text/html": [
       "<div>\n",
       "<style scoped>\n",
       "    .dataframe tbody tr th:only-of-type {\n",
       "        vertical-align: middle;\n",
       "    }\n",
       "\n",
       "    .dataframe tbody tr th {\n",
       "        vertical-align: top;\n",
       "    }\n",
       "\n",
       "    .dataframe thead th {\n",
       "        text-align: right;\n",
       "    }\n",
       "</style>\n",
       "<table border=\"1\" class=\"dataframe\">\n",
       "  <thead>\n",
       "    <tr style=\"text-align: right;\">\n",
       "      <th></th>\n",
       "      <th>x_0_1</th>\n",
       "      <th>0</th>\n",
       "      <th>1</th>\n",
       "      <th>2</th>\n",
       "      <th>3</th>\n",
       "      <th>4</th>\n",
       "      <th>5</th>\n",
       "      <th>6</th>\n",
       "      <th>7</th>\n",
       "      <th>8</th>\n",
       "    </tr>\n",
       "  </thead>\n",
       "  <tbody>\n",
       "    <tr>\n",
       "      <th>0</th>\n",
       "      <td>1.0</td>\n",
       "      <td>0.844022</td>\n",
       "      <td>-2.944584</td>\n",
       "      <td>0.348570</td>\n",
       "      <td>2.946333</td>\n",
       "      <td>-2.947586</td>\n",
       "      <td>0.122679</td>\n",
       "      <td>2.921191</td>\n",
       "      <td>-0.645287</td>\n",
       "      <td>-2.825998</td>\n",
       "    </tr>\n",
       "    <tr>\n",
       "      <th>1</th>\n",
       "      <td>1.0</td>\n",
       "      <td>-1.053046</td>\n",
       "      <td>-2.583094</td>\n",
       "      <td>-1.282392</td>\n",
       "      <td>2.579652</td>\n",
       "      <td>-2.589218</td>\n",
       "      <td>-0.299825</td>\n",
       "      <td>2.701043</td>\n",
       "      <td>-1.378472</td>\n",
       "      <td>-2.456031</td>\n",
       "    </tr>\n",
       "    <tr>\n",
       "      <th>2</th>\n",
       "      <td>1.0</td>\n",
       "      <td>0.651369</td>\n",
       "      <td>-2.088489</td>\n",
       "      <td>0.091610</td>\n",
       "      <td>2.089876</td>\n",
       "      <td>-2.086093</td>\n",
       "      <td>-0.670203</td>\n",
       "      <td>2.085466</td>\n",
       "      <td>0.595845</td>\n",
       "      <td>-2.129688</td>\n",
       "    </tr>\n",
       "    <tr>\n",
       "      <th>3</th>\n",
       "      <td>1.0</td>\n",
       "      <td>0.550064</td>\n",
       "      <td>-1.611664</td>\n",
       "      <td>-1.599439</td>\n",
       "      <td>1.612865</td>\n",
       "      <td>-1.612498</td>\n",
       "      <td>0.291253</td>\n",
       "      <td>1.754946</td>\n",
       "      <td>-0.164966</td>\n",
       "      <td>-1.935061</td>\n",
       "    </tr>\n",
       "    <tr>\n",
       "      <th>4</th>\n",
       "      <td>1.0</td>\n",
       "      <td>1.103207</td>\n",
       "      <td>-2.048284</td>\n",
       "      <td>0.888575</td>\n",
       "      <td>2.050932</td>\n",
       "      <td>-2.039711</td>\n",
       "      <td>-0.509452</td>\n",
       "      <td>1.975679</td>\n",
       "      <td>2.032775</td>\n",
       "      <td>-1.930609</td>\n",
       "    </tr>\n",
       "  </tbody>\n",
       "</table>\n",
       "</div>"
      ],
      "text/plain": [
       "   x_0_1         0         1         2         3         4         5  \\\n",
       "0    1.0  0.844022 -2.944584  0.348570  2.946333 -2.947586  0.122679   \n",
       "1    1.0 -1.053046 -2.583094 -1.282392  2.579652 -2.589218 -0.299825   \n",
       "2    1.0  0.651369 -2.088489  0.091610  2.089876 -2.086093 -0.670203   \n",
       "3    1.0  0.550064 -1.611664 -1.599439  1.612865 -1.612498  0.291253   \n",
       "4    1.0  1.103207 -2.048284  0.888575  2.050932 -2.039711 -0.509452   \n",
       "\n",
       "          6         7         8  \n",
       "0  2.921191 -0.645287 -2.825998  \n",
       "1  2.701043 -1.378472 -2.456031  \n",
       "2  2.085466  0.595845 -2.129688  \n",
       "3  1.754946 -0.164966 -1.935061  \n",
       "4  1.975679  2.032775 -1.930609  "
      ]
     },
     "execution_count": 12,
     "metadata": {},
     "output_type": "execute_result"
    }
   ],
   "source": [
    "data.head()"
   ]
  },
  {
   "cell_type": "code",
   "execution_count": 13,
   "metadata": {},
   "outputs": [],
   "source": [
    "X = data.iloc[:, :-1]\n",
    "Y = data.iloc[:, -1]"
   ]
  },
  {
   "cell_type": "code",
   "execution_count": 14,
   "metadata": {},
   "outputs": [],
   "source": [
    "X_test = test_data.iloc[:, :-1]\n",
    "Y_test = test_data.iloc[:,-1]"
   ]
  },
  {
   "cell_type": "code",
   "execution_count": null,
   "metadata": {},
   "outputs": [],
   "source": []
  },
  {
   "cell_type": "code",
   "execution_count": 15,
   "metadata": {},
   "outputs": [
    {
     "name": "stdout",
     "output_type": "stream",
     "text": [
      "[0. 0. 0. 0. 0. 0. 0. 0. 0.]\n",
      "float64\n"
     ]
    }
   ],
   "source": [
    "# Generating Coefficients\n",
    "B = np.zeros(len(X.columns))\n",
    "print(B)\n",
    "X = np.array(X)\n",
    "Y = np.array(Y)\n",
    "print(X.dtype)"
   ]
  },
  {
   "cell_type": "code",
   "execution_count": 16,
   "metadata": {},
   "outputs": [],
   "source": [
    "# HyperParameters \n",
    "learning_rate = 0.01\n",
    "regularization_parameter = 1e-15 # 0.01"
   ]
  },
  {
   "cell_type": "code",
   "execution_count": 17,
   "metadata": {},
   "outputs": [],
   "source": [
    "# Defining Cost function\n",
    "cost_function = lambda X,Y,B: np.sum(np.square(X.dot(B) - Y)) / (2.0 * len(Y))"
   ]
  },
  {
   "cell_type": "code",
   "execution_count": 18,
   "metadata": {},
   "outputs": [
    {
     "name": "stdout",
     "output_type": "stream",
     "text": [
      "0.49999999999999983\n"
     ]
    }
   ],
   "source": [
    "initial_cost = cost_function(X,Y,B)\n",
    "print(initial_cost)"
   ]
  },
  {
   "cell_type": "code",
   "execution_count": 19,
   "metadata": {},
   "outputs": [],
   "source": [
    "# Writing Gradient Descent with L2 Ridge Regularization\n",
    "\n",
    "def gradient_descent(X, Y, B, learning_rate, epochs,regularization_parameter):\n",
    "    \n",
    "    cost_history = []\n",
    "    size = len(Y)\n",
    "    for i in range(epochs):\n",
    "        h = X.dot(B)\n",
    "        loss = h - Y  - ( regularization_parameter / (2 * size) ) * np.sum(np.square(B))\n",
    "        gradient = X.T.dot(loss) / size\n",
    "        B = B - learning_rate * gradient# Lasso Regression - regularization_parameter*np.sign(B)\n",
    "        # B[B < 1e-16] = 0     when lasso regression\n",
    "        cost = cost_function(X,Y,B)\n",
    "        if i % 10 == 0:\n",
    "            cost_history.append(cost)\n",
    "  \n",
    "    return B, cost_history\n",
    "    "
   ]
  },
  {
   "cell_type": "code",
   "execution_count": 20,
   "metadata": {},
   "outputs": [
    {
     "data": {
      "text/plain": [
       "((125, 9), (125,), (9,))"
      ]
     },
     "execution_count": 20,
     "metadata": {},
     "output_type": "execute_result"
    }
   ],
   "source": [
    "X.shape, Y.shape, B.shape"
   ]
  },
  {
   "cell_type": "code",
   "execution_count": 21,
   "metadata": {},
   "outputs": [],
   "source": [
    "newB, cost_history = gradient_descent(X, Y, B, learning_rate, 1000, regularization_parameter)"
   ]
  },
  {
   "cell_type": "code",
   "execution_count": 22,
   "metadata": {},
   "outputs": [
    {
     "data": {
      "text/plain": [
       "(9,)"
      ]
     },
     "execution_count": 22,
     "metadata": {},
     "output_type": "execute_result"
    }
   ],
   "source": [
    "newB.shape"
   ]
  },
  {
   "cell_type": "code",
   "execution_count": null,
   "metadata": {},
   "outputs": [],
   "source": []
  },
  {
   "cell_type": "code",
   "execution_count": 23,
   "metadata": {},
   "outputs": [],
   "source": [
    "def update_B(B, std):\n",
    "    std_ = np.array(std['std'])\n",
    "    mean_ = np.array(std['mean'])\n",
    "    B[1:] = B[1:] / std_[:-1]\n",
    "    B[0] = B[0] - np.sum( ( B[1:] * mean_[:-1] ) / std_[:-1] )\n",
    "    \n",
    "    return B"
   ]
  },
  {
   "cell_type": "code",
   "execution_count": 24,
   "metadata": {},
   "outputs": [],
   "source": [
    "newB = update_B(newB, std)"
   ]
  },
  {
   "cell_type": "code",
   "execution_count": 25,
   "metadata": {},
   "outputs": [
    {
     "data": {
      "text/plain": [
       "(125, 9)"
      ]
     },
     "execution_count": 25,
     "metadata": {},
     "output_type": "execute_result"
    }
   ],
   "source": [
    "X_test.shape"
   ]
  },
  {
   "cell_type": "code",
   "execution_count": 26,
   "metadata": {},
   "outputs": [
    {
     "data": {
      "text/plain": [
       "array([ 3.97041811e-06, -2.73768479e-08,  1.52610607e-07,  3.17738981e-07,\n",
       "       -2.62026216e-07,  1.66179261e-07,  7.37855516e-10, -1.36468261e-07,\n",
       "       -1.14602806e-06])"
      ]
     },
     "execution_count": 26,
     "metadata": {},
     "output_type": "execute_result"
    }
   ],
   "source": [
    "newB"
   ]
  },
  {
   "cell_type": "code",
   "execution_count": 27,
   "metadata": {},
   "outputs": [
    {
     "data": {
      "image/png": "[encoded data removed]",
      "text/plain": [
       "<Figure size 432x288 with 1 Axes>"
      ]
     },
     "metadata": {
      "needs_background": "light"
     },
     "output_type": "display_data"
    }
   ],
   "source": [
    "a = np.linspace(0,1000,100)\n",
    "plt.plot(a, cost_history)\n",
    "plt.xlabel('Epochs')\n",
    "plt.ylabel('Cost')\n",
    "plt.title('Cost Function with Epochs')\n",
    "plt.show()"
   ]
  },
  {
   "cell_type": "code",
   "execution_count": 28,
   "metadata": {},
   "outputs": [],
   "source": [
    "def rmse(Y, Y_pred):\n",
    "    s = np.array(Y - Y_pred)\n",
    "    s = np.array(s**2)\n",
    "    s = np.sum(s)/ len(Y)\n",
    "    return s"
   ]
  },
  {
   "cell_type": "code",
   "execution_count": 29,
   "metadata": {},
   "outputs": [],
   "source": [
    "# # Predict Function : \n",
    "# def predict(X, B ,std):\n",
    "#     X = X.T\n",
    "#     new_X = []\n",
    "#     for i,column in enumerate(X):\n",
    "#         if i != 1:\n",
    "#             new_X.append( (column - std['mean'][i]) / std['std'][i] )\n",
    "        \n",
    "#     new_X = np.array(new_X).T\n",
    "#     return new_X.dot(B)"
   ]
  },
  {
   "cell_type": "code",
   "execution_count": 30,
   "metadata": {},
   "outputs": [],
   "source": [
    "# Y_pred =  predict(X_test, newB, std )"
   ]
  },
  {
   "cell_type": "code",
   "execution_count": 31,
   "metadata": {},
   "outputs": [],
   "source": [
    "Y_pred = X_test.dot(newB)"
   ]
  },
  {
   "cell_type": "code",
   "execution_count": 32,
   "metadata": {},
   "outputs": [
    {
     "name": "stdout",
     "output_type": "stream",
     "text": [
      "0.9999985011254813\n"
     ]
    }
   ],
   "source": [
    "print(rmse(Y_test, Y_pred))"
   ]
  },
  {
   "cell_type": "markdown",
   "metadata": {},
   "source": [
    "Alternate Method"
   ]
  },
  {
   "cell_type": "code",
   "execution_count": 33,
   "metadata": {},
   "outputs": [],
   "source": [
    "def method_of_regularized_least_squares(X_, Y_):\n",
    "    # Regularized Least Squares\n",
    "    L = 0.1\n",
    "    CX = X_.T.dot(X_)\n",
    "    B_ = (np.linalg.inv(CX + L * np.identity(len(CX)))).dot(X_.T.dot(Y_))\n",
    "\n",
    "    return B_"
   ]
  },
  {
   "cell_type": "code",
   "execution_count": 34,
   "metadata": {},
   "outputs": [],
   "source": [
    "B = method_of_regularized_least_squares(X, Y)"
   ]
  },
  {
   "cell_type": "code",
   "execution_count": 39,
   "metadata": {},
   "outputs": [],
   "source": [
    "Y_pred = X_test.dot(B)"
   ]
  },
  {
   "cell_type": "code",
   "execution_count": 40,
   "metadata": {},
   "outputs": [
    {
     "name": "stdout",
     "output_type": "stream",
     "text": [
      "0.016133944358760883\n"
     ]
    }
   ],
   "source": [
    "print(rmse(Y_test, Y_pred))"
   ]
  },
  {
   "cell_type": "code",
   "execution_count": null,
   "metadata": {},
   "outputs": [],
   "source": []
  }
 ],
 "metadata": {
  "kernelspec": {
   "display_name": "Python 3",
   "language": "python",
   "name": "python3"
  },
  "language_info": {
   "codemirror_mode": {
    "name": "ipython",
    "version": 3
   },
   "file_extension": ".py",
   "mimetype": "text/x-python",
   "name": "python",
   "nbconvert_exporter": "python",
   "pygments_lexer": "ipython3",
   "version": "3.6.7"
  }
 },
 "nbformat": 4,
 "nbformat_minor": 2
}
