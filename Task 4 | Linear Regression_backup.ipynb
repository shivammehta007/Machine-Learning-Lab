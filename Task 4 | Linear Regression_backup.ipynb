{
 "cells": [
  {
   "cell_type": "code",
   "execution_count": 1,
   "metadata": {},
   "outputs": [],
   "source": [
    "import numpy as np\n",
    "import matplotlib.pyplot as plt\n",
    "import pandas as pd\n",
    "from os import path\n",
    "%matplotlib inline"
   ]
  },
  {
   "cell_type": "code",
   "execution_count": 2,
   "metadata": {},
   "outputs": [],
   "source": [
    "# Read data\n",
    "data = pd.read_csv('Task4DataSet/02_train.csv')"
   ]
  },
  {
   "cell_type": "code",
   "execution_count": 3,
   "metadata": {},
   "outputs": [],
   "source": [
    "test_data = pd.read_csv('Task4DataSet/02_test.csv')"
   ]
  },
  {
   "cell_type": "code",
   "execution_count": 4,
   "metadata": {},
   "outputs": [],
   "source": [
    "data.insert(loc=0,column='x_0_1',value=np.ones(len(data))) \n",
    "data = data.dropna(axis=1, how='all')\n",
    "test_data = data.dropna(axis=1, how='all')\n",
    "test_data.insert(loc=0,column='1',value=np.ones(len(test_data))) "
   ]
  },
  {
   "cell_type": "code",
   "execution_count": 5,
   "metadata": {},
   "outputs": [],
   "source": [
    "def normalize(data):\n",
    "    data = data.T\n",
    "    data = np.array(data)\n",
    "    mean_std = {'mean': [],\n",
    "                'std': [] }\n",
    "    normalized_data = []\n",
    "    for values in data:\n",
    "        normalized_data.append((values - np.mean(values)) /np.std(values))\n",
    "        mean_std['mean'].append(np.mean(values))\n",
    "        mean_std['std'].append(np.std(values))\n",
    "    \n",
    "    normalized_data = pd.DataFrame(normalized_data)\n",
    "    return normalized_data.T, mean_std\n",
    "\n",
    "        \n",
    "        "
   ]
  },
  {
   "cell_type": "code",
   "execution_count": 6,
   "metadata": {},
   "outputs": [],
   "source": [
    "# def normalize_with_mean_and_std(data, mean_std_dict):\n",
    "#     data = data.T\n",
    "#     data = np.array(data)\n",
    "#     print(data.shape, len(mean_std_dict['mean']))\n",
    "#     normalized_data = []\n",
    "#     for i,values in enumerate(data):\n",
    "#         normalized_data.append( (values - mean_std_dict['mean'][i]) / mean_std_dict['std'][i])\n",
    "    \n",
    "#     normalized_data = pd.DataFrame(normalized_data)\n",
    "#     return normalized_data.T\n",
    "    "
   ]
  },
  {
   "cell_type": "code",
   "execution_count": 7,
   "metadata": {},
   "outputs": [
    {
     "name": "stderr",
     "output_type": "stream",
     "text": [
      "/anaconda3/envs/MasterThesisEnv/lib/python3.6/site-packages/ipykernel_launcher.py:8: RuntimeWarning: invalid value encountered in true_divide\n",
      "  \n"
     ]
    }
   ],
   "source": [
    "data , std= normalize(data)"
   ]
  },
  {
   "cell_type": "code",
   "execution_count": 8,
   "metadata": {},
   "outputs": [
    {
     "data": {
      "text/plain": [
       "221"
      ]
     },
     "execution_count": 8,
     "metadata": {},
     "output_type": "execute_result"
    }
   ],
   "source": [
    "len(std['mean'])"
   ]
  },
  {
   "cell_type": "code",
   "execution_count": 9,
   "metadata": {},
   "outputs": [],
   "source": [
    "# test_data = normalize_with_mean_and_std(test_data, std)"
   ]
  },
  {
   "cell_type": "code",
   "execution_count": 10,
   "metadata": {},
   "outputs": [],
   "source": [
    "data = data.dropna(axis=1, how='all')\n",
    "test_data = data.dropna(axis=1, how='all')\n",
    "test_data.insert(loc=0,column='1',value=np.ones(len(test_data))) "
   ]
  },
  {
   "cell_type": "code",
   "execution_count": null,
   "metadata": {},
   "outputs": [],
   "source": [
    "print(test_data.shape)"
   ]
  },
  {
   "cell_type": "code",
   "execution_count": null,
   "metadata": {},
   "outputs": [],
   "source": [
    "print(data.shape)"
   ]
  },
  {
   "cell_type": "code",
   "execution_count": null,
   "metadata": {},
   "outputs": [],
   "source": [
    "data.head()"
   ]
  },
  {
   "cell_type": "code",
   "execution_count": null,
   "metadata": {},
   "outputs": [],
   "source": []
  },
  {
   "cell_type": "code",
   "execution_count": null,
   "metadata": {},
   "outputs": [],
   "source": [
    "data.head(10)"
   ]
  },
  {
   "cell_type": "code",
   "execution_count": null,
   "metadata": {},
   "outputs": [],
   "source": [
    "X = data.iloc[:, :-1]\n",
    "Y = data.iloc[:, -1]"
   ]
  },
  {
   "cell_type": "code",
   "execution_count": null,
   "metadata": {},
   "outputs": [],
   "source": [
    "X_test = test_data.iloc[:, :-1]\n",
    "Y_test = test_data.iloc[:,-1]"
   ]
  },
  {
   "cell_type": "code",
   "execution_count": null,
   "metadata": {},
   "outputs": [],
   "source": [
    "# Generating Coefficients\n",
    "B = np.zeros(len(X.columns))\n",
    "print(B)\n",
    "X = np.array(X)\n",
    "Y = np.array(Y)\n",
    "print(X.dtype)"
   ]
  },
  {
   "cell_type": "code",
   "execution_count": null,
   "metadata": {},
   "outputs": [],
   "source": [
    "# HyperParameters \n",
    "learning_rate = 0.01\n",
    "regularization_parameter = 1e-15 # 0.01"
   ]
  },
  {
   "cell_type": "code",
   "execution_count": null,
   "metadata": {},
   "outputs": [],
   "source": [
    "# Defining Cost function\n",
    "cost_function = lambda X,Y,B: np.sum(np.square(X.dot(B) - Y)) / (2.0 * len(Y))"
   ]
  },
  {
   "cell_type": "code",
   "execution_count": null,
   "metadata": {},
   "outputs": [],
   "source": [
    "initial_cost = cost_function(X,Y,B)\n",
    "print(initial_cost)"
   ]
  },
  {
   "cell_type": "code",
   "execution_count": null,
   "metadata": {},
   "outputs": [],
   "source": [
    "# Writing Gradient Descent with L2 Ridge Regularization\n",
    "\n",
    "def gradient_descent(X, Y, B, learning_rate, epochs,regularization_parameter):\n",
    "    \n",
    "    cost_history = []\n",
    "    size = len(Y)\n",
    "    for i in range(epochs):\n",
    "        h = X.dot(B)\n",
    "        loss = h - Y  - ( regularization_parameter / (2 * size) ) * np.sum(np.square(B))\n",
    "        gradient = X.T.dot(loss) / size\n",
    "        B = B - learning_rate * gradient# Lasso Regression - regularization_parameter*np.sign(B)\n",
    "        # B[B < 1e-16] = 0     when lasso regression\n",
    "        cost = cost_function(X,Y,B)\n",
    "        if i % 10 == 0:\n",
    "            cost_history.append(cost)\n",
    "  \n",
    "    return B, cost_history\n",
    "    "
   ]
  },
  {
   "cell_type": "code",
   "execution_count": null,
   "metadata": {},
   "outputs": [],
   "source": [
    "X.shape, Y.shape, B.shape"
   ]
  },
  {
   "cell_type": "code",
   "execution_count": null,
   "metadata": {},
   "outputs": [],
   "source": [
    "newB, cost_history = gradient_descent(X, Y, B, learning_rate, 1000, regularization_parameter)"
   ]
  },
  {
   "cell_type": "code",
   "execution_count": null,
   "metadata": {},
   "outputs": [],
   "source": [
    "a = np.linspace(0,1000,100)\n",
    "plt.plot(a, cost_history)\n",
    "plt.xlabel('Epochs')\n",
    "plt.ylabel('Cost')\n",
    "plt.title('Cost Function with Epochs')\n",
    "plt.show()"
   ]
  },
  {
   "cell_type": "code",
   "execution_count": null,
   "metadata": {},
   "outputs": [],
   "source": [
    "def rmse(Y, Y_pred):\n",
    "    s = np.array(Y - Y_pred)\n",
    "    s = np.array(s**2)\n",
    "    s = np.sum(s)/ len(Y)\n",
    "    return s"
   ]
  },
  {
   "cell_type": "code",
   "execution_count": null,
   "metadata": {},
   "outputs": [],
   "source": [
    "# Predict Function : \n",
    "def predict(X, B ,std):\n",
    "    X = X.T\n",
    "    new_X = []\n",
    "    for i,column in enumerate(X):\n",
    "        if i != 1:\n",
    "            new_X.append( (column - std['mean'][i]) / std['std'][i] )\n",
    "        \n",
    "    new_X = np.array(new_X).T\n",
    "    return new_X.dot(B)"
   ]
  },
  {
   "cell_type": "code",
   "execution_count": null,
   "metadata": {},
   "outputs": [],
   "source": [
    "Y_pred =  predict(X_test, newB, std )"
   ]
  },
  {
   "cell_type": "code",
   "execution_count": null,
   "metadata": {},
   "outputs": [],
   "source": [
    "print(rmse(Y_test, Y_pred))"
   ]
  },
  {
   "cell_type": "markdown",
   "metadata": {},
   "source": [
    "Alternate Method"
   ]
  },
  {
   "cell_type": "code",
   "execution_count": null,
   "metadata": {},
   "outputs": [],
   "source": [
    "def method_of_regularized_least_squares(X_, Y_):\n",
    "    # Regularized Least Squares\n",
    "    L = 0.1\n",
    "    CX = X_.T.dot(X_)\n",
    "    B_ = (np.linalg.inv(CX + L * np.identity(len(CX)))).dot(X_.T.dot(Y_))\n",
    "\n",
    "    return B_"
   ]
  },
  {
   "cell_type": "code",
   "execution_count": null,
   "metadata": {},
   "outputs": [],
   "source": [
    "B = method_of_regularized_least_squares(X, Y)"
   ]
  },
  {
   "cell_type": "code",
   "execution_count": null,
   "metadata": {},
   "outputs": [],
   "source": [
    "Y_pred = X_test.dot(B)"
   ]
  },
  {
   "cell_type": "code",
   "execution_count": null,
   "metadata": {},
   "outputs": [],
   "source": [
    "print(rmse(Y_test, Y_pred))"
   ]
  },
  {
   "cell_type": "code",
   "execution_count": null,
   "metadata": {},
   "outputs": [],
   "source": []
  }
 ],
 "metadata": {
  "kernelspec": {
   "display_name": "Python 3",
   "language": "python",
   "name": "python3"
  },
  "language_info": {
   "codemirror_mode": {
    "name": "ipython",
    "version": 3
   },
   "file_extension": ".py",
   "mimetype": "text/x-python",
   "name": "python",
   "nbconvert_exporter": "python",
   "pygments_lexer": "ipython3",
   "version": "3.6.7"
  }
 },
 "nbformat": 4,
 "nbformat_minor": 2
}
