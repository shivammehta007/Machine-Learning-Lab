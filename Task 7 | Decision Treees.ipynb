{
 "cells": [
  {
   "cell_type": "markdown",
   "metadata": {},
   "source": [
    "# Decision Trees"
   ]
  },
  {
   "cell_type": "code",
   "execution_count": 1,
   "metadata": {},
   "outputs": [],
   "source": [
    "import numpy as np\n",
    "import pandas as pd\n",
    "import os\n",
    "import matplotlib.pyplot as plt\n",
    "import seaborn as sns\n",
    "%matplotlib inline"
   ]
  },
  {
   "cell_type": "code",
   "execution_count": 2,
   "metadata": {},
   "outputs": [],
   "source": [
    "# Dataset Location\n",
    "dataset = 'Task7_DataSet'\n",
    "file_name_train = '01_train.csv'\n",
    "file_name_test = '01_test.csv'\n",
    "\n",
    "file_name_train = os.path.join(dataset, file_name_train)\n",
    "file_name_test = os.path.join(dataset, file_name_test)"
   ]
  },
  {
   "cell_type": "code",
   "execution_count": 3,
   "metadata": {},
   "outputs": [],
   "source": [
    "# Data Preparation\n",
    "\n",
    "class DataPrep:\n",
    "    def __init__(self, filename, normalize=True):\n",
    "        self.filename = filename\n",
    "        self.normalize = normalize\n",
    "        self.data = pd.read_csv(self.filename)\n",
    "        self.x, self.y = self.prepare_data()\n",
    "        \n",
    "    def normalize_data(self):\n",
    "        self.x = self.x.apply(lambda x : x - np.mean(x) / np.std(x), axis= 1)\n",
    "    \n",
    "    def prepare_data(self):\n",
    "        self.x = self.data.iloc[:,:-1]\n",
    "        self.y = self.data.iloc[: ,-1]\n",
    "        if self.normalize:\n",
    "            self.normalize_data()\n",
    "        # Returning Numpy Arrays for Faster Computation\n",
    "        return self.x.values, self.y.values\n",
    "        \n",
    "    \n",
    "        \n",
    "    \n",
    "    "
   ]
  },
  {
   "cell_type": "code",
   "execution_count": 4,
   "metadata": {},
   "outputs": [],
   "source": [
    "train = DataPrep(file_name_train, False)\n",
    "test = DataPrep(file_name_test, False)"
   ]
  },
  {
   "cell_type": "code",
   "execution_count": 5,
   "metadata": {},
   "outputs": [
    {
     "name": "stdout",
     "output_type": "stream",
     "text": [
      "3891\n",
      "3891\n",
      "[ 1  2  3  4  5  6  7  8  9 10 11 12 13 14 15 16 17 18 19 20]\n",
      "9\n"
     ]
    }
   ],
   "source": [
    "len(train.y)\n",
    "print(len(train.x))\n",
    "print(len(train.y))\n",
    "print(np.unique(train.y))\n",
    "print(len(train.x[0]))\n"
   ]
  },
  {
   "cell_type": "markdown",
   "metadata": {},
   "source": [
    "## Decision Tree"
   ]
  },
  {
   "cell_type": "code",
   "execution_count": 6,
   "metadata": {},
   "outputs": [],
   "source": [
    "class DecisionTree:\n",
    "    def __init__(self, X, Y, max_depth=10):\n",
    "        self.X = X\n",
    "        self.Y = Y\n",
    "        self.max_depth = max_depth\n",
    "        self.n = len(X)\n",
    "        self.features = len(X[0])\n",
    "        self.classes = np.unique(Y)\n",
    "        self.tree = []\n",
    "    \n",
    "    \n",
    "    def gini_score(self, groups, y_groups):\n",
    "        total_values = sum(len(g) for g in groups)\n",
    "        gini_score = 0.0\n",
    "        for i in range(len(groups)):\n",
    "            group = groups[i]\n",
    "            y_group = y_groups[i]\n",
    "            group_size = float(len(group))\n",
    "            if group_size == 0.0:\n",
    "                continue\n",
    "            gini_score_group = 0.0\n",
    "            for i in self.classes:\n",
    "                propotion = (y_group == i).sum() / group_size\n",
    "                gini_score_group += propotion * propotion\n",
    "\n",
    "            gini_score += ( 1.0 - gini_score_group ) * ( group_size/total_values)\n",
    "        return gini_score\n",
    "    \n",
    "    \n",
    "    def test_split(self, column_index, value, dataset, y_data):\n",
    "        left = []\n",
    "        right = []\n",
    "        y_left = []\n",
    "        y_right = []\n",
    "        \n",
    "        for i in range(len(dataset)):\n",
    "            if dataset[i][column_index] < value:\n",
    "                left.append(dataset[i])\n",
    "                y_left.append(y_data[i])\n",
    "            else:\n",
    "                right.append(dataset[i])\n",
    "                y_right.append(y_data[i])\n",
    "        \n",
    "        return ( np.array(left), np.array(right) ) , ( np.array(y_left), np.array(y_right) )\n",
    "\n",
    "    \n",
    "    def get_best_split(self, dataset, y_data):\n",
    "        best_gini_score, best_index, best_value, best_groups = float(\"inf\"), 999, 999, []\n",
    "        for index in range(self.features):\n",
    "            i = 0 \n",
    "            for row in dataset:\n",
    "                i+=1\n",
    "                groups, y_groups = self.test_split(index, row[index], dataset, y_data)\n",
    "                gini_score = self.gini_score(groups, y_groups)\n",
    "                if gini_score < best_gini_score:\n",
    "                    best_gini_score, best_index, best_value, best_groups, best_y_groups  = gini_score, index, row[index], groups, y_groups\n",
    "        \n",
    "        return {'index':best_index, 'value':best_value, 'groups':best_groups, 'y_groups' : best_y_groups}\n",
    "\n",
    "    \n",
    "    # Create a terminal node value\n",
    "    def make_terminal_node(self,group):\n",
    "        '''\n",
    "        Returns element which occured maximum number of times\n",
    "        '''\n",
    "        group = group.tolist()\n",
    "        return max(np.unique(group), key=group.count)\n",
    "\n",
    "    \n",
    "    def split(self, node, depth):\n",
    "        print('Building Tree of Current Depth : {}'.format(depth))\n",
    "        left, right = node['groups']\n",
    "        y_left, y_right = node['y_groups']\n",
    "        del node['groups']\n",
    "        del node['y_groups']\n",
    "        \n",
    "        if not len(left) or not len(right):\n",
    "            node['left'] = node['right'] = self.make_terminal_node(np.append(y_left,y_right))\n",
    "            return\n",
    "        \n",
    "        if depth >= self.max_depth:\n",
    "            node['left'], node['right'] = self.make_terminal_node(y_left), self.make_terminal_node(y_right)\n",
    "            return\n",
    "        \n",
    "        \n",
    "        node['left'] = self.get_best_split(left, y_left)\n",
    "        self.split(node['left'], depth+1)\n",
    "        \n",
    "        node['right'] = self.get_best_split(right, y_right)\n",
    "        self.split(node['right'], depth+1)\n",
    "    \n",
    "    \n",
    "    def build_tree(self):\n",
    "        root = self.get_best_split(self.X, self.Y)\n",
    "        self.split(root, 1)\n",
    "        self.tree = root\n",
    "        \n",
    "    \n",
    "    def get_accuracy_score(self):\n",
    "        accuracy = 0\n",
    "        for i in range(len(self.y_predicted)):\n",
    "            if int(self.y_predicted[i]) == int(self.y_test[i]):\n",
    "                accuracy += 1\n",
    "            \n",
    "        return float(accuracy * 100/len(self.y_predicted))\n",
    "        \n",
    "    \n",
    "    def __make__prediction__(self, node, row):\n",
    "        if row[node['index']] < node['value']:\n",
    "            if isinstance(node['left'], dict):\n",
    "                return self.__make__prediction__(node['left'], row)\n",
    "            else:\n",
    "                return node['left']\n",
    "        else:\n",
    "            if isinstance(node['right'], dict):\n",
    "                return self.__make__prediction__(node['right'], row)\n",
    "            else:\n",
    "                return node['right']\n",
    "    \n",
    "    \n",
    "    def predict(self,test_x, test_y):\n",
    "        self.y_predicted = []\n",
    "        self.y_test = test_y\n",
    "        self.x_test = test_x\n",
    "        for row in test_x:\n",
    "            self.y_predicted.append( self.__make__prediction__(self.tree, row) )\n",
    "        \n",
    "        \n",
    "        return self.y_predicted\n",
    "            \n",
    "    \n",
    "\n",
    "\n"
   ]
  },
  {
   "cell_type": "code",
   "execution_count": null,
   "metadata": {},
   "outputs": [],
   "source": [
    "accuracy_vs_height = []\n"
   ]
  },
  {
   "cell_type": "code",
   "execution_count": 13,
   "metadata": {},
   "outputs": [
    {
     "name": "stdout",
     "output_type": "stream",
     "text": [
      "Generating Decision Tree of Height : 1\n",
      "Building Tree of Current Depth : 1\n",
      "Generating Decision Tree of Height : 2\n",
      "Building Tree of Current Depth : 1\n",
      "Building Tree of Current Depth : 2\n",
      "Building Tree of Current Depth : 2\n",
      "Generating Decision Tree of Height : 3\n",
      "Building Tree of Current Depth : 1\n",
      "Building Tree of Current Depth : 2\n",
      "Building Tree of Current Depth : 3\n",
      "Building Tree of Current Depth : 3\n",
      "Building Tree of Current Depth : 2\n",
      "Building Tree of Current Depth : 3\n",
      "Building Tree of Current Depth : 3\n",
      "Generating Decision Tree of Height : 4\n",
      "Building Tree of Current Depth : 1\n",
      "Building Tree of Current Depth : 2\n",
      "Building Tree of Current Depth : 3\n",
      "Building Tree of Current Depth : 4\n",
      "Building Tree of Current Depth : 4\n",
      "Building Tree of Current Depth : 3\n",
      "Building Tree of Current Depth : 4\n",
      "Building Tree of Current Depth : 4\n",
      "Building Tree of Current Depth : 2\n",
      "Building Tree of Current Depth : 3\n",
      "Building Tree of Current Depth : 4\n",
      "Building Tree of Current Depth : 4\n",
      "Building Tree of Current Depth : 3\n",
      "Building Tree of Current Depth : 4\n",
      "Building Tree of Current Depth : 4\n",
      "Generating Decision Tree of Height : 5\n",
      "Building Tree of Current Depth : 1\n",
      "Building Tree of Current Depth : 2\n",
      "Building Tree of Current Depth : 3\n",
      "Building Tree of Current Depth : 4\n",
      "Building Tree of Current Depth : 5\n",
      "Building Tree of Current Depth : 5\n",
      "Building Tree of Current Depth : 4\n",
      "Building Tree of Current Depth : 3\n",
      "Building Tree of Current Depth : 4\n",
      "Building Tree of Current Depth : 4\n",
      "Building Tree of Current Depth : 5\n",
      "Building Tree of Current Depth : 5\n",
      "Building Tree of Current Depth : 2\n",
      "Building Tree of Current Depth : 3\n",
      "Building Tree of Current Depth : 4\n",
      "Building Tree of Current Depth : 5\n",
      "Building Tree of Current Depth : 5\n",
      "Building Tree of Current Depth : 4\n",
      "Building Tree of Current Depth : 5\n",
      "Building Tree of Current Depth : 5\n",
      "Building Tree of Current Depth : 3\n",
      "Building Tree of Current Depth : 4\n",
      "Building Tree of Current Depth : 5\n",
      "Building Tree of Current Depth : 5\n",
      "Building Tree of Current Depth : 4\n",
      "Building Tree of Current Depth : 5\n",
      "Building Tree of Current Depth : 5\n"
     ]
    }
   ],
   "source": [
    "\n",
    "for height in range(1,6):\n",
    "    print('Generating Decision Tree of Height : {}'.format(height) )\n",
    "    decision_tree = DecisionTree(train.x, train.y,max_depth=height)\n",
    "    decision_tree.build_tree()\n",
    "    predcited_y = decision_tree.predict(test.x, test.y)\n",
    "    accuracy_vs_height.append( ( height, decision_tree.get_accuracy_score()) )\n",
    "    \n",
    "\n"
   ]
  },
  {
   "cell_type": "code",
   "execution_count": 8,
   "metadata": {},
   "outputs": [
    {
     "data": {
      "text/plain": [
       "[(5, 99.2289899768697),\n",
       " (6, 98.84348496530455),\n",
       " (7, 98.66358262657414),\n",
       " (8, 98.22667694680031),\n",
       " (9, 97.81547160113081),\n",
       " (10, 97.35286558725264)]"
      ]
     },
     "execution_count": 8,
     "metadata": {},
     "output_type": "execute_result"
    }
   ],
   "source": [
    "accuracy_vs_height"
   ]
  },
  {
   "cell_type": "code",
   "execution_count": 12,
   "metadata": {},
   "outputs": [
    {
     "data": {
      "image/png": "[encoded data removed]",
      "text/plain": [
       "<Figure size 432x288 with 1 Axes>"
      ]
     },
     "metadata": {
      "needs_background": "light"
     },
     "output_type": "display_data"
    }
   ],
   "source": [
    "plt.plot([row[0] for row in accuracy_vs_height], [row[1] for row in accuracy_vs_height])\n",
    "plt.xlabel('Height Of Tree')\n",
    "plt.ylabel('Accuracy')\n",
    "plt.show()"
   ]
  },
  {
   "cell_type": "code",
   "execution_count": null,
   "metadata": {},
   "outputs": [],
   "source": []
  }
 ],
 "metadata": {
  "kernelspec": {
   "display_name": "Python 3",
   "language": "python",
   "name": "python3"
  },
  "language_info": {
   "codemirror_mode": {
    "name": "ipython",
    "version": 3
   },
   "file_extension": ".py",
   "mimetype": "text/x-python",
   "name": "python",
   "nbconvert_exporter": "python",
   "pygments_lexer": "ipython3",
   "version": "3.6.7"
  }
 },
 "nbformat": 4,
 "nbformat_minor": 2
}
