{
 "cells": [
  {
   "cell_type": "markdown",
   "metadata": {},
   "source": [
    "# Naïve Bais For Spam and Non Spam Classification"
   ]
  },
  {
   "cell_type": "code",
   "execution_count": 1,
   "metadata": {},
   "outputs": [],
   "source": [
    "import glob\n",
    "import numpy as np\n",
    "import pandas as pd\n",
    "import os\n",
    "import random\n",
    "from sklearn.metrics import accuracy_score\n",
    "import matplotlib.pyplot as plt\n",
    "%matplotlib inline"
   ]
  },
  {
   "cell_type": "code",
   "execution_count": 2,
   "metadata": {},
   "outputs": [],
   "source": [
    "data_directory = 'Task6_DataSet'\n",
    "os.chdir(data_directory)"
   ]
  },
  {
   "cell_type": "code",
   "execution_count": 3,
   "metadata": {},
   "outputs": [
    {
     "name": "stdout",
     "output_type": "stream",
     "text": [
      "/Users/shivam/Desktop/Learning/Semester II/Machine Learning/Machine-Learning-Lab/Task6_DataSet\n"
     ]
    }
   ],
   "source": [
    "print(os.getcwd())"
   ]
  },
  {
   "cell_type": "code",
   "execution_count": 4,
   "metadata": {},
   "outputs": [
    {
     "name": "stdout",
     "output_type": "stream",
     "text": [
      "We Will use Part4 as test dataset\n"
     ]
    }
   ],
   "source": [
    "# Generate a random number to use it as a testing dataset\n",
    "testing_set_number = random.randint(1,10)\n",
    "print('We Will use Part{} as test dataset'.format(testing_set_number))"
   ]
  },
  {
   "cell_type": "code",
   "execution_count": 5,
   "metadata": {},
   "outputs": [],
   "source": [
    "def populate_data(data_dictionary, filename):\n",
    "    with open(filename) as file:\n",
    "        file_data = []\n",
    "        for line in file:\n",
    "            if line:\n",
    "                if 'Subject' in line:\n",
    "                    data_dictionary['Subject'].append(line.split(':')[1].strip())\n",
    "                else:\n",
    "                    file_data.append(line.strip())\n",
    "\n",
    "        data_dictionary['message'].append(''.join(file_data))\n",
    "        if 'legit' in filename:\n",
    "            data_dictionary['spam'].append(0)\n",
    "        else:\n",
    "            data_dictionary['spam'].append(1)\n",
    "        data_dictionary['filename'].append(filename)\n",
    "        \n",
    "        "
   ]
  },
  {
   "cell_type": "code",
   "execution_count": 6,
   "metadata": {},
   "outputs": [],
   "source": [
    "# Generate out DataFrame\n",
    "X = {'filename': [], 'Subject' : [], 'message' : [], 'spam' : []}\n",
    "Y = {'filename': [], 'Subject' : [], 'message' : [], 'spam' : []}\n",
    "\n",
    "\n",
    "for file in glob.iglob('**/*', recursive=True):\n",
    "    if os.path.isfile(file):\n",
    "        if 'part{}/'.format(testing_set_number) in file:\n",
    "            populate_data(Y, file)\n",
    "        else:\n",
    "            populate_data(X, file)\n",
    "        \n",
    "            \n",
    "        "
   ]
  },
  {
   "cell_type": "code",
   "execution_count": 7,
   "metadata": {},
   "outputs": [
    {
     "name": "stdout",
     "output_type": "stream",
     "text": [
      "(981, 4) (109, 4)\n"
     ]
    }
   ],
   "source": [
    "X_data = pd.DataFrame(X)\n",
    "Y_data = pd.DataFrame(Y)\n",
    "print(X_data.shape, Y_data.shape)\n"
   ]
  },
  {
   "cell_type": "code",
   "execution_count": 8,
   "metadata": {},
   "outputs": [
    {
     "data": {
      "text/html": [
       "<div>\n",
       "<style scoped>\n",
       "    .dataframe tbody tr th:only-of-type {\n",
       "        vertical-align: middle;\n",
       "    }\n",
       "\n",
       "    .dataframe tbody tr th {\n",
       "        vertical-align: top;\n",
       "    }\n",
       "\n",
       "    .dataframe thead th {\n",
       "        text-align: right;\n",
       "    }\n",
       "</style>\n",
       "<table border=\"1\" class=\"dataframe\">\n",
       "  <thead>\n",
       "    <tr style=\"text-align: right;\">\n",
       "      <th></th>\n",
       "      <th>filename</th>\n",
       "      <th>Subject</th>\n",
       "      <th>message</th>\n",
       "      <th>spam</th>\n",
       "    </tr>\n",
       "  </thead>\n",
       "  <tbody>\n",
       "    <tr>\n",
       "      <th>0</th>\n",
       "      <td>part3/31038legit19.txt</td>\n",
       "      <td>2056 118 20153 11852</td>\n",
       "      <td>284 6818 80 284 13383 80 127 93 84 489 18798 2...</td>\n",
       "      <td>0</td>\n",
       "    </tr>\n",
       "    <tr>\n",
       "      <th>1</th>\n",
       "      <td>part3/31024legit30.txt</td>\n",
       "      <td>16351 9568 118 3842 17730 7634 14338 103 69</td>\n",
       "      <td>16502 21946 7634 16893 15149 1613 16538 80 115...</td>\n",
       "      <td>0</td>\n",
       "    </tr>\n",
       "    <tr>\n",
       "      <th>2</th>\n",
       "      <td>part3/3435legit3.txt</td>\n",
       "      <td>167 14444 118 1686 118 19310 82 15527 18916 90...</td>\n",
       "      <td>14338 7488 2221 20439 103 80 12116 18469 18706...</td>\n",
       "      <td>0</td>\n",
       "    </tr>\n",
       "    <tr>\n",
       "      <th>3</th>\n",
       "      <td>part3/3707spmsg74.txt</td>\n",
       "      <td>1968 21501 80 1968 20235 47 47 47</td>\n",
       "      <td>4822 80 16502 2410 1967 180 262 1847 12146 199...</td>\n",
       "      <td>1</td>\n",
       "    </tr>\n",
       "    <tr>\n",
       "      <th>4</th>\n",
       "      <td>part3/31017spmsg80.txt</td>\n",
       "      <td>130 8857</td>\n",
       "      <td>478 17188 130 20259 12808 80 196 17054 1812 17...</td>\n",
       "      <td>1</td>\n",
       "    </tr>\n",
       "    <tr>\n",
       "      <th>5</th>\n",
       "      <td>part3/3762legit23.txt</td>\n",
       "      <td>8197 15018</td>\n",
       "      <td>16147 17345 14338 14934 17544 15511 437 80 176...</td>\n",
       "      <td>0</td>\n",
       "    </tr>\n",
       "    <tr>\n",
       "      <th>6</th>\n",
       "      <td>part3/3480spmsg75.txt</td>\n",
       "      <td>6306 118 86 86 17212 84 11835 84 1694</td>\n",
       "      <td>16502 11317 160 80 17336 23422 18104 22913 199...</td>\n",
       "      <td>1</td>\n",
       "    </tr>\n",
       "    <tr>\n",
       "      <th>7</th>\n",
       "      <td>part3/3987legit52.txt</td>\n",
       "      <td>2056 118 13547 5228 1613 10898 51 1465 51</td>\n",
       "      <td>284 14851 80 196 4339 6427 17753 17345 180 725...</td>\n",
       "      <td>0</td>\n",
       "    </tr>\n",
       "    <tr>\n",
       "      <th>8</th>\n",
       "      <td>part3/3285legit50.txt</td>\n",
       "      <td>167 190 82 14988 171 20428 1835 2418 82 7967 3...</td>\n",
       "      <td>20428 1835 2418 82 7967 3788 8584 16502 21856 ...</td>\n",
       "      <td>0</td>\n",
       "    </tr>\n",
       "    <tr>\n",
       "      <th>9</th>\n",
       "      <td>part3/3201spmsg99.txt</td>\n",
       "      <td>15527 1613 20382 84 13830</td>\n",
       "      <td>19054 1847 15527 1613 6306 118 86 86 20382 84 ...</td>\n",
       "      <td>1</td>\n",
       "    </tr>\n",
       "  </tbody>\n",
       "</table>\n",
       "</div>"
      ],
      "text/plain": [
       "                 filename                                            Subject  \\\n",
       "0  part3/31038legit19.txt                               2056 118 20153 11852   \n",
       "1  part3/31024legit30.txt        16351 9568 118 3842 17730 7634 14338 103 69   \n",
       "2    part3/3435legit3.txt  167 14444 118 1686 118 19310 82 15527 18916 90...   \n",
       "3   part3/3707spmsg74.txt                  1968 21501 80 1968 20235 47 47 47   \n",
       "4  part3/31017spmsg80.txt                                           130 8857   \n",
       "5   part3/3762legit23.txt                                         8197 15018   \n",
       "6   part3/3480spmsg75.txt              6306 118 86 86 17212 84 11835 84 1694   \n",
       "7   part3/3987legit52.txt          2056 118 13547 5228 1613 10898 51 1465 51   \n",
       "8   part3/3285legit50.txt  167 190 82 14988 171 20428 1835 2418 82 7967 3...   \n",
       "9   part3/3201spmsg99.txt                          15527 1613 20382 84 13830   \n",
       "\n",
       "                                             message  spam  \n",
       "0  284 6818 80 284 13383 80 127 93 84 489 18798 2...     0  \n",
       "1  16502 21946 7634 16893 15149 1613 16538 80 115...     0  \n",
       "2  14338 7488 2221 20439 103 80 12116 18469 18706...     0  \n",
       "3  4822 80 16502 2410 1967 180 262 1847 12146 199...     1  \n",
       "4  478 17188 130 20259 12808 80 196 17054 1812 17...     1  \n",
       "5  16147 17345 14338 14934 17544 15511 437 80 176...     0  \n",
       "6  16502 11317 160 80 17336 23422 18104 22913 199...     1  \n",
       "7  284 14851 80 196 4339 6427 17753 17345 180 725...     0  \n",
       "8  20428 1835 2418 82 7967 3788 8584 16502 21856 ...     0  \n",
       "9  19054 1847 15527 1613 6306 118 86 86 20382 84 ...     1  "
      ]
     },
     "execution_count": 8,
     "metadata": {},
     "output_type": "execute_result"
    }
   ],
   "source": [
    "X_data.head(10)"
   ]
  },
  {
   "cell_type": "code",
   "execution_count": 9,
   "metadata": {},
   "outputs": [
    {
     "data": {
      "text/html": [
       "<div>\n",
       "<style scoped>\n",
       "    .dataframe tbody tr th:only-of-type {\n",
       "        vertical-align: middle;\n",
       "    }\n",
       "\n",
       "    .dataframe tbody tr th {\n",
       "        vertical-align: top;\n",
       "    }\n",
       "\n",
       "    .dataframe thead th {\n",
       "        text-align: right;\n",
       "    }\n",
       "</style>\n",
       "<table border=\"1\" class=\"dataframe\">\n",
       "  <thead>\n",
       "    <tr style=\"text-align: right;\">\n",
       "      <th></th>\n",
       "      <th>filename</th>\n",
       "      <th>Subject</th>\n",
       "      <th>message</th>\n",
       "      <th>spam</th>\n",
       "    </tr>\n",
       "  </thead>\n",
       "  <tbody>\n",
       "    <tr>\n",
       "      <th>0</th>\n",
       "      <td>part4/4421legit3.txt</td>\n",
       "      <td>167 190 82 22006 171 86 167 154 171 16975 1193...</td>\n",
       "      <td>19054 7634 1847 21715 2130 14903 13944 84 2176...</td>\n",
       "      <td>0</td>\n",
       "    </tr>\n",
       "    <tr>\n",
       "      <th>1</th>\n",
       "      <td>part4/4448spmsg66.txt</td>\n",
       "      <td>6597 15527 23767 1991 16502 20259 131</td>\n",
       "      <td>19054 1847 15691 18844 84 17345 4339 15149 190...</td>\n",
       "      <td>1</td>\n",
       "    </tr>\n",
       "    <tr>\n",
       "      <th>2</th>\n",
       "      <td>part4/46legit39.txt</td>\n",
       "      <td>10414 86 16516</td>\n",
       "      <td>284 1705 84 5171 80 196 1591 180 22195 3735 16...</td>\n",
       "      <td>0</td>\n",
       "    </tr>\n",
       "    <tr>\n",
       "      <th>3</th>\n",
       "      <td>part4/4780spmsg91.txt</td>\n",
       "      <td>1791 80 14686 13472 17345 47</td>\n",
       "      <td>284 12296 118 19054 1847 1593 14509 19264 2167...</td>\n",
       "      <td>1</td>\n",
       "    </tr>\n",
       "    <tr>\n",
       "      <th>4</th>\n",
       "      <td>part4/4749spmsg103.txt</td>\n",
       "      <td>14328 130 3295 1991 16502 20259 15700 47 47</td>\n",
       "      <td>20259 8438 21074 15066 125 775 1593 1991 82 95...</td>\n",
       "      <td>1</td>\n",
       "    </tr>\n",
       "    <tr>\n",
       "      <th>5</th>\n",
       "      <td>part4/4596legit0.txt</td>\n",
       "      <td>2056 118 167 14851 132 1878 84 1792 118 230 19...</td>\n",
       "      <td>1791 14851 84 196 17329 1850 709 22180 18957 1...</td>\n",
       "      <td>0</td>\n",
       "    </tr>\n",
       "    <tr>\n",
       "      <th>6</th>\n",
       "      <td>part4/4405legit14.txt</td>\n",
       "      <td>2056 118 6086 11082 1967 20255 21767</td>\n",
       "      <td>13611 12445 21399 118 127 196 4339 16811 9570 ...</td>\n",
       "      <td>0</td>\n",
       "    </tr>\n",
       "    <tr>\n",
       "      <th>7</th>\n",
       "      <td>part4/4148spmsg95.txt</td>\n",
       "      <td>23540 23096 16296 18247 84 84 84</td>\n",
       "      <td>765 4784 15700 2130 21117 1850 15966 47 6306 1...</td>\n",
       "      <td>1</td>\n",
       "    </tr>\n",
       "    <tr>\n",
       "      <th>8</th>\n",
       "      <td>part4/41061spmsg92.txt</td>\n",
       "      <td>17345 4339 23075 13606 2130 8189 17923</td>\n",
       "      <td>16502 9594 8667 1967 118 51 17923 51 14403 215...</td>\n",
       "      <td>1</td>\n",
       "    </tr>\n",
       "    <tr>\n",
       "      <th>9</th>\n",
       "      <td>part4/4205legit38.txt</td>\n",
       "      <td>23690 8938 10462</td>\n",
       "      <td>196 24075 8986 1847 20381 14268 3613 19816 183...</td>\n",
       "      <td>0</td>\n",
       "    </tr>\n",
       "  </tbody>\n",
       "</table>\n",
       "</div>"
      ],
      "text/plain": [
       "                 filename                                            Subject  \\\n",
       "0    part4/4421legit3.txt  167 190 82 22006 171 86 167 154 171 16975 1193...   \n",
       "1   part4/4448spmsg66.txt              6597 15527 23767 1991 16502 20259 131   \n",
       "2     part4/46legit39.txt                                     10414 86 16516   \n",
       "3   part4/4780spmsg91.txt                       1791 80 14686 13472 17345 47   \n",
       "4  part4/4749spmsg103.txt        14328 130 3295 1991 16502 20259 15700 47 47   \n",
       "5    part4/4596legit0.txt  2056 118 167 14851 132 1878 84 1792 118 230 19...   \n",
       "6   part4/4405legit14.txt               2056 118 6086 11082 1967 20255 21767   \n",
       "7   part4/4148spmsg95.txt                   23540 23096 16296 18247 84 84 84   \n",
       "8  part4/41061spmsg92.txt             17345 4339 23075 13606 2130 8189 17923   \n",
       "9   part4/4205legit38.txt                                   23690 8938 10462   \n",
       "\n",
       "                                             message  spam  \n",
       "0  19054 7634 1847 21715 2130 14903 13944 84 2176...     0  \n",
       "1  19054 1847 15691 18844 84 17345 4339 15149 190...     1  \n",
       "2  284 1705 84 5171 80 196 1591 180 22195 3735 16...     0  \n",
       "3  284 12296 118 19054 1847 1593 14509 19264 2167...     1  \n",
       "4  20259 8438 21074 15066 125 775 1593 1991 82 95...     1  \n",
       "5  1791 14851 84 196 17329 1850 709 22180 18957 1...     0  \n",
       "6  13611 12445 21399 118 127 196 4339 16811 9570 ...     0  \n",
       "7  765 4784 15700 2130 21117 1850 15966 47 6306 1...     1  \n",
       "8  16502 9594 8667 1967 118 51 17923 51 14403 215...     1  \n",
       "9  196 24075 8986 1847 20381 14268 3613 19816 183...     0  "
      ]
     },
     "execution_count": 9,
     "metadata": {},
     "output_type": "execute_result"
    }
   ],
   "source": [
    " Y_data.head(10)"
   ]
  },
  {
   "cell_type": "code",
   "execution_count": 11,
   "metadata": {},
   "outputs": [],
   "source": [
    "from collections import defaultdict\n",
    "\n",
    "def count_it(column):\n",
    "    counter = defaultdict(int)\n",
    "    for row in column:\n",
    "        words = row.split()\n",
    "        for word in words:\n",
    "            counter[word] += 1\n",
    "    return dict(counter)\n",
    "\n",
    "\n",
    "\n",
    "def get_spam_and_legit_dictionary(data_frame):\n",
    "    spam_data = data_frame.loc[data_frame['spam'] == 1]\n",
    "    legit_data = data_frame.loc[data_frame['spam'] == 0]\n",
    "    spam_subject_counter = count_it(spam_data['Subject'])\n",
    "    spam_message_counter = count_it(spam_data['message'])\n",
    "    legit_subject_counter = count_it(legit_data['Subject'])\n",
    "    legit_message_counter = count_it(legit_data['message'])\n",
    "    return spam_subject_counter, spam_message_counter, legit_subject_counter, legit_message_counter\n"
   ]
  },
  {
   "cell_type": "code",
   "execution_count": 12,
   "metadata": {},
   "outputs": [],
   "source": [
    "spam_subject_count, spam_message_count, legit_subject_count, legit_message_count = get_spam_and_legit_dictionary(X_data)"
   ]
  },
  {
   "cell_type": "code",
   "execution_count": 13,
   "metadata": {},
   "outputs": [],
   "source": [
    "def convert_values_to_probability(count_dictionary):\n",
    "    total_number = sum(count_dictionary.values())\n",
    "    return {k:v/total_number for k,v in count_dictionary.items()}"
   ]
  },
  {
   "cell_type": "code",
   "execution_count": 14,
   "metadata": {},
   "outputs": [],
   "source": [
    "spam_subject = convert_values_to_probability(spam_subject_count)\n",
    "spam_message = convert_values_to_probability(spam_message_count)\n",
    "legit_subject = convert_values_to_probability(legit_subject_count)\n",
    "legit_message = convert_values_to_probability(legit_message_count)"
   ]
  },
  {
   "cell_type": "code",
   "execution_count": 15,
   "metadata": {},
   "outputs": [],
   "source": [
    "def probability_of_occurance(data_row, probability_dictionary):\n",
    "    probability = 1\n",
    "    words = data_row.split()\n",
    "    for word in words:\n",
    "        if word in probability_dictionary:\n",
    "            probability += probability_dictionary[word]\n",
    "            \n",
    "    return probability\n",
    "                "
   ]
  },
  {
   "cell_type": "code",
   "execution_count": 16,
   "metadata": {},
   "outputs": [],
   "source": [
    "accuracy_plot = []\n",
    "for c in range(0,15):\n",
    "    messages_as_legit = 0\n",
    "    Y_predict = []\n",
    "    for i in range(len(Y_data)):\n",
    "        data_row = Y_data.iloc[i]\n",
    "        subject_probability_spam = probability_of_occurance(data_row['Subject'], spam_subject)\n",
    "        subject_probability_legit = probability_of_occurance(data_row['Subject'], legit_subject)\n",
    "        message_probability_spam = probability_of_occurance(data_row['message'], spam_message)\n",
    "        message_probability_legit = probability_of_occurance(data_row['message'], legit_message)\n",
    "        if (2*subject_probability_spam + message_probability_spam) >= (2*subject_probability_legit + message_probability_legit + c):\n",
    "            Y_predict.append(1)\n",
    "            if Y_data['spam'][i] == 0:\n",
    "                messages_as_legit += 1\n",
    "        else:\n",
    "            Y_predict.append(0)\n",
    "    Y_predict = np.array(Y_predict)\n",
    "    accuracy_plot.append( (  messages_as_legit , accuracy_score(Y_data['spam'], Y_predict)*100 ))\n",
    "    "
   ]
  },
  {
   "cell_type": "code",
   "execution_count": 28,
   "metadata": {},
   "outputs": [
    {
     "data": {
      "text/plain": [
       "[(48, 77.98165137614679),\n",
       " (50, 68.80733944954129),\n",
       " (52, 62.38532110091744),\n",
       " (55, 61.13761467889908),\n",
       " (58, 60.05504587155964),\n",
       " (58, 59.05504587155964),\n",
       " (58, 59.05504587155964),\n",
       " (58, 59.13761467889908),\n",
       " (58, 59.30275229357798),\n",
       " (58, 59.08532110091744),\n",
       " (59, 58.88532110091744),\n",
       " (59, 58.86788990825688),\n",
       " (59, 58.550458715596335),\n",
       " (59, 57.550458715596335),\n",
       " (59, 56.63302752293578)]"
      ]
     },
     "execution_count": 28,
     "metadata": {},
     "output_type": "execute_result"
    }
   ],
   "source": [
    "accuracy_plot"
   ]
  },
  {
   "cell_type": "code",
   "execution_count": 29,
   "metadata": {},
   "outputs": [
    {
     "data": {
      "image/png": "[encoded data removed]",
      "text/plain": [
       "<Figure size 432x288 with 1 Axes>"
      ]
     },
     "metadata": {
      "needs_background": "light"
     },
     "output_type": "display_data"
    }
   ],
   "source": [
    "plt.plot([a[0] for a in accuracy_plot], [a[1] for a in accuracy_plot])\n",
    "plt.ylabel('Accuracy')\n",
    "plt.xlabel('Number of Legit Messages')\n",
    "plt.show()"
   ]
  }
 ],
 "metadata": {
  "kernelspec": {
   "display_name": "Python 3",
   "language": "python",
   "name": "python3"
  },
  "language_info": {
   "codemirror_mode": {
    "name": "ipython",
    "version": 3
   },
   "file_extension": ".py",
   "mimetype": "text/x-python",
   "name": "python",
   "nbconvert_exporter": "python",
   "pygments_lexer": "ipython3",
   "version": "3.6.7"
  }
 },
 "nbformat": 4,
 "nbformat_minor": 2
}
